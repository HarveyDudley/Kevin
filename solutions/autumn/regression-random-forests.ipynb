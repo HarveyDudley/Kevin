{
 "metadata": {
  "language_info": {
   "codemirror_mode": {
    "name": "ipython",
    "version": 3
   },
   "file_extension": ".py",
   "mimetype": "text/x-python",
   "name": "python",
   "nbconvert_exporter": "python",
   "pygments_lexer": "ipython3",
   "version": "3.8.5-final"
  },
  "orig_nbformat": 2,
  "kernelspec": {
   "name": "python3",
   "display_name": "Python 3"
  }
 },
 "nbformat": 4,
 "nbformat_minor": 2,
 "cells": [
  {
   "source": [
    "# Regression: Random Forests"
   ],
   "cell_type": "markdown",
   "metadata": {}
  },
  {
   "cell_type": "code",
   "execution_count": 1,
   "metadata": {},
   "outputs": [],
   "source": [
    "from sklearn.ensemble import RandomForestRegressor\n",
    "from sklearn.model_selection import GridSearchCV\n",
    "import numpy as np \n",
    "import pandas as pd \n"
   ]
  },
  {
   "cell_type": "code",
   "execution_count": 2,
   "metadata": {},
   "outputs": [],
   "source": [
    "rg = np.random.default_rng(20201201)\n",
    "p = 12\n",
    "t = 250\n",
    "x_values = rg.standard_normal((t,p)) + rg.standard_normal((t,1))\n",
    "x = pd.DataFrame(x_values, columns=[f\"x{i}\" for i in range(1,p+1)])\n",
    "beta = np.linspace(0.01, 0.10, p)\n",
    "errors = rg.standard_normal(t)\n",
    "y = x @ beta + errors"
   ]
  },
  {
   "cell_type": "code",
   "execution_count": 3,
   "metadata": {},
   "outputs": [
    {
     "output_type": "stream",
     "name": "stdout",
     "text": [
      "The SSE is 43.51767319279574\n"
     ]
    }
   ],
   "source": [
    "rfr = RandomForestRegressor(max_features=\"sqrt\", max_leaf_nodes=75)\n",
    "rfr = rfr.fit(x,y)\n",
    "resid = y - rfr.predict(x)\n",
    "print(f\"The SSE is {resid.T@resid}\")"
   ]
  },
  {
   "cell_type": "code",
   "execution_count": 4,
   "metadata": {},
   "outputs": [
    {
     "output_type": "stream",
     "name": "stdout",
     "text": [
      "Fitting 5 folds for each of 30 candidates, totalling 150 fits\n",
      "[Parallel(n_jobs=-1)]: Using backend LokyBackend with 12 concurrent workers.\n",
      "[Parallel(n_jobs=-1)]: Done  26 tasks      | elapsed:   18.5s\n",
      "[Parallel(n_jobs=-1)]: Done 150 out of 150 | elapsed:  1.2min finished\n"
     ]
    }
   ],
   "source": [
    "parameters = {'n_estimators': [100, 250, 500], \"max_features\":[\"auto\", \"sqrt\"], \"max_leaf_nodes\":[3, 5, 10, 25, 50]}\n",
    "\n",
    "rfr = RandomForestRegressor(random_state=20201231)\n",
    "gscv = GridSearchCV(rfr, parameters, scoring=\"neg_mean_squared_error\", n_jobs=-1, verbose=1)\n",
    "\n",
    "gscv = gscv.fit(x, y)"
   ]
  },
  {
   "cell_type": "code",
   "execution_count": 5,
   "metadata": {},
   "outputs": [
    {
     "output_type": "execute_result",
     "data": {
      "text/plain": [
       "RandomForestRegressor(max_features='sqrt', max_leaf_nodes=5, n_estimators=250,\n",
       "                      random_state=20201231)"
      ]
     },
     "metadata": {},
     "execution_count": 5
    }
   ],
   "source": [
    "rfr_best = gscv.best_estimator_.fit(x, y)\n",
    "rfr_best"
   ]
  },
  {
   "cell_type": "code",
   "execution_count": 6,
   "metadata": {},
   "outputs": [
    {
     "output_type": "execute_result",
     "data": {
      "text/plain": [
       "208.87486045632983"
      ]
     },
     "metadata": {},
     "execution_count": 6
    }
   ],
   "source": [
    "resid = y - rfr_best.predict(x)\n",
    "resid.T@resid"
   ]
  },
  {
   "cell_type": "code",
   "execution_count": 7,
   "metadata": {},
   "outputs": [
    {
     "output_type": "execute_result",
     "data": {
      "text/plain": [
       "array([277.7532521 , 277.28561003, 277.40369621, 278.56196471,\n",
       "       276.19858478, 275.2847604 , 278.72658852, 279.03373182,\n",
       "       278.41337168, 284.85437131, 284.70039136, 282.68459209,\n",
       "       290.20944601, 288.25296598, 285.89167538, 272.84551103,\n",
       "       271.098457  , 272.12212349, 268.28641561, 266.36000982,\n",
       "       267.24289694, 269.63980852, 267.73518607, 268.23338082,\n",
       "       274.40713005, 272.60016313, 272.83554643, 274.43703533,\n",
       "       273.35379917, 273.82693787])"
      ]
     },
     "metadata": {},
     "execution_count": 7
    }
   ],
   "source": [
    "sse_xv = -t * gscv.cv_results_[\"mean_test_score\"]\n",
    "sse_xv"
   ]
  },
  {
   "cell_type": "code",
   "execution_count": 8,
   "metadata": {},
   "outputs": [
    {
     "output_type": "execute_result",
     "data": {
      "text/plain": [
       "   max_features  max_leaf_nodes  n_estimators      sse_xv\n",
       "19         sqrt               5           250  266.360010\n",
       "20         sqrt               5           500  267.242897\n",
       "22         sqrt              10           250  267.735186\n",
       "23         sqrt              10           500  268.233381\n",
       "18         sqrt               5           100  268.286416\n",
       "21         sqrt              10           100  269.639809\n",
       "16         sqrt               3           250  271.098457\n",
       "17         sqrt               3           500  272.122123\n",
       "25         sqrt              25           250  272.600163\n",
       "26         sqrt              25           500  272.835546"
      ],
      "text/html": "<div>\n<style scoped>\n    .dataframe tbody tr th:only-of-type {\n        vertical-align: middle;\n    }\n\n    .dataframe tbody tr th {\n        vertical-align: top;\n    }\n\n    .dataframe thead th {\n        text-align: right;\n    }\n</style>\n<table border=\"1\" class=\"dataframe\">\n  <thead>\n    <tr style=\"text-align: right;\">\n      <th></th>\n      <th>max_features</th>\n      <th>max_leaf_nodes</th>\n      <th>n_estimators</th>\n      <th>sse_xv</th>\n    </tr>\n  </thead>\n  <tbody>\n    <tr>\n      <th>19</th>\n      <td>sqrt</td>\n      <td>5</td>\n      <td>250</td>\n      <td>266.360010</td>\n    </tr>\n    <tr>\n      <th>20</th>\n      <td>sqrt</td>\n      <td>5</td>\n      <td>500</td>\n      <td>267.242897</td>\n    </tr>\n    <tr>\n      <th>22</th>\n      <td>sqrt</td>\n      <td>10</td>\n      <td>250</td>\n      <td>267.735186</td>\n    </tr>\n    <tr>\n      <th>23</th>\n      <td>sqrt</td>\n      <td>10</td>\n      <td>500</td>\n      <td>268.233381</td>\n    </tr>\n    <tr>\n      <th>18</th>\n      <td>sqrt</td>\n      <td>5</td>\n      <td>100</td>\n      <td>268.286416</td>\n    </tr>\n    <tr>\n      <th>21</th>\n      <td>sqrt</td>\n      <td>10</td>\n      <td>100</td>\n      <td>269.639809</td>\n    </tr>\n    <tr>\n      <th>16</th>\n      <td>sqrt</td>\n      <td>3</td>\n      <td>250</td>\n      <td>271.098457</td>\n    </tr>\n    <tr>\n      <th>17</th>\n      <td>sqrt</td>\n      <td>3</td>\n      <td>500</td>\n      <td>272.122123</td>\n    </tr>\n    <tr>\n      <th>25</th>\n      <td>sqrt</td>\n      <td>25</td>\n      <td>250</td>\n      <td>272.600163</td>\n    </tr>\n    <tr>\n      <th>26</th>\n      <td>sqrt</td>\n      <td>25</td>\n      <td>500</td>\n      <td>272.835546</td>\n    </tr>\n  </tbody>\n</table>\n</div>"
     },
     "metadata": {},
     "execution_count": 8
    }
   ],
   "source": [
    "df = pd.DataFrame(gscv.cv_results_[\"params\"])\n",
    "df[\"sse_xv\"] = sse_xv\n",
    "df.sort_values(\"sse_xv\").head(10)\n"
   ]
  }
 ]
}