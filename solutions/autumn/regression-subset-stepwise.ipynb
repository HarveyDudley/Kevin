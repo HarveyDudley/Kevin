{
 "metadata": {
  "language_info": {
   "codemirror_mode": {
    "name": "ipython",
    "version": 3
   },
   "file_extension": ".py",
   "mimetype": "text/x-python",
   "name": "python",
   "nbconvert_exporter": "python",
   "pygments_lexer": "ipython3",
   "version": "3.8.5-final"
  },
  "orig_nbformat": 2,
  "kernelspec": {
   "name": "python3",
   "display_name": "Python 3"
  }
 },
 "nbformat": 4,
 "nbformat_minor": 2,
 "cells": [
  {
   "cell_type": "code",
   "execution_count": 28,
   "metadata": {},
   "outputs": [],
   "source": [
    "import numpy as np\n",
    "import pandas as pd \n"
   ]
  },
  {
   "cell_type": "code",
   "execution_count": 29,
   "metadata": {},
   "outputs": [
    {
     "output_type": "stream",
     "name": "stdout",
     "text": [
      "[0.01       0.01818182 0.02636364 0.03454545 0.04272727 0.05090909\n 0.05909091 0.06727273 0.07545455 0.08363636 0.09181818 0.1       ]\n"
     ]
    }
   ],
   "source": [
    "rg = np.random.default_rng(20201201)\n",
    "p = 12\n",
    "t = 250\n",
    "x_values = rg.standard_normal((t,p)) + rg.standard_normal((t,1))\n",
    "x = pd.DataFrame(x_values, columns=[f\"x{i}\" for i in range(1,p+1)])\n",
    "beta = np.linspace(0.01, 0.10, p)\n",
    "print(beta)\n",
    "y = x @ beta + rg.standard_normal(t)\n"
   ]
  },
  {
   "cell_type": "code",
   "execution_count": 30,
   "metadata": {
    "tags": []
   },
   "outputs": [
    {
     "output_type": "stream",
     "name": "stdout",
     "text": [
      "('x1',)\n('x2',)\n('x1', 'x2')\n('x1', 'x3')\n('x1', 'x2', 'x3')\n('x1', 'x2', 'x4')\n('x1', 'x2', 'x3', 'x4')\n('x1', 'x2', 'x3', 'x5')\n('x1', 'x2', 'x3', 'x4', 'x5')\n('x1', 'x2', 'x3', 'x4', 'x6')\n('x1', 'x2', 'x3', 'x4', 'x5', 'x6')\n('x1', 'x2', 'x3', 'x4', 'x5', 'x7')\n('x1', 'x2', 'x3', 'x4', 'x5', 'x6', 'x7')\n('x1', 'x2', 'x3', 'x4', 'x5', 'x6', 'x8')\n('x1', 'x2', 'x3', 'x4', 'x5', 'x6', 'x7', 'x8')\n('x1', 'x2', 'x3', 'x4', 'x5', 'x6', 'x7', 'x9')\n('x1', 'x2', 'x3', 'x4', 'x5', 'x6', 'x7', 'x8', 'x9')\n('x1', 'x2', 'x3', 'x4', 'x5', 'x6', 'x7', 'x8', 'x10')\n('x1', 'x2', 'x3', 'x4', 'x5', 'x6', 'x7', 'x8', 'x9', 'x10')\n('x1', 'x2', 'x3', 'x4', 'x5', 'x6', 'x7', 'x8', 'x9', 'x11')\n('x1', 'x2', 'x3', 'x4', 'x5', 'x6', 'x7', 'x8', 'x9', 'x10', 'x11')\n('x1', 'x2', 'x3', 'x4', 'x5', 'x6', 'x7', 'x8', 'x9', 'x10', 'x12')\n('x1', 'x2', 'x3', 'x4', 'x5', 'x6', 'x7', 'x8', 'x9', 'x10', 'x11', 'x12')\n"
     ]
    }
   ],
   "source": [
    "from itertools import combinations\n",
    "\n",
    "for i in range(1, p+1):\n",
    "    count = 0\n",
    "    for comb in combinations(x.columns, i):\n",
    "        print(comb)\n",
    "        count += 1\n",
    "        if count > 1:\n",
    "            break\n"
   ]
  },
  {
   "cell_type": "code",
   "execution_count": 31,
   "metadata": {},
   "outputs": [
    {
     "output_type": "execute_result",
     "data": {
      "text/plain": [
       "1                                                  [x8]\n",
       "2                                             [x8, x11]\n",
       "3                                        [x8, x11, x12]\n",
       "4                                   [x8, x10, x11, x12]\n",
       "5                               [x2, x8, x10, x11, x12]\n",
       "6                           [x2, x5, x8, x10, x11, x12]\n",
       "7                       [x1, x2, x5, x8, x10, x11, x12]\n",
       "8                   [x1, x2, x4, x5, x8, x10, x11, x12]\n",
       "9               [x1, x2, x4, x5, x8, x9, x10, x11, x12]\n",
       "10          [x1, x2, x4, x5, x6, x8, x9, x10, x11, x12]\n",
       "11      [x1, x2, x3, x4, x5, x6, x8, x9, x10, x11, x12]\n",
       "12    [x1, x2, x3, x4, x5, x6, x7, x8, x9, x10, x11,...\n",
       "dtype: object"
      ]
     },
     "metadata": {},
     "execution_count": 31
    }
   ],
   "source": [
    "from numpy.linalg import lstsq\n",
    "\n",
    "best_models = {}\n",
    "for i in range(1, p+1):\n",
    "    best_sse = np.inf\n",
    "    count = 0\n",
    "    for comb in combinations(x.columns, i):\n",
    "        if count > 1:\n",
    "            break\n",
    "        reg = x[list(comb)]\n",
    "        beta = lstsq(reg, y, rcond=None)[0]\n",
    "        resid = y - reg@beta\n",
    "        sse = resid@resid\n",
    "        if sse < best_sse:\n",
    "            best_sse = sse\n",
    "            best_models[i] = list(comb)\n",
    "pd.Series(best_models)"
   ]
  },
  {
   "cell_type": "code",
   "execution_count": 32,
   "metadata": {},
   "outputs": [
    {
     "output_type": "execute_result",
     "data": {
      "text/plain": [
       "262.6370197265028"
      ]
     },
     "metadata": {},
     "execution_count": 32
    }
   ],
   "source": [
    "def xval_5fold(y, x, random=False,seed=20201231):\n",
    "    y = np.asarray(y)\n",
    "    x = np.asarray(x)\n",
    "    n = y.shape[0]\n",
    "    if random:\n",
    "        rg = np.random.default_rng(seed)\n",
    "        ind = rg.permutation(np.arange(n))\n",
    "        y = y[ind]\n",
    "        x = x[ind]\n",
    "    block = n / 5.0\n",
    "    sse = 0.0\n",
    "    for i in range(5):\n",
    "        st = int(np.round(i*block))\n",
    "        en = int(np.round((i+1)*block))\n",
    "        leave_out = np.r_[st:en]\n",
    "        include = np.setdiff1d(np.arange(n), leave_out)\n",
    "        beta = lstsq(x[include], y[include], rcond=None)[0]\n",
    "        resid = y[st:en] - x[st:en]@beta\n",
    "        sse += resid@resid\n",
    "    return sse\n",
    "\n",
    "\n",
    "xval_5fold(y, x[best_models[2]])"
   ]
  },
  {
   "cell_type": "code",
   "execution_count": 33,
   "metadata": {},
   "outputs": [
    {
     "output_type": "execute_result",
     "data": {
      "text/plain": [
       "256.19356700019455"
      ]
     },
     "metadata": {},
     "execution_count": 33
    }
   ],
   "source": [
    "xval_5fold(y, x[best_models[2]], random=True)"
   ]
  },
  {
   "cell_type": "code",
   "execution_count": 34,
   "metadata": {},
   "outputs": [
    {
     "output_type": "stream",
     "name": "stdout",
     "text": [
      "The minimum k is 4\nThe selected model uses ['x8', 'x10', 'x11', 'x12']\n"
     ]
    },
    {
     "output_type": "execute_result",
     "data": {
      "text/plain": [
       "1     281.207297\n",
       "2     262.637020\n",
       "3     256.749977\n",
       "4     256.076389\n",
       "5     258.494733\n",
       "6     258.724487\n",
       "7     260.809108\n",
       "8     261.440586\n",
       "9     263.639740\n",
       "10    264.776211\n",
       "11    266.793541\n",
       "12    269.867570\n",
       "dtype: float64"
      ]
     },
     "metadata": {},
     "execution_count": 34
    }
   ],
   "source": [
    "sse_xv = {}\n",
    "for k in best_models:\n",
    "    sse_xv[k] = xval_5fold(y, x[best_models[k]])\n",
    "sse_xv = pd.Series(sse_xv)\n",
    "\n",
    "print(f\"The minimum k is {sse_xv.idxmin()}\")\n",
    "print(f\"The selected model uses {best_models[sse_xv.idxmin()]}\")\n",
    "sse_xv"
   ]
  },
  {
   "cell_type": "code",
   "execution_count": 35,
   "metadata": {},
   "outputs": [
    {
     "output_type": "stream",
     "name": "stdout",
     "text": [
      "The minimum k is 4\nThe selected model uses ['x8', 'x10', 'x11', 'x12']\n"
     ]
    },
    {
     "output_type": "execute_result",
     "data": {
      "text/plain": [
       "1     274.022927\n",
       "2     256.193567\n",
       "3     252.000777\n",
       "4     250.933807\n",
       "5     251.097401\n",
       "6     251.149678\n",
       "7     251.447727\n",
       "8     253.004921\n",
       "9     255.456716\n",
       "10    257.813521\n",
       "11    258.619432\n",
       "12    260.983646\n",
       "dtype: float64"
      ]
     },
     "metadata": {},
     "execution_count": 35
    }
   ],
   "source": [
    "sse_xv = {}\n",
    "for k in best_models:\n",
    "    sse_xv[k] = xval_5fold(y, x[best_models[k]], random=True)\n",
    "sse_xv = pd.Series(sse_xv)\n",
    "print(f\"The minimum k is {sse_xv.idxmin()}\")\n",
    "print(f\"The selected model uses {best_models[sse_xv.idxmin()]}\")\n",
    "sse_xv"
   ]
  },
  {
   "cell_type": "code",
   "execution_count": 36,
   "metadata": {},
   "outputs": [
    {
     "output_type": "stream",
     "name": "stdout",
     "text": [
      "['x8', 'x11', 'x12', 'x10', 'x2', 'x5', 'x1', 'x4', 'x9', 'x6', 'x3', 'x7']\n"
     ]
    }
   ],
   "source": [
    "included = []\n",
    "forward_models = {}\n",
    "p = x.shape[1]\n",
    "for i in range(p):\n",
    "    excluded = [col for col in x if col not in included]\n",
    "    best_sse = np.inf\n",
    "    for col in excluded:\n",
    "        try_x = x[included + [col]]\n",
    "        beta = lstsq(try_x, y, rcond=None)[0]\n",
    "        resid = y - try_x @ beta\n",
    "        sse = resid @ resid\n",
    "        if sse < best_sse:\n",
    "            best_sse = sse\n",
    "            next_var = col\n",
    "    included.append(next_var)\n",
    "print(included)\n"
   ]
  },
  {
   "cell_type": "code",
   "execution_count": 37,
   "metadata": {},
   "outputs": [
    {
     "output_type": "stream",
     "name": "stdout",
     "text": [
      "The minimum k is 4\nThe selected variables are ['x8', 'x11', 'x12', 'x10']\n"
     ]
    },
    {
     "output_type": "execute_result",
     "data": {
      "text/plain": [
       "1     281.207297\n",
       "2     262.637020\n",
       "3     256.749977\n",
       "4     256.076389\n",
       "5     258.494733\n",
       "6     258.724487\n",
       "7     260.809108\n",
       "8     261.440586\n",
       "9     263.639740\n",
       "10    264.776211\n",
       "11    266.793541\n",
       "12    269.867570\n",
       "dtype: float64"
      ]
     },
     "metadata": {},
     "execution_count": 37
    }
   ],
   "source": [
    "fsr_sse_sv = {}\n",
    "for i in range(1, p+1):\n",
    "    fsr_sse_sv[i] = xval_5fold(y, x[included[:i]])\n",
    "fsr_sse_sv = pd.Series(fsr_sse_sv)\n",
    "print(f\"The minimum k is {fsr_sse_sv.idxmin()}\")\n",
    "print(f\"The selected variables are {included[:fsr_sse_sv.idxmin()]}\")\n",
    "fsr_sse_sv"
   ]
  },
  {
   "cell_type": "code",
   "execution_count": 38,
   "metadata": {},
   "outputs": [
    {
     "output_type": "stream",
     "name": "stdout",
     "text": [
      "['x7', 'x3', 'x6', 'x9', 'x4', 'x1', 'x5', 'x2', 'x10', 'x12', 'x11', 'x8']\n"
     ]
    }
   ],
   "source": [
    "included = list(x.columns)\n",
    "removed = []\n",
    "backward_models = {}\n",
    "p = x.shape[1]\n",
    "for i in range(p):\n",
    "    excluded = [col for col in x if col not in included]\n",
    "    best_sse = np.inf\n",
    "    for col in included:\n",
    "        try_col = included[:]\n",
    "        try_col.remove(col)\n",
    "        try_x = x[try_col]\n",
    "        beta = lstsq(try_x, y, rcond=None)[0]\n",
    "        resid = y - try_x @ beta\n",
    "        sse = resid @ resid\n",
    "        if sse < best_sse:\n",
    "            best_sse = sse\n",
    "            next_drop = col\n",
    "    removed.append(next_drop)\n",
    "    included.remove(next_drop)\n",
    "print(removed)\n"
   ]
  },
  {
   "cell_type": "code",
   "execution_count": 39,
   "metadata": {},
   "outputs": [
    {
     "output_type": "stream",
     "name": "stdout",
     "text": [
      "The minimum k is 4\nThe selected variables are ['x8', 'x11', 'x12', 'x10']\n"
     ]
    },
    {
     "output_type": "execute_result",
     "data": {
      "text/plain": [
       "1     281.207297\n",
       "2     262.637020\n",
       "3     256.749977\n",
       "4     256.076389\n",
       "5     258.494733\n",
       "6     258.724487\n",
       "7     260.809108\n",
       "8     261.440586\n",
       "9     263.639740\n",
       "10    264.776211\n",
       "11    266.793541\n",
       "12    269.867570\n",
       "dtype: float64"
      ]
     },
     "metadata": {},
     "execution_count": 39
    }
   ],
   "source": [
    "included = removed[::-1]\n",
    "\n",
    "bsr_sse_sv = {}\n",
    "for i in range(1, p+1):\n",
    "    bsr_sse_sv[i] = xval_5fold(y, x[included[:i]])\n",
    "bsr_sse_sv = pd.Series(bsr_sse_sv)\n",
    "print(f\"The minimum k is {bsr_sse_sv.idxmin()}\")\n",
    "print(f\"The selected variables are {included[:bsr_sse_sv.idxmin()]}\")\n",
    "bsr_sse_sv"
   ]
  },
  {
   "cell_type": "code",
   "execution_count": null,
   "metadata": {},
   "outputs": [],
   "source": []
  },
  {
   "source": [
    "## Using scikit-learn to cross-validate"
   ],
   "cell_type": "markdown",
   "metadata": {}
  },
  {
   "cell_type": "code",
   "execution_count": 43,
   "metadata": {},
   "outputs": [
    {
     "output_type": "stream",
     "name": "stdout",
     "text": [
      "The maximum k is 4\nThe selected variables are ['x8', 'x11', 'x12', 'x10']\n"
     ]
    },
    {
     "output_type": "execute_result",
     "data": {
      "text/plain": [
       "1    -1.124829\n",
       "2    -1.050548\n",
       "3    -1.027000\n",
       "4    -1.024306\n",
       "5    -1.033979\n",
       "6    -1.034898\n",
       "7    -1.043236\n",
       "8    -1.045762\n",
       "9    -1.054559\n",
       "10   -1.059105\n",
       "11   -1.067174\n",
       "12   -1.079470\n",
       "dtype: float64"
      ]
     },
     "metadata": {},
     "execution_count": 43
    }
   ],
   "source": [
    "from sklearn.model_selection import cross_val_score\n",
    "from sklearn.linear_model import LinearRegression\n",
    "lr = LinearRegression(fit_intercept=False)\n",
    "\n",
    "bsr_mse_sv = {}\n",
    "for i in range(1, p+1):\n",
    "    bsr_mse_sv[i] = cross_val_score(lr, x[included[:i]], y, scoring=\"neg_mean_squared_error\").mean()\n",
    "bsr_mse_sv = pd.Series(bsr_mse_sv)\n",
    "print(f\"The maximum k is {bsr_mse_sv.idxmax()}\")\n",
    "print(f\"The selected variables are {included[:bsr_mse_sv.idxmax()]}\")\n",
    "bsr_mse_sv"
   ]
  },
  {
   "cell_type": "code",
   "execution_count": 41,
   "metadata": {},
   "outputs": [
    {
     "output_type": "stream",
     "name": "stdout",
     "text": [
      "The maximum k is 3\nThe selected variables are ['x8', 'x11', 'x12']\n"
     ]
    }
   ],
   "source": [
    "from sklearn.model_selection import KFold\n",
    "lr = LinearRegression(fit_intercept=False)\n",
    "\n",
    "bsr_mse_sv = {}\n",
    "cv = KFold(5, shuffle=True, random_state=20201231)\n",
    "\n",
    "for i in range(1, p+1):\n",
    "    bsr_mse_sv[i] = cross_val_score(lr, x[included[:i]], y, scoring=\"neg_mean_squared_error\", cv=cv).mean()\n",
    "bsr_mse_sv = pd.Series(bsr_mse_sv)\n",
    "print(f\"The maximum k is {bsr_mse_sv.idxmax()}\")\n",
    "print(f\"The selected variables are {included[:bsr_mse_sv.idxmax()]}\")\n"
   ]
  }
 ]
}