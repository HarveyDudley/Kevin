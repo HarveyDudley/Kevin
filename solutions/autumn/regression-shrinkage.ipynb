{
 "metadata": {
  "language_info": {
   "codemirror_mode": {
    "name": "ipython",
    "version": 3
   },
   "file_extension": ".py",
   "mimetype": "text/x-python",
   "name": "python",
   "nbconvert_exporter": "python",
   "pygments_lexer": "ipython3",
   "version": "3.8.5-final"
  },
  "orig_nbformat": 2,
  "kernelspec": {
   "name": "python3",
   "display_name": "Python 3"
  }
 },
 "nbformat": 4,
 "nbformat_minor": 2,
 "cells": [
  {
   "cell_type": "code",
   "execution_count": 37,
   "metadata": {},
   "outputs": [],
   "source": [
    "from sklearn.linear_model import LassoCV, RidgeCV\n",
    "import numpy as np \n",
    "import pandas as pd"
   ]
  },
  {
   "cell_type": "code",
   "execution_count": 38,
   "metadata": {},
   "outputs": [],
   "source": [
    "rg = np.random.default_rng(20201201)\n",
    "p = 12\n",
    "t = 250\n",
    "x_values = rg.standard_normal((t,p)) + rg.standard_normal((t,1))\n",
    "x = pd.DataFrame(x_values, columns=[f\"x{i}\" for i in range(1,p+1)])\n",
    "beta = np.linspace(0.01, 0.10, p)\n",
    "y = x @ beta + rg.standard_normal(t)\n"
   ]
  },
  {
   "cell_type": "code",
   "execution_count": 39,
   "metadata": {},
   "outputs": [],
   "source": [
    "x_scale = x.std(axis=0)\n",
    "y_scale = y.std()\n",
    "std_x = x / x_scale\n",
    "std_y = y / y_scale"
   ]
  },
  {
   "cell_type": "code",
   "execution_count": 40,
   "metadata": {},
   "outputs": [
    {
     "output_type": "stream",
     "name": "stdout",
     "text": [
      "Optimal alpha : 0.03099006709177538\n"
     ]
    },
    {
     "output_type": "execute_result",
     "data": {
      "text/plain": [
       "array([ 0.03974028,  0.06074776,  0.        , -0.        ,  0.05089953,\n",
       "        0.01921271,  0.        ,  0.1502758 ,  0.03909242,  0.0598198 ,\n",
       "        0.15528124,  0.07940766])"
      ]
     },
     "metadata": {},
     "execution_count": 40
    }
   ],
   "source": [
    "lasso_cv = LassoCV(fit_intercept=False)\n",
    "lasso_cv = lasso_cv.fit(std_x, std_y)\n",
    "print(f\"Optimal alpha : {lasso_cv.alpha_}\")\n",
    "lasso_cv.coef_"
   ]
  },
  {
   "cell_type": "code",
   "execution_count": 41,
   "metadata": {},
   "outputs": [
    {
     "output_type": "execute_result",
     "data": {
      "text/plain": [
       "x1     0.033779\n",
       "x2     0.051995\n",
       "x3     0.000000\n",
       "x4    -0.000000\n",
       "x5     0.045243\n",
       "x6     0.016822\n",
       "x7     0.000000\n",
       "x8     0.125317\n",
       "x9     0.032415\n",
       "x10    0.053860\n",
       "x11    0.127339\n",
       "x12    0.064297\n",
       "dtype: float64"
      ]
     },
     "metadata": {},
     "execution_count": 41
    }
   ],
   "source": [
    "lasso_orig = lasso_cv.coef_  * (y_scale /  x_scale)\n",
    "lasso_orig"
   ]
  },
  {
   "cell_type": "code",
   "execution_count": 42,
   "metadata": {},
   "outputs": [
    {
     "output_type": "stream",
     "name": "stdout",
     "text": [
      "Optimal alpha : 261.0\n"
     ]
    }
   ],
   "source": [
    "ridge_cv = RidgeCV(alphas=np.linspace(1.,1001,101), fit_intercept=False)\n",
    "ridge_cv = ridge_cv.fit(std_x, std_y)\n",
    "print(f\"Optimal alpha : {ridge_cv.alpha_}\")\n",
    "#lasso_cv.coef_"
   ]
  },
  {
   "cell_type": "code",
   "execution_count": 43,
   "metadata": {},
   "outputs": [
    {
     "output_type": "stream",
     "name": "stdout",
     "text": [
      "Optimal alpha : 260.16\n"
     ]
    },
    {
     "output_type": "execute_result",
     "data": {
      "text/plain": [
       "array([0.05068027, 0.054899  , 0.02736382, 0.01459514, 0.05279006,\n",
       "       0.04015488, 0.03447551, 0.08251136, 0.05053303, 0.0547685 ,\n",
       "       0.08857254, 0.0601494 ])"
      ]
     },
     "metadata": {},
     "execution_count": 43
    }
   ],
   "source": [
    "ridge_cv = RidgeCV(alphas=np.linspace(251,271,2001), fit_intercept=False)\n",
    "ridge_cv = ridge_cv.fit(std_x, std_y)\n",
    "print(f\"Optimal alpha : {ridge_cv.alpha_}\")\n",
    "ridge_cv.coef_"
   ]
  },
  {
   "cell_type": "code",
   "execution_count": 44,
   "metadata": {},
   "outputs": [
    {
     "output_type": "execute_result",
     "data": {
      "text/plain": [
       "x1     0.043078\n",
       "x2     0.046989\n",
       "x3     0.023167\n",
       "x4     0.012729\n",
       "x5     0.046924\n",
       "x6     0.035159\n",
       "x7     0.029297\n",
       "x8     0.068807\n",
       "x9     0.041902\n",
       "x10    0.049312\n",
       "x11    0.072634\n",
       "x12    0.048704\n",
       "dtype: float64"
      ]
     },
     "metadata": {},
     "execution_count": 44
    }
   ],
   "source": [
    "ridge_orig = ridge_cv.coef_  * (y_scale /  x_scale)\n",
    "ridge_orig"
   ]
  },
  {
   "cell_type": "code",
   "execution_count": 48,
   "metadata": {},
   "outputs": [
    {
     "output_type": "execute_result",
     "data": {
      "text/plain": [
       "0      0.344728\n",
       "1      0.280837\n",
       "2      0.299205\n",
       "3      0.255554\n",
       "4     -0.575529\n",
       "         ...   \n",
       "245   -0.813198\n",
       "246   -0.520075\n",
       "247   -0.390404\n",
       "248    0.164311\n",
       "249   -0.896477\n",
       "Length: 250, dtype: float64"
      ]
     },
     "metadata": {},
     "execution_count": 48
    }
   ],
   "source": [
    "rescaled_pred = x @ ridge_orig\n",
    "rescaled_pred"
   ]
  },
  {
   "source": [
    "## Using scikit-learn to scale\n"
   ],
   "cell_type": "markdown",
   "metadata": {}
  },
  {
   "cell_type": "code",
   "execution_count": 46,
   "metadata": {},
   "outputs": [
    {
     "output_type": "stream",
     "name": "stdout",
     "text": [
      "Optimal alpha : 260.16\n"
     ]
    }
   ],
   "source": [
    "from sklearn.preprocessing import StandardScaler\n",
    "y_scaler = StandardScaler(with_mean=False)\n",
    "y_2d =pd.DataFrame(y)\n",
    "y_scaler = y_scaler.fit(y_2d)\n",
    "std_y = y_scaler.transform(y_2d)\n",
    "ridge_cv = RidgeCV(alphas=np.linspace(251,271,2001), fit_intercept=False)\n",
    "ridge_cv = ridge_cv.fit(std_x, std_y)\n",
    "print(f\"Optimal alpha : {ridge_cv.alpha_}\")\n"
   ]
  },
  {
   "cell_type": "code",
   "execution_count": 50,
   "metadata": {},
   "outputs": [
    {
     "output_type": "execute_result",
     "data": {
      "text/plain": [
       "0      0.344728\n",
       "1      0.280837\n",
       "2      0.299205\n",
       "3      0.255554\n",
       "4     -0.575529\n",
       "         ...   \n",
       "245   -0.813198\n",
       "246   -0.520075\n",
       "247   -0.390404\n",
       "248    0.164311\n",
       "249   -0.896477\n",
       "Length: 250, dtype: float64"
      ]
     },
     "metadata": {},
     "execution_count": 50
    }
   ],
   "source": [
    "pred = ridge_cv.predict(std_x)\n",
    "rescaled_pred = y_scaler.inverse_transform(pred)\n",
    "pd.Series(rescaled_pred.squeeze())"
   ]
  }
 ]
}