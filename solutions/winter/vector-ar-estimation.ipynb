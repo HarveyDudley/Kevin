{
 "cells": [
  {
   "cell_type": "markdown",
   "metadata": {
    "pycharm": {
     "name": "#%% md\n"
    }
   },
   "source": [
    "Vector Autoregressions\n",
    "## Vector Autoregresion (VAR) Estimation\n",
    "\n",
    "**Functions**\n",
    "\n",
    "`tsa.VAR`\n",
    "\n",
    "### Exercise 85\n",
    "Download data on 10-year interest rates, 1-year interest rates and the\n",
    "GDP deflator from FRED."
   ]
  },
  {
   "cell_type": "code",
   "execution_count": null,
   "metadata": {
    "pycharm": {
     "is_executing": false,
     "name": "#%%\n"
    }
   },
   "outputs": [],
   "source": [
    "import pandas as pd\n",
    "\n",
    "gs1 = pd.read_csv(\"./data/GS1.csv\", parse_dates=True)\n",
    "gs1 = gs1.set_index(\"DATE\")\n",
    "gs10 = pd.read_csv(\"./data/GS10.csv\", parse_dates=True)\n",
    "gs10 = gs10.set_index(\"DATE\")\n",
    "defl = pd.read_csv(\"./data/GDPDEF.csv\", parse_dates=True)\n",
    "defl = defl.set_index(\"DATE\")\n",
    "\n",
    "data = pd.concat([gs1, gs10, defl], axis=1)\n",
    "data.columns = [\"gs1\", \"gs10\", \"defl\"]\n",
    "data.head(6)"
   ]
  },
  {
   "cell_type": "markdown",
   "metadata": {
    "pycharm": {
     "name": "#%% md\n"
    }
   },
   "source": [
    "#### Explanation\n",
    "\n",
    "The data have all been downloaded from FRED and saved as csv files. The\n",
    "series are imported and merged into a single DataFrame. We see that\n",
    "the deflator is quarterly while the others are monthly."
   ]
  },
  {
   "cell_type": "code",
   "execution_count": null,
   "metadata": {
    "pycharm": {
     "is_executing": false,
     "name": "#%%\n"
    }
   },
   "outputs": [],
   "source": [
    "data.index = pd.to_datetime(data.index)\n",
    "data = data.resample(\"Q\").mean().dropna()\n",
    "data.head()"
   ]
  },
  {
   "cell_type": "markdown",
   "metadata": {},
   "source": [
    "#### Explanation\n",
    "We can use `resample` to convert all of the series to quarterly to match the\n",
    "deflator. The mean is a reasonable method to aggregate the interest rates and\n",
    "since pandas ignores `NaN`, the mean of the deflator is the observation\n",
    "available in each quarter."
   ]
  },
  {
   "cell_type": "markdown",
   "metadata": {
    "pycharm": {
     "name": "#%% md\n"
    }
   },
   "source": [
    "### Exercise 86\n",
    "Transform the GDP deflator to be percent returns (e.g. $\\Delta\\ln\\left(GDP_t\\right)$ )."
   ]
  },
  {
   "cell_type": "code",
   "execution_count": null,
   "metadata": {
    "pycharm": {
     "is_executing": false,
     "name": "#%%\n"
    }
   },
   "outputs": [],
   "source": [
    "import numpy as np\n",
    "\n",
    "log_defl = np.log(data.defl)\n",
    "data[\"deflg\"] = log_defl - log_defl.shift(1)\n",
    "data = data.dropna()\n",
    "data.head()"
   ]
  },
  {
   "cell_type": "markdown",
   "metadata": {
    "pycharm": {
     "name": "#%% md\n"
    }
   },
   "source": [
    "#### Explanation\n",
    "\n",
    "Here we use `np.log` and `shift` to implement the log difference."
   ]
  },
  {
   "cell_type": "markdown",
   "metadata": {},
   "source": [
    "### Exercise 87\n",
    "Estimate a first-order VAR on the spread between the 10-year and 1-year\n",
    "(spread), the one-year, and the growth rate of the GDP deflator."
   ]
  },
  {
   "cell_type": "code",
   "execution_count": null,
   "metadata": {
    "pycharm": {
     "is_executing": false,
     "name": "#%%\n"
    }
   },
   "outputs": [],
   "source": [
    "import statsmodels.tsa.api as tsa\n",
    "\n",
    "data[\"spread\"] = data.gs10 - data.gs1\n",
    "# Save for later\n",
    "data.to_hdf(\"./data/var-data.h5\", \"var_data\")"
   ]
  },
  {
   "cell_type": "markdown",
   "metadata": {},
   "source": [
    "#### Explanation\n",
    "\n",
    "The spread is constructed as the difference and the data is saved for use in \n",
    "other exercises."
   ]
  },
  {
   "cell_type": "code",
   "execution_count": null,
   "metadata": {
    "pycharm": {
     "is_executing": false,
     "name": "#%%\n"
    }
   },
   "outputs": [],
   "source": [
    "mod = tsa.VAR(data[[\"spread\", \"gs1\", \"deflg\"]])\n",
    "res = mod.fit(1, trend=\"c\", ic=None)\n",
    "\n",
    "res.summary()"
   ]
  },
  {
   "cell_type": "markdown",
   "metadata": {},
   "source": [
    "#### Explanation\n",
    "\n",
    "A VAR model is specified using `tsa.VAR`. The only required input is the data.\n",
    "We do not include the intercept since this is supplied through the `trend`\n",
    "argument of `fit`, where \"c\" indicates a constant. We set the maximum\n",
    "lag to 1 and `ic` to `None` to get force a VAR(1) to be estimated. If we\n",
    "do not set `ic` to `None`, statsmdoels will perform a lag length search for\n",
    "lags in 0, 1, ..., `maxlags` (0 or 1 in this specification)."
   ]
  },
  {
   "cell_type": "markdown",
   "metadata": {},
   "source": [
    "### Exercise 88\n",
    "What are the _own_ effects?\n"
   ]
  },
  {
   "cell_type": "code",
   "execution_count": null,
   "metadata": {
    "pycharm": {
     "is_executing": false,
     "name": "#%%\n"
    }
   },
   "outputs": [],
   "source": [
    "res.params"
   ]
  },
  {
   "cell_type": "code",
   "execution_count": null,
   "metadata": {
    "pycharm": {
     "is_executing": false,
     "name": "#%%\n"
    }
   },
   "outputs": [],
   "source": [
    "own_effects = {}\n",
    "for var in res.params:\n",
    "    own_effects[var] = res.params.loc[f\"L1.{var}\", var]\n",
    "pd.DataFrame(pd.Series(own_effects, name=\"Own Effect\"))"
   ]
  },
  {
   "cell_type": "markdown",
   "metadata": {},
   "source": [
    "#### Explanation\n",
    "\n",
    "The parameters are a `DataFrame` where the columns are the leads and the rows\n",
    "are lag or trend terms. "
   ]
  },
  {
   "cell_type": "markdown",
   "metadata": {},
   "source": [
    "### Exercise 89\n",
    "What are the cross effects between these?"
   ]
  },
  {
   "cell_type": "code",
   "execution_count": null,
   "metadata": {
    "pycharm": {
     "is_executing": false,
     "name": "#%%\n"
    }
   },
   "outputs": [],
   "source": [
    "other_effects = {}\n",
    "for var in res.params:\n",
    "    for other in res.params:\n",
    "        if other == var:\n",
    "            continue\n",
    "        other_effects[(var, other)] = res.params.loc[f\"L1.{other}\", var]\n",
    "\n",
    "s = pd.Series(other_effects, name=\"effect\")\n",
    "s.index = s.index.set_names([\"lead\", \"lag\"])\n",
    "pd.DataFrame(s)"
   ]
  },
  {
   "cell_type": "markdown",
   "metadata": {},
   "source": [
    "#### Explanation\n",
    "\n",
    "These effects are hard to interpret since the series have not been\n",
    "standardized to have the same variance."
   ]
  },
  {
   "cell_type": "markdown",
   "metadata": {},
   "source": [
    "### Exercise 90\n",
    "How could you get a sense of the persistence of this system?"
   ]
  },
  {
   "cell_type": "code",
   "execution_count": null,
   "metadata": {
    "pycharm": {
     "is_executing": false,
     "name": "#%%\n"
    }
   },
   "outputs": [],
   "source": [
    "# Exclude the constant\n",
    "phi = res.params.iloc[1:]\n",
    "evals = np.linalg.eigvals(phi)\n",
    "print(f\"The maximum eigenval is {np.max(np.abs(evals))}\")"
   ]
  },
  {
   "cell_type": "markdown",
   "metadata": {},
   "source": [
    "#### Explanation\n",
    "\n",
    "The maximum eigenvalue of the VAR(1) parameters provides a measure of the\n",
    "persistence in the model. It is close to 1 so these values are highly\n",
    "persistent."
   ]
  },
  {
   "cell_type": "code",
   "execution_count": null,
   "metadata": {
    "pycharm": {
     "is_executing": false,
     "name": "#%%\n"
    }
   },
   "outputs": [],
   "source": [
    "std_data = data / data.std()\n",
    "mod = tsa.VAR(std_data[[\"spread\", \"gs1\", \"deflg\"]])\n",
    "res = mod.fit(1, trend=\"c\", ic=None)\n",
    "\n",
    "res.params.iloc[1:]"
   ]
  },
  {
   "cell_type": "code",
   "execution_count": null,
   "metadata": {
    "pycharm": {
     "is_executing": false,
     "name": "#%%\n"
    }
   },
   "outputs": [],
   "source": [
    "phi = res.params.iloc[1:]\n",
    "evals = np.linalg.eigvals(phi)\n",
    "print(f\"The maximum eigenval is {np.max(np.abs(evals))}\")"
   ]
  },
  {
   "cell_type": "markdown",
   "metadata": {},
   "source": [
    "#### Explanation\n",
    "\n",
    "We repeat the exercise using data standardized by their standard deviations.\n",
    "While the coefficients change (except own effects), the eigenvalues are unaffected. \n",
    "The coefficients are directly interpretable in terms of a 1 standard deviation change\n",
    "in each variable."
   ]
  }
 ],
 "metadata": {
  "kernelspec": {
   "display_name": "Python 3 (ipykernel)",
   "language": "python",
   "name": "python3"
  },
  "language_info": {
   "codemirror_mode": {
    "name": "ipython",
    "version": 3
   },
   "file_extension": ".py",
   "mimetype": "text/x-python",
   "name": "python",
   "nbconvert_exporter": "python",
   "pygments_lexer": "ipython3",
   "version": "3.8.13"
  },
  "pycharm": {
   "stem_cell": {
    "cell_type": "raw",
    "metadata": {
     "collapsed": false
    },
    "source": []
   }
  }
 },
 "nbformat": 4,
 "nbformat_minor": 4
}
