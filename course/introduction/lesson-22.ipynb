{
 "cells": [
  {
   "cell_type": "markdown",
   "metadata": {},
   "source": [
    "# Graphics: Other Plots\n",
    "\n",
    "This lesson covers:\n",
    "\n",
    "* Histograms \n",
    "* Scatter Plots"
   ]
  },
  {
   "cell_type": "markdown",
   "metadata": {},
   "source": [
    "Plotting in notebooks requires using a magic command, which starts with `%`,\n",
    "to initialize the plotting backend."
   ]
  },
  {
   "cell_type": "code",
   "execution_count": null,
   "metadata": {
    "execution": {
     "iopub.execute_input": "2024-02-27T16:10:01.244781Z",
     "iopub.status.busy": "2024-02-27T16:10:01.244781Z",
     "iopub.status.idle": "2024-02-27T16:10:01.818418Z",
     "shell.execute_reply": "2024-02-27T16:10:01.818418Z"
    },
    "jupyter": {
     "outputs_hidden": false
    },
    "pycharm": {
     "is_executing": false,
     "name": "#%%\n"
    }
   },
   "outputs": [],
   "source": [
    "# Setup\n",
    "%matplotlib inline\n",
    "import matplotlib.pyplot as plt\n",
    "\n",
    "plt.rc(\"figure\", figsize=(16, 6))  # Improves figure size"
   ]
  },
  {
   "cell_type": "markdown",
   "metadata": {},
   "source": [
    "Begin by loading the data in hf.h5. This data set contains high-frequency\n",
    "price data for IBM and MSFT on a single day stored as two Series. IBM is\n",
    "stored as \"IBM\" in the HDF file, and MSFT is stored as \"MSFT."
   ]
  },
  {
   "cell_type": "code",
   "execution_count": null,
   "metadata": {
    "execution": {
     "iopub.execute_input": "2024-02-27T16:10:01.821425Z",
     "iopub.status.busy": "2024-02-27T16:10:01.821425Z",
     "iopub.status.idle": "2024-02-27T16:10:03.856413Z",
     "shell.execute_reply": "2024-02-27T16:10:03.856413Z"
    },
    "jupyter": {
     "outputs_hidden": false
    }
   },
   "outputs": [],
   "source": []
  },
  {
   "cell_type": "markdown",
   "metadata": {},
   "source": [
    "## Problem: Histogram\n",
    "\n",
    "Produce a histogram of MSFT 1-minute returns (Hint: you have to produce\n",
    "the 1-minute Microsoft returns first using `resample` and `pct_change`)."
   ]
  },
  {
   "cell_type": "code",
   "execution_count": null,
   "metadata": {
    "execution": {
     "iopub.execute_input": "2024-02-27T16:10:03.859419Z",
     "iopub.status.busy": "2024-02-27T16:10:03.859419Z",
     "iopub.status.idle": "2024-02-27T16:10:04.059619Z",
     "shell.execute_reply": "2024-02-27T16:10:04.059619Z"
    },
    "jupyter": {
     "outputs_hidden": false
    }
   },
   "outputs": [],
   "source": []
  },
  {
   "cell_type": "markdown",
   "metadata": {},
   "source": [
    "## Problem: Scatter Plot\n",
    "\n",
    "Scatter the 5-minute MSFT returns against the 5-minute IBM returns.\n",
    "\n",
    "*Hint*: You will need to create both 5-minute return series, merge them,\n",
    "and then plot using the combined DataFrame. "
   ]
  },
  {
   "cell_type": "code",
   "execution_count": null,
   "metadata": {
    "execution": {
     "iopub.execute_input": "2024-02-27T16:10:04.062650Z",
     "iopub.status.busy": "2024-02-27T16:10:04.061650Z",
     "iopub.status.idle": "2024-02-27T16:10:04.207430Z",
     "shell.execute_reply": "2024-02-27T16:10:04.207430Z"
    },
    "jupyter": {
     "outputs_hidden": false
    }
   },
   "outputs": [],
   "source": []
  },
  {
   "cell_type": "markdown",
   "metadata": {
    "pycharm": {
     "name": "#%% md\n"
    }
   },
   "source": [
    "## Problem: Saving plots\n",
    "\n",
    "Save the previous plot to PNG and PDF."
   ]
  },
  {
   "cell_type": "code",
   "execution_count": null,
   "metadata": {
    "execution": {
     "iopub.execute_input": "2024-02-27T16:10:04.209437Z",
     "iopub.status.busy": "2024-02-27T16:10:04.209437Z",
     "iopub.status.idle": "2024-02-27T16:10:04.682660Z",
     "shell.execute_reply": "2024-02-27T16:10:04.682660Z"
    },
    "jupyter": {
     "outputs_hidden": false
    }
   },
   "outputs": [],
   "source": []
  },
  {
   "cell_type": "markdown",
   "metadata": {
    "pycharm": {
     "name": "#%% md\n"
    }
   },
   "source": [
    "## Exercises\n",
    "\n",
    "### Exercise: Visualize 5 and 10 minute returns\n",
    "\n",
    "Produce a 2 by 1 subplot with a histogram of the 5-minute returns of IBM in the\n",
    "top panel and 10-minute returns of IBM in the bottom. Set an appropriate title on\n",
    "each of the 2 plots."
   ]
  },
  {
   "cell_type": "code",
   "execution_count": null,
   "metadata": {
    "execution": {
     "iopub.execute_input": "2024-02-27T16:10:04.685676Z",
     "iopub.status.busy": "2024-02-27T16:10:04.684676Z",
     "iopub.status.idle": "2024-02-27T16:10:05.897141Z",
     "shell.execute_reply": "2024-02-27T16:10:05.897141Z"
    },
    "jupyter": {
     "outputs_hidden": false
    }
   },
   "outputs": [],
   "source": []
  },
  {
   "cell_type": "markdown",
   "metadata": {
    "pycharm": {
     "name": "#%% md\n"
    }
   },
   "source": [
    "### Exercise: Export the result of the previous exercise to JPEG and PDF   \n"
   ]
  },
  {
   "cell_type": "code",
   "execution_count": null,
   "metadata": {
    "execution": {
     "iopub.execute_input": "2024-02-27T16:10:05.899658Z",
     "iopub.status.busy": "2024-02-27T16:10:05.899658Z",
     "iopub.status.idle": "2024-02-27T16:10:06.198944Z",
     "shell.execute_reply": "2024-02-27T16:10:06.198944Z"
    },
    "jupyter": {
     "outputs_hidden": false
    }
   },
   "outputs": [],
   "source": []
  },
  {
   "cell_type": "markdown",
   "metadata": {
    "pycharm": {
     "name": "#%% md\n"
    }
   },
   "source": [
    "## Exercise: Plot histograms and a scatter plot\n",
    "\n",
    "Produce a 2 by 2 subplot with:\n",
    "\n",
    "* Create a square figure with a size of 10 by 10 using `plt.rc`\n",
    "* Histograms of IBM and MSFT on the diagonals\n",
    "* Scatter plots on the off-diagonals where the x and y line up with the\n",
    "  histogram on the diagonal.\n",
    "* Set the limits of the scatter plots to match the appropriate histogram\n",
    "  x and y limit.\n",
    "* Clean up the plot using `tight_layout`"
   ]
  },
  {
   "cell_type": "code",
   "execution_count": null,
   "metadata": {
    "execution": {
     "iopub.execute_input": "2024-02-27T16:10:06.201471Z",
     "iopub.status.busy": "2024-02-27T16:10:06.201471Z",
     "iopub.status.idle": "2024-02-27T16:10:06.976957Z",
     "shell.execute_reply": "2024-02-27T16:10:06.976957Z"
    },
    "jupyter": {
     "outputs_hidden": false
    }
   },
   "outputs": [],
   "source": []
  },
  {
   "cell_type": "markdown",
   "metadata": {
    "pycharm": {
     "name": "#%% md\n"
    }
   },
   "source": [
    "### Exercise: Use pandas plotting tools\n",
    "\n",
    "Use `pandas.plotting.scatter_matrix` to produce a similar plot to the previous exercise."
   ]
  },
  {
   "cell_type": "code",
   "execution_count": null,
   "metadata": {
    "execution": {
     "iopub.execute_input": "2024-02-27T16:10:06.979962Z",
     "iopub.status.busy": "2024-02-27T16:10:06.978964Z",
     "iopub.status.idle": "2024-02-27T16:10:07.418750Z",
     "shell.execute_reply": "2024-02-27T16:10:07.418750Z"
    },
    "jupyter": {
     "outputs_hidden": false
    },
    "tags": []
   },
   "outputs": [],
   "source": []
  }
 ],
 "metadata": {
  "kernelspec": {
   "display_name": "Python 3 (ipykernel)",
   "language": "python",
   "name": "python3"
  },
  "language_info": {
   "codemirror_mode": {
    "name": "ipython",
    "version": 3
   },
   "file_extension": ".py",
   "mimetype": "text/x-python",
   "name": "python",
   "nbconvert_exporter": "python",
   "pygments_lexer": "ipython3",
   "version": "3.11.5"
  },
  "pycharm": {
   "stem_cell": {
    "cell_type": "raw",
    "metadata": {
     "collapsed": false
    },
    "source": []
   }
  }
 },
 "nbformat": 4,
 "nbformat_minor": 4
}
