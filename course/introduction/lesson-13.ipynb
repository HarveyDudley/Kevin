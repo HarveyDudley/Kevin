{
 "cells": [
  {
   "cell_type": "markdown",
   "metadata": {},
   "source": [
    "# `for` Loops\n",
    "\n",
    "This lesson covers:\n",
    "\n",
    "* for loops \n",
    "* Nested loops \n",
    "\n"
   ]
  },
  {
   "cell_type": "markdown",
   "metadata": {},
   "source": [
    "## Problem: Basic For Loops\n",
    "\n",
    "Construct a for loop to sum the numbers between 1 and N for any N. A for loop\n",
    "that does nothing can be written:\n",
    "\n",
    "```python\n",
    "n = 10\n",
    "for i in range(n):\n",
    "    pass\n",
    "```\n"
   ]
  },
  {
   "cell_type": "code",
   "execution_count": null,
   "metadata": {
    "execution": {
     "iopub.execute_input": "2024-02-27T16:09:22.567876Z",
     "iopub.status.busy": "2024-02-27T16:09:22.567876Z",
     "iopub.status.idle": "2024-02-27T16:09:22.576393Z",
     "shell.execute_reply": "2024-02-27T16:09:22.576393Z"
    }
   },
   "outputs": [],
   "source": []
  },
  {
   "cell_type": "markdown",
   "metadata": {},
   "source": [
    "## Problem: Compute a compound return\n",
    "The compound return on a bond that pays interest annually at rate r is given\n",
    "by $cr_{t}=\\prod_{i=1}^{T}(1+r)=(1+r)^{T}$. Use a for loop compute the total\n",
    "return for £100 invested today for $1,2,\\ldots,10$ years. Store this variable\n",
    "in a 10 by 1 vector cr. \n"
   ]
  },
  {
   "cell_type": "code",
   "execution_count": null,
   "metadata": {
    "execution": {
     "iopub.execute_input": "2024-02-27T16:09:22.579401Z",
     "iopub.status.busy": "2024-02-27T16:09:22.578400Z",
     "iopub.status.idle": "2024-02-27T16:09:22.700348Z",
     "shell.execute_reply": "2024-02-27T16:09:22.700348Z"
    }
   },
   "outputs": [],
   "source": []
  },
  {
   "cell_type": "markdown",
   "metadata": {},
   "source": [
    "## Problem: Simulate a random walk\n",
    "\n",
    "(Pseudo) Normal random variables can be simulated using the command\n",
    "`np.random.standard_normal(shape)` where `shape` is a tuple (or a scalar)\n",
    "containing the dimensions of the desired random numbers. Simulate 100 normals\n",
    "in a 100 by 1 vector and name the result `e`. Initialize a vector `p`\n",
    "containing zeros using the function zeros. Add the 1st element of `e` to the\n",
    "first element of `p`. Use a for loop to simulate a process\n",
    "$y_{i}=y_{i-1}+e_{i}$. When finished plot the results using\n",
    "\n",
    "```python\n",
    "%matplotlib inline\n",
    "\n",
    "import matplotlib.pyplot as plt\n",
    "plt.rc('figure', figsize=(16,6))\n",
    "\n",
    "plt.plot(y)\n",
    "```\n"
   ]
  },
  {
   "cell_type": "code",
   "execution_count": null,
   "metadata": {
    "execution": {
     "iopub.execute_input": "2024-02-27T16:09:22.703426Z",
     "iopub.status.busy": "2024-02-27T16:09:22.702426Z",
     "iopub.status.idle": "2024-02-27T16:09:22.706978Z",
     "shell.execute_reply": "2024-02-27T16:09:22.706978Z"
    }
   },
   "outputs": [],
   "source": []
  },
  {
   "cell_type": "code",
   "execution_count": null,
   "metadata": {
    "execution": {
     "iopub.execute_input": "2024-02-27T16:09:22.710013Z",
     "iopub.status.busy": "2024-02-27T16:09:22.709020Z",
     "iopub.status.idle": "2024-02-27T16:09:23.308195Z",
     "shell.execute_reply": "2024-02-27T16:09:23.308195Z"
    }
   },
   "outputs": [],
   "source": []
  },
  {
   "cell_type": "markdown",
   "metadata": {},
   "source": [
    "## Problem: Nested Loops\n",
    "\n",
    "Begin by loading momentum data used in an earlier lesson. Compute a\n",
    "22-day moving-window standard deviation for each of the columns. Store\n",
    "the value at the end of the window.\n",
    "\n",
    "When finished, make sure that `std_dev` is a `DataFrame` and \n",
    "plot the annualized percentage standard deviations using:\n",
    "\n",
    "```python\n",
    "ann_std_dev = 100 * np.sqrt(252) * std_dev\n",
    "ann_std_dev.plot()\n",
    "```  "
   ]
  },
  {
   "cell_type": "code",
   "execution_count": null,
   "metadata": {
    "execution": {
     "iopub.execute_input": "2024-02-27T16:09:23.311278Z",
     "iopub.status.busy": "2024-02-27T16:09:23.310278Z",
     "iopub.status.idle": "2024-02-27T16:09:23.721522Z",
     "shell.execute_reply": "2024-02-27T16:09:23.721522Z"
    },
    "pycharm": {
     "is_executing": false
    }
   },
   "outputs": [],
   "source": [
    "# Setup: Load the momentum data\n",
    "\n",
    "import pandas as pd\n",
    "\n",
    "momentum = pd.read_csv(\"data/momentum.csv\", index_col=\"date\", parse_dates=True)\n",
    "momentum = momentum / 100  # Convert to numeric values from percentages"
   ]
  },
  {
   "cell_type": "code",
   "execution_count": null,
   "metadata": {
    "execution": {
     "iopub.execute_input": "2024-02-27T16:09:23.724530Z",
     "iopub.status.busy": "2024-02-27T16:09:23.724530Z",
     "iopub.status.idle": "2024-02-27T16:09:24.348219Z",
     "shell.execute_reply": "2024-02-27T16:09:24.348219Z"
    }
   },
   "outputs": [],
   "source": []
  },
  {
   "cell_type": "code",
   "execution_count": null,
   "metadata": {
    "execution": {
     "iopub.execute_input": "2024-02-27T16:09:24.351283Z",
     "iopub.status.busy": "2024-02-27T16:09:24.350231Z",
     "iopub.status.idle": "2024-02-27T16:09:24.675227Z",
     "shell.execute_reply": "2024-02-27T16:09:24.675227Z"
    }
   },
   "outputs": [],
   "source": []
  },
  {
   "cell_type": "code",
   "execution_count": null,
   "metadata": {
    "execution": {
     "iopub.execute_input": "2024-02-27T16:09:24.678234Z",
     "iopub.status.busy": "2024-02-27T16:09:24.678234Z",
     "iopub.status.idle": "2024-02-27T16:09:24.978994Z",
     "shell.execute_reply": "2024-02-27T16:09:24.978994Z"
    }
   },
   "outputs": [],
   "source": []
  },
  {
   "cell_type": "markdown",
   "metadata": {},
   "source": [
    "## Exercises\n",
    "\n",
    "### Exercise\n",
    "1. Simulate a 1000 by 10 matrix consisting of 10 standard random walks using\n",
    "   both nested loops and `np.cumsum`. \n",
    "2. Plot the results. \n",
    "\n",
    "**Question to think about**\n",
    "\n",
    "If you rerun the code in this Exercise, do the results change? Why? \n",
    "\n",
    "\n",
    "### Exercise: Compute Drawdowns\n",
    "\n",
    "Using the momentum data, compute the maximum drawdown over all\n",
    "22-day consecutive periods defined as the smallest cumulative \n",
    "produce of the gross return (1+r) for 1, 2, .., 22 days.\n",
    "\n",
    "Finally, compute the mean drawdown for each of the portfolios."
   ]
  },
  {
   "cell_type": "code",
   "execution_count": null,
   "metadata": {
    "execution": {
     "iopub.execute_input": "2024-02-27T16:09:24.982000Z",
     "iopub.status.busy": "2024-02-27T16:09:24.982000Z",
     "iopub.status.idle": "2024-02-27T16:09:25.094318Z",
     "shell.execute_reply": "2024-02-27T16:09:25.094318Z"
    },
    "jupyter": {
     "outputs_hidden": false
    },
    "tags": []
   },
   "outputs": [],
   "source": []
  }
 ],
 "metadata": {
  "kernelspec": {
   "display_name": "Python 3 (ipykernel)",
   "language": "python",
   "name": "python3"
  },
  "language_info": {
   "codemirror_mode": {
    "name": "ipython",
    "version": 3
   },
   "file_extension": ".py",
   "mimetype": "text/x-python",
   "name": "python",
   "nbconvert_exporter": "python",
   "pygments_lexer": "ipython3",
   "version": "3.11.5"
  },
  "pycharm": {
   "stem_cell": {
    "cell_type": "raw",
    "metadata": {
     "collapsed": false
    },
    "source": []
   }
  }
 },
 "nbformat": 4,
 "nbformat_minor": 4
}
