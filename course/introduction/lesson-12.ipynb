{
 "cells": [
  {
   "cell_type": "markdown",
   "metadata": {
    "pycharm": {
     "name": "#%% md\n"
    }
   },
   "source": [
    "# Numeric Indexing of DataFrames\n",
    "\n",
    "This lesson covers:\n",
    "\n",
    "* Accessing specific elements in DataFrames using numeric indices\n",
    "\n",
    "Accessing elements in a DataFrame is a common task. To begin this lesson,\n",
    "clear the workspace set up some vectors and a $5\\times5$ array. These vectors\n",
    "and matrix will make it easy to determine which elements are selected by a\n",
    "command.\n",
    "\n",
    "Begin by creating:\n",
    "\n",
    "* A 5-by-5 DataFrame `x_df` containing `np.arange(25).reshape((5,5))`.\n",
    "* A 5-element Series `y_s` containing `np.arange(5)`.\n",
    "* A 5-by-5 DataFrame `x_named` that is `x_df` with columns \"c0\", \"c1\", ...,\n",
    "  \"c4\" and rows \"r0\", \"r1\", ..., \"r4\".\n",
    "* A 5-element Series `y_named` with index \"r0\", \"r1\", ..., \"r4\". "
   ]
  },
  {
   "cell_type": "code",
   "execution_count": null,
   "metadata": {
    "execution": {
     "iopub.execute_input": "2024-02-27T16:09:19.851896Z",
     "iopub.status.busy": "2024-02-27T16:09:19.851896Z",
     "iopub.status.idle": "2024-02-27T16:09:20.373246Z",
     "shell.execute_reply": "2024-02-27T16:09:20.373246Z"
    }
   },
   "outputs": [],
   "source": []
  },
  {
   "cell_type": "markdown",
   "metadata": {
    "pycharm": {
     "name": "#%% md\n"
    }
   },
   "source": [
    "## Problem: Picking an Element out of a DataFrame\n",
    "\n",
    "Using double index notation, select the (0,2) and the (2,0) element of\n",
    "`x_named`."
   ]
  },
  {
   "cell_type": "code",
   "execution_count": null,
   "metadata": {
    "execution": {
     "iopub.execute_input": "2024-02-27T16:09:20.376256Z",
     "iopub.status.busy": "2024-02-27T16:09:20.376256Z",
     "iopub.status.idle": "2024-02-27T16:09:20.382215Z",
     "shell.execute_reply": "2024-02-27T16:09:20.382215Z"
    }
   },
   "outputs": [],
   "source": []
  },
  {
   "cell_type": "code",
   "execution_count": null,
   "metadata": {
    "execution": {
     "iopub.execute_input": "2024-02-27T16:09:20.384741Z",
     "iopub.status.busy": "2024-02-27T16:09:20.384741Z",
     "iopub.status.idle": "2024-02-27T16:09:20.389183Z",
     "shell.execute_reply": "2024-02-27T16:09:20.389183Z"
    },
    "jupyter": {
     "outputs_hidden": false
    }
   },
   "outputs": [],
   "source": []
  },
  {
   "cell_type": "markdown",
   "metadata": {
    "pycharm": {
     "name": "#%% md\n"
    }
   },
   "source": [
    "## Problem: Select Elements from Series\n",
    "\n",
    "Select the 2nd element of `y_named`."
   ]
  },
  {
   "cell_type": "code",
   "execution_count": null,
   "metadata": {
    "execution": {
     "iopub.execute_input": "2024-02-27T16:09:20.391284Z",
     "iopub.status.busy": "2024-02-27T16:09:20.391284Z",
     "iopub.status.idle": "2024-02-27T16:09:20.395897Z",
     "shell.execute_reply": "2024-02-27T16:09:20.395897Z"
    }
   },
   "outputs": [],
   "source": []
  },
  {
   "cell_type": "markdown",
   "metadata": {},
   "source": [
    "## Problem: Selecting Rows as Series\n",
    "\n",
    "Select the 2nd row of `x_named` using the colon (:) operator.\n"
   ]
  },
  {
   "cell_type": "code",
   "execution_count": null,
   "metadata": {
    "execution": {
     "iopub.execute_input": "2024-02-27T16:09:20.397912Z",
     "iopub.status.busy": "2024-02-27T16:09:20.397912Z",
     "iopub.status.idle": "2024-02-27T16:09:20.402607Z",
     "shell.execute_reply": "2024-02-27T16:09:20.402607Z"
    }
   },
   "outputs": [],
   "source": []
  },
  {
   "cell_type": "markdown",
   "metadata": {
    "pycharm": {
     "name": "#%% md\n"
    }
   },
   "source": [
    "## Problem: Selecting Rows as DataFrames\n",
    "\n",
    "1. Select the 2nd row of `x_named` using a slice so that the selection\n",
    "   remains a DataFrame.\n",
    "2. Repeat using a list of indices to retain the DataFrame. \n"
   ]
  },
  {
   "cell_type": "code",
   "execution_count": null,
   "metadata": {
    "execution": {
     "iopub.execute_input": "2024-02-27T16:09:20.404620Z",
     "iopub.status.busy": "2024-02-27T16:09:20.404620Z",
     "iopub.status.idle": "2024-02-27T16:09:20.412324Z",
     "shell.execute_reply": "2024-02-27T16:09:20.412324Z"
    }
   },
   "outputs": [],
   "source": []
  },
  {
   "cell_type": "code",
   "execution_count": null,
   "metadata": {
    "execution": {
     "iopub.execute_input": "2024-02-27T16:09:20.414334Z",
     "iopub.status.busy": "2024-02-27T16:09:20.414334Z",
     "iopub.status.idle": "2024-02-27T16:09:20.420743Z",
     "shell.execute_reply": "2024-02-27T16:09:20.420743Z"
    }
   },
   "outputs": [],
   "source": []
  },
  {
   "cell_type": "markdown",
   "metadata": {},
   "source": [
    "## Problem: Selecting Entire Columns as Series\n",
    "Select the 2nd column of `x_named` using the colon (:) operator. "
   ]
  },
  {
   "cell_type": "code",
   "execution_count": null,
   "metadata": {
    "execution": {
     "iopub.execute_input": "2024-02-27T16:09:20.423753Z",
     "iopub.status.busy": "2024-02-27T16:09:20.422753Z",
     "iopub.status.idle": "2024-02-27T16:09:20.428398Z",
     "shell.execute_reply": "2024-02-27T16:09:20.428398Z"
    }
   },
   "outputs": [],
   "source": []
  },
  {
   "cell_type": "markdown",
   "metadata": {
    "pycharm": {
     "name": "#%% md\n"
    }
   },
   "source": [
    "## Problem: Selecting Single Columns as DataFrames\n",
    "Select the 2nd column of `x_named`  so that the selection remains a DataFrame. \n"
   ]
  },
  {
   "cell_type": "code",
   "execution_count": null,
   "metadata": {
    "execution": {
     "iopub.execute_input": "2024-02-27T16:09:20.430409Z",
     "iopub.status.busy": "2024-02-27T16:09:20.430409Z",
     "iopub.status.idle": "2024-02-27T16:09:20.435995Z",
     "shell.execute_reply": "2024-02-27T16:09:20.435995Z"
    }
   },
   "outputs": [],
   "source": []
  },
  {
   "cell_type": "code",
   "execution_count": null,
   "metadata": {
    "execution": {
     "iopub.execute_input": "2024-02-27T16:09:20.439165Z",
     "iopub.status.busy": "2024-02-27T16:09:20.438007Z",
     "iopub.status.idle": "2024-02-27T16:09:20.444834Z",
     "shell.execute_reply": "2024-02-27T16:09:20.444834Z"
    }
   },
   "outputs": [],
   "source": []
  },
  {
   "cell_type": "markdown",
   "metadata": {},
   "source": [
    "## Problem: Selecting Specific Columns\n",
    "Select the 2nd and 3rd columns of `x_named` using a slice."
   ]
  },
  {
   "cell_type": "code",
   "execution_count": null,
   "metadata": {
    "execution": {
     "iopub.execute_input": "2024-02-27T16:09:20.446856Z",
     "iopub.status.busy": "2024-02-27T16:09:20.446856Z",
     "iopub.status.idle": "2024-02-27T16:09:20.452929Z",
     "shell.execute_reply": "2024-02-27T16:09:20.452929Z"
    }
   },
   "outputs": [],
   "source": []
  },
  {
   "cell_type": "markdown",
   "metadata": {
    "pycharm": {
     "name": "#%% md\n"
    }
   },
   "source": [
    "## Problem: Select Specific Rows\n",
    "\n",
    "Select the 2nd and 4th rows of `x_named` using a slice.  Repeat the \n",
    "selection using a list of integers."
   ]
  },
  {
   "cell_type": "code",
   "execution_count": null,
   "metadata": {
    "execution": {
     "iopub.execute_input": "2024-02-27T16:09:20.455940Z",
     "iopub.status.busy": "2024-02-27T16:09:20.455940Z",
     "iopub.status.idle": "2024-02-27T16:09:20.462368Z",
     "shell.execute_reply": "2024-02-27T16:09:20.462368Z"
    }
   },
   "outputs": [],
   "source": []
  },
  {
   "cell_type": "code",
   "execution_count": null,
   "metadata": {
    "execution": {
     "iopub.execute_input": "2024-02-27T16:09:20.464380Z",
     "iopub.status.busy": "2024-02-27T16:09:20.464380Z",
     "iopub.status.idle": "2024-02-27T16:09:20.471168Z",
     "shell.execute_reply": "2024-02-27T16:09:20.471168Z"
    }
   },
   "outputs": [],
   "source": []
  },
  {
   "cell_type": "markdown",
   "metadata": {},
   "source": [
    "## Problem: Select arbitrary rows and columns\n",
    "\n",
    "Combine the previous selections to the 2nd and 3rd columns and the 2nd and 4th rows\n",
    "of `x_named`. \n",
    "\n",
    "**Note**: This is the only important difference with NumPy.  Arbitrary\n",
    "row/column selection using `DataFrame.iloc` is simpler but less flexible."
   ]
  },
  {
   "cell_type": "code",
   "execution_count": null,
   "metadata": {
    "execution": {
     "iopub.execute_input": "2024-02-27T16:09:20.474179Z",
     "iopub.status.busy": "2024-02-27T16:09:20.473179Z",
     "iopub.status.idle": "2024-02-27T16:09:20.479499Z",
     "shell.execute_reply": "2024-02-27T16:09:20.479499Z"
    },
    "jupyter": {
     "outputs_hidden": false
    }
   },
   "outputs": [],
   "source": []
  },
  {
   "cell_type": "code",
   "execution_count": null,
   "metadata": {
    "execution": {
     "iopub.execute_input": "2024-02-27T16:09:20.481567Z",
     "iopub.status.busy": "2024-02-27T16:09:20.481567Z",
     "iopub.status.idle": "2024-02-27T16:09:20.488440Z",
     "shell.execute_reply": "2024-02-27T16:09:20.488440Z"
    },
    "jupyter": {
     "outputs_hidden": false
    }
   },
   "outputs": [],
   "source": []
  },
  {
   "cell_type": "code",
   "execution_count": null,
   "metadata": {
    "execution": {
     "iopub.execute_input": "2024-02-27T16:09:20.490450Z",
     "iopub.status.busy": "2024-02-27T16:09:20.490450Z",
     "iopub.status.idle": "2024-02-27T16:09:20.496365Z",
     "shell.execute_reply": "2024-02-27T16:09:20.496365Z"
    },
    "jupyter": {
     "outputs_hidden": false
    }
   },
   "outputs": [],
   "source": []
  },
  {
   "cell_type": "markdown",
   "metadata": {
    "pycharm": {
     "name": "#%% md\n"
    }
   },
   "source": [
    "## Problem: Mixed selection\n",
    "\n",
    "Select the columns c1 and c2 and the 1st, 3rd and 5th row."
   ]
  },
  {
   "cell_type": "code",
   "execution_count": null,
   "metadata": {
    "execution": {
     "iopub.execute_input": "2024-02-27T16:09:20.498427Z",
     "iopub.status.busy": "2024-02-27T16:09:20.498427Z",
     "iopub.status.idle": "2024-02-27T16:09:20.504997Z",
     "shell.execute_reply": "2024-02-27T16:09:20.504997Z"
    }
   },
   "outputs": [],
   "source": []
  },
  {
   "cell_type": "markdown",
   "metadata": {},
   "source": [
    "## Problem: Mixed selection 2\n",
    "\n",
    "Select the rows r1 and r2 and the 1st, 3rd and final column."
   ]
  },
  {
   "cell_type": "code",
   "execution_count": null,
   "metadata": {
    "execution": {
     "iopub.execute_input": "2024-02-27T16:09:20.507008Z",
     "iopub.status.busy": "2024-02-27T16:09:20.507008Z",
     "iopub.status.idle": "2024-02-27T16:09:20.513614Z",
     "shell.execute_reply": "2024-02-27T16:09:20.513614Z"
    }
   },
   "outputs": [],
   "source": []
  },
  {
   "cell_type": "markdown",
   "metadata": {
    "pycharm": {
     "name": "#%% md\n"
    }
   },
   "source": [
    "## Exercises\n",
    "\n",
    "### Exercise: Select fixed length block\n",
    "\n",
    "Compute the mean return of the momentum data in the first 66\n",
    "observations and the last 66 observations."
   ]
  },
  {
   "cell_type": "code",
   "execution_count": null,
   "metadata": {
    "execution": {
     "iopub.execute_input": "2024-02-27T16:09:20.515746Z",
     "iopub.status.busy": "2024-02-27T16:09:20.515746Z",
     "iopub.status.idle": "2024-02-27T16:09:20.534648Z",
     "shell.execute_reply": "2024-02-27T16:09:20.534648Z"
    },
    "jupyter": {
     "outputs_hidden": false
    },
    "pycharm": {
     "is_executing": false,
     "name": "#%%\n"
    }
   },
   "outputs": [],
   "source": [
    "# Setup: Load the momentum data\n",
    "\n",
    "import pandas as pd\n",
    "\n",
    "momentum = pd.read_csv(\"data/momentum.csv\", index_col=\"date\", parse_dates=True)\n",
    "momentum.head()"
   ]
  },
  {
   "cell_type": "code",
   "execution_count": null,
   "metadata": {
    "execution": {
     "iopub.execute_input": "2024-02-27T16:09:20.537659Z",
     "iopub.status.busy": "2024-02-27T16:09:20.536659Z",
     "iopub.status.idle": "2024-02-27T16:09:20.542306Z",
     "shell.execute_reply": "2024-02-27T16:09:20.542306Z"
    },
    "jupyter": {
     "outputs_hidden": false
    }
   },
   "outputs": [],
   "source": []
  },
  {
   "cell_type": "code",
   "execution_count": null,
   "metadata": {
    "execution": {
     "iopub.execute_input": "2024-02-27T16:09:20.545350Z",
     "iopub.status.busy": "2024-02-27T16:09:20.544351Z",
     "iopub.status.idle": "2024-02-27T16:09:20.549802Z",
     "shell.execute_reply": "2024-02-27T16:09:20.549802Z"
    },
    "jupyter": {
     "outputs_hidden": false
    }
   },
   "outputs": [],
   "source": []
  },
  {
   "cell_type": "code",
   "execution_count": null,
   "metadata": {
    "execution": {
     "iopub.execute_input": "2024-02-27T16:09:20.551810Z",
     "iopub.status.busy": "2024-02-27T16:09:20.551810Z",
     "iopub.status.idle": "2024-02-27T16:09:20.556764Z",
     "shell.execute_reply": "2024-02-27T16:09:20.556764Z"
    },
    "jupyter": {
     "outputs_hidden": false
    }
   },
   "outputs": [],
   "source": []
  },
  {
   "cell_type": "markdown",
   "metadata": {
    "pycharm": {
     "name": "#%% md\n"
    }
   },
   "source": [
    "### Exercise: Compute values using fraction of sample\n",
    "\n",
    "Compute the correlation of momentum portfolio 1, 5, and 10 in the first half of\n",
    "the sample and in the second half. "
   ]
  },
  {
   "cell_type": "code",
   "execution_count": null,
   "metadata": {
    "execution": {
     "iopub.execute_input": "2024-02-27T16:09:20.558772Z",
     "iopub.status.busy": "2024-02-27T16:09:20.558772Z",
     "iopub.status.idle": "2024-02-27T16:09:20.566625Z",
     "shell.execute_reply": "2024-02-27T16:09:20.566625Z"
    },
    "jupyter": {
     "outputs_hidden": false
    }
   },
   "outputs": [],
   "source": []
  },
  {
   "cell_type": "code",
   "execution_count": null,
   "metadata": {
    "execution": {
     "iopub.execute_input": "2024-02-27T16:09:20.568633Z",
     "iopub.status.busy": "2024-02-27T16:09:20.568633Z",
     "iopub.status.idle": "2024-02-27T16:09:20.575329Z",
     "shell.execute_reply": "2024-02-27T16:09:20.575329Z"
    },
    "jupyter": {
     "outputs_hidden": false
    },
    "tags": []
   },
   "outputs": [],
   "source": []
  }
 ],
 "metadata": {
  "kernelspec": {
   "display_name": "Python 3 (ipykernel)",
   "language": "python",
   "name": "python3"
  },
  "language_info": {
   "codemirror_mode": {
    "name": "ipython",
    "version": 3
   },
   "file_extension": ".py",
   "mimetype": "text/x-python",
   "name": "python",
   "nbconvert_exporter": "python",
   "pygments_lexer": "ipython3",
   "version": "3.11.5"
  },
  "pycharm": {
   "stem_cell": {
    "cell_type": "raw",
    "metadata": {
     "collapsed": false
    },
    "source": []
   }
  }
 },
 "nbformat": 4,
 "nbformat_minor": 4
}
