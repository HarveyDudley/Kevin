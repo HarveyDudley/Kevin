{
 "cells": [
  {
   "cell_type": "markdown",
   "metadata": {
    "pycharm": {
     "name": "#%% md\n"
    }
   },
   "source": [
    "# Numeric Indexing of DataFrames\n",
    "\n",
    "This lesson covers:\n",
    "\n",
    "* Accessing specific elements in DataFrames using numeric indices\n",
    "\n",
    "Accessing elements in a DataFrame is a common task. To begin this lesson,\n",
    "clear the workspace set up some vectors and a $5\\times5$ array. These vectors\n",
    "and matrix will make it easy to determine which elements are selected by a\n",
    "command.\n",
    "\n",
    "Begin by creating:\n",
    "\n",
    "* A 5-by-5 DataFrame `x_df` containing `np.arange(25).reshape((5,5))`.\n",
    "* A 5-element Series `y_s` containing `np.arange(5)`.\n",
    "* A 5-by-5 DataFrame `x_named` that is `x_df` with columns \"c0\", \"c1\", ...,\n",
    "  \"c4\" and rows \"r0\", \"r1\", ..., \"r4\".\n",
    "* A 5-element Series `y_named` with index \"r0\", \"r1\", ..., \"r4\". "
   ]
  },
  {
   "cell_type": "code",
   "execution_count": null,
   "metadata": {
    "execution": {
     "iopub.execute_input": "2023-09-28T12:32:27.076666Z",
     "iopub.status.busy": "2023-09-28T12:32:27.076666Z",
     "iopub.status.idle": "2023-09-28T12:32:27.804646Z",
     "shell.execute_reply": "2023-09-28T12:32:27.804646Z"
    }
   },
   "outputs": [],
   "source": []
  },
  {
   "cell_type": "markdown",
   "metadata": {
    "pycharm": {
     "name": "#%% md\n"
    }
   },
   "source": [
    "## Problem: Picking an Element out of a DataFrame\n",
    "\n",
    "Using double index notation, select the (0,2) and the (2,0) element of\n",
    "`x_named`."
   ]
  },
  {
   "cell_type": "code",
   "execution_count": null,
   "metadata": {
    "execution": {
     "iopub.execute_input": "2023-09-28T12:32:27.804646Z",
     "iopub.status.busy": "2023-09-28T12:32:27.804646Z",
     "iopub.status.idle": "2023-09-28T12:32:27.813470Z",
     "shell.execute_reply": "2023-09-28T12:32:27.813470Z"
    }
   },
   "outputs": [],
   "source": []
  },
  {
   "cell_type": "code",
   "execution_count": null,
   "metadata": {
    "execution": {
     "iopub.execute_input": "2023-09-28T12:32:27.813470Z",
     "iopub.status.busy": "2023-09-28T12:32:27.813470Z",
     "iopub.status.idle": "2023-09-28T12:32:27.820952Z",
     "shell.execute_reply": "2023-09-28T12:32:27.820952Z"
    },
    "jupyter": {
     "outputs_hidden": false
    }
   },
   "outputs": [],
   "source": []
  },
  {
   "cell_type": "markdown",
   "metadata": {
    "pycharm": {
     "name": "#%% md\n"
    }
   },
   "source": [
    "## Problem: Select Elements from Series\n",
    "\n",
    "Select the 2nd element of `y_named`."
   ]
  },
  {
   "cell_type": "code",
   "execution_count": null,
   "metadata": {
    "execution": {
     "iopub.execute_input": "2023-09-28T12:32:27.820952Z",
     "iopub.status.busy": "2023-09-28T12:32:27.820952Z",
     "iopub.status.idle": "2023-09-28T12:32:27.828093Z",
     "shell.execute_reply": "2023-09-28T12:32:27.828093Z"
    }
   },
   "outputs": [],
   "source": []
  },
  {
   "cell_type": "markdown",
   "metadata": {},
   "source": [
    "## Problem: Selecting Rows as Series\n",
    "\n",
    "Select the 2nd row of `x_named` using the colon (:) operator.\n"
   ]
  },
  {
   "cell_type": "code",
   "execution_count": null,
   "metadata": {
    "execution": {
     "iopub.execute_input": "2023-09-28T12:32:27.829108Z",
     "iopub.status.busy": "2023-09-28T12:32:27.829108Z",
     "iopub.status.idle": "2023-09-28T12:32:27.836116Z",
     "shell.execute_reply": "2023-09-28T12:32:27.836116Z"
    }
   },
   "outputs": [],
   "source": []
  },
  {
   "cell_type": "markdown",
   "metadata": {
    "pycharm": {
     "name": "#%% md\n"
    }
   },
   "source": [
    "## Problem: Selecting Rows as DataFrames\n",
    "\n",
    "1. Select the 2nd row of `x_named` using a slice so that the selection\n",
    "   remains a DataFrame.\n",
    "2. Repeat using a list of indices to retain the DataFrame. \n"
   ]
  },
  {
   "cell_type": "code",
   "execution_count": null,
   "metadata": {
    "execution": {
     "iopub.execute_input": "2023-09-28T12:32:27.836116Z",
     "iopub.status.busy": "2023-09-28T12:32:27.836116Z",
     "iopub.status.idle": "2023-09-28T12:32:27.847276Z",
     "shell.execute_reply": "2023-09-28T12:32:27.847276Z"
    }
   },
   "outputs": [],
   "source": []
  },
  {
   "cell_type": "code",
   "execution_count": null,
   "metadata": {
    "execution": {
     "iopub.execute_input": "2023-09-28T12:32:27.847276Z",
     "iopub.status.busy": "2023-09-28T12:32:27.847276Z",
     "iopub.status.idle": "2023-09-28T12:32:27.856604Z",
     "shell.execute_reply": "2023-09-28T12:32:27.856604Z"
    }
   },
   "outputs": [],
   "source": []
  },
  {
   "cell_type": "markdown",
   "metadata": {},
   "source": [
    "## Problem: Selecting Entire Columns as Series\n",
    "Select the 2nd column of `x_named` using the colon (:) operator. "
   ]
  },
  {
   "cell_type": "code",
   "execution_count": null,
   "metadata": {
    "execution": {
     "iopub.execute_input": "2023-09-28T12:32:27.856604Z",
     "iopub.status.busy": "2023-09-28T12:32:27.856604Z",
     "iopub.status.idle": "2023-09-28T12:32:27.863819Z",
     "shell.execute_reply": "2023-09-28T12:32:27.863819Z"
    }
   },
   "outputs": [],
   "source": []
  },
  {
   "cell_type": "markdown",
   "metadata": {
    "pycharm": {
     "name": "#%% md\n"
    }
   },
   "source": [
    "## Problem: Selecting Single Columns as DataFrames\n",
    "Select the 2nd column of `x_named`  so that the selection remains a DataFrame. \n"
   ]
  },
  {
   "cell_type": "code",
   "execution_count": null,
   "metadata": {
    "execution": {
     "iopub.execute_input": "2023-09-28T12:32:27.863819Z",
     "iopub.status.busy": "2023-09-28T12:32:27.863819Z",
     "iopub.status.idle": "2023-09-28T12:32:27.871610Z",
     "shell.execute_reply": "2023-09-28T12:32:27.871610Z"
    }
   },
   "outputs": [],
   "source": []
  },
  {
   "cell_type": "code",
   "execution_count": null,
   "metadata": {
    "execution": {
     "iopub.execute_input": "2023-09-28T12:32:27.871610Z",
     "iopub.status.busy": "2023-09-28T12:32:27.871610Z",
     "iopub.status.idle": "2023-09-28T12:32:27.879694Z",
     "shell.execute_reply": "2023-09-28T12:32:27.879694Z"
    }
   },
   "outputs": [],
   "source": []
  },
  {
   "cell_type": "markdown",
   "metadata": {},
   "source": [
    "## Problem: Selecting Specific Columns\n",
    "Select the 2nd and 3rd columns of `x_named` using a slice."
   ]
  },
  {
   "cell_type": "code",
   "execution_count": null,
   "metadata": {
    "execution": {
     "iopub.execute_input": "2023-09-28T12:32:27.879694Z",
     "iopub.status.busy": "2023-09-28T12:32:27.879694Z",
     "iopub.status.idle": "2023-09-28T12:32:27.887707Z",
     "shell.execute_reply": "2023-09-28T12:32:27.887707Z"
    }
   },
   "outputs": [],
   "source": []
  },
  {
   "cell_type": "markdown",
   "metadata": {
    "pycharm": {
     "name": "#%% md\n"
    }
   },
   "source": [
    "## Problem: Select Specific Rows\n",
    "\n",
    "Select the 2nd and 4th rows of `x_named` using a slice.  Repeat the \n",
    "selection using a list of integers."
   ]
  },
  {
   "cell_type": "code",
   "execution_count": null,
   "metadata": {
    "execution": {
     "iopub.execute_input": "2023-09-28T12:32:27.887707Z",
     "iopub.status.busy": "2023-09-28T12:32:27.887707Z",
     "iopub.status.idle": "2023-09-28T12:32:27.896296Z",
     "shell.execute_reply": "2023-09-28T12:32:27.896296Z"
    }
   },
   "outputs": [],
   "source": []
  },
  {
   "cell_type": "code",
   "execution_count": null,
   "metadata": {
    "execution": {
     "iopub.execute_input": "2023-09-28T12:32:27.896296Z",
     "iopub.status.busy": "2023-09-28T12:32:27.896296Z",
     "iopub.status.idle": "2023-09-28T12:32:27.905017Z",
     "shell.execute_reply": "2023-09-28T12:32:27.905017Z"
    }
   },
   "outputs": [],
   "source": []
  },
  {
   "cell_type": "markdown",
   "metadata": {},
   "source": [
    "## Problem: Select arbitrary rows and columns\n",
    "\n",
    "Combine the previous selections to the 2nd and 3rd columns and the 2nd and 4th rows\n",
    "of `x_named`. \n",
    "\n",
    "**Note**: This is the only important difference with NumPy.  Arbitrary\n",
    "row/column selection using `DataFrame.iloc` is simpler but less flexible."
   ]
  },
  {
   "cell_type": "code",
   "execution_count": null,
   "metadata": {
    "execution": {
     "iopub.execute_input": "2023-09-28T12:32:27.905017Z",
     "iopub.status.busy": "2023-09-28T12:32:27.905017Z",
     "iopub.status.idle": "2023-09-28T12:32:27.913127Z",
     "shell.execute_reply": "2023-09-28T12:32:27.913127Z"
    },
    "jupyter": {
     "outputs_hidden": false
    }
   },
   "outputs": [],
   "source": []
  },
  {
   "cell_type": "code",
   "execution_count": null,
   "metadata": {
    "execution": {
     "iopub.execute_input": "2023-09-28T12:32:27.913127Z",
     "iopub.status.busy": "2023-09-28T12:32:27.913127Z",
     "iopub.status.idle": "2023-09-28T12:32:27.921339Z",
     "shell.execute_reply": "2023-09-28T12:32:27.921339Z"
    },
    "jupyter": {
     "outputs_hidden": false
    }
   },
   "outputs": [],
   "source": []
  },
  {
   "cell_type": "code",
   "execution_count": null,
   "metadata": {
    "execution": {
     "iopub.execute_input": "2023-09-28T12:32:27.921339Z",
     "iopub.status.busy": "2023-09-28T12:32:27.921339Z",
     "iopub.status.idle": "2023-09-28T12:32:27.929848Z",
     "shell.execute_reply": "2023-09-28T12:32:27.929848Z"
    },
    "jupyter": {
     "outputs_hidden": false
    }
   },
   "outputs": [],
   "source": []
  },
  {
   "cell_type": "markdown",
   "metadata": {
    "pycharm": {
     "name": "#%% md\n"
    }
   },
   "source": [
    "## Problem: Mixed selection\n",
    "\n",
    "Select the columns c1 and c2 and the 1st, 3rd and 5th row."
   ]
  },
  {
   "cell_type": "code",
   "execution_count": null,
   "metadata": {
    "execution": {
     "iopub.execute_input": "2023-09-28T12:32:27.929848Z",
     "iopub.status.busy": "2023-09-28T12:32:27.929848Z",
     "iopub.status.idle": "2023-09-28T12:32:27.938846Z",
     "shell.execute_reply": "2023-09-28T12:32:27.938846Z"
    }
   },
   "outputs": [],
   "source": []
  },
  {
   "cell_type": "markdown",
   "metadata": {},
   "source": [
    "## Problem: Mixed selection 2\n",
    "\n",
    "Select the rows r1 and r2 and the 1st, 3rd and final column."
   ]
  },
  {
   "cell_type": "code",
   "execution_count": null,
   "metadata": {
    "execution": {
     "iopub.execute_input": "2023-09-28T12:32:27.940853Z",
     "iopub.status.busy": "2023-09-28T12:32:27.940853Z",
     "iopub.status.idle": "2023-09-28T12:32:27.947726Z",
     "shell.execute_reply": "2023-09-28T12:32:27.947726Z"
    }
   },
   "outputs": [],
   "source": []
  },
  {
   "cell_type": "markdown",
   "metadata": {
    "pycharm": {
     "name": "#%% md\n"
    }
   },
   "source": [
    "## Exercises\n",
    "\n",
    "### Exercise: Select fixed length block\n",
    "\n",
    "Compute the mean return of the momentum data in the first 66\n",
    "observations and the last 66 observations."
   ]
  },
  {
   "cell_type": "code",
   "execution_count": null,
   "metadata": {
    "execution": {
     "iopub.execute_input": "2023-09-28T12:32:27.947726Z",
     "iopub.status.busy": "2023-09-28T12:32:27.947726Z",
     "iopub.status.idle": "2023-09-28T12:32:27.967737Z",
     "shell.execute_reply": "2023-09-28T12:32:27.967737Z"
    },
    "jupyter": {
     "outputs_hidden": false
    },
    "pycharm": {
     "is_executing": false,
     "name": "#%%\n"
    }
   },
   "outputs": [],
   "source": [
    "# Setup: Load the momentum data\n",
    "\n",
    "import pandas as pd\n",
    "\n",
    "momentum = pd.read_csv(\"data/momentum.csv\", index_col=\"date\", parse_dates=True)\n",
    "momentum.head()"
   ]
  },
  {
   "cell_type": "code",
   "execution_count": null,
   "metadata": {
    "execution": {
     "iopub.execute_input": "2023-09-28T12:32:27.967737Z",
     "iopub.status.busy": "2023-09-28T12:32:27.967737Z",
     "iopub.status.idle": "2023-09-28T12:32:27.975818Z",
     "shell.execute_reply": "2023-09-28T12:32:27.975818Z"
    },
    "jupyter": {
     "outputs_hidden": false
    }
   },
   "outputs": [],
   "source": []
  },
  {
   "cell_type": "code",
   "execution_count": null,
   "metadata": {
    "execution": {
     "iopub.execute_input": "2023-09-28T12:32:27.975818Z",
     "iopub.status.busy": "2023-09-28T12:32:27.975818Z",
     "iopub.status.idle": "2023-09-28T12:32:27.983685Z",
     "shell.execute_reply": "2023-09-28T12:32:27.983685Z"
    },
    "jupyter": {
     "outputs_hidden": false
    }
   },
   "outputs": [],
   "source": []
  },
  {
   "cell_type": "code",
   "execution_count": null,
   "metadata": {
    "execution": {
     "iopub.execute_input": "2023-09-28T12:32:27.983685Z",
     "iopub.status.busy": "2023-09-28T12:32:27.983685Z",
     "iopub.status.idle": "2023-09-28T12:32:27.991342Z",
     "shell.execute_reply": "2023-09-28T12:32:27.991342Z"
    },
    "jupyter": {
     "outputs_hidden": false
    }
   },
   "outputs": [],
   "source": []
  },
  {
   "cell_type": "markdown",
   "metadata": {
    "pycharm": {
     "name": "#%% md\n"
    }
   },
   "source": [
    "### Exercise: Compute values using fraction of sample\n",
    "\n",
    "Compute the correlation of momentum portfolio 1, 5, and 10 in the first half of\n",
    "the sample and in the second half. "
   ]
  },
  {
   "cell_type": "code",
   "execution_count": null,
   "metadata": {
    "execution": {
     "iopub.execute_input": "2023-09-28T12:32:27.991342Z",
     "iopub.status.busy": "2023-09-28T12:32:27.991342Z",
     "iopub.status.idle": "2023-09-28T12:32:28.003124Z",
     "shell.execute_reply": "2023-09-28T12:32:28.003124Z"
    },
    "jupyter": {
     "outputs_hidden": false
    }
   },
   "outputs": [],
   "source": []
  },
  {
   "cell_type": "code",
   "execution_count": null,
   "metadata": {
    "execution": {
     "iopub.execute_input": "2023-09-28T12:32:28.004631Z",
     "iopub.status.busy": "2023-09-28T12:32:28.004631Z",
     "iopub.status.idle": "2023-09-28T12:32:28.012832Z",
     "shell.execute_reply": "2023-09-28T12:32:28.012832Z"
    },
    "jupyter": {
     "outputs_hidden": false
    },
    "tags": []
   },
   "outputs": [],
   "source": []
  }
 ],
 "metadata": {
  "kernelspec": {
   "display_name": "Python 3 (ipykernel)",
   "language": "python",
   "name": "python3"
  },
  "language_info": {
   "codemirror_mode": {
    "name": "ipython",
    "version": 3
   },
   "file_extension": ".py",
   "mimetype": "text/x-python",
   "name": "python",
   "nbconvert_exporter": "python",
   "pygments_lexer": "ipython3",
   "version": "3.11.5"
  },
  "pycharm": {
   "stem_cell": {
    "cell_type": "raw",
    "metadata": {
     "collapsed": false
    },
    "source": []
   }
  }
 },
 "nbformat": 4,
 "nbformat_minor": 4
}
