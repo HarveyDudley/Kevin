{
 "cells": [
  {
   "cell_type": "markdown",
   "metadata": {},
   "source": [
    "# Using DataFrames\n",
    "\n",
    "This lesson introduces:\n",
    "\n",
    "* Computing returns (percentage change)\n",
    "* Basic mathematical operations on DataFrames\n",
    "\n",
    "This first cell load data for use in this lesson."
   ]
  },
  {
   "cell_type": "code",
   "execution_count": null,
   "metadata": {
    "execution": {
     "iopub.execute_input": "2024-02-27T16:09:05.692369Z",
     "iopub.status.busy": "2024-02-27T16:09:05.692369Z",
     "iopub.status.idle": "2024-02-27T16:09:07.855426Z",
     "shell.execute_reply": "2024-02-27T16:09:07.855426Z"
    },
    "pycharm": {
     "is_executing": false
    }
   },
   "outputs": [],
   "source": [
    "# Setup: Load prices\n",
    "import pandas as pd\n",
    "\n",
    "prices = pd.read_hdf(\"data/dataframes.h5\", \"prices\")\n",
    "sep_04 = pd.read_hdf(\"data/dataframes.h5\", \"sep_04\")\n",
    "goog = pd.read_hdf(\"data/dataframes.h5\", \"goog\")"
   ]
  },
  {
   "cell_type": "markdown",
   "metadata": {
    "pycharm": {
     "name": "#%% md\n"
    }
   },
   "source": [
    "## Problem: Compute Returns\n",
    "\n",
    "Compute returns using \n",
    "\n",
    "```python\n",
    "returns = prices.pct_change()\n",
    "```\n",
    "\n",
    "which computes the percentage change.\n",
    "\n",
    "Additionally, extract returns for each name using \n",
    "\n",
    "```python\n",
    "spy_returns = returns[\"SPY\"]\n",
    "```"
   ]
  },
  {
   "cell_type": "code",
   "execution_count": null,
   "metadata": {
    "execution": {
     "iopub.execute_input": "2024-02-27T16:09:07.858434Z",
     "iopub.status.busy": "2024-02-27T16:09:07.858434Z",
     "iopub.status.idle": "2024-02-27T16:09:07.870616Z",
     "shell.execute_reply": "2024-02-27T16:09:07.870616Z"
    }
   },
   "outputs": [],
   "source": []
  },
  {
   "cell_type": "code",
   "execution_count": null,
   "metadata": {
    "execution": {
     "iopub.execute_input": "2024-02-27T16:09:07.873624Z",
     "iopub.status.busy": "2024-02-27T16:09:07.872624Z",
     "iopub.status.idle": "2024-02-27T16:09:07.881951Z",
     "shell.execute_reply": "2024-02-27T16:09:07.880942Z"
    }
   },
   "outputs": [],
   "source": []
  },
  {
   "cell_type": "code",
   "execution_count": null,
   "metadata": {
    "execution": {
     "iopub.execute_input": "2024-02-27T16:09:07.884032Z",
     "iopub.status.busy": "2024-02-27T16:09:07.883950Z",
     "iopub.status.idle": "2024-02-27T16:09:07.886679Z",
     "shell.execute_reply": "2024-02-27T16:09:07.886679Z"
    }
   },
   "outputs": [],
   "source": []
  },
  {
   "cell_type": "markdown",
   "metadata": {},
   "source": [
    "## Problem: Compute Log Returns\n",
    "\n",
    "```python\n",
    "import numpy as np\n",
    "\n",
    "log_returns = np.log(prices).diff()\n",
    "```\n",
    "\n",
    "first difference of the natural log of the prices. Mathematically this is \n",
    "$r_{t}=\\ln\\left(P_{t}\\right)-\\ln\\left(P_{t-1}\\right)=\\ln\\left(\\frac{P_{t}}{P_{t-1}}\\right)\\approx\\frac{P_{t}}{P_{t-1}}-1$."
   ]
  },
  {
   "cell_type": "code",
   "execution_count": null,
   "metadata": {
    "execution": {
     "iopub.execute_input": "2024-02-27T16:09:07.888687Z",
     "iopub.status.busy": "2024-02-27T16:09:07.888687Z",
     "iopub.status.idle": "2024-02-27T16:09:07.896954Z",
     "shell.execute_reply": "2024-02-27T16:09:07.896954Z"
    }
   },
   "outputs": [],
   "source": []
  },
  {
   "cell_type": "markdown",
   "metadata": {
    "pycharm": {
     "name": "#%% md\n"
    }
   },
   "source": [
    "## Basic Mathematical Operations\n",
    "\n",
    "|  Operation            | Symbol | Precedence |\n",
    "|:----------------------|:------:|:----------:|\n",
    "| Parentheses           | ()     | 4          |\n",
    "| Exponentiation        | **     | 3          |\n",
    "| Multiplication        | *      | 2          | \n",
    "| Division              | /      | 2          |\n",
    "| Floor division        | //     | 2          |\n",
    "| Modulus               | %      | 2          | \n",
    "| Matrix multiplication | @      | 2          |\n",
    "| Addition              | +      | 1          |\n",
    "| Subtraction           | -      | 1          |\n",
    "\n",
    "**Note**: Higher precedence operators are evaluated first, and ties are\n",
    "evaluated left to right. \n",
    "\n",
    "\n",
    "## Problem: Scalar Operations\n",
    "1. Add 1 to all returns\n",
    "2. Square the returns\n",
    "3. Multiply the price of Google by 2. \n",
    "4. Extract the fractional return using floor division and modulus"
   ]
  },
  {
   "cell_type": "code",
   "execution_count": null,
   "metadata": {
    "execution": {
     "iopub.execute_input": "2024-02-27T16:09:07.898962Z",
     "iopub.status.busy": "2024-02-27T16:09:07.898962Z",
     "iopub.status.idle": "2024-02-27T16:09:07.905984Z",
     "shell.execute_reply": "2024-02-27T16:09:07.905984Z"
    }
   },
   "outputs": [],
   "source": []
  },
  {
   "cell_type": "code",
   "execution_count": null,
   "metadata": {
    "execution": {
     "iopub.execute_input": "2024-02-27T16:09:07.908992Z",
     "iopub.status.busy": "2024-02-27T16:09:07.907992Z",
     "iopub.status.idle": "2024-02-27T16:09:07.915976Z",
     "shell.execute_reply": "2024-02-27T16:09:07.915976Z"
    }
   },
   "outputs": [],
   "source": []
  },
  {
   "cell_type": "code",
   "execution_count": null,
   "metadata": {
    "execution": {
     "iopub.execute_input": "2024-02-27T16:09:07.918083Z",
     "iopub.status.busy": "2024-02-27T16:09:07.918083Z",
     "iopub.status.idle": "2024-02-27T16:09:07.922966Z",
     "shell.execute_reply": "2024-02-27T16:09:07.922966Z"
    }
   },
   "outputs": [],
   "source": []
  },
  {
   "cell_type": "code",
   "execution_count": null,
   "metadata": {
    "execution": {
     "iopub.execute_input": "2024-02-27T16:09:07.925974Z",
     "iopub.status.busy": "2024-02-27T16:09:07.924974Z",
     "iopub.status.idle": "2024-02-27T16:09:07.932567Z",
     "shell.execute_reply": "2024-02-27T16:09:07.932567Z"
    }
   },
   "outputs": [],
   "source": []
  },
  {
   "cell_type": "code",
   "execution_count": null,
   "metadata": {
    "execution": {
     "iopub.execute_input": "2024-02-27T16:09:07.934672Z",
     "iopub.status.busy": "2024-02-27T16:09:07.934672Z",
     "iopub.status.idle": "2024-02-27T16:09:07.941563Z",
     "shell.execute_reply": "2024-02-27T16:09:07.941563Z"
    }
   },
   "outputs": [],
   "source": []
  },
  {
   "cell_type": "markdown",
   "metadata": {},
   "source": [
    "## Problem: Addition of Series\n",
    "Add the returns on SPY to those of AAPL \n"
   ]
  },
  {
   "cell_type": "code",
   "execution_count": null,
   "metadata": {
    "execution": {
     "iopub.execute_input": "2024-02-27T16:09:07.943571Z",
     "iopub.status.busy": "2024-02-27T16:09:07.943571Z",
     "iopub.status.idle": "2024-02-27T16:09:07.948481Z",
     "shell.execute_reply": "2024-02-27T16:09:07.948481Z"
    }
   },
   "outputs": [],
   "source": []
  },
  {
   "cell_type": "markdown",
   "metadata": {},
   "source": [
    "## Problem: Combining methods and mathematical operations\n",
    "Using only basic mathematical operations compute the \n",
    "correlation between the returns on AAPL and SPY. "
   ]
  },
  {
   "cell_type": "code",
   "execution_count": null,
   "metadata": {
    "execution": {
     "iopub.execute_input": "2024-02-27T16:09:07.950489Z",
     "iopub.status.busy": "2024-02-27T16:09:07.950489Z",
     "iopub.status.idle": "2024-02-27T16:09:07.956964Z",
     "shell.execute_reply": "2024-02-27T16:09:07.956964Z"
    }
   },
   "outputs": [],
   "source": []
  },
  {
   "cell_type": "markdown",
   "metadata": {},
   "source": [
    "## Problem: Addition of DataFrames\n",
    "Construct a `DataFrame` that only contains the SPY column from returns\n",
    "and add it to the return `DataFrame`  "
   ]
  },
  {
   "cell_type": "code",
   "execution_count": null,
   "metadata": {
    "execution": {
     "iopub.execute_input": "2024-02-27T16:09:07.959972Z",
     "iopub.status.busy": "2024-02-27T16:09:07.958973Z",
     "iopub.status.idle": "2024-02-27T16:09:07.968234Z",
     "shell.execute_reply": "2024-02-27T16:09:07.968234Z"
    }
   },
   "outputs": [],
   "source": []
  },
  {
   "cell_type": "markdown",
   "metadata": {},
   "source": [
    "## Problem: Non-conformable math\n",
    "\n",
    "Add the prices in `sep_04` to the prices of `goog`. What happens? "
   ]
  },
  {
   "cell_type": "code",
   "execution_count": null,
   "metadata": {
    "execution": {
     "iopub.execute_input": "2024-02-27T16:09:07.970240Z",
     "iopub.status.busy": "2024-02-27T16:09:07.970240Z",
     "iopub.status.idle": "2024-02-27T16:09:07.975912Z",
     "shell.execute_reply": "2024-02-27T16:09:07.975912Z"
    }
   },
   "outputs": [],
   "source": []
  },
  {
   "cell_type": "markdown",
   "metadata": {},
   "source": [
    "## Problem: Constructing portfolio returns\n",
    "Set up a 3-element array of portfolio weights \n",
    "\n",
    "$$w=\\left(\\frac{1}{3},\\,\\frac{1}{3}\\,,\\frac{1}{3}\\right)$$\n",
    "\n",
    "and compute the return of a portfolio with weight $\\frac{1}{3}$ in each security.\n"
   ]
  },
  {
   "cell_type": "code",
   "execution_count": null,
   "metadata": {
    "execution": {
     "iopub.execute_input": "2024-02-27T16:09:07.978977Z",
     "iopub.status.busy": "2024-02-27T16:09:07.977920Z",
     "iopub.status.idle": "2024-02-27T16:09:07.984773Z",
     "shell.execute_reply": "2024-02-27T16:09:07.984773Z"
    }
   },
   "outputs": [],
   "source": []
  },
  {
   "cell_type": "markdown",
   "metadata": {
    "pycharm": {
     "name": "#%% md\n"
    }
   },
   "source": [
    "## Exercises\n",
    "\n",
    "### Exercise: Combine math with function\n",
    "\n",
    "Add 1 to the output of `np.arange` to produce the sequence 1, 2, ..., 10."
   ]
  },
  {
   "cell_type": "code",
   "execution_count": null,
   "metadata": {
    "execution": {
     "iopub.execute_input": "2024-02-27T16:09:07.987782Z",
     "iopub.status.busy": "2024-02-27T16:09:07.986782Z",
     "iopub.status.idle": "2024-02-27T16:09:07.991628Z",
     "shell.execute_reply": "2024-02-27T16:09:07.991628Z"
    }
   },
   "outputs": [],
   "source": []
  },
  {
   "cell_type": "markdown",
   "metadata": {
    "pycharm": {
     "name": "#%% md\n"
    }
   },
   "source": [
    "### Exercise: Understand pandas math\n",
    "\n",
    "Use the `Series` and `DataFrame` below to compute the sums \n",
    "\n",
    "* `a+b`\n",
    "* `a+c`\n",
    "* `b+c`\n",
    "* `a+b+c`\n",
    "\n",
    "to understand how missing values are treated by pandas"
   ]
  },
  {
   "cell_type": "code",
   "execution_count": null,
   "metadata": {
    "execution": {
     "iopub.execute_input": "2024-02-27T16:09:07.994636Z",
     "iopub.status.busy": "2024-02-27T16:09:07.993636Z",
     "iopub.status.idle": "2024-02-27T16:09:07.999033Z",
     "shell.execute_reply": "2024-02-27T16:09:07.999033Z"
    },
    "pycharm": {
     "is_executing": false,
     "name": "#%%\n"
    }
   },
   "outputs": [],
   "source": [
    "# Setup: Data for exercise\n",
    "import numpy as np\n",
    "import pandas as pd\n",
    "\n",
    "rs = np.random.RandomState(19991231)\n",
    "\n",
    "idx = [\"A\", \"a\", \"B\", 3]\n",
    "columns = [\"A\", 1, \"B\", 3]\n",
    "a = pd.Series([1, 2, 3, 4], index=idx)\n",
    "b = pd.Series([10, 9, 8, 7], index=columns)\n",
    "values = rs.randint(1, 11, size=(4, 4))\n",
    "c = pd.DataFrame(values, columns=columns, index=idx)"
   ]
  },
  {
   "cell_type": "code",
   "execution_count": null,
   "metadata": {
    "execution": {
     "iopub.execute_input": "2024-02-27T16:09:08.001041Z",
     "iopub.status.busy": "2024-02-27T16:09:08.001041Z",
     "iopub.status.idle": "2024-02-27T16:09:08.006423Z",
     "shell.execute_reply": "2024-02-27T16:09:08.006423Z"
    }
   },
   "outputs": [],
   "source": []
  },
  {
   "cell_type": "code",
   "execution_count": null,
   "metadata": {
    "execution": {
     "iopub.execute_input": "2024-02-27T16:09:08.009464Z",
     "iopub.status.busy": "2024-02-27T16:09:08.008464Z",
     "iopub.status.idle": "2024-02-27T16:09:08.017210Z",
     "shell.execute_reply": "2024-02-27T16:09:08.017210Z"
    }
   },
   "outputs": [],
   "source": []
  },
  {
   "cell_type": "code",
   "execution_count": null,
   "metadata": {
    "execution": {
     "iopub.execute_input": "2024-02-27T16:09:08.019218Z",
     "iopub.status.busy": "2024-02-27T16:09:08.019218Z",
     "iopub.status.idle": "2024-02-27T16:09:08.025029Z",
     "shell.execute_reply": "2024-02-27T16:09:08.025029Z"
    }
   },
   "outputs": [],
   "source": []
  },
  {
   "cell_type": "code",
   "execution_count": null,
   "metadata": {
    "execution": {
     "iopub.execute_input": "2024-02-27T16:09:08.028036Z",
     "iopub.status.busy": "2024-02-27T16:09:08.027036Z",
     "iopub.status.idle": "2024-02-27T16:09:08.035645Z",
     "shell.execute_reply": "2024-02-27T16:09:08.035645Z"
    }
   },
   "outputs": [],
   "source": []
  },
  {
   "cell_type": "markdown",
   "metadata": {},
   "source": [
    "### Exercise: Math with duplicates\n",
    "\n",
    "Add the Series `d` to `a` to see what happens with delays."
   ]
  },
  {
   "cell_type": "code",
   "execution_count": null,
   "metadata": {
    "execution": {
     "iopub.execute_input": "2024-02-27T16:09:08.038720Z",
     "iopub.status.busy": "2024-02-27T16:09:08.037657Z",
     "iopub.status.idle": "2024-02-27T16:09:08.041475Z",
     "shell.execute_reply": "2024-02-27T16:09:08.041475Z"
    },
    "pycharm": {
     "name": "#%%\n"
    }
   },
   "outputs": [],
   "source": [
    "# Setup: Data for exercise\n",
    "\n",
    "d = pd.Series([10, 101], index=[\"A\", \"A\"])"
   ]
  },
  {
   "cell_type": "code",
   "execution_count": null,
   "metadata": {
    "execution": {
     "iopub.execute_input": "2024-02-27T16:09:08.044538Z",
     "iopub.status.busy": "2024-02-27T16:09:08.043484Z",
     "iopub.status.idle": "2024-02-27T16:09:08.053686Z",
     "shell.execute_reply": "2024-02-27T16:09:08.053173Z"
    },
    "tags": []
   },
   "outputs": [],
   "source": []
  }
 ],
 "metadata": {
  "file_extension": ".py",
  "kernelspec": {
   "display_name": "Python 3 (ipykernel)",
   "language": "python",
   "name": "python3"
  },
  "language_info": {
   "codemirror_mode": {
    "name": "ipython",
    "version": 3
   },
   "file_extension": ".py",
   "mimetype": "text/x-python",
   "name": "python",
   "nbconvert_exporter": "python",
   "pygments_lexer": "ipython3",
   "version": "3.11.5"
  },
  "mimetype": "text/x-python",
  "name": "python",
  "npconvert_exporter": "python",
  "pycharm": {
   "stem_cell": {
    "cell_type": "raw",
    "metadata": {
     "collapsed": false
    },
    "source": []
   }
  },
  "pygments_lexer": "ipython3",
  "version": 3
 },
 "nbformat": 4,
 "nbformat_minor": 4
}
