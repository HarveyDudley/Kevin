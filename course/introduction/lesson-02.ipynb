{
 "cells": [
  {
   "cell_type": "markdown",
   "metadata": {},
   "source": [
    "# Basic Python Types\n",
    "\n",
    "This lesson covers:\n",
    "\n",
    "* Inputting scalars and strings\n",
    "* Lists\n",
    "* Tuples\n",
    "* Dictionaries\n",
    "\n",
    "## Course Structure\n",
    "\n",
    "### Problems\n",
    "\n",
    "Problems are explicitly explained and answered in the online course videos.\n",
    "\n",
    "### Exercises\n",
    "\n",
    "Exercises are not covered, and are left as additional problems for you to attempt after watching a lesson and going through the problems.  Solutions for the exercises _are_ available in the solutions folder.\n",
    "\n",
    "### Final Exam\n",
    "\n",
    "When you have completed the course, or if you have a reasonable background in Python, you can attempt the final exam. Ideally you should do this without looking at the solutions.  If you can complete the final exam, then you are prepared the remainder of the course."
   ]
  },
  {
   "cell_type": "markdown",
   "metadata": {},
   "source": [
    "## Problem: Input scalar floating point and integers\n",
    "\n",
    "1. Create a variable called `scalar_float` containing $\\pi$ to 4 digits.\n",
    "2. Create a variable called `scalar_int` containing 31415. \n",
    "3. Print each value using the `print` function.   "
   ]
  },
  {
   "cell_type": "code",
   "execution_count": null,
   "metadata": {
    "execution": {
     "iopub.execute_input": "2024-02-27T16:08:39.848816Z",
     "iopub.status.busy": "2024-02-27T16:08:39.848816Z",
     "iopub.status.idle": "2024-02-27T16:08:39.857367Z",
     "shell.execute_reply": "2024-02-27T16:08:39.857367Z"
    },
    "jupyter": {
     "outputs_hidden": false
    }
   },
   "outputs": [],
   "source": []
  },
  {
   "cell_type": "markdown",
   "metadata": {},
   "source": [
    "## Problem: Create a string and an f-string\n",
    "\n",
    "1. Create a variable called `a_string` containing `This is a string`\n",
    "2. Create a f-string the prints `The value of scalar_float is 3.1415` using\n",
    "   the variable created in the previous step\n",
    "3. Create two string, `first` containing `String concatenation` and the\n",
    "   second containing ` is like addition`, and join the two using `+` to produce\n",
    "   `String concatenation is like addition`. "
   ]
  },
  {
   "cell_type": "code",
   "execution_count": null,
   "metadata": {
    "execution": {
     "iopub.execute_input": "2024-02-27T16:08:39.896928Z",
     "iopub.status.busy": "2024-02-27T16:08:39.896928Z",
     "iopub.status.idle": "2024-02-27T16:08:39.900655Z",
     "shell.execute_reply": "2024-02-27T16:08:39.900655Z"
    },
    "jupyter": {
     "outputs_hidden": false
    }
   },
   "outputs": [],
   "source": []
  },
  {
   "cell_type": "markdown",
   "metadata": {},
   "source": [
    "## Problem: Create a list\n",
    "\n",
    "1. Create a list containing `scalar_float` and `scalar_int`\n",
    "2. Add `a_string` to the list.\n",
    "3. Select the second element from the list \n",
    "4. Select the the lst two elements of the list"
   ]
  },
  {
   "cell_type": "code",
   "execution_count": null,
   "metadata": {
    "execution": {
     "iopub.execute_input": "2024-02-27T16:08:39.903661Z",
     "iopub.status.busy": "2024-02-27T16:08:39.903661Z",
     "iopub.status.idle": "2024-02-27T16:08:39.907946Z",
     "shell.execute_reply": "2024-02-27T16:08:39.907946Z"
    },
    "jupyter": {
     "outputs_hidden": false
    }
   },
   "outputs": [],
   "source": []
  },
  {
   "cell_type": "markdown",
   "metadata": {},
   "source": [
    "## Problem: Create a list of lists\n",
    "\n",
    "1. Create a list containing the two lists `[1, 2, 3]` and `[4, 5, 6]`\n",
    "2. Select the element 5 from the nested list"
   ]
  },
  {
   "cell_type": "code",
   "execution_count": null,
   "metadata": {
    "execution": {
     "iopub.execute_input": "2024-02-27T16:08:39.910956Z",
     "iopub.status.busy": "2024-02-27T16:08:39.910956Z",
     "iopub.status.idle": "2024-02-27T16:08:39.914699Z",
     "shell.execute_reply": "2024-02-27T16:08:39.914699Z"
    },
    "jupyter": {
     "outputs_hidden": false
    }
   },
   "outputs": [],
   "source": []
  },
  {
   "cell_type": "markdown",
   "metadata": {
    "pycharm": {
     "name": "#%% md\n"
    }
   },
   "source": [
    "## Problem: Create a tuple\n",
    "\n",
    "1. Create a tuple containing the values (1, 2.0, \"c\")\n",
    "2. Select the element \"c\" from the tuple"
   ]
  },
  {
   "cell_type": "code",
   "execution_count": null,
   "metadata": {
    "execution": {
     "iopub.execute_input": "2024-02-27T16:08:39.917705Z",
     "iopub.status.busy": "2024-02-27T16:08:39.916707Z",
     "iopub.status.idle": "2024-02-27T16:08:39.921035Z",
     "shell.execute_reply": "2024-02-27T16:08:39.921035Z"
    },
    "jupyter": {
     "outputs_hidden": false
    }
   },
   "outputs": [],
   "source": []
  },
  {
   "cell_type": "markdown",
   "metadata": {},
   "source": [
    "## Problem: Convert a list to a tuple and back\n",
    "\n",
    "1. Convert the list-of-lists created to a tuple-of-tuples\n",
    "2. Convert the tuple-of-tuples back to a list of lists"
   ]
  },
  {
   "cell_type": "code",
   "execution_count": null,
   "metadata": {
    "execution": {
     "iopub.execute_input": "2024-02-27T16:08:39.924045Z",
     "iopub.status.busy": "2024-02-27T16:08:39.924045Z",
     "iopub.status.idle": "2024-02-27T16:08:39.927634Z",
     "shell.execute_reply": "2024-02-27T16:08:39.927634Z"
    },
    "jupyter": {
     "outputs_hidden": false
    }
   },
   "outputs": [],
   "source": []
  },
  {
   "cell_type": "markdown",
   "metadata": {},
   "source": [
    "## Problem: Create a dictionary\n",
    "\n",
    "1. Create a dictionary containing the key-value pairs `\"float\"` and 3.1415,\n",
    "   `\"int\"` and 31415, and `\"string\"` and `\"three-point-one-four-one-five\"`."
   ]
  },
  {
   "cell_type": "code",
   "execution_count": null,
   "metadata": {
    "execution": {
     "iopub.execute_input": "2024-02-27T16:08:39.930231Z",
     "iopub.status.busy": "2024-02-27T16:08:39.930231Z",
     "iopub.status.idle": "2024-02-27T16:08:39.933357Z",
     "shell.execute_reply": "2024-02-27T16:08:39.933357Z"
    },
    "jupyter": {
     "outputs_hidden": false
    }
   },
   "outputs": [],
   "source": []
  },
  {
   "cell_type": "markdown",
   "metadata": {},
   "source": [
    "## Problem: Lookup and Change a value\n",
    "\n",
    "1. Look up the value of `\"float\"`.\n",
    "2. Change the value of `\"float\"` to `22 / 7`."
   ]
  },
  {
   "cell_type": "code",
   "execution_count": null,
   "metadata": {
    "execution": {
     "iopub.execute_input": "2024-02-27T16:08:39.936365Z",
     "iopub.status.busy": "2024-02-27T16:08:39.936365Z",
     "iopub.status.idle": "2024-02-27T16:08:39.940086Z",
     "shell.execute_reply": "2024-02-27T16:08:39.940086Z"
    },
    "jupyter": {
     "outputs_hidden": false
    }
   },
   "outputs": [],
   "source": []
  },
  {
   "cell_type": "markdown",
   "metadata": {},
   "source": [
    "## Problem: Add and remove a key \n",
    "\n",
    "1. Add the new key \"better_float\" with the value 3.141592.\n",
    "2. Remove the key \"float\" and its value."
   ]
  },
  {
   "cell_type": "code",
   "execution_count": null,
   "metadata": {
    "execution": {
     "iopub.execute_input": "2024-02-27T16:08:39.943094Z",
     "iopub.status.busy": "2024-02-27T16:08:39.942098Z",
     "iopub.status.idle": "2024-02-27T16:08:39.946159Z",
     "shell.execute_reply": "2024-02-27T16:08:39.946159Z"
    },
    "jupyter": {
     "outputs_hidden": false
    }
   },
   "outputs": [],
   "source": []
  },
  {
   "cell_type": "markdown",
   "metadata": {
    "pycharm": {
     "name": "#%% md\n"
    }
   },
   "source": [
    "## Exercises\n",
    "\n",
    "### Exercise: Manipulating lists\n",
    "\n",
    "1. Create an empty list called `lst`\n",
    "2. Add the elements `9`, `\"Eight\"` and `7.0` (in order) to the list.\n",
    "3. Extend the list with the list `[\"Six\", 5, 4.0]` using `extend`\n",
    "4. Select first 4 elements of `lst`\n",
    "5. Select last 3 elements of `lst`\n"
   ]
  },
  {
   "cell_type": "code",
   "execution_count": null,
   "metadata": {
    "execution": {
     "iopub.execute_input": "2024-02-27T16:08:39.949166Z",
     "iopub.status.busy": "2024-02-27T16:08:39.948165Z",
     "iopub.status.idle": "2024-02-27T16:08:39.955185Z",
     "shell.execute_reply": "2024-02-27T16:08:39.955185Z"
    },
    "jupyter": {
     "outputs_hidden": false
    }
   },
   "outputs": [],
   "source": []
  },
  {
   "cell_type": "code",
   "execution_count": null,
   "metadata": {
    "execution": {
     "iopub.execute_input": "2024-02-27T16:08:39.958189Z",
     "iopub.status.busy": "2024-02-27T16:08:39.958189Z",
     "iopub.status.idle": "2024-02-27T16:08:39.962249Z",
     "shell.execute_reply": "2024-02-27T16:08:39.962249Z"
    },
    "jupyter": {
     "outputs_hidden": false
    }
   },
   "outputs": [],
   "source": []
  },
  {
   "cell_type": "code",
   "execution_count": null,
   "metadata": {
    "execution": {
     "iopub.execute_input": "2024-02-27T16:08:39.965258Z",
     "iopub.status.busy": "2024-02-27T16:08:39.964258Z",
     "iopub.status.idle": "2024-02-27T16:08:39.969557Z",
     "shell.execute_reply": "2024-02-27T16:08:39.969557Z"
    },
    "jupyter": {
     "outputs_hidden": false
    }
   },
   "outputs": [],
   "source": []
  },
  {
   "cell_type": "code",
   "execution_count": null,
   "metadata": {
    "execution": {
     "iopub.execute_input": "2024-02-27T16:08:39.972568Z",
     "iopub.status.busy": "2024-02-27T16:08:39.972568Z",
     "iopub.status.idle": "2024-02-27T16:08:39.977794Z",
     "shell.execute_reply": "2024-02-27T16:08:39.977794Z"
    },
    "jupyter": {
     "outputs_hidden": false
    }
   },
   "outputs": [],
   "source": []
  },
  {
   "cell_type": "code",
   "execution_count": null,
   "metadata": {
    "execution": {
     "iopub.execute_input": "2024-02-27T16:08:39.980801Z",
     "iopub.status.busy": "2024-02-27T16:08:39.979803Z",
     "iopub.status.idle": "2024-02-27T16:08:39.985480Z",
     "shell.execute_reply": "2024-02-27T16:08:39.985480Z"
    },
    "jupyter": {
     "outputs_hidden": false
    }
   },
   "outputs": [],
   "source": []
  },
  {
   "cell_type": "code",
   "execution_count": null,
   "metadata": {
    "execution": {
     "iopub.execute_input": "2024-02-27T16:08:39.988599Z",
     "iopub.status.busy": "2024-02-27T16:08:39.988599Z",
     "iopub.status.idle": "2024-02-27T16:08:39.993086Z",
     "shell.execute_reply": "2024-02-27T16:08:39.993086Z"
    },
    "jupyter": {
     "outputs_hidden": false
    }
   },
   "outputs": [],
   "source": []
  },
  {
   "cell_type": "code",
   "execution_count": null,
   "metadata": {
    "execution": {
     "iopub.execute_input": "2024-02-27T16:08:39.996093Z",
     "iopub.status.busy": "2024-02-27T16:08:39.996093Z",
     "iopub.status.idle": "2024-02-27T16:08:40.000064Z",
     "shell.execute_reply": "2024-02-27T16:08:40.000064Z"
    },
    "jupyter": {
     "outputs_hidden": false
    }
   },
   "outputs": [],
   "source": []
  },
  {
   "cell_type": "markdown",
   "metadata": {
    "pycharm": {
     "name": "#%% md\n"
    }
   },
   "source": [
    "### Exercise: Dictionary Manipulation\n",
    "\n",
    "1. Create a empty dictionary called `dct`\n",
    "2. Add the pairs \"apple\" and 1, \"banana\" and 2.0, and \"cherry\" and \"iii\"\n",
    "3. Replace the value of \"apple\" with \"I\"\n",
    "4. Remove the entry for \"banana\"\n",
    "5. Add an entry \"date\" with the value 4"
   ]
  },
  {
   "cell_type": "code",
   "execution_count": null,
   "metadata": {
    "execution": {
     "iopub.execute_input": "2024-02-27T16:08:40.003068Z",
     "iopub.status.busy": "2024-02-27T16:08:40.003068Z",
     "iopub.status.idle": "2024-02-27T16:08:40.007686Z",
     "shell.execute_reply": "2024-02-27T16:08:40.007686Z"
    },
    "jupyter": {
     "outputs_hidden": false
    }
   },
   "outputs": [],
   "source": []
  },
  {
   "cell_type": "code",
   "execution_count": null,
   "metadata": {
    "execution": {
     "iopub.execute_input": "2024-02-27T16:08:40.010691Z",
     "iopub.status.busy": "2024-02-27T16:08:40.010691Z",
     "iopub.status.idle": "2024-02-27T16:08:40.014815Z",
     "shell.execute_reply": "2024-02-27T16:08:40.014815Z"
    },
    "jupyter": {
     "outputs_hidden": false
    }
   },
   "outputs": [],
   "source": []
  },
  {
   "cell_type": "code",
   "execution_count": null,
   "metadata": {
    "execution": {
     "iopub.execute_input": "2024-02-27T16:08:40.017865Z",
     "iopub.status.busy": "2024-02-27T16:08:40.016865Z",
     "iopub.status.idle": "2024-02-27T16:08:40.022062Z",
     "shell.execute_reply": "2024-02-27T16:08:40.022062Z"
    },
    "jupyter": {
     "outputs_hidden": false
    }
   },
   "outputs": [],
   "source": []
  },
  {
   "cell_type": "code",
   "execution_count": null,
   "metadata": {
    "execution": {
     "iopub.execute_input": "2024-02-27T16:08:40.025123Z",
     "iopub.status.busy": "2024-02-27T16:08:40.024071Z",
     "iopub.status.idle": "2024-02-27T16:08:40.029692Z",
     "shell.execute_reply": "2024-02-27T16:08:40.029180Z"
    },
    "jupyter": {
     "outputs_hidden": false
    }
   },
   "outputs": [],
   "source": []
  },
  {
   "cell_type": "code",
   "execution_count": null,
   "metadata": {
    "execution": {
     "iopub.execute_input": "2024-02-27T16:08:40.031788Z",
     "iopub.status.busy": "2024-02-27T16:08:40.030759Z",
     "iopub.status.idle": "2024-02-27T16:08:40.035477Z",
     "shell.execute_reply": "2024-02-27T16:08:40.035477Z"
    },
    "jupyter": {
     "outputs_hidden": false
    }
   },
   "outputs": [],
   "source": []
  },
  {
   "cell_type": "markdown",
   "metadata": {
    "pycharm": {
     "name": "#%% md\n"
    }
   },
   "source": [
    "### Exercise: Directly create a Dictionary\n",
    "\n",
    "Using the final version of `dct` from the previous exercise:\n",
    "\n",
    "1. Directly initialize a new dictionary called `other_dct`.\n",
    "2. Use an f-string to print the values associated with each key.\n",
    "\n",
    "**Hint** You must use both types of quotes. For example, to access a value in\n",
    "an f-string.\n",
    "\n",
    "```python\n",
    "f\"{other_dct['apple']}\"\n",
    "```"
   ]
  },
  {
   "cell_type": "code",
   "execution_count": null,
   "metadata": {
    "execution": {
     "iopub.execute_input": "2024-02-27T16:08:40.038487Z",
     "iopub.status.busy": "2024-02-27T16:08:40.037491Z",
     "iopub.status.idle": "2024-02-27T16:08:40.042144Z",
     "shell.execute_reply": "2024-02-27T16:08:40.042144Z"
    },
    "jupyter": {
     "outputs_hidden": false
    }
   },
   "outputs": [],
   "source": []
  },
  {
   "cell_type": "code",
   "execution_count": null,
   "metadata": {
    "execution": {
     "iopub.execute_input": "2024-02-27T16:08:40.044149Z",
     "iopub.status.busy": "2024-02-27T16:08:40.044149Z",
     "iopub.status.idle": "2024-02-27T16:08:40.047466Z",
     "shell.execute_reply": "2024-02-27T16:08:40.047466Z"
    },
    "jupyter": {
     "outputs_hidden": false
    }
   },
   "outputs": [],
   "source": []
  },
  {
   "cell_type": "markdown",
   "metadata": {},
   "source": [
    "### Exercise: Tuple Manipulation\n",
    "\n",
    "1. Create a tuple `tpl` containing 100 and 4\n",
    "2. Convert to a list, add the elements 101 and 5\n",
    "3. Convert back toa tuple"
   ]
  },
  {
   "cell_type": "code",
   "execution_count": null,
   "metadata": {
    "execution": {
     "iopub.execute_input": "2024-02-27T16:08:40.049471Z",
     "iopub.status.busy": "2024-02-27T16:08:40.049471Z",
     "iopub.status.idle": "2024-02-27T16:08:40.053766Z",
     "shell.execute_reply": "2024-02-27T16:08:40.053766Z"
    },
    "jupyter": {
     "outputs_hidden": false
    }
   },
   "outputs": [],
   "source": []
  },
  {
   "cell_type": "code",
   "execution_count": null,
   "metadata": {
    "execution": {
     "iopub.execute_input": "2024-02-27T16:08:40.056779Z",
     "iopub.status.busy": "2024-02-27T16:08:40.055779Z",
     "iopub.status.idle": "2024-02-27T16:08:40.060499Z",
     "shell.execute_reply": "2024-02-27T16:08:40.060499Z"
    },
    "jupyter": {
     "outputs_hidden": false
    }
   },
   "outputs": [],
   "source": []
  },
  {
   "cell_type": "code",
   "execution_count": null,
   "metadata": {
    "execution": {
     "iopub.execute_input": "2024-02-27T16:08:40.063506Z",
     "iopub.status.busy": "2024-02-27T16:08:40.062508Z",
     "iopub.status.idle": "2024-02-27T16:08:40.066788Z",
     "shell.execute_reply": "2024-02-27T16:08:40.066788Z"
    },
    "jupyter": {
     "outputs_hidden": false
    },
    "tags": []
   },
   "outputs": [],
   "source": []
  }
 ],
 "metadata": {
  "kernelspec": {
   "display_name": "Python 3 (ipykernel)",
   "language": "python",
   "name": "python3"
  },
  "language_info": {
   "codemirror_mode": {
    "name": "ipython",
    "version": 3
   },
   "file_extension": ".py",
   "mimetype": "text/x-python",
   "name": "python",
   "nbconvert_exporter": "python",
   "pygments_lexer": "ipython3",
   "version": "3.11.5"
  },
  "pycharm": {
   "stem_cell": {
    "cell_type": "raw",
    "metadata": {
     "collapsed": false
    },
    "source": [
     "\n"
    ]
   }
  }
 },
 "nbformat": 4,
 "nbformat_minor": 4
}
