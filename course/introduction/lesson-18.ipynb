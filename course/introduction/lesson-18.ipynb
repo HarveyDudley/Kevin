{
 "cells": [
  {
   "cell_type": "markdown",
   "metadata": {},
   "source": [
    "# Logic and Loops\n",
    "\n",
    "This lesson covers:\n",
    "\n",
    "* Mixing logic and loops "
   ]
  },
  {
   "cell_type": "code",
   "execution_count": null,
   "metadata": {
    "execution": {
     "iopub.execute_input": "2024-02-27T16:09:37.002500Z",
     "iopub.status.busy": "2024-02-27T16:09:37.002500Z",
     "iopub.status.idle": "2024-02-27T16:09:37.523082Z",
     "shell.execute_reply": "2024-02-27T16:09:37.523082Z"
    },
    "pycharm": {
     "is_executing": false,
     "name": "#%%\n"
    }
   },
   "outputs": [],
   "source": [
    "# Setup: Load the momentum data\n",
    "\n",
    "import pandas as pd\n",
    "\n",
    "momentum = pd.read_csv(\"data/momentum.csv\", index_col=\"date\", parse_dates=True)\n",
    "\n",
    "mom_01 = momentum.mom_01\n",
    "print(momentum.head())"
   ]
  },
  {
   "cell_type": "markdown",
   "metadata": {},
   "source": [
    "## Problem: Logical Statements and for Loops\n",
    "Use a for loop along with an `if` statement to simulate an asymmetric random\n",
    "walk of the form \n",
    "\n",
    "$$y_{i}=y_{i-1}+e_{i}+I_{[e_{i}<0]}e_{i}$$\n",
    "\n",
    "where $I_{[e_{i}<0]}$ is known as an indicator variable that takes the value\n",
    "1 if the statement in brackets is true. Plot y. $e$ is a standard normal\n",
    "shock. Use `cumsum` to simulate a symmetric one (`z`), and plot the two using\n",
    "the code in the cell below.\n",
    " "
   ]
  },
  {
   "cell_type": "code",
   "execution_count": null,
   "metadata": {
    "execution": {
     "iopub.execute_input": "2024-02-27T16:09:37.526382Z",
     "iopub.status.busy": "2024-02-27T16:09:37.525089Z",
     "iopub.status.idle": "2024-02-27T16:09:37.530341Z",
     "shell.execute_reply": "2024-02-27T16:09:37.530341Z"
    }
   },
   "outputs": [],
   "source": []
  },
  {
   "cell_type": "markdown",
   "metadata": {
    "pycharm": {
     "name": "#%% md\n"
    }
   },
   "source": [
    "Plot the two random walks using the code.  We will cover data visualization\n",
    "in a later lesson. \n",
    "\n",
    "```python\n",
    "%matplotlib inline\n",
    "import matplotlib.pyplot as plt\n",
    "plt.plot(y)\n",
    "plt.plot(z)\n",
    "plt.legend([\"y\", \"z\"])\n",
    "```"
   ]
  },
  {
   "cell_type": "code",
   "execution_count": null,
   "metadata": {
    "execution": {
     "iopub.execute_input": "2024-02-27T16:09:37.533349Z",
     "iopub.status.busy": "2024-02-27T16:09:37.533349Z",
     "iopub.status.idle": "2024-02-27T16:09:38.170350Z",
     "shell.execute_reply": "2024-02-27T16:09:38.170350Z"
    }
   },
   "outputs": [],
   "source": []
  },
  {
   "cell_type": "markdown",
   "metadata": {
    "pycharm": {
     "name": "#%% md\n"
    }
   },
   "source": [
    "## Problem: Simulate the asymmetric random walk without an `if`-`then`\n",
    "\n",
    "Use boolean multiplication to simulate the same random walk without using\n",
    "an `if`-`then` statement. "
   ]
  },
  {
   "cell_type": "code",
   "execution_count": null,
   "metadata": {
    "execution": {
     "iopub.execute_input": "2024-02-27T16:09:38.173358Z",
     "iopub.status.busy": "2024-02-27T16:09:38.173358Z",
     "iopub.status.idle": "2024-02-27T16:09:38.177386Z",
     "shell.execute_reply": "2024-02-27T16:09:38.177386Z"
    }
   },
   "outputs": [],
   "source": []
  },
  {
   "cell_type": "code",
   "execution_count": null,
   "metadata": {
    "execution": {
     "iopub.execute_input": "2024-02-27T16:09:38.179395Z",
     "iopub.status.busy": "2024-02-27T16:09:38.179395Z",
     "iopub.status.idle": "2024-02-27T16:09:38.183493Z",
     "shell.execute_reply": "2024-02-27T16:09:38.183493Z"
    },
    "pycharm": {
     "is_executing": false,
     "name": "#%%\n"
    }
   },
   "outputs": [],
   "source": [
    "# Setup: Plot the data\n",
    "%matplotlib inline\n",
    "\n",
    "import matplotlib.pyplot as plt\n",
    "\n",
    "plt.rc(\"figure\", figsize=(16, 6))  # Improve figure size\n",
    "plt.rc(\"font\", size=14)  # Improve figure size"
   ]
  },
  {
   "cell_type": "code",
   "execution_count": null,
   "metadata": {
    "execution": {
     "iopub.execute_input": "2024-02-27T16:09:38.186501Z",
     "iopub.status.busy": "2024-02-27T16:09:38.186501Z",
     "iopub.status.idle": "2024-02-27T16:09:38.339293Z",
     "shell.execute_reply": "2024-02-27T16:09:38.339293Z"
    }
   },
   "outputs": [],
   "source": []
  },
  {
   "cell_type": "markdown",
   "metadata": {},
   "source": [
    "## Problem: Combining flow control\n",
    "For momentum portfolios 1 and 10, compute the length of the runs in the\n",
    "series. In pseudo code,\n",
    "\n",
    "* Start at i=1 and define run(1) = 1\n",
    "* For i in 2,...,T, define run(i) = run(i-1) + 1 if \n",
    "  $\\textrm{sgn}\\left(r_{i}\\right)=\\textrm{sgn}\\left(r_{i-1}\\right)$ else 1.\n",
    "\n",
    "You will need to use `len` and `zeros`. \n",
    "\n",
    "1. Compute the length longest run in the series and the index of the\n",
    "   location of the longest run. Was it positive or negative?\n",
    "2. How many distinct runs lasted 5 or more days?"
   ]
  },
  {
   "cell_type": "code",
   "execution_count": null,
   "metadata": {
    "execution": {
     "iopub.execute_input": "2024-02-27T16:09:38.341378Z",
     "iopub.status.busy": "2024-02-27T16:09:38.341378Z",
     "iopub.status.idle": "2024-02-27T16:09:38.362192Z",
     "shell.execute_reply": "2024-02-27T16:09:38.362192Z"
    }
   },
   "outputs": [],
   "source": []
  },
  {
   "cell_type": "markdown",
   "metadata": {},
   "source": [
    "Plot the runs using \n",
    "\n",
    "```python\n",
    "%matplotlib inline\n",
    "\n",
    "import matplotlib.pyplot as plt\n",
    "plt.plot(run)\n",
    "```"
   ]
  },
  {
   "cell_type": "code",
   "execution_count": null,
   "metadata": {
    "execution": {
     "iopub.execute_input": "2024-02-27T16:09:38.364201Z",
     "iopub.status.busy": "2024-02-27T16:09:38.364201Z",
     "iopub.status.idle": "2024-02-27T16:09:38.511090Z",
     "shell.execute_reply": "2024-02-27T16:09:38.511090Z"
    }
   },
   "outputs": [],
   "source": []
  },
  {
   "cell_type": "markdown",
   "metadata": {
    "pycharm": {
     "name": "#%% md\n"
    }
   },
   "source": [
    "## Exercises\n",
    "\n",
    "### Exercise: Simulate a Process with Heteroskedasticity\n",
    "\n",
    "Simulate 100 observations of a time series with heteroskedasticity \n",
    "that follows a random walk of the form: \n",
    "\n",
    "$$ y_t = y_{t-1} + \\sigma_t \\epsilon_t $$\n",
    "\n",
    "where $\\epsilon_t\\sim N(0,1)$, $y_0=0$ and $\\sigma_t$ is:\n",
    "\n",
    "* 0.5 if the 0 of the past 3 shocks are negative\n",
    "* 1 if 1 of the past 3 shocks are negative\n",
    "* 2 if 2 of the past 3 shocks are negative\n",
    "* 6 if 3 of the past 3 shocks are negative\n",
    "\n",
    "Plot the result.\n",
    "\n",
    "**Notes**\n",
    "\n",
    "* When generating the first 3 values, treat $\\epsilon_{-1}$, $\\epsilon_{-2}$ and\n",
    "  $\\epsilon_{-3}$ as 0 (non-negative).\n",
    "* Re-run the simulation to see different paths.\n",
    " "
   ]
  },
  {
   "cell_type": "code",
   "execution_count": null,
   "metadata": {
    "execution": {
     "iopub.execute_input": "2024-02-27T16:09:38.513179Z",
     "iopub.status.busy": "2024-02-27T16:09:38.513179Z",
     "iopub.status.idle": "2024-02-27T16:09:38.519870Z",
     "shell.execute_reply": "2024-02-27T16:09:38.519870Z"
    }
   },
   "outputs": [],
   "source": []
  },
  {
   "cell_type": "code",
   "execution_count": null,
   "metadata": {
    "execution": {
     "iopub.execute_input": "2024-02-27T16:09:38.522878Z",
     "iopub.status.busy": "2024-02-27T16:09:38.521878Z",
     "iopub.status.idle": "2024-02-27T16:09:38.652320Z",
     "shell.execute_reply": "2024-02-27T16:09:38.652320Z"
    },
    "tags": []
   },
   "outputs": [],
   "source": []
  }
 ],
 "metadata": {
  "kernelspec": {
   "display_name": "Python 3 (ipykernel)",
   "language": "python",
   "name": "python3"
  },
  "language_info": {
   "codemirror_mode": {
    "name": "ipython",
    "version": 3
   },
   "file_extension": ".py",
   "mimetype": "text/x-python",
   "name": "python",
   "nbconvert_exporter": "python",
   "pygments_lexer": "ipython3",
   "version": "3.11.5"
  },
  "pycharm": {
   "stem_cell": {
    "cell_type": "raw",
    "metadata": {
     "collapsed": false
    },
    "source": []
   }
  }
 },
 "nbformat": 4,
 "nbformat_minor": 4
}
