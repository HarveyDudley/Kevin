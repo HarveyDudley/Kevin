{
 "cells": [
  {
   "cell_type": "markdown",
   "metadata": {},
   "source": [
    "# Graphics: Line Plots\n",
    "\n",
    "This lesson covers:\n",
    "\n",
    "* Basic plotting \n",
    "* Subplots \n",
    "* Histograms \n",
    "* Scatter Plots"
   ]
  },
  {
   "cell_type": "markdown",
   "metadata": {},
   "source": [
    "Plotting in notebooks requires using a magic command, which starts with\n",
    "`%`, to initialize the plotting backend."
   ]
  },
  {
   "cell_type": "code",
   "execution_count": null,
   "metadata": {
    "execution": {
     "iopub.execute_input": "2024-02-27T16:09:53.571331Z",
     "iopub.status.busy": "2024-02-27T16:09:53.571331Z",
     "iopub.status.idle": "2024-02-27T16:09:54.138872Z",
     "shell.execute_reply": "2024-02-27T16:09:54.138872Z"
    },
    "jupyter": {
     "outputs_hidden": false
    },
    "pycharm": {
     "is_executing": false,
     "name": "#%%\n"
    }
   },
   "outputs": [],
   "source": [
    "# Setup\n",
    "%matplotlib inline\n",
    "import matplotlib.pyplot as plt\n",
    "\n",
    "plt.rc(\"figure\", figsize=(16, 6))  # Improves figure size"
   ]
  },
  {
   "cell_type": "markdown",
   "metadata": {},
   "source": [
    "Begin by loading the data in hf.h5. This data set contains high-frequency\n",
    "price data for IBM and MSFT on a single day stored as two Series. IBM is\n",
    "stored as \"IBM\" in the HDF file, and MSFT is stored as \"MSFT."
   ]
  },
  {
   "cell_type": "code",
   "execution_count": null,
   "metadata": {
    "execution": {
     "iopub.execute_input": "2024-02-27T16:09:54.141880Z",
     "iopub.status.busy": "2024-02-27T16:09:54.140880Z",
     "iopub.status.idle": "2024-02-27T16:09:56.199608Z",
     "shell.execute_reply": "2024-02-27T16:09:56.198601Z"
    },
    "jupyter": {
     "outputs_hidden": false
    }
   },
   "outputs": [],
   "source": []
  },
  {
   "cell_type": "markdown",
   "metadata": {},
   "source": [
    "## Problem: Basic Plotting\n",
    "\n",
    "1. Plot the `ibm` series which contains the price of IBM. \n",
    "2. Add a title and label the axes. \n",
    "3. Add markers and remove the line. "
   ]
  },
  {
   "cell_type": "code",
   "execution_count": null,
   "metadata": {
    "execution": {
     "iopub.execute_input": "2024-02-27T16:09:56.202608Z",
     "iopub.status.busy": "2024-02-27T16:09:56.201607Z",
     "iopub.status.idle": "2024-02-27T16:09:56.426731Z",
     "shell.execute_reply": "2024-02-27T16:09:56.426731Z"
    },
    "jupyter": {
     "outputs_hidden": false
    }
   },
   "outputs": [],
   "source": []
  },
  {
   "cell_type": "code",
   "execution_count": null,
   "metadata": {
    "execution": {
     "iopub.execute_input": "2024-02-27T16:09:56.428818Z",
     "iopub.status.busy": "2024-02-27T16:09:56.428818Z",
     "iopub.status.idle": "2024-02-27T16:09:56.651691Z",
     "shell.execute_reply": "2024-02-27T16:09:56.651616Z"
    },
    "jupyter": {
     "outputs_hidden": false
    }
   },
   "outputs": [],
   "source": []
  },
  {
   "cell_type": "code",
   "execution_count": null,
   "metadata": {
    "execution": {
     "iopub.execute_input": "2024-02-27T16:09:56.654693Z",
     "iopub.status.busy": "2024-02-27T16:09:56.653693Z",
     "iopub.status.idle": "2024-02-27T16:09:56.845038Z",
     "shell.execute_reply": "2024-02-27T16:09:56.845038Z"
    },
    "jupyter": {
     "outputs_hidden": false
    }
   },
   "outputs": [],
   "source": []
  },
  {
   "cell_type": "markdown",
   "metadata": {},
   "source": [
    "## Problem: Subplot\n",
    "\n",
    "Create a 2 by 1 subplot with the price of IBM in the top subplot and the\n",
    "price of MSFT in the bottom subplot. "
   ]
  },
  {
   "cell_type": "code",
   "execution_count": null,
   "metadata": {
    "execution": {
     "iopub.execute_input": "2024-02-27T16:09:56.848046Z",
     "iopub.status.busy": "2024-02-27T16:09:56.847046Z",
     "iopub.status.idle": "2024-02-27T16:09:58.203310Z",
     "shell.execute_reply": "2024-02-27T16:09:58.203310Z"
    },
    "jupyter": {
     "outputs_hidden": false
    }
   },
   "outputs": [],
   "source": []
  },
  {
   "cell_type": "markdown",
   "metadata": {},
   "source": [
    "## Problem: Plot with Dates\n",
    "\n",
    "Use `matplotlib` to directly plot `ibm` against its `index`. This is a\n",
    "repeat of a previous plot but shows how to use the `plot` command directly. "
   ]
  },
  {
   "cell_type": "code",
   "execution_count": null,
   "metadata": {
    "execution": {
     "iopub.execute_input": "2024-02-27T16:09:58.205396Z",
     "iopub.status.busy": "2024-02-27T16:09:58.205396Z",
     "iopub.status.idle": "2024-02-27T16:09:58.561355Z",
     "shell.execute_reply": "2024-02-27T16:09:58.561355Z"
    },
    "jupyter": {
     "outputs_hidden": false
    }
   },
   "outputs": [],
   "source": []
  },
  {
   "cell_type": "markdown",
   "metadata": {
    "pycharm": {
     "name": "#%% md\n"
    }
   },
   "source": [
    "## Exercises\n",
    "\n",
    "### Exercise: Change seaborn\n",
    "\n",
    "Produce a line plot of MSFT's price using seaborn's \"whitegrid\" style."
   ]
  },
  {
   "cell_type": "code",
   "execution_count": null,
   "metadata": {
    "execution": {
     "iopub.execute_input": "2024-02-27T16:09:58.563436Z",
     "iopub.status.busy": "2024-02-27T16:09:58.563436Z",
     "iopub.status.idle": "2024-02-27T16:09:58.864530Z",
     "shell.execute_reply": "2024-02-27T16:09:58.864530Z"
    },
    "jupyter": {
     "outputs_hidden": false
    }
   },
   "outputs": [],
   "source": []
  },
  {
   "cell_type": "markdown",
   "metadata": {
    "pycharm": {
     "name": "#%% md\n"
    }
   },
   "source": [
    "### Exercise: HLOC plot\n",
    "\n",
    "Use the HLOC data to produce a plot of MSFT's 5 minute HLOC\n",
    "where the there are no lines, high is demarcated using a green triangle,\n",
    "low is demarcated using a red downward pointing triangle, open is demarcated \n",
    "using a light grey leftward facing triangle and close is demarcated using\n",
    "a right facing triangle.\n",
    "\n",
    "**Note** Get the axes from the first, plot, and reuse this when plotting \n",
    "the other series."
   ]
  },
  {
   "cell_type": "code",
   "execution_count": null,
   "metadata": {
    "execution": {
     "iopub.execute_input": "2024-02-27T16:09:58.866537Z",
     "iopub.status.busy": "2024-02-27T16:09:58.866537Z",
     "iopub.status.idle": "2024-02-27T16:09:58.877887Z",
     "shell.execute_reply": "2024-02-27T16:09:58.877887Z"
    },
    "jupyter": {
     "outputs_hidden": false
    },
    "pycharm": {
     "is_executing": false,
     "name": "#%%\n"
    }
   },
   "outputs": [],
   "source": [
    "# Setup: Load data and create values\n",
    "import pandas as pd\n",
    "\n",
    "msft = pd.read_hdf(\"data/hf.h5\", \"MSFT\")\n",
    "msft_5min = msft.resample(\"300S\")\n",
    "high = msft_5min.max()\n",
    "low = msft_5min.min()\n",
    "open = msft_5min.first()\n",
    "close = msft_5min.last()"
   ]
  },
  {
   "cell_type": "code",
   "execution_count": null,
   "metadata": {
    "execution": {
     "iopub.execute_input": "2024-02-27T16:09:58.880974Z",
     "iopub.status.busy": "2024-02-27T16:09:58.879975Z",
     "iopub.status.idle": "2024-02-27T16:09:59.135591Z",
     "shell.execute_reply": "2024-02-27T16:09:59.135591Z"
    },
    "jupyter": {
     "outputs_hidden": false
    },
    "tags": []
   },
   "outputs": [],
   "source": []
  }
 ],
 "metadata": {
  "kernelspec": {
   "display_name": "Python 3 (ipykernel)",
   "language": "python",
   "name": "python3"
  },
  "language_info": {
   "codemirror_mode": {
    "name": "ipython",
    "version": 3
   },
   "file_extension": ".py",
   "mimetype": "text/x-python",
   "name": "python",
   "nbconvert_exporter": "python",
   "pygments_lexer": "ipython3",
   "version": "3.11.5"
  },
  "pycharm": {
   "stem_cell": {
    "cell_type": "raw",
    "metadata": {
     "collapsed": false
    },
    "source": []
   }
  }
 },
 "nbformat": 4,
 "nbformat_minor": 4
}
