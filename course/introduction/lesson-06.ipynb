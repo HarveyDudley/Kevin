{
 "cells": [
  {
   "cell_type": "markdown",
   "metadata": {
    "pycharm": {
     "name": "#%% md\n"
    }
   },
   "source": [
    "# Methods and Functions\n",
    "\n",
    "This lesson covers:\n",
    "\n",
    "* Calling functions with more than one input and output \n",
    "* Calling functions when some inputs are not used"
   ]
  },
  {
   "cell_type": "markdown",
   "metadata": {},
   "source": [
    "Read the data in momentum.csv and creating some variable. This cell uses\n",
    "some magic to automate repeated typing."
   ]
  },
  {
   "cell_type": "code",
   "execution_count": null,
   "metadata": {
    "execution": {
     "iopub.execute_input": "2024-02-27T16:08:59.318214Z",
     "iopub.status.busy": "2024-02-27T16:08:59.318214Z",
     "iopub.status.idle": "2024-02-27T16:08:59.844061Z",
     "shell.execute_reply": "2024-02-27T16:08:59.844061Z"
    },
    "pycharm": {
     "is_executing": false
    }
   },
   "outputs": [],
   "source": [
    "# Setup: Load the momentum data\n",
    "import pandas as pd\n",
    "\n",
    "momentum = pd.read_csv(\"data/momentum.csv\", index_col=\"date\", parse_dates=True)\n",
    "\n",
    "print(momentum.head())\n",
    "\n",
    "mom_01 = momentum[\"mom_01\"]\n",
    "mom_10 = momentum[\"mom_10\"]"
   ]
  },
  {
   "cell_type": "markdown",
   "metadata": {},
   "source": [
    "This data set contains 2 years of data on the 10 momentum portfolios from\n",
    "2016–2018. The variables are named mom_XX where XX ranges from 01 (work\n",
    "return over the past 12 months) to 10 (best return over the past 12 months). "
   ]
  },
  {
   "cell_type": "markdown",
   "metadata": {
    "pycharm": {
     "name": "#%% md\n"
    }
   },
   "source": [
    "## Problem: Calling Methods\n",
    "Get used to calling methods by computing the mean, standard deviation, skewness, kurtosis, max, and min. \n",
    "\n",
    "Use the DataFrame functions `mean`, `std`, `skew` and `kurt`, `min` and `max` to print the\n",
    "values for `mom_01`.\n",
    "\n",
    "In the second cell, call `describe`, a method that summarizes `Series` and `DataFrames` on `mom_01`."
   ]
  },
  {
   "cell_type": "code",
   "execution_count": null,
   "metadata": {
    "execution": {
     "iopub.execute_input": "2024-02-27T16:08:59.846578Z",
     "iopub.status.busy": "2024-02-27T16:08:59.846578Z",
     "iopub.status.idle": "2024-02-27T16:08:59.850157Z",
     "shell.execute_reply": "2024-02-27T16:08:59.850157Z"
    }
   },
   "outputs": [],
   "source": []
  },
  {
   "cell_type": "code",
   "execution_count": null,
   "metadata": {
    "execution": {
     "iopub.execute_input": "2024-02-27T16:08:59.852165Z",
     "iopub.status.busy": "2024-02-27T16:08:59.852165Z",
     "iopub.status.idle": "2024-02-27T16:08:59.860654Z",
     "shell.execute_reply": "2024-02-27T16:08:59.860654Z"
    }
   },
   "outputs": [],
   "source": []
  },
  {
   "cell_type": "markdown",
   "metadata": {
    "pycharm": {
     "name": "#%% md\n"
    }
   },
   "source": [
    "## Problem: Use NumPy and SciPy functions\n",
    "\n",
    "Use the NumPy functions `mean`, `std`, `min`, `max` and the SciPy `stats` functions\n",
    "`skew` and `kurtosis` to produce the same output."
   ]
  },
  {
   "cell_type": "code",
   "execution_count": null,
   "metadata": {
    "execution": {
     "iopub.execute_input": "2024-02-27T16:08:59.863179Z",
     "iopub.status.busy": "2024-02-27T16:08:59.863179Z",
     "iopub.status.idle": "2024-02-27T16:09:00.400525Z",
     "shell.execute_reply": "2024-02-27T16:09:00.400525Z"
    }
   },
   "outputs": [],
   "source": []
  },
  {
   "cell_type": "markdown",
   "metadata": {
    "pycharm": {
     "name": "#%% md\n"
    }
   },
   "source": [
    "## Problem: Calling Functions with 2 Outputs\n",
    "\n",
    "Some useful functions return 2 or more outputs. One example is ``np.linalg.slogdet`` \n",
    "computes the signed log determinant of a square array. It returns two output,\n",
    "the sign and the log of the absolute determinant.\n",
    "\n",
    "Use this function to compute the sign and log determinant of the 2 by 2 array:\n",
    "\n",
    "```\n",
    "1  2\n",
    "2  9\n",
    "```  "
   ]
  },
  {
   "cell_type": "code",
   "execution_count": null,
   "metadata": {
    "execution": {
     "iopub.execute_input": "2024-02-27T16:09:00.403583Z",
     "iopub.status.busy": "2024-02-27T16:09:00.403583Z",
     "iopub.status.idle": "2024-02-27T16:09:00.407288Z",
     "shell.execute_reply": "2024-02-27T16:09:00.407288Z"
    }
   },
   "outputs": [],
   "source": []
  },
  {
   "cell_type": "code",
   "execution_count": null,
   "metadata": {
    "execution": {
     "iopub.execute_input": "2024-02-27T16:09:00.409295Z",
     "iopub.status.busy": "2024-02-27T16:09:00.409295Z",
     "iopub.status.idle": "2024-02-27T16:09:00.412644Z",
     "shell.execute_reply": "2024-02-27T16:09:00.412644Z"
    }
   },
   "outputs": [],
   "source": []
  },
  {
   "cell_type": "markdown",
   "metadata": {},
   "source": [
    "## Problem: Calling Functions with 2 Inputs\n",
    "\n",
    "Many functions take two or more inputs. Like outputs, the inputs are simply\n",
    "listed in order separated by commas. Use `np.linspace` to produce a series\n",
    "of 11 points evenly spaced between 0 and 1.\n",
    "\n",
    "```\n",
    "np.linspace(start, stop, num=50, endpoint=True, retstep=False, dtype=None, axis=0)\n",
    "```  "
   ]
  },
  {
   "cell_type": "code",
   "execution_count": null,
   "metadata": {
    "execution": {
     "iopub.execute_input": "2024-02-27T16:09:00.414653Z",
     "iopub.status.busy": "2024-02-27T16:09:00.414653Z",
     "iopub.status.idle": "2024-02-27T16:09:00.419238Z",
     "shell.execute_reply": "2024-02-27T16:09:00.419238Z"
    }
   },
   "outputs": [],
   "source": []
  },
  {
   "cell_type": "markdown",
   "metadata": {},
   "source": [
    "## Problem: Calling Functions using Keyword Arguments\n",
    "\n",
    "Many functions have optional arguments. You can see these in a docstring since\n",
    "optional arguments take the form `variable=default`. For example, see\n",
    "the help for `scipy.special.comb`, which has the function signature\n",
    "\n",
    "```\n",
    "comb(N, k, exact=False, repetition=False)\n",
    "```\n",
    "\n",
    "This tells us that `N` and `k` are required and\n",
    "that the other 2 inputs can be omitted if you are happy with the defaults.\n",
    "However, if we want to change some of the optional inputs, then we can\n",
    "directly use the inputs name in the function call.\n",
    "\n",
    "Compute the number of distinct combinations of 5 objects from a set of 10."
   ]
  },
  {
   "cell_type": "code",
   "execution_count": null,
   "metadata": {
    "execution": {
     "iopub.execute_input": "2024-02-27T16:09:00.422356Z",
     "iopub.status.busy": "2024-02-27T16:09:00.421357Z",
     "iopub.status.idle": "2024-02-27T16:09:00.426624Z",
     "shell.execute_reply": "2024-02-27T16:09:00.426624Z"
    }
   },
   "outputs": [],
   "source": []
  },
  {
   "cell_type": "markdown",
   "metadata": {
    "pycharm": {
     "name": "#%% md\n"
    }
   },
   "source": [
    "Compute the total number of combinations allowing for repetition \n",
    "using the `repetition=True` keyword argument."
   ]
  },
  {
   "cell_type": "code",
   "execution_count": null,
   "metadata": {
    "execution": {
     "iopub.execute_input": "2024-02-27T16:09:00.429633Z",
     "iopub.status.busy": "2024-02-27T16:09:00.428633Z",
     "iopub.status.idle": "2024-02-27T16:09:00.433143Z",
     "shell.execute_reply": "2024-02-27T16:09:00.433143Z"
    }
   },
   "outputs": [],
   "source": []
  },
  {
   "cell_type": "markdown",
   "metadata": {
    "pycharm": {
     "name": "#%% md\n"
    }
   },
   "source": [
    "Compute the number of combinations using the exact representation using \n",
    "only positional arguments for all 3 inputs.  Repeat using the keyword\n",
    "argument for `exact`."
   ]
  },
  {
   "cell_type": "code",
   "execution_count": null,
   "metadata": {
    "execution": {
     "iopub.execute_input": "2024-02-27T16:09:00.435151Z",
     "iopub.status.busy": "2024-02-27T16:09:00.435151Z",
     "iopub.status.idle": "2024-02-27T16:09:00.439643Z",
     "shell.execute_reply": "2024-02-27T16:09:00.439643Z"
    }
   },
   "outputs": [],
   "source": []
  },
  {
   "cell_type": "code",
   "execution_count": null,
   "metadata": {
    "execution": {
     "iopub.execute_input": "2024-02-27T16:09:00.441651Z",
     "iopub.status.busy": "2024-02-27T16:09:00.441651Z",
     "iopub.status.idle": "2024-02-27T16:09:00.445419Z",
     "shell.execute_reply": "2024-02-27T16:09:00.445419Z"
    }
   },
   "outputs": [],
   "source": []
  },
  {
   "cell_type": "markdown",
   "metadata": {
    "pycharm": {
     "name": "#%% md\n"
    }
   },
   "source": [
    "## Problem: Function Help\n",
    "\n",
    "Explore the help available for calling functions `?` operator. For example,\n",
    "\n",
    "```python\n",
    "import scipy.stats as stats\n",
    "\n",
    "stats.kurtosis?\n",
    "```  \n",
    "\n",
    "opens a help window that shows the inputs and output, while\n",
    "\n",
    "```python\n",
    "help(stats.kurtosis)\n",
    "```\n",
    "\n",
    "shows the help in the console.\n",
    "\n",
    "**Note**: VS Code does **not** support the `?` form of help"
   ]
  },
  {
   "cell_type": "code",
   "execution_count": null,
   "metadata": {
    "execution": {
     "iopub.execute_input": "2024-02-27T16:09:00.447427Z",
     "iopub.status.busy": "2024-02-27T16:09:00.447427Z",
     "iopub.status.idle": "2024-02-27T16:09:00.491585Z",
     "shell.execute_reply": "2024-02-27T16:09:00.491585Z"
    }
   },
   "outputs": [],
   "source": []
  },
  {
   "cell_type": "code",
   "execution_count": null,
   "metadata": {
    "execution": {
     "iopub.execute_input": "2024-02-27T16:09:00.494592Z",
     "iopub.status.busy": "2024-02-27T16:09:00.494592Z",
     "iopub.status.idle": "2024-02-27T16:09:00.497552Z",
     "shell.execute_reply": "2024-02-27T16:09:00.497552Z"
    }
   },
   "outputs": [],
   "source": []
  },
  {
   "cell_type": "markdown",
   "metadata": {
    "pycharm": {
     "name": "#%% md\n"
    }
   },
   "source": [
    "## Problem: Use `help` with a method\n",
    "\n",
    "Use `help` to get the help for the `kurt` method attached to `momentum`."
   ]
  },
  {
   "cell_type": "code",
   "execution_count": null,
   "metadata": {
    "execution": {
     "iopub.execute_input": "2024-02-27T16:09:00.499558Z",
     "iopub.status.busy": "2024-02-27T16:09:00.499558Z",
     "iopub.status.idle": "2024-02-27T16:09:00.502405Z",
     "shell.execute_reply": "2024-02-27T16:09:00.502405Z"
    }
   },
   "outputs": [],
   "source": []
  },
  {
   "cell_type": "markdown",
   "metadata": {
    "pycharm": {
     "name": "#%% md\n"
    }
   },
   "source": [
    "## Exercises\n",
    "\n",
    "### Exercise: Use `info`\n",
    "\n",
    "Use the `info` method on `momentum` to get information about this `DataFrame`."
   ]
  },
  {
   "cell_type": "code",
   "execution_count": null,
   "metadata": {
    "execution": {
     "iopub.execute_input": "2024-02-27T16:09:00.505414Z",
     "iopub.status.busy": "2024-02-27T16:09:00.505414Z",
     "iopub.status.idle": "2024-02-27T16:09:00.513449Z",
     "shell.execute_reply": "2024-02-27T16:09:00.513449Z"
    },
    "jupyter": {
     "outputs_hidden": false
    }
   },
   "outputs": [],
   "source": []
  },
  {
   "cell_type": "markdown",
   "metadata": {
    "pycharm": {
     "name": "#%% md\n"
    }
   },
   "source": [
    "### Exercise: Compute the day-by-day mean\n",
    "\n",
    "Compute the day-by-day mean return of the portfolios in the momentum `DataFrame` using\n",
    "the `axis` keyword argument. Use `head` and `tail` to show\n",
    "the first 5 rows and last 5 rows "
   ]
  },
  {
   "cell_type": "code",
   "execution_count": null,
   "metadata": {
    "execution": {
     "iopub.execute_input": "2024-02-27T16:09:00.515457Z",
     "iopub.status.busy": "2024-02-27T16:09:00.515457Z",
     "iopub.status.idle": "2024-02-27T16:09:00.520984Z",
     "shell.execute_reply": "2024-02-27T16:09:00.520984Z"
    },
    "jupyter": {
     "outputs_hidden": false
    }
   },
   "outputs": [],
   "source": []
  },
  {
   "cell_type": "code",
   "execution_count": null,
   "metadata": {
    "execution": {
     "iopub.execute_input": "2024-02-27T16:09:00.524043Z",
     "iopub.status.busy": "2024-02-27T16:09:00.522992Z",
     "iopub.status.idle": "2024-02-27T16:09:00.528213Z",
     "shell.execute_reply": "2024-02-27T16:09:00.528213Z"
    },
    "jupyter": {
     "outputs_hidden": false
    }
   },
   "outputs": [],
   "source": []
  },
  {
   "cell_type": "markdown",
   "metadata": {
    "pycharm": {
     "name": "#%% md\n"
    }
   },
   "source": [
    "### Exercise: Compute the standard deviation of mean returns\n",
    "\n",
    "Compute the standard deviation of the mean returns by chaining methods."
   ]
  },
  {
   "cell_type": "code",
   "execution_count": null,
   "metadata": {
    "execution": {
     "iopub.execute_input": "2024-02-27T16:09:00.530303Z",
     "iopub.status.busy": "2024-02-27T16:09:00.530303Z",
     "iopub.status.idle": "2024-02-27T16:09:00.534077Z",
     "shell.execute_reply": "2024-02-27T16:09:00.534077Z"
    },
    "jupyter": {
     "outputs_hidden": false
    }
   },
   "outputs": [],
   "source": []
  },
  {
   "cell_type": "markdown",
   "metadata": {
    "pycharm": {
     "name": "#%% md\n"
    }
   },
   "source": [
    "### Exercise: Compute the average standard deviation\n",
    "\n",
    "Compute the mean standard deviation as:\n",
    "\n",
    "$$ \\sqrt{N^{-1} \\sum_{i=1}^N V[r_i]} $$\n",
    "\n",
    "where $V[r_i]$ is the variance of portfolio $i$."
   ]
  },
  {
   "cell_type": "code",
   "execution_count": null,
   "metadata": {
    "execution": {
     "iopub.execute_input": "2024-02-27T16:09:00.537089Z",
     "iopub.status.busy": "2024-02-27T16:09:00.536084Z",
     "iopub.status.idle": "2024-02-27T16:09:00.540921Z",
     "shell.execute_reply": "2024-02-27T16:09:00.540921Z"
    },
    "jupyter": {
     "outputs_hidden": false
    },
    "tags": []
   },
   "outputs": [],
   "source": []
  }
 ],
 "metadata": {
  "file_extension": ".py",
  "kernelspec": {
   "display_name": "Python 3 (ipykernel)",
   "language": "python",
   "name": "python3"
  },
  "language_info": {
   "codemirror_mode": {
    "name": "ipython",
    "version": 3
   },
   "file_extension": ".py",
   "mimetype": "text/x-python",
   "name": "python",
   "nbconvert_exporter": "python",
   "pygments_lexer": "ipython3",
   "version": "3.11.5"
  },
  "mimetype": "text/x-python",
  "name": "python",
  "npconvert_exporter": "python",
  "pycharm": {
   "stem_cell": {
    "cell_type": "raw",
    "metadata": {
     "collapsed": false
    },
    "source": []
   }
  },
  "pygments_lexer": "ipython3",
  "version": 3
 },
 "nbformat": 4,
 "nbformat_minor": 4
}
