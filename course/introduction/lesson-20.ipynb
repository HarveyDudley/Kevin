{
 "cells": [
  {
   "cell_type": "markdown",
   "metadata": {
    "pycharm": {
     "name": "#%% md\n"
    }
   },
   "source": [
    "# Saving and Exporting Data\n",
    "\n",
    "This lesson covers:\n",
    "\n",
    "* Saving and reloading data\n",
    "\n",
    "This first block loads the data that was used in the previous lesson."
   ]
  },
  {
   "cell_type": "code",
   "execution_count": null,
   "metadata": {
    "execution": {
     "iopub.execute_input": "2024-02-27T16:09:46.101838Z",
     "iopub.status.busy": "2024-02-27T16:09:46.101838Z",
     "iopub.status.idle": "2024-02-27T16:09:46.650935Z",
     "shell.execute_reply": "2024-02-27T16:09:46.650935Z"
    },
    "pycharm": {
     "is_executing": false,
     "name": "#%%\n"
    }
   },
   "outputs": [],
   "source": [
    "# Setup: Load the data to use later\n",
    "import pandas as pd\n",
    "\n",
    "gs10_csv = pd.read_csv(\"data/GS10.csv\", index_col=\"DATE\", parse_dates=True)\n",
    "gs10_excel = pd.read_excel(\"data/GS10.xls\", skiprows=10, index_col=\"observation_date\")"
   ]
  },
  {
   "cell_type": "markdown",
   "metadata": {
    "pycharm": {
     "name": "#%% md\n"
    }
   },
   "source": [
    "## Problem: Export to Excel\n",
    "\n",
    "Export `gs10_csv` to the Excel file `gs10-exported.xlsx`.\n"
   ]
  },
  {
   "cell_type": "code",
   "execution_count": null,
   "metadata": {
    "execution": {
     "iopub.execute_input": "2024-02-27T16:09:46.653939Z",
     "iopub.status.busy": "2024-02-27T16:09:46.653939Z",
     "iopub.status.idle": "2024-02-27T16:09:47.017929Z",
     "shell.execute_reply": "2024-02-27T16:09:47.017929Z"
    },
    "jupyter": {
     "outputs_hidden": false
    }
   },
   "outputs": [],
   "source": []
  },
  {
   "cell_type": "markdown",
   "metadata": {},
   "source": [
    "## Problem: Export to CSV\n",
    "\n",
    "Export `gs10_excel` to CSV. "
   ]
  },
  {
   "cell_type": "code",
   "execution_count": null,
   "metadata": {
    "execution": {
     "iopub.execute_input": "2024-02-27T16:09:47.020935Z",
     "iopub.status.busy": "2024-02-27T16:09:47.020935Z",
     "iopub.status.idle": "2024-02-27T16:09:47.029073Z",
     "shell.execute_reply": "2024-02-27T16:09:47.029073Z"
    },
    "jupyter": {
     "outputs_hidden": false
    }
   },
   "outputs": [],
   "source": []
  },
  {
   "cell_type": "markdown",
   "metadata": {},
   "source": [
    "## Problem: Export to HDF\n",
    "\n",
    "Export both to a single HDF file (the closest thing to a \"native\" format in pandas)."
   ]
  },
  {
   "cell_type": "code",
   "execution_count": null,
   "metadata": {
    "execution": {
     "iopub.execute_input": "2024-02-27T16:09:47.031139Z",
     "iopub.status.busy": "2024-02-27T16:09:47.031139Z",
     "iopub.status.idle": "2024-02-27T16:09:48.689531Z",
     "shell.execute_reply": "2024-02-27T16:09:48.689531Z"
    },
    "jupyter": {
     "outputs_hidden": false
    }
   },
   "outputs": [],
   "source": []
  },
  {
   "cell_type": "markdown",
   "metadata": {},
   "source": [
    "## Problem: Import from HDF \n",
    "\n",
    "Import the data saved as HDF and verify it is the same as the original data."
   ]
  },
  {
   "cell_type": "code",
   "execution_count": null,
   "metadata": {
    "execution": {
     "iopub.execute_input": "2024-02-27T16:09:48.692538Z",
     "iopub.status.busy": "2024-02-27T16:09:48.692538Z",
     "iopub.status.idle": "2024-02-27T16:09:48.709703Z",
     "shell.execute_reply": "2024-02-27T16:09:48.709703Z"
    }
   },
   "outputs": [],
   "source": []
  },
  {
   "cell_type": "code",
   "execution_count": null,
   "metadata": {
    "execution": {
     "iopub.execute_input": "2024-02-27T16:09:48.712710Z",
     "iopub.status.busy": "2024-02-27T16:09:48.711710Z",
     "iopub.status.idle": "2024-02-27T16:09:48.723117Z",
     "shell.execute_reply": "2024-02-27T16:09:48.723117Z"
    },
    "jupyter": {
     "outputs_hidden": false
    }
   },
   "outputs": [],
   "source": []
  },
  {
   "cell_type": "markdown",
   "metadata": {},
   "source": [
    "## Exercises\n",
    "\n",
    "### Exercise: Import, export and verify\n",
    "\n",
    "* Import the data in \"data/fred-md.csv\"\n",
    "* Parse the dates and set the index column to \"sasdate\"\n",
    "* Remove first row labeled \"Transform:\" (**Hint**: Transpose, `del` and\n",
    "  transpose back, or use `drop`)\n",
    "* Re-parse the dates on the index\n",
    "* Remove columns that have more than 10% missing values\n",
    "* Save to \"data/fred-md.h5\" as HDF.\n",
    "* Load the data into the variable `reloaded` and verify it is identical."
   ]
  },
  {
   "cell_type": "code",
   "execution_count": null,
   "metadata": {
    "execution": {
     "iopub.execute_input": "2024-02-27T16:09:48.726201Z",
     "iopub.status.busy": "2024-02-27T16:09:48.725201Z",
     "iopub.status.idle": "2024-02-27T16:09:48.769834Z",
     "shell.execute_reply": "2024-02-27T16:09:48.769834Z"
    },
    "jupyter": {
     "outputs_hidden": false
    }
   },
   "outputs": [],
   "source": []
  },
  {
   "cell_type": "markdown",
   "metadata": {
    "pycharm": {
     "name": "#%% md\n"
    }
   },
   "source": [
    "### Exercise: Looping Export\n",
    "\n",
    "Export the columns RPI, INDPRO, and HWI from the FRED-MD data to\n",
    "`\"data/`_variablename_`.csv\"` so that, e.g., RPI is exported to `data/RPI.csv`:\n",
    "\n",
    "**Note** You need to complete the previous exercise first (or at least the first 4 steps)."
   ]
  },
  {
   "cell_type": "code",
   "execution_count": null,
   "metadata": {
    "execution": {
     "iopub.execute_input": "2024-02-27T16:09:48.772963Z",
     "iopub.status.busy": "2024-02-27T16:09:48.771963Z",
     "iopub.status.idle": "2024-02-27T16:09:48.783084Z",
     "shell.execute_reply": "2024-02-27T16:09:48.783084Z"
    },
    "jupyter": {
     "outputs_hidden": false
    },
    "tags": []
   },
   "outputs": [],
   "source": []
  }
 ],
 "metadata": {
  "kernelspec": {
   "display_name": "Python 3 (ipykernel)",
   "language": "python",
   "name": "python3"
  },
  "language_info": {
   "codemirror_mode": {
    "name": "ipython",
    "version": 3
   },
   "file_extension": ".py",
   "mimetype": "text/x-python",
   "name": "python",
   "nbconvert_exporter": "python",
   "pygments_lexer": "ipython3",
   "version": "3.11.5"
  },
  "pycharm": {
   "stem_cell": {
    "cell_type": "raw",
    "metadata": {
     "collapsed": false
    },
    "source": []
   }
  }
 },
 "nbformat": 4,
 "nbformat_minor": 4
}
