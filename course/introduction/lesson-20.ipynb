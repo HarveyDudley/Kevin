{
 "cells": [
  {
   "cell_type": "markdown",
   "metadata": {
    "pycharm": {
     "name": "#%% md\n"
    }
   },
   "source": [
    "# Saving and Exporting Data\n",
    "\n",
    "This lesson covers:\n",
    "\n",
    "* Saving and reloading data\n",
    "\n",
    "This first block loads the data that was used in the previous lesson."
   ]
  },
  {
   "cell_type": "code",
   "execution_count": null,
   "metadata": {
    "execution": {
     "iopub.execute_input": "2021-09-22T10:21:34.056475Z",
     "iopub.status.busy": "2021-09-22T10:21:34.055475Z",
     "iopub.status.idle": "2021-09-22T10:21:34.412086Z",
     "shell.execute_reply": "2021-09-22T10:21:34.412086Z"
    },
    "pycharm": {
     "is_executing": false,
     "name": "#%%\n"
    }
   },
   "outputs": [],
   "source": [
    "# Setup: Load the data to use later\n",
    "import pandas as pd\n",
    "\n",
    "gs10_csv = pd.read_csv(\"data/GS10.csv\", index_col=\"DATE\", parse_dates=True)\n",
    "gs10_excel = pd.read_excel(\"data/GS10.xls\", skiprows=10, index_col=\"observation_date\")"
   ]
  },
  {
   "cell_type": "markdown",
   "metadata": {
    "pycharm": {
     "name": "#%% md\n"
    }
   },
   "source": [
    "## Problem: Export to Excel\n",
    "\n",
    "Export `gs10_csv` to the Excel file `gs10-exported.xlsx`.\n"
   ]
  },
  {
   "cell_type": "code",
   "execution_count": null,
   "metadata": {
    "execution": {
     "iopub.execute_input": "2021-09-22T10:21:34.415087Z",
     "iopub.status.busy": "2021-09-22T10:21:34.415087Z",
     "iopub.status.idle": "2021-09-22T10:21:34.823086Z",
     "shell.execute_reply": "2021-09-22T10:21:34.823086Z"
    },
    "jupyter": {
     "outputs_hidden": false
    }
   },
   "outputs": [],
   "source": []
  },
  {
   "cell_type": "markdown",
   "metadata": {},
   "source": [
    "## Problem: Export to CSV\n",
    "\n",
    "Export `gs10_excel` to CSV. "
   ]
  },
  {
   "cell_type": "code",
   "execution_count": null,
   "metadata": {
    "execution": {
     "iopub.execute_input": "2021-09-22T10:21:34.826089Z",
     "iopub.status.busy": "2021-09-22T10:21:34.826089Z",
     "iopub.status.idle": "2021-09-22T10:21:34.838087Z",
     "shell.execute_reply": "2021-09-22T10:21:34.838087Z"
    },
    "jupyter": {
     "outputs_hidden": false
    }
   },
   "outputs": [],
   "source": []
  },
  {
   "cell_type": "markdown",
   "metadata": {},
   "source": [
    "## Problem: Export to HDF\n",
    "\n",
    "Export both to a single HDF file (the closest thing to a \"native\" format in pandas)."
   ]
  },
  {
   "cell_type": "code",
   "execution_count": null,
   "metadata": {
    "execution": {
     "iopub.execute_input": "2021-09-22T10:21:34.841087Z",
     "iopub.status.busy": "2021-09-22T10:21:34.841087Z",
     "iopub.status.idle": "2021-09-22T10:21:35.201086Z",
     "shell.execute_reply": "2021-09-22T10:21:35.201086Z"
    },
    "jupyter": {
     "outputs_hidden": false
    }
   },
   "outputs": [],
   "source": []
  },
  {
   "cell_type": "markdown",
   "metadata": {},
   "source": [
    "## Problem: Import from HDF \n",
    "\n",
    "Import the data saved as HDF and verify it is the same as the original data."
   ]
  },
  {
   "cell_type": "code",
   "execution_count": null,
   "metadata": {
    "execution": {
     "iopub.execute_input": "2021-09-22T10:21:35.204086Z",
     "iopub.status.busy": "2021-09-22T10:21:35.204086Z",
     "iopub.status.idle": "2021-09-22T10:21:35.233088Z",
     "shell.execute_reply": "2021-09-22T10:21:35.233088Z"
    }
   },
   "outputs": [],
   "source": []
  },
  {
   "cell_type": "code",
   "execution_count": null,
   "metadata": {
    "execution": {
     "iopub.execute_input": "2021-09-22T10:21:35.236086Z",
     "iopub.status.busy": "2021-09-22T10:21:35.236086Z",
     "iopub.status.idle": "2021-09-22T10:21:35.249089Z",
     "shell.execute_reply": "2021-09-22T10:21:35.249089Z"
    },
    "jupyter": {
     "outputs_hidden": false
    }
   },
   "outputs": [],
   "source": []
  },
  {
   "cell_type": "markdown",
   "metadata": {},
   "source": [
    "## Exercises\n",
    "\n",
    "### Exercise: Import, export and verify\n",
    "\n",
    "* Import the data in \"data/fred-md.csv\"\n",
    "* Parse the dates and set the index column to \"sasdate\"\n",
    "* Remove first row labeled \"Transform:\" (**Hint**: Transpose, `del` and\n",
    "  transpose back, or use `drop`)\n",
    "* Re-parse the dates on the index\n",
    "* Remove columns that have more than 10% missing values\n",
    "* Save to \"data/fred-md.h5\" as HDF.\n",
    "* Load the data into the variable `reloaded` and verify it is identical."
   ]
  },
  {
   "cell_type": "code",
   "execution_count": null,
   "metadata": {
    "execution": {
     "iopub.execute_input": "2021-09-22T10:21:35.253087Z",
     "iopub.status.busy": "2021-09-22T10:21:35.253087Z",
     "iopub.status.idle": "2021-09-22T10:21:35.345089Z",
     "shell.execute_reply": "2021-09-22T10:21:35.345089Z"
    },
    "jupyter": {
     "outputs_hidden": false
    }
   },
   "outputs": [],
   "source": []
  },
  {
   "cell_type": "markdown",
   "metadata": {
    "pycharm": {
     "name": "#%% md\n"
    }
   },
   "source": [
    "### Exercise: Looping Export\n",
    "\n",
    "Export the columns RPI, INDPRO, and HWI from the FRED-MD data to\n",
    "`\"data/`_variablename_`.csv\"` so that, e.g., RPI is exported to `data/RPI.csv`:\n",
    "\n",
    "**Note** You need to complete the previous exercise first (or at least the first 4 steps)."
   ]
  },
  {
   "cell_type": "code",
   "execution_count": null,
   "metadata": {
    "execution": {
     "iopub.execute_input": "2021-09-22T10:21:35.349088Z",
     "iopub.status.busy": "2021-09-22T10:21:35.349088Z",
     "iopub.status.idle": "2021-09-22T10:21:35.376839Z",
     "shell.execute_reply": "2021-09-22T10:21:35.376839Z"
    },
    "jupyter": {
     "outputs_hidden": false
    },
    "tags": []
   },
   "outputs": [],
   "source": []
  }
 ],
 "metadata": {
  "kernelspec": {
   "display_name": "Python 3 (ipykernel)",
   "language": "python",
   "name": "python3"
  },
  "language_info": {
   "codemirror_mode": {
    "name": "ipython",
    "version": 3
   },
   "file_extension": ".py",
   "mimetype": "text/x-python",
   "name": "python",
   "nbconvert_exporter": "python",
   "pygments_lexer": "ipython3",
   "version": "3.9.6"
  },
  "pycharm": {
   "stem_cell": {
    "cell_type": "raw",
    "metadata": {
     "collapsed": false
    },
    "source": []
   }
  }
 },
 "nbformat": 4,
 "nbformat_minor": 4
}
