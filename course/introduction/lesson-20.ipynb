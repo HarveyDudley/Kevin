{
 "cells": [
  {
   "cell_type": "markdown",
   "metadata": {
    "pycharm": {
     "name": "#%% md\n"
    }
   },
   "source": [
    "# Saving and Exporting Data\n",
    "\n",
    "This lesson covers:\n",
    "\n",
    "* Saving and reloading data\n",
    "\n",
    "This first block loads the data that was used in the previous lesson."
   ]
  },
  {
   "cell_type": "code",
   "execution_count": null,
   "metadata": {
    "execution": {
     "iopub.execute_input": "2023-09-28T12:33:03.799705Z",
     "iopub.status.busy": "2023-09-28T12:33:03.799705Z",
     "iopub.status.idle": "2023-09-28T12:33:04.574609Z",
     "shell.execute_reply": "2023-09-28T12:33:04.574609Z"
    },
    "pycharm": {
     "is_executing": false,
     "name": "#%%\n"
    }
   },
   "outputs": [],
   "source": [
    "# Setup: Load the data to use later\n",
    "import pandas as pd\n",
    "\n",
    "gs10_csv = pd.read_csv(\"data/GS10.csv\", index_col=\"DATE\", parse_dates=True)\n",
    "gs10_excel = pd.read_excel(\"data/GS10.xls\", skiprows=10, index_col=\"observation_date\")"
   ]
  },
  {
   "cell_type": "markdown",
   "metadata": {
    "pycharm": {
     "name": "#%% md\n"
    }
   },
   "source": [
    "## Problem: Export to Excel\n",
    "\n",
    "Export `gs10_csv` to the Excel file `gs10-exported.xlsx`.\n"
   ]
  },
  {
   "cell_type": "code",
   "execution_count": null,
   "metadata": {
    "execution": {
     "iopub.execute_input": "2023-09-28T12:33:04.574609Z",
     "iopub.status.busy": "2023-09-28T12:33:04.574609Z",
     "iopub.status.idle": "2023-09-28T12:33:05.100621Z",
     "shell.execute_reply": "2023-09-28T12:33:05.100621Z"
    },
    "jupyter": {
     "outputs_hidden": false
    }
   },
   "outputs": [],
   "source": []
  },
  {
   "cell_type": "markdown",
   "metadata": {},
   "source": [
    "## Problem: Export to CSV\n",
    "\n",
    "Export `gs10_excel` to CSV. "
   ]
  },
  {
   "cell_type": "code",
   "execution_count": null,
   "metadata": {
    "execution": {
     "iopub.execute_input": "2023-09-28T12:33:05.102627Z",
     "iopub.status.busy": "2023-09-28T12:33:05.102627Z",
     "iopub.status.idle": "2023-09-28T12:33:05.111394Z",
     "shell.execute_reply": "2023-09-28T12:33:05.111394Z"
    },
    "jupyter": {
     "outputs_hidden": false
    }
   },
   "outputs": [],
   "source": []
  },
  {
   "cell_type": "markdown",
   "metadata": {},
   "source": [
    "## Problem: Export to HDF\n",
    "\n",
    "Export both to a single HDF file (the closest thing to a \"native\" format in pandas)."
   ]
  },
  {
   "cell_type": "code",
   "execution_count": null,
   "metadata": {
    "execution": {
     "iopub.execute_input": "2023-09-28T12:33:05.111394Z",
     "iopub.status.busy": "2023-09-28T12:33:05.111394Z",
     "iopub.status.idle": "2023-09-28T12:33:05.211223Z",
     "shell.execute_reply": "2023-09-28T12:33:05.211223Z"
    },
    "jupyter": {
     "outputs_hidden": false
    }
   },
   "outputs": [],
   "source": []
  },
  {
   "cell_type": "markdown",
   "metadata": {},
   "source": [
    "## Problem: Import from HDF \n",
    "\n",
    "Import the data saved as HDF and verify it is the same as the original data."
   ]
  },
  {
   "cell_type": "code",
   "execution_count": null,
   "metadata": {
    "execution": {
     "iopub.execute_input": "2023-09-28T12:33:05.212229Z",
     "iopub.status.busy": "2023-09-28T12:33:05.212229Z",
     "iopub.status.idle": "2023-09-28T12:33:05.231520Z",
     "shell.execute_reply": "2023-09-28T12:33:05.231520Z"
    }
   },
   "outputs": [],
   "source": []
  },
  {
   "cell_type": "code",
   "execution_count": null,
   "metadata": {
    "execution": {
     "iopub.execute_input": "2023-09-28T12:33:05.231520Z",
     "iopub.status.busy": "2023-09-28T12:33:05.231520Z",
     "iopub.status.idle": "2023-09-28T12:33:05.246376Z",
     "shell.execute_reply": "2023-09-28T12:33:05.246376Z"
    },
    "jupyter": {
     "outputs_hidden": false
    }
   },
   "outputs": [],
   "source": []
  },
  {
   "cell_type": "markdown",
   "metadata": {},
   "source": [
    "## Exercises\n",
    "\n",
    "### Exercise: Import, export and verify\n",
    "\n",
    "* Import the data in \"data/fred-md.csv\"\n",
    "* Parse the dates and set the index column to \"sasdate\"\n",
    "* Remove first row labeled \"Transform:\" (**Hint**: Transpose, `del` and\n",
    "  transpose back, or use `drop`)\n",
    "* Re-parse the dates on the index\n",
    "* Remove columns that have more than 10% missing values\n",
    "* Save to \"data/fred-md.h5\" as HDF.\n",
    "* Load the data into the variable `reloaded` and verify it is identical."
   ]
  },
  {
   "cell_type": "code",
   "execution_count": null,
   "metadata": {
    "execution": {
     "iopub.execute_input": "2023-09-28T12:33:05.246376Z",
     "iopub.status.busy": "2023-09-28T12:33:05.246376Z",
     "iopub.status.idle": "2023-09-28T12:33:05.299175Z",
     "shell.execute_reply": "2023-09-28T12:33:05.299175Z"
    },
    "jupyter": {
     "outputs_hidden": false
    }
   },
   "outputs": [],
   "source": []
  },
  {
   "cell_type": "markdown",
   "metadata": {
    "pycharm": {
     "name": "#%% md\n"
    }
   },
   "source": [
    "### Exercise: Looping Export\n",
    "\n",
    "Export the columns RPI, INDPRO, and HWI from the FRED-MD data to\n",
    "`\"data/`_variablename_`.csv\"` so that, e.g., RPI is exported to `data/RPI.csv`:\n",
    "\n",
    "**Note** You need to complete the previous exercise first (or at least the first 4 steps)."
   ]
  },
  {
   "cell_type": "code",
   "execution_count": null,
   "metadata": {
    "execution": {
     "iopub.execute_input": "2023-09-28T12:33:05.299175Z",
     "iopub.status.busy": "2023-09-28T12:33:05.299175Z",
     "iopub.status.idle": "2023-09-28T12:33:05.312826Z",
     "shell.execute_reply": "2023-09-28T12:33:05.312826Z"
    },
    "jupyter": {
     "outputs_hidden": false
    },
    "tags": []
   },
   "outputs": [],
   "source": []
  }
 ],
 "metadata": {
  "kernelspec": {
   "display_name": "Python 3 (ipykernel)",
   "language": "python",
   "name": "python3"
  },
  "language_info": {
   "codemirror_mode": {
    "name": "ipython",
    "version": 3
   },
   "file_extension": ".py",
   "mimetype": "text/x-python",
   "name": "python",
   "nbconvert_exporter": "python",
   "pygments_lexer": "ipython3",
   "version": "3.11.5"
  },
  "pycharm": {
   "stem_cell": {
    "cell_type": "raw",
    "metadata": {
     "collapsed": false
    },
    "source": []
   }
  }
 },
 "nbformat": 4,
 "nbformat_minor": 4
}
