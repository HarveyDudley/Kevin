{
 "cells": [
  {
   "cell_type": "markdown",
   "metadata": {},
   "source": [
    "# Boolean Arrays \n",
    "\n",
    "This lesson covers:\n",
    "\n",
    "* Creating Boolean arrays\n",
    "* Combining Boolean arrays\n",
    "* `all` and `any`\n",
    "\n",
    "Begin by loading the data in momentum.csv.\n"
   ]
  },
  {
   "cell_type": "code",
   "execution_count": null,
   "metadata": {
    "execution": {
     "iopub.execute_input": "2024-02-27T16:09:29.165928Z",
     "iopub.status.busy": "2024-02-27T16:09:29.165928Z",
     "iopub.status.idle": "2024-02-27T16:09:29.684799Z",
     "shell.execute_reply": "2024-02-27T16:09:29.684799Z"
    },
    "pycharm": {
     "name": "#%%\n"
    }
   },
   "outputs": [],
   "source": [
    "# Setup: Load the momentum data\n",
    "\n",
    "import numpy as np\n",
    "import pandas as pd\n",
    "\n",
    "momentum = pd.read_csv(\"data/momentum.csv\", index_col=\"date\", parse_dates=True)\n",
    "\n",
    "print(momentum.head())\n",
    "\n",
    "mom_01 = momentum[\"mom_01\"]\n",
    "mom_10 = momentum[\"mom_10\"]\n",
    "mom_05 = momentum[\"mom_05\"]"
   ]
  },
  {
   "cell_type": "markdown",
   "metadata": {},
   "source": [
    "## Problem: Boolean arrays\n",
    "For portfolios 1 and 10, determine whether each return is $<0$ (separately)."
   ]
  },
  {
   "cell_type": "code",
   "execution_count": null,
   "metadata": {
    "execution": {
     "iopub.execute_input": "2024-02-27T16:09:29.687895Z",
     "iopub.status.busy": "2024-02-27T16:09:29.686896Z",
     "iopub.status.idle": "2024-02-27T16:09:29.690597Z",
     "shell.execute_reply": "2024-02-27T16:09:29.690597Z"
    }
   },
   "outputs": [],
   "source": []
  },
  {
   "cell_type": "markdown",
   "metadata": {},
   "source": [
    "## Problem: Combining boolean arrays\n",
    "Count the number of times that the returns in both portfolio 1 and portfolio\n",
    "10 are negative. Next count the number of times that the returns in portfolios\n",
    "1 and 10 are both greater, in absolute value, that 2 times their respective\n",
    "standard deviations. "
   ]
  },
  {
   "cell_type": "code",
   "execution_count": null,
   "metadata": {
    "execution": {
     "iopub.execute_input": "2024-02-27T16:09:29.693687Z",
     "iopub.status.busy": "2024-02-27T16:09:29.692688Z",
     "iopub.status.idle": "2024-02-27T16:09:29.696823Z",
     "shell.execute_reply": "2024-02-27T16:09:29.696823Z"
    }
   },
   "outputs": [],
   "source": []
  },
  {
   "cell_type": "code",
   "execution_count": null,
   "metadata": {
    "execution": {
     "iopub.execute_input": "2024-02-27T16:09:29.698829Z",
     "iopub.status.busy": "2024-02-27T16:09:29.698829Z",
     "iopub.status.idle": "2024-02-27T16:09:29.702606Z",
     "shell.execute_reply": "2024-02-27T16:09:29.702606Z"
    }
   },
   "outputs": [],
   "source": []
  },
  {
   "cell_type": "markdown",
   "metadata": {},
   "source": [
    "## Problem: Combining boolean arrays\n",
    "For portfolios 1 and 10, count the number of times either of the returns is $<0$.\n"
   ]
  },
  {
   "cell_type": "code",
   "execution_count": null,
   "metadata": {
    "execution": {
     "iopub.execute_input": "2024-02-27T16:09:29.704611Z",
     "iopub.status.busy": "2024-02-27T16:09:29.704611Z",
     "iopub.status.idle": "2024-02-27T16:09:29.708151Z",
     "shell.execute_reply": "2024-02-27T16:09:29.708151Z"
    }
   },
   "outputs": [],
   "source": []
  },
  {
   "cell_type": "markdown",
   "metadata": {},
   "source": [
    "## Problem: Count the frequency of negative returns\n",
    "\n",
    "What percent of returns are negative for each of the 10 momentum portfolios?"
   ]
  },
  {
   "cell_type": "code",
   "execution_count": null,
   "metadata": {
    "execution": {
     "iopub.execute_input": "2024-02-27T16:09:29.711159Z",
     "iopub.status.busy": "2024-02-27T16:09:29.711159Z",
     "iopub.status.idle": "2024-02-27T16:09:29.718557Z",
     "shell.execute_reply": "2024-02-27T16:09:29.718498Z"
    }
   },
   "outputs": [],
   "source": []
  },
  {
   "cell_type": "markdown",
   "metadata": {},
   "source": [
    "## Problem: Use `any` to find large losses\n",
    "\n",
    "Use any to determine if any of the 10 portfolios experienced a loss\n",
    "greater than -5%."
   ]
  },
  {
   "cell_type": "code",
   "execution_count": null,
   "metadata": {
    "execution": {
     "iopub.execute_input": "2024-02-27T16:09:29.721589Z",
     "iopub.status.busy": "2024-02-27T16:09:29.720589Z",
     "iopub.status.idle": "2024-02-27T16:09:29.725264Z",
     "shell.execute_reply": "2024-02-27T16:09:29.725264Z"
    }
   },
   "outputs": [],
   "source": []
  },
  {
   "cell_type": "code",
   "execution_count": null,
   "metadata": {
    "execution": {
     "iopub.execute_input": "2024-02-27T16:09:29.728271Z",
     "iopub.status.busy": "2024-02-27T16:09:29.727271Z",
     "iopub.status.idle": "2024-02-27T16:09:29.732765Z",
     "shell.execute_reply": "2024-02-27T16:09:29.732765Z"
    }
   },
   "outputs": [],
   "source": []
  },
  {
   "cell_type": "code",
   "execution_count": null,
   "metadata": {
    "execution": {
     "iopub.execute_input": "2024-02-27T16:09:29.735774Z",
     "iopub.status.busy": "2024-02-27T16:09:29.734771Z",
     "iopub.status.idle": "2024-02-27T16:09:29.740127Z",
     "shell.execute_reply": "2024-02-27T16:09:29.740073Z"
    }
   },
   "outputs": [],
   "source": []
  },
  {
   "cell_type": "markdown",
   "metadata": {},
   "source": [
    "Use `all` and negation to do the same check as `any`."
   ]
  },
  {
   "cell_type": "code",
   "execution_count": null,
   "metadata": {
    "execution": {
     "iopub.execute_input": "2024-02-27T16:09:29.742161Z",
     "iopub.status.busy": "2024-02-27T16:09:29.742161Z",
     "iopub.status.idle": "2024-02-27T16:09:29.747727Z",
     "shell.execute_reply": "2024-02-27T16:09:29.747727Z"
    }
   },
   "outputs": [],
   "source": []
  },
  {
   "cell_type": "markdown",
   "metadata": {},
   "source": [
    "## Exercises\n",
    "\n",
    "### Exercise: all and any\n",
    "Use `all` and `sum` to count the number of days where all of the portfolio returns\n",
    "were negative. Use `any` to compute the number of days with at least 1 negative\n",
    "return and with no negative returns (Hint: use negation (~ or `logical_not`)). "
   ]
  },
  {
   "cell_type": "code",
   "execution_count": null,
   "metadata": {
    "execution": {
     "iopub.execute_input": "2024-02-27T16:09:29.749734Z",
     "iopub.status.busy": "2024-02-27T16:09:29.749734Z",
     "iopub.status.idle": "2024-02-27T16:09:29.755458Z",
     "shell.execute_reply": "2024-02-27T16:09:29.755458Z"
    }
   },
   "outputs": [],
   "source": []
  },
  {
   "cell_type": "code",
   "execution_count": null,
   "metadata": {
    "execution": {
     "iopub.execute_input": "2024-02-27T16:09:29.757558Z",
     "iopub.status.busy": "2024-02-27T16:09:29.757558Z",
     "iopub.status.idle": "2024-02-27T16:09:29.762579Z",
     "shell.execute_reply": "2024-02-27T16:09:29.762579Z"
    }
   },
   "outputs": [],
   "source": []
  },
  {
   "cell_type": "code",
   "execution_count": null,
   "metadata": {
    "execution": {
     "iopub.execute_input": "2024-02-27T16:09:29.764586Z",
     "iopub.status.busy": "2024-02-27T16:09:29.764586Z",
     "iopub.status.idle": "2024-02-27T16:09:29.769727Z",
     "shell.execute_reply": "2024-02-27T16:09:29.769727Z"
    }
   },
   "outputs": [],
   "source": []
  },
  {
   "cell_type": "markdown",
   "metadata": {
    "pycharm": {
     "name": "#%% md\n"
    }
   },
   "source": [
    "### Exercise: Count Extreme Days\n",
    "\n",
    "Count the number of days where each of the portfolio returns is less than the \n",
    "5% quantile for the portfolio. Also report the fraction of days where all are in their\n",
    "lower 5% tail."
   ]
  },
  {
   "cell_type": "code",
   "execution_count": null,
   "metadata": {
    "execution": {
     "iopub.execute_input": "2024-02-27T16:09:29.771736Z",
     "iopub.status.busy": "2024-02-27T16:09:29.771736Z",
     "iopub.status.idle": "2024-02-27T16:09:29.783830Z",
     "shell.execute_reply": "2024-02-27T16:09:29.783830Z"
    }
   },
   "outputs": [],
   "source": []
  },
  {
   "cell_type": "code",
   "execution_count": null,
   "metadata": {
    "execution": {
     "iopub.execute_input": "2024-02-27T16:09:29.785839Z",
     "iopub.status.busy": "2024-02-27T16:09:29.785839Z",
     "iopub.status.idle": "2024-02-27T16:09:29.789841Z",
     "shell.execute_reply": "2024-02-27T16:09:29.789841Z"
    },
    "tags": []
   },
   "outputs": [],
   "source": []
  }
 ],
 "metadata": {
  "kernelspec": {
   "display_name": "Python 3 (ipykernel)",
   "language": "python",
   "name": "python3"
  },
  "language_info": {
   "codemirror_mode": {
    "name": "ipython",
    "version": 3
   },
   "file_extension": ".py",
   "mimetype": "text/x-python",
   "name": "python",
   "nbconvert_exporter": "python",
   "pygments_lexer": "ipython3",
   "version": "3.11.5"
  },
  "pycharm": {
   "stem_cell": {
    "cell_type": "raw",
    "metadata": {
     "collapsed": false
    },
    "source": []
   }
  }
 },
 "nbformat": 4,
 "nbformat_minor": 4
}
