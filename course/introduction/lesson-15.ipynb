{
 "cells": [
  {
   "cell_type": "markdown",
   "metadata": {},
   "source": [
    "# Boolean Arrays \n",
    "\n",
    "This lesson covers:\n",
    "\n",
    "* Creating Boolean arrays\n",
    "* Combining Boolean arrays\n",
    "* `all` and `any`\n",
    "\n",
    "Begin by loading the data in momentum.csv.\n"
   ]
  },
  {
   "cell_type": "code",
   "execution_count": null,
   "metadata": {
    "execution": {
     "iopub.execute_input": "2023-09-28T12:32:40.011729Z",
     "iopub.status.busy": "2023-09-28T12:32:40.011729Z",
     "iopub.status.idle": "2023-09-28T12:32:40.807769Z",
     "shell.execute_reply": "2023-09-28T12:32:40.807769Z"
    },
    "pycharm": {
     "name": "#%%\n"
    }
   },
   "outputs": [],
   "source": [
    "# Setup: Load the momentum data\n",
    "\n",
    "import numpy as np\n",
    "import pandas as pd\n",
    "\n",
    "momentum = pd.read_csv(\"data/momentum.csv\", index_col=\"date\", parse_dates=True)\n",
    "\n",
    "print(momentum.head())\n",
    "\n",
    "mom_01 = momentum[\"mom_01\"]\n",
    "mom_10 = momentum[\"mom_10\"]\n",
    "mom_05 = momentum[\"mom_05\"]"
   ]
  },
  {
   "cell_type": "markdown",
   "metadata": {},
   "source": [
    "## Problem: Boolean arrays\n",
    "For portfolios 1 and 10, determine whether each return is $<0$ (separately)."
   ]
  },
  {
   "cell_type": "code",
   "execution_count": null,
   "metadata": {
    "execution": {
     "iopub.execute_input": "2023-09-28T12:32:40.807769Z",
     "iopub.status.busy": "2023-09-28T12:32:40.807769Z",
     "iopub.status.idle": "2023-09-28T12:32:40.814457Z",
     "shell.execute_reply": "2023-09-28T12:32:40.814457Z"
    }
   },
   "outputs": [],
   "source": []
  },
  {
   "cell_type": "markdown",
   "metadata": {},
   "source": [
    "## Problem: Combining boolean arrays\n",
    "Count the number of times that the returns in both portfolio 1 and portfolio\n",
    "10 are negative. Next count the number of times that the returns in portfolios\n",
    "1 and 10 are both greater, in absolute value, that 2 times their respective\n",
    "standard deviations. "
   ]
  },
  {
   "cell_type": "code",
   "execution_count": null,
   "metadata": {
    "execution": {
     "iopub.execute_input": "2023-09-28T12:32:40.814457Z",
     "iopub.status.busy": "2023-09-28T12:32:40.814457Z",
     "iopub.status.idle": "2023-09-28T12:32:40.821548Z",
     "shell.execute_reply": "2023-09-28T12:32:40.821548Z"
    }
   },
   "outputs": [],
   "source": []
  },
  {
   "cell_type": "code",
   "execution_count": null,
   "metadata": {
    "execution": {
     "iopub.execute_input": "2023-09-28T12:32:40.821548Z",
     "iopub.status.busy": "2023-09-28T12:32:40.821548Z",
     "iopub.status.idle": "2023-09-28T12:32:40.828438Z",
     "shell.execute_reply": "2023-09-28T12:32:40.828438Z"
    }
   },
   "outputs": [],
   "source": []
  },
  {
   "cell_type": "markdown",
   "metadata": {},
   "source": [
    "## Problem: Combining boolean arrays\n",
    "For portfolios 1 and 10, count the number of times either of the returns is $<0$.\n"
   ]
  },
  {
   "cell_type": "code",
   "execution_count": null,
   "metadata": {
    "execution": {
     "iopub.execute_input": "2023-09-28T12:32:40.829944Z",
     "iopub.status.busy": "2023-09-28T12:32:40.829944Z",
     "iopub.status.idle": "2023-09-28T12:32:40.835306Z",
     "shell.execute_reply": "2023-09-28T12:32:40.835306Z"
    }
   },
   "outputs": [],
   "source": []
  },
  {
   "cell_type": "markdown",
   "metadata": {},
   "source": [
    "## Problem: Count the frequency of negative returns\n",
    "\n",
    "What percent of returns are negative for each of the 10 momentum portfolios?"
   ]
  },
  {
   "cell_type": "code",
   "execution_count": null,
   "metadata": {
    "execution": {
     "iopub.execute_input": "2023-09-28T12:32:40.835306Z",
     "iopub.status.busy": "2023-09-28T12:32:40.835306Z",
     "iopub.status.idle": "2023-09-28T12:32:40.846454Z",
     "shell.execute_reply": "2023-09-28T12:32:40.846454Z"
    }
   },
   "outputs": [],
   "source": []
  },
  {
   "cell_type": "markdown",
   "metadata": {},
   "source": [
    "## Problem: Use `any` to find large losses\n",
    "\n",
    "Use any to determine if any of the 10 portfolios experienced a loss\n",
    "greater than -5%."
   ]
  },
  {
   "cell_type": "code",
   "execution_count": null,
   "metadata": {
    "execution": {
     "iopub.execute_input": "2023-09-28T12:32:40.846454Z",
     "iopub.status.busy": "2023-09-28T12:32:40.846454Z",
     "iopub.status.idle": "2023-09-28T12:32:40.853741Z",
     "shell.execute_reply": "2023-09-28T12:32:40.853741Z"
    }
   },
   "outputs": [],
   "source": []
  },
  {
   "cell_type": "code",
   "execution_count": null,
   "metadata": {
    "execution": {
     "iopub.execute_input": "2023-09-28T12:32:40.853741Z",
     "iopub.status.busy": "2023-09-28T12:32:40.853741Z",
     "iopub.status.idle": "2023-09-28T12:32:40.861712Z",
     "shell.execute_reply": "2023-09-28T12:32:40.861712Z"
    }
   },
   "outputs": [],
   "source": []
  },
  {
   "cell_type": "code",
   "execution_count": null,
   "metadata": {
    "execution": {
     "iopub.execute_input": "2023-09-28T12:32:40.861712Z",
     "iopub.status.busy": "2023-09-28T12:32:40.861712Z",
     "iopub.status.idle": "2023-09-28T12:32:40.870622Z",
     "shell.execute_reply": "2023-09-28T12:32:40.870622Z"
    }
   },
   "outputs": [],
   "source": []
  },
  {
   "cell_type": "markdown",
   "metadata": {},
   "source": [
    "Use `all` and negation to do the same check as `any`."
   ]
  },
  {
   "cell_type": "code",
   "execution_count": null,
   "metadata": {
    "execution": {
     "iopub.execute_input": "2023-09-28T12:32:40.870622Z",
     "iopub.status.busy": "2023-09-28T12:32:40.870622Z",
     "iopub.status.idle": "2023-09-28T12:32:40.879678Z",
     "shell.execute_reply": "2023-09-28T12:32:40.879678Z"
    }
   },
   "outputs": [],
   "source": []
  },
  {
   "cell_type": "markdown",
   "metadata": {},
   "source": [
    "## Exercises\n",
    "\n",
    "### Exercise: all and any\n",
    "Use `all` and `sum` to count the number of days where all of the portfolio returns\n",
    "were negative. Use `any` to compute the number of days with at least 1 negative\n",
    "return and with no negative returns (Hint: use negation (~ or `logical_not`)). "
   ]
  },
  {
   "cell_type": "code",
   "execution_count": null,
   "metadata": {
    "execution": {
     "iopub.execute_input": "2023-09-28T12:32:40.879678Z",
     "iopub.status.busy": "2023-09-28T12:32:40.879678Z",
     "iopub.status.idle": "2023-09-28T12:32:40.888326Z",
     "shell.execute_reply": "2023-09-28T12:32:40.888326Z"
    }
   },
   "outputs": [],
   "source": []
  },
  {
   "cell_type": "code",
   "execution_count": null,
   "metadata": {
    "execution": {
     "iopub.execute_input": "2023-09-28T12:32:40.888326Z",
     "iopub.status.busy": "2023-09-28T12:32:40.888326Z",
     "iopub.status.idle": "2023-09-28T12:32:40.896734Z",
     "shell.execute_reply": "2023-09-28T12:32:40.896734Z"
    }
   },
   "outputs": [],
   "source": []
  },
  {
   "cell_type": "code",
   "execution_count": null,
   "metadata": {
    "execution": {
     "iopub.execute_input": "2023-09-28T12:32:40.896734Z",
     "iopub.status.busy": "2023-09-28T12:32:40.896734Z",
     "iopub.status.idle": "2023-09-28T12:32:40.905034Z",
     "shell.execute_reply": "2023-09-28T12:32:40.905034Z"
    }
   },
   "outputs": [],
   "source": []
  },
  {
   "cell_type": "markdown",
   "metadata": {
    "pycharm": {
     "name": "#%% md\n"
    }
   },
   "source": [
    "### Exercise: Count Extreme Days\n",
    "\n",
    "Count the number of days where each of the portfolio returns is less than the \n",
    "5% quantile for the portfolio. Also report the fraction of days where all are in their\n",
    "lower 5% tail."
   ]
  },
  {
   "cell_type": "code",
   "execution_count": null,
   "metadata": {
    "execution": {
     "iopub.execute_input": "2023-09-28T12:32:40.905034Z",
     "iopub.status.busy": "2023-09-28T12:32:40.905034Z",
     "iopub.status.idle": "2023-09-28T12:32:40.920141Z",
     "shell.execute_reply": "2023-09-28T12:32:40.920141Z"
    }
   },
   "outputs": [],
   "source": []
  },
  {
   "cell_type": "code",
   "execution_count": null,
   "metadata": {
    "execution": {
     "iopub.execute_input": "2023-09-28T12:32:40.920141Z",
     "iopub.status.busy": "2023-09-28T12:32:40.920141Z",
     "iopub.status.idle": "2023-09-28T12:32:40.927288Z",
     "shell.execute_reply": "2023-09-28T12:32:40.927288Z"
    },
    "tags": []
   },
   "outputs": [],
   "source": []
  }
 ],
 "metadata": {
  "kernelspec": {
   "display_name": "Python 3 (ipykernel)",
   "language": "python",
   "name": "python3"
  },
  "language_info": {
   "codemirror_mode": {
    "name": "ipython",
    "version": 3
   },
   "file_extension": ".py",
   "mimetype": "text/x-python",
   "name": "python",
   "nbconvert_exporter": "python",
   "pygments_lexer": "ipython3",
   "version": "3.11.5"
  },
  "pycharm": {
   "stem_cell": {
    "cell_type": "raw",
    "metadata": {
     "collapsed": false
    },
    "source": []
   }
  }
 },
 "nbformat": 4,
 "nbformat_minor": 4
}
