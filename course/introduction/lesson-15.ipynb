{
 "cells": [
  {
   "cell_type": "markdown",
   "metadata": {},
   "source": [
    "# Boolean Arrays \n",
    "\n",
    "This lesson covers:\n",
    "\n",
    "* Creating Boolean arrays\n",
    "* Combining Boolean arrays\n",
    "* `all` and `any`\n",
    "\n",
    "Begin by loading the data in momentum.csv.\n"
   ]
  },
  {
   "cell_type": "code",
   "execution_count": null,
   "metadata": {
    "execution": {
     "iopub.execute_input": "2021-09-22T10:21:22.070455Z",
     "iopub.status.busy": "2021-09-22T10:21:22.070455Z",
     "iopub.status.idle": "2021-09-22T10:21:22.377528Z",
     "shell.execute_reply": "2021-09-22T10:21:22.377528Z"
    },
    "pycharm": {
     "name": "#%%\n"
    }
   },
   "outputs": [],
   "source": [
    "# Setup: Load the momentum data\n",
    "\n",
    "import numpy as np\n",
    "import pandas as pd\n",
    "\n",
    "momentum = pd.read_csv(\"data/momentum.csv\", index_col=\"date\", parse_dates=True)\n",
    "\n",
    "print(momentum.head())\n",
    "\n",
    "mom_01 = momentum[\"mom_01\"]\n",
    "mom_10 = momentum[\"mom_10\"]\n",
    "mom_05 = momentum[\"mom_05\"]"
   ]
  },
  {
   "cell_type": "markdown",
   "metadata": {},
   "source": [
    "## Problem: Boolean arrays\n",
    "For portfolios 1 and 10, determine whether each return is $<0$ (separately)."
   ]
  },
  {
   "cell_type": "code",
   "execution_count": null,
   "metadata": {
    "execution": {
     "iopub.execute_input": "2021-09-22T10:21:22.380527Z",
     "iopub.status.busy": "2021-09-22T10:21:22.380527Z",
     "iopub.status.idle": "2021-09-22T10:21:22.393528Z",
     "shell.execute_reply": "2021-09-22T10:21:22.393528Z"
    }
   },
   "outputs": [],
   "source": []
  },
  {
   "cell_type": "markdown",
   "metadata": {},
   "source": [
    "## Problem: Combining boolean arrays\n",
    "Count the number of times that the returns in both portfolio 1 and portfolio\n",
    "10 are negative. Next count the number of times that the returns in portfolios\n",
    "1 and 10 are both greater, in absolute value, that 2 times their respective\n",
    "standard deviations. "
   ]
  },
  {
   "cell_type": "code",
   "execution_count": null,
   "metadata": {
    "execution": {
     "iopub.execute_input": "2021-09-22T10:21:22.396527Z",
     "iopub.status.busy": "2021-09-22T10:21:22.395527Z",
     "iopub.status.idle": "2021-09-22T10:21:22.409527Z",
     "shell.execute_reply": "2021-09-22T10:21:22.409527Z"
    }
   },
   "outputs": [],
   "source": []
  },
  {
   "cell_type": "code",
   "execution_count": null,
   "metadata": {
    "execution": {
     "iopub.execute_input": "2021-09-22T10:21:22.412527Z",
     "iopub.status.busy": "2021-09-22T10:21:22.412527Z",
     "iopub.status.idle": "2021-09-22T10:21:22.425528Z",
     "shell.execute_reply": "2021-09-22T10:21:22.425528Z"
    }
   },
   "outputs": [],
   "source": []
  },
  {
   "cell_type": "markdown",
   "metadata": {},
   "source": [
    "## Problem: Combining boolean arrays\n",
    "For portfolios 1 and 10, count the number of times either of the returns is $<0$.\n"
   ]
  },
  {
   "cell_type": "code",
   "execution_count": null,
   "metadata": {
    "execution": {
     "iopub.execute_input": "2021-09-22T10:21:22.428529Z",
     "iopub.status.busy": "2021-09-22T10:21:22.427527Z",
     "iopub.status.idle": "2021-09-22T10:21:22.441545Z",
     "shell.execute_reply": "2021-09-22T10:21:22.441545Z"
    }
   },
   "outputs": [],
   "source": []
  },
  {
   "cell_type": "markdown",
   "metadata": {},
   "source": [
    "## Problem: Count the frequency of negative returns\n",
    "\n",
    "What percent of returns are negative for each of the 10 momentum portfolios?"
   ]
  },
  {
   "cell_type": "code",
   "execution_count": null,
   "metadata": {
    "execution": {
     "iopub.execute_input": "2021-09-22T10:21:22.449544Z",
     "iopub.status.busy": "2021-09-22T10:21:22.449544Z",
     "iopub.status.idle": "2021-09-22T10:21:22.456964Z",
     "shell.execute_reply": "2021-09-22T10:21:22.456964Z"
    }
   },
   "outputs": [],
   "source": []
  },
  {
   "cell_type": "markdown",
   "metadata": {},
   "source": [
    "## Problem: Use `any` to find large losses\n",
    "\n",
    "Use any to determine if any of the 10 portfolios experienced a loss\n",
    "greater than -5%."
   ]
  },
  {
   "cell_type": "code",
   "execution_count": null,
   "metadata": {
    "execution": {
     "iopub.execute_input": "2021-09-22T10:21:22.459964Z",
     "iopub.status.busy": "2021-09-22T10:21:22.459964Z",
     "iopub.status.idle": "2021-09-22T10:21:22.472559Z",
     "shell.execute_reply": "2021-09-22T10:21:22.472559Z"
    }
   },
   "outputs": [],
   "source": []
  },
  {
   "cell_type": "code",
   "execution_count": null,
   "metadata": {
    "execution": {
     "iopub.execute_input": "2021-09-22T10:21:22.476554Z",
     "iopub.status.busy": "2021-09-22T10:21:22.475554Z",
     "iopub.status.idle": "2021-09-22T10:21:22.488228Z",
     "shell.execute_reply": "2021-09-22T10:21:22.488228Z"
    }
   },
   "outputs": [],
   "source": []
  },
  {
   "cell_type": "code",
   "execution_count": null,
   "metadata": {
    "execution": {
     "iopub.execute_input": "2021-09-22T10:21:22.492227Z",
     "iopub.status.busy": "2021-09-22T10:21:22.492227Z",
     "iopub.status.idle": "2021-09-22T10:21:22.503916Z",
     "shell.execute_reply": "2021-09-22T10:21:22.503916Z"
    }
   },
   "outputs": [],
   "source": []
  },
  {
   "cell_type": "markdown",
   "metadata": {},
   "source": [
    "Use `all` and negation to do the same check as `any`."
   ]
  },
  {
   "cell_type": "code",
   "execution_count": null,
   "metadata": {
    "execution": {
     "iopub.execute_input": "2021-09-22T10:21:22.507911Z",
     "iopub.status.busy": "2021-09-22T10:21:22.507911Z",
     "iopub.status.idle": "2021-09-22T10:21:22.519588Z",
     "shell.execute_reply": "2021-09-22T10:21:22.519588Z"
    }
   },
   "outputs": [],
   "source": []
  },
  {
   "cell_type": "markdown",
   "metadata": {},
   "source": [
    "## Exercises\n",
    "\n",
    "### Exercise: all and any\n",
    "Use `all` and `sum` to count the number of days where all of the portfolio returns\n",
    "were negative. Use `any` to compute the number of days with at least 1 negative\n",
    "return and with no negative returns (Hint: use negation (~ or `logical_not`)). "
   ]
  },
  {
   "cell_type": "code",
   "execution_count": null,
   "metadata": {
    "execution": {
     "iopub.execute_input": "2021-09-22T10:21:22.522587Z",
     "iopub.status.busy": "2021-09-22T10:21:22.522587Z",
     "iopub.status.idle": "2021-09-22T10:21:22.534565Z",
     "shell.execute_reply": "2021-09-22T10:21:22.534565Z"
    }
   },
   "outputs": [],
   "source": []
  },
  {
   "cell_type": "code",
   "execution_count": null,
   "metadata": {
    "execution": {
     "iopub.execute_input": "2021-09-22T10:21:22.537565Z",
     "iopub.status.busy": "2021-09-22T10:21:22.537565Z",
     "iopub.status.idle": "2021-09-22T10:21:22.550579Z",
     "shell.execute_reply": "2021-09-22T10:21:22.550579Z"
    }
   },
   "outputs": [],
   "source": []
  },
  {
   "cell_type": "code",
   "execution_count": null,
   "metadata": {
    "execution": {
     "iopub.execute_input": "2021-09-22T10:21:22.553582Z",
     "iopub.status.busy": "2021-09-22T10:21:22.553582Z",
     "iopub.status.idle": "2021-09-22T10:21:22.565424Z",
     "shell.execute_reply": "2021-09-22T10:21:22.565424Z"
    }
   },
   "outputs": [],
   "source": []
  },
  {
   "cell_type": "markdown",
   "metadata": {
    "pycharm": {
     "name": "#%% md\n"
    }
   },
   "source": [
    "### Exercise: Count Extreme Days\n",
    "\n",
    "Count the number of days where each of the portfolio returns is less than the \n",
    "5% quantile for the portfolio. Also report the fraction of days where all are in their\n",
    "lower 5% tail."
   ]
  },
  {
   "cell_type": "code",
   "execution_count": null,
   "metadata": {
    "execution": {
     "iopub.execute_input": "2021-09-22T10:21:22.568424Z",
     "iopub.status.busy": "2021-09-22T10:21:22.568424Z",
     "iopub.status.idle": "2021-09-22T10:21:22.580443Z",
     "shell.execute_reply": "2021-09-22T10:21:22.580443Z"
    }
   },
   "outputs": [],
   "source": []
  },
  {
   "cell_type": "code",
   "execution_count": null,
   "metadata": {
    "execution": {
     "iopub.execute_input": "2021-09-22T10:21:22.583443Z",
     "iopub.status.busy": "2021-09-22T10:21:22.583443Z",
     "iopub.status.idle": "2021-09-22T10:21:22.596363Z",
     "shell.execute_reply": "2021-09-22T10:21:22.596363Z"
    },
    "tags": []
   },
   "outputs": [],
   "source": []
  }
 ],
 "metadata": {
  "kernelspec": {
   "display_name": "Python 3 (ipykernel)",
   "language": "python",
   "name": "python3"
  },
  "language_info": {
   "codemirror_mode": {
    "name": "ipython",
    "version": 3
   },
   "file_extension": ".py",
   "mimetype": "text/x-python",
   "name": "python",
   "nbconvert_exporter": "python",
   "pygments_lexer": "ipython3",
   "version": "3.9.6"
  },
  "pycharm": {
   "stem_cell": {
    "cell_type": "raw",
    "metadata": {
     "collapsed": false
    },
    "source": []
   }
  }
 },
 "nbformat": 4,
 "nbformat_minor": 4
}
