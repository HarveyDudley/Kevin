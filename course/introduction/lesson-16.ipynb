{
 "cells": [
  {
   "cell_type": "markdown",
   "metadata": {},
   "source": [
    "# Boolean Selection \n",
    "\n",
    "This lesson covers:\n",
    "\n",
    "* Boolean selection\n",
    "* `where`\n",
    "\n",
    "Begin by loading the data in momentum.csv.\n"
   ]
  },
  {
   "cell_type": "code",
   "execution_count": null,
   "metadata": {
    "execution": {
     "iopub.execute_input": "2023-09-28T12:32:43.876006Z",
     "iopub.status.busy": "2023-09-28T12:32:43.876006Z",
     "iopub.status.idle": "2023-09-28T12:32:44.641426Z",
     "shell.execute_reply": "2023-09-28T12:32:44.641426Z"
    },
    "pycharm": {
     "is_executing": false,
     "name": "#%%\n"
    }
   },
   "outputs": [],
   "source": [
    "# Setup: Load the momentum data\n",
    "\n",
    "import numpy as np\n",
    "import pandas as pd\n",
    "\n",
    "momentum = pd.read_csv(\"data/momentum.csv\", index_col=\"date\", parse_dates=True)\n",
    "\n",
    "print(momentum.head())"
   ]
  },
  {
   "cell_type": "markdown",
   "metadata": {},
   "source": [
    "## Problem: Selecting rows with boolean conditions\n",
    "\n",
    "Select the rows in `momentum` where all returns on a day are negative."
   ]
  },
  {
   "cell_type": "code",
   "execution_count": null,
   "metadata": {
    "execution": {
     "iopub.execute_input": "2023-09-28T12:32:44.644435Z",
     "iopub.status.busy": "2023-09-28T12:32:44.641426Z",
     "iopub.status.idle": "2023-09-28T12:32:44.665099Z",
     "shell.execute_reply": "2023-09-28T12:32:44.665099Z"
    }
   },
   "outputs": [],
   "source": []
  },
  {
   "cell_type": "markdown",
   "metadata": {},
   "source": [
    "## Problem: Selecting rows\n",
    "\n",
    "Select the rows in `momentum` where 50% or more of the returns on a day are negative."
   ]
  },
  {
   "cell_type": "code",
   "execution_count": null,
   "metadata": {
    "execution": {
     "iopub.execute_input": "2023-09-28T12:32:44.665099Z",
     "iopub.status.busy": "2023-09-28T12:32:44.665099Z",
     "iopub.status.idle": "2023-09-28T12:32:44.684775Z",
     "shell.execute_reply": "2023-09-28T12:32:44.684775Z"
    }
   },
   "outputs": [],
   "source": []
  },
  {
   "cell_type": "markdown",
   "metadata": {},
   "source": [
    "## Problem: Selecting columns\n",
    "\n",
    "Select the columns in `momentum` what have the smallest and second smallest average returns."
   ]
  },
  {
   "cell_type": "code",
   "execution_count": null,
   "metadata": {
    "execution": {
     "iopub.execute_input": "2023-09-28T12:32:44.684775Z",
     "iopub.status.busy": "2023-09-28T12:32:44.684775Z",
     "iopub.status.idle": "2023-09-28T12:32:44.693722Z",
     "shell.execute_reply": "2023-09-28T12:32:44.693722Z"
    }
   },
   "outputs": [],
   "source": []
  },
  {
   "cell_type": "code",
   "execution_count": null,
   "metadata": {
    "execution": {
     "iopub.execute_input": "2023-09-28T12:32:44.693722Z",
     "iopub.status.busy": "2023-09-28T12:32:44.693722Z",
     "iopub.status.idle": "2023-09-28T12:32:44.705566Z",
     "shell.execute_reply": "2023-09-28T12:32:44.705566Z"
    }
   },
   "outputs": [],
   "source": []
  },
  {
   "cell_type": "code",
   "execution_count": null,
   "metadata": {
    "execution": {
     "iopub.execute_input": "2023-09-28T12:32:44.707576Z",
     "iopub.status.busy": "2023-09-28T12:32:44.707576Z",
     "iopub.status.idle": "2023-09-28T12:32:44.717183Z",
     "shell.execute_reply": "2023-09-28T12:32:44.717183Z"
    }
   },
   "outputs": [],
   "source": []
  },
  {
   "cell_type": "markdown",
   "metadata": {},
   "source": [
    "## Problem: Selecting rows and columns\n",
    "\n",
    "Select the returns for the column with the single most negative return\n",
    "on days where all of the returns are negative. "
   ]
  },
  {
   "cell_type": "code",
   "execution_count": null,
   "metadata": {
    "execution": {
     "iopub.execute_input": "2023-09-28T12:32:44.717183Z",
     "iopub.status.busy": "2023-09-28T12:32:44.717183Z",
     "iopub.status.idle": "2023-09-28T12:32:44.726077Z",
     "shell.execute_reply": "2023-09-28T12:32:44.726077Z"
    }
   },
   "outputs": [],
   "source": []
  },
  {
   "cell_type": "code",
   "execution_count": null,
   "metadata": {
    "execution": {
     "iopub.execute_input": "2023-09-28T12:32:44.726077Z",
     "iopub.status.busy": "2023-09-28T12:32:44.726077Z",
     "iopub.status.idle": "2023-09-28T12:32:44.737260Z",
     "shell.execute_reply": "2023-09-28T12:32:44.737260Z"
    }
   },
   "outputs": [],
   "source": []
  },
  {
   "cell_type": "markdown",
   "metadata": {},
   "source": [
    "## Problem: Selecting Elements using Logical Statements\n",
    "For portfolio 1 and portfolio 10 compute the correlation when both \n",
    "returns are negative and when both are positive.\n"
   ]
  },
  {
   "cell_type": "code",
   "execution_count": null,
   "metadata": {
    "execution": {
     "iopub.execute_input": "2023-09-28T12:32:44.739768Z",
     "iopub.status.busy": "2023-09-28T12:32:44.739768Z",
     "iopub.status.idle": "2023-09-28T12:32:44.748412Z",
     "shell.execute_reply": "2023-09-28T12:32:44.748412Z"
    }
   },
   "outputs": [],
   "source": []
  },
  {
   "cell_type": "code",
   "execution_count": null,
   "metadata": {
    "execution": {
     "iopub.execute_input": "2023-09-28T12:32:44.748412Z",
     "iopub.status.busy": "2023-09-28T12:32:44.748412Z",
     "iopub.status.idle": "2023-09-28T12:32:44.759728Z",
     "shell.execute_reply": "2023-09-28T12:32:44.759728Z"
    }
   },
   "outputs": [],
   "source": []
  },
  {
   "cell_type": "code",
   "execution_count": null,
   "metadata": {
    "execution": {
     "iopub.execute_input": "2023-09-28T12:32:44.759728Z",
     "iopub.status.busy": "2023-09-28T12:32:44.759728Z",
     "iopub.status.idle": "2023-09-28T12:32:44.767543Z",
     "shell.execute_reply": "2023-09-28T12:32:44.767543Z"
    },
    "pycharm": {
     "is_executing": false,
     "name": "#%%\n"
    }
   },
   "outputs": [],
   "source": [
    "# Setup: Reproducible random numbers\n",
    "\n",
    "rs = np.random.RandomState(19991231)\n",
    "x = rs.randint(1, 11, size=(10, 3))\n",
    "x"
   ]
  },
  {
   "cell_type": "markdown",
   "metadata": {
    "pycharm": {
     "name": "#%% md\n"
    }
   },
   "source": [
    "## Problem: Select the columns of x that means >= $E[x]$"
   ]
  },
  {
   "cell_type": "code",
   "execution_count": null,
   "metadata": {
    "execution": {
     "iopub.execute_input": "2023-09-28T12:32:44.767543Z",
     "iopub.status.busy": "2023-09-28T12:32:44.767543Z",
     "iopub.status.idle": "2023-09-28T12:32:44.775137Z",
     "shell.execute_reply": "2023-09-28T12:32:44.775137Z"
    }
   },
   "outputs": [],
   "source": []
  },
  {
   "cell_type": "markdown",
   "metadata": {},
   "source": [
    "## Problem: Select the rows of x that means >= $E[x]$"
   ]
  },
  {
   "cell_type": "code",
   "execution_count": null,
   "metadata": {
    "execution": {
     "iopub.execute_input": "2023-09-28T12:32:44.775137Z",
     "iopub.status.busy": "2023-09-28T12:32:44.775137Z",
     "iopub.status.idle": "2023-09-28T12:32:44.782320Z",
     "shell.execute_reply": "2023-09-28T12:32:44.782320Z"
    }
   },
   "outputs": [],
   "source": []
  },
  {
   "cell_type": "markdown",
   "metadata": {},
   "source": [
    "## Problem: Select the rows and column of x where both have means < $E[x]$"
   ]
  },
  {
   "cell_type": "code",
   "execution_count": null,
   "metadata": {
    "execution": {
     "iopub.execute_input": "2023-09-28T12:32:44.782320Z",
     "iopub.status.busy": "2023-09-28T12:32:44.782320Z",
     "iopub.status.idle": "2023-09-28T12:32:44.790360Z",
     "shell.execute_reply": "2023-09-28T12:32:44.790360Z"
    }
   },
   "outputs": [],
   "source": []
  },
  {
   "cell_type": "markdown",
   "metadata": {},
   "source": [
    "## Problem: Using `where`\n",
    "Use `where` to select the index of the elements in portfolio 5 that are\n",
    "negative. Next, use the `where` command in its two output form to determine\n",
    "which elements of the portfolio return matrix are less than -2%."
   ]
  },
  {
   "cell_type": "code",
   "execution_count": null,
   "metadata": {
    "execution": {
     "iopub.execute_input": "2023-09-28T12:32:44.790360Z",
     "iopub.status.busy": "2023-09-28T12:32:44.790360Z",
     "iopub.status.idle": "2023-09-28T12:32:44.798530Z",
     "shell.execute_reply": "2023-09-28T12:32:44.798530Z"
    }
   },
   "outputs": [],
   "source": []
  },
  {
   "cell_type": "code",
   "execution_count": null,
   "metadata": {
    "execution": {
     "iopub.execute_input": "2023-09-28T12:32:44.798530Z",
     "iopub.status.busy": "2023-09-28T12:32:44.798530Z",
     "iopub.status.idle": "2023-09-28T12:32:44.807639Z",
     "shell.execute_reply": "2023-09-28T12:32:44.807639Z"
    }
   },
   "outputs": [],
   "source": []
  },
  {
   "cell_type": "code",
   "execution_count": null,
   "metadata": {
    "execution": {
     "iopub.execute_input": "2023-09-28T12:32:44.807639Z",
     "iopub.status.busy": "2023-09-28T12:32:44.807639Z",
     "iopub.status.idle": "2023-09-28T12:32:44.814330Z",
     "shell.execute_reply": "2023-09-28T12:32:44.814330Z"
    }
   },
   "outputs": [],
   "source": []
  },
  {
   "cell_type": "markdown",
   "metadata": {
    "pycharm": {
     "name": "#%% md\n"
    }
   },
   "source": [
    "## Exercises\n",
    "\n",
    "### Exercise: Select the Most Volatile Portfolio\n",
    "\n",
    "Select the column in momentum that has the highest standard deviation."
   ]
  },
  {
   "cell_type": "code",
   "execution_count": null,
   "metadata": {
    "execution": {
     "iopub.execute_input": "2023-09-28T12:32:44.814330Z",
     "iopub.status.busy": "2023-09-28T12:32:44.814330Z",
     "iopub.status.idle": "2023-09-28T12:32:44.824501Z",
     "shell.execute_reply": "2023-09-28T12:32:44.824501Z"
    }
   },
   "outputs": [],
   "source": []
  },
  {
   "cell_type": "markdown",
   "metadata": {
    "pycharm": {
     "name": "#%% md\n"
    }
   },
   "source": [
    "### Exercise: Select the High Kurtosis Portfolios\n",
    "\n",
    "Select the columns that have kurtoses above the median kurtosis."
   ]
  },
  {
   "cell_type": "code",
   "execution_count": null,
   "metadata": {
    "execution": {
     "iopub.execute_input": "2023-09-28T12:32:44.824501Z",
     "iopub.status.busy": "2023-09-28T12:32:44.824501Z",
     "iopub.status.idle": "2023-09-28T12:32:44.837190Z",
     "shell.execute_reply": "2023-09-28T12:32:44.837190Z"
    }
   },
   "outputs": [],
   "source": []
  },
  {
   "cell_type": "markdown",
   "metadata": {
    "pycharm": {
     "name": "#%% md\n"
    }
   },
   "source": [
    "### Exercise: Select \n",
    "\n",
    "Select the rows where all of the returns in the row are less than the 25%\n",
    "quantile for their portfolio.\n",
    "\n",
    "**Note**: Comparisons between `DataFrame`s and `Series` works like mathematical\n",
    "operations (`+`, `-`, etc.)."
   ]
  },
  {
   "cell_type": "code",
   "execution_count": null,
   "metadata": {
    "execution": {
     "iopub.execute_input": "2023-09-28T12:32:44.837190Z",
     "iopub.status.busy": "2023-09-28T12:32:44.837190Z",
     "iopub.status.idle": "2023-09-28T12:32:44.850601Z",
     "shell.execute_reply": "2023-09-28T12:32:44.850601Z"
    }
   },
   "outputs": [],
   "source": []
  },
  {
   "cell_type": "code",
   "execution_count": null,
   "metadata": {
    "execution": {
     "iopub.execute_input": "2023-09-28T12:32:44.850601Z",
     "iopub.status.busy": "2023-09-28T12:32:44.850601Z",
     "iopub.status.idle": "2023-09-28T12:32:44.878161Z",
     "shell.execute_reply": "2023-09-28T12:32:44.878161Z"
    },
    "tags": []
   },
   "outputs": [],
   "source": []
  }
 ],
 "metadata": {
  "kernelspec": {
   "display_name": "Python 3 (ipykernel)",
   "language": "python",
   "name": "python3"
  },
  "language_info": {
   "codemirror_mode": {
    "name": "ipython",
    "version": 3
   },
   "file_extension": ".py",
   "mimetype": "text/x-python",
   "name": "python",
   "nbconvert_exporter": "python",
   "pygments_lexer": "ipython3",
   "version": "3.11.5"
  },
  "pycharm": {
   "stem_cell": {
    "cell_type": "raw",
    "metadata": {
     "collapsed": false
    },
    "source": []
   }
  }
 },
 "nbformat": 4,
 "nbformat_minor": 4
}
