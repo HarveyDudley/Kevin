{
 "cells": [
  {
   "cell_type": "markdown",
   "metadata": {},
   "source": [
    "# Boolean Selection \n",
    "\n",
    "This lesson covers:\n",
    "\n",
    "* Boolean selection\n",
    "* `where`\n",
    "\n",
    "Begin by loading the data in momentum.csv.\n"
   ]
  },
  {
   "cell_type": "code",
   "execution_count": null,
   "metadata": {
    "execution": {
     "iopub.execute_input": "2021-09-22T10:21:24.197318Z",
     "iopub.status.busy": "2021-09-22T10:21:24.197318Z",
     "iopub.status.idle": "2021-09-22T10:21:24.507321Z",
     "shell.execute_reply": "2021-09-22T10:21:24.507321Z"
    },
    "pycharm": {
     "is_executing": false,
     "name": "#%%\n"
    }
   },
   "outputs": [],
   "source": [
    "# Setup: Load the momentum data\n",
    "\n",
    "import numpy as np\n",
    "import pandas as pd\n",
    "\n",
    "momentum = pd.read_csv(\"data/momentum.csv\", index_col=\"date\", parse_dates=True)\n",
    "\n",
    "print(momentum.head())"
   ]
  },
  {
   "cell_type": "markdown",
   "metadata": {},
   "source": [
    "## Problem: Selecting rows with boolean conditions\n",
    "\n",
    "Select the rows in `momentum` where all returns on a day are negative."
   ]
  },
  {
   "cell_type": "code",
   "execution_count": null,
   "metadata": {
    "execution": {
     "iopub.execute_input": "2021-09-22T10:21:24.520319Z",
     "iopub.status.busy": "2021-09-22T10:21:24.510321Z",
     "iopub.status.idle": "2021-09-22T10:21:24.538319Z",
     "shell.execute_reply": "2021-09-22T10:21:24.538319Z"
    }
   },
   "outputs": [],
   "source": []
  },
  {
   "cell_type": "markdown",
   "metadata": {},
   "source": [
    "## Problem: Selecting rows\n",
    "\n",
    "Select the rows in `momentum` where 50% or more of the returns on a day are negative."
   ]
  },
  {
   "cell_type": "code",
   "execution_count": null,
   "metadata": {
    "execution": {
     "iopub.execute_input": "2021-09-22T10:21:24.552319Z",
     "iopub.status.busy": "2021-09-22T10:21:24.541318Z",
     "iopub.status.idle": "2021-09-22T10:21:24.569318Z",
     "shell.execute_reply": "2021-09-22T10:21:24.569318Z"
    }
   },
   "outputs": [],
   "source": []
  },
  {
   "cell_type": "markdown",
   "metadata": {},
   "source": [
    "## Problem: Selecting columns\n",
    "\n",
    "Select the columns in `momentum` what have the smallest and second smallest average returns."
   ]
  },
  {
   "cell_type": "code",
   "execution_count": null,
   "metadata": {
    "execution": {
     "iopub.execute_input": "2021-09-22T10:21:24.573318Z",
     "iopub.status.busy": "2021-09-22T10:21:24.573318Z",
     "iopub.status.idle": "2021-09-22T10:21:24.585319Z",
     "shell.execute_reply": "2021-09-22T10:21:24.585319Z"
    }
   },
   "outputs": [],
   "source": []
  },
  {
   "cell_type": "code",
   "execution_count": null,
   "metadata": {
    "execution": {
     "iopub.execute_input": "2021-09-22T10:21:24.592318Z",
     "iopub.status.busy": "2021-09-22T10:21:24.592318Z",
     "iopub.status.idle": "2021-09-22T10:21:24.601319Z",
     "shell.execute_reply": "2021-09-22T10:21:24.601319Z"
    }
   },
   "outputs": [],
   "source": []
  },
  {
   "cell_type": "code",
   "execution_count": null,
   "metadata": {
    "execution": {
     "iopub.execute_input": "2021-09-22T10:21:24.608318Z",
     "iopub.status.busy": "2021-09-22T10:21:24.607317Z",
     "iopub.status.idle": "2021-09-22T10:21:24.617318Z",
     "shell.execute_reply": "2021-09-22T10:21:24.617318Z"
    }
   },
   "outputs": [],
   "source": []
  },
  {
   "cell_type": "markdown",
   "metadata": {},
   "source": [
    "## Problem: Selecting rows and columns\n",
    "\n",
    "Select the returns for the column with the single most negative return\n",
    "on days where all of the returns are negative. "
   ]
  },
  {
   "cell_type": "code",
   "execution_count": null,
   "metadata": {
    "execution": {
     "iopub.execute_input": "2021-09-22T10:21:24.621318Z",
     "iopub.status.busy": "2021-09-22T10:21:24.620318Z",
     "iopub.status.idle": "2021-09-22T10:21:24.633319Z",
     "shell.execute_reply": "2021-09-22T10:21:24.633319Z"
    }
   },
   "outputs": [],
   "source": []
  },
  {
   "cell_type": "code",
   "execution_count": null,
   "metadata": {
    "execution": {
     "iopub.execute_input": "2021-09-22T10:21:24.640318Z",
     "iopub.status.busy": "2021-09-22T10:21:24.639318Z",
     "iopub.status.idle": "2021-09-22T10:21:24.649319Z",
     "shell.execute_reply": "2021-09-22T10:21:24.649319Z"
    }
   },
   "outputs": [],
   "source": []
  },
  {
   "cell_type": "markdown",
   "metadata": {},
   "source": [
    "## Problem: Selecting Elements using Logical Statements\n",
    "For portfolio 1 and portfolio 10 compute the correlation when both \n",
    "returns are negative and when both are positive.\n"
   ]
  },
  {
   "cell_type": "code",
   "execution_count": null,
   "metadata": {
    "execution": {
     "iopub.execute_input": "2021-09-22T10:21:24.655318Z",
     "iopub.status.busy": "2021-09-22T10:21:24.655318Z",
     "iopub.status.idle": "2021-09-22T10:21:24.665320Z",
     "shell.execute_reply": "2021-09-22T10:21:24.665320Z"
    }
   },
   "outputs": [],
   "source": []
  },
  {
   "cell_type": "code",
   "execution_count": null,
   "metadata": {
    "execution": {
     "iopub.execute_input": "2021-09-22T10:21:24.670318Z",
     "iopub.status.busy": "2021-09-22T10:21:24.668318Z",
     "iopub.status.idle": "2021-09-22T10:21:24.681320Z",
     "shell.execute_reply": "2021-09-22T10:21:24.681320Z"
    }
   },
   "outputs": [],
   "source": []
  },
  {
   "cell_type": "code",
   "execution_count": null,
   "metadata": {
    "execution": {
     "iopub.execute_input": "2021-09-22T10:21:24.684318Z",
     "iopub.status.busy": "2021-09-22T10:21:24.684318Z",
     "iopub.status.idle": "2021-09-22T10:21:24.696318Z",
     "shell.execute_reply": "2021-09-22T10:21:24.696318Z"
    },
    "pycharm": {
     "is_executing": false,
     "name": "#%%\n"
    }
   },
   "outputs": [],
   "source": [
    "# Setup: Reproducible random numbers\n",
    "\n",
    "rs = np.random.RandomState(19991231)\n",
    "x = rs.randint(1, 11, size=(10, 3))\n",
    "x"
   ]
  },
  {
   "cell_type": "markdown",
   "metadata": {
    "pycharm": {
     "name": "#%% md\n"
    }
   },
   "source": [
    "## Problem: Select the columns of x that means >= $E[x]$"
   ]
  },
  {
   "cell_type": "code",
   "execution_count": null,
   "metadata": {
    "execution": {
     "iopub.execute_input": "2021-09-22T10:21:24.699318Z",
     "iopub.status.busy": "2021-09-22T10:21:24.699318Z",
     "iopub.status.idle": "2021-09-22T10:21:24.711917Z",
     "shell.execute_reply": "2021-09-22T10:21:24.711917Z"
    }
   },
   "outputs": [],
   "source": []
  },
  {
   "cell_type": "markdown",
   "metadata": {},
   "source": [
    "## Problem: Select the rows of x that means >= $E[x]$"
   ]
  },
  {
   "cell_type": "code",
   "execution_count": null,
   "metadata": {
    "execution": {
     "iopub.execute_input": "2021-09-22T10:21:24.713913Z",
     "iopub.status.busy": "2021-09-22T10:21:24.713913Z",
     "iopub.status.idle": "2021-09-22T10:21:24.727346Z",
     "shell.execute_reply": "2021-09-22T10:21:24.727346Z"
    }
   },
   "outputs": [],
   "source": []
  },
  {
   "cell_type": "markdown",
   "metadata": {},
   "source": [
    "## Problem: Select the rows and column of x where both have means < $E[x]$"
   ]
  },
  {
   "cell_type": "code",
   "execution_count": null,
   "metadata": {
    "execution": {
     "iopub.execute_input": "2021-09-22T10:21:24.730346Z",
     "iopub.status.busy": "2021-09-22T10:21:24.730346Z",
     "iopub.status.idle": "2021-09-22T10:21:24.743337Z",
     "shell.execute_reply": "2021-09-22T10:21:24.743337Z"
    }
   },
   "outputs": [],
   "source": []
  },
  {
   "cell_type": "markdown",
   "metadata": {},
   "source": [
    "## Problem: Using `where`\n",
    "Use `where` to select the index of the elements in portfolio 5 that are\n",
    "negative. Next, use the `where` command in its two output form to determine\n",
    "which elements of the portfolio return matrix are less than -2%."
   ]
  },
  {
   "cell_type": "code",
   "execution_count": null,
   "metadata": {
    "execution": {
     "iopub.execute_input": "2021-09-22T10:21:24.746334Z",
     "iopub.status.busy": "2021-09-22T10:21:24.745335Z",
     "iopub.status.idle": "2021-09-22T10:21:24.758819Z",
     "shell.execute_reply": "2021-09-22T10:21:24.758819Z"
    }
   },
   "outputs": [],
   "source": []
  },
  {
   "cell_type": "code",
   "execution_count": null,
   "metadata": {
    "execution": {
     "iopub.execute_input": "2021-09-22T10:21:24.762814Z",
     "iopub.status.busy": "2021-09-22T10:21:24.762814Z",
     "iopub.status.idle": "2021-09-22T10:21:24.774498Z",
     "shell.execute_reply": "2021-09-22T10:21:24.774498Z"
    }
   },
   "outputs": [],
   "source": []
  },
  {
   "cell_type": "code",
   "execution_count": null,
   "metadata": {
    "execution": {
     "iopub.execute_input": "2021-09-22T10:21:24.777495Z",
     "iopub.status.busy": "2021-09-22T10:21:24.776495Z",
     "iopub.status.idle": "2021-09-22T10:21:24.790176Z",
     "shell.execute_reply": "2021-09-22T10:21:24.790176Z"
    }
   },
   "outputs": [],
   "source": []
  },
  {
   "cell_type": "markdown",
   "metadata": {
    "pycharm": {
     "name": "#%% md\n"
    }
   },
   "source": [
    "## Exercises\n",
    "\n",
    "### Exercise: Select the Most Volatile Portfolio\n",
    "\n",
    "Select the column in momentum that has the highest standard deviation."
   ]
  },
  {
   "cell_type": "code",
   "execution_count": null,
   "metadata": {
    "execution": {
     "iopub.execute_input": "2021-09-22T10:21:24.793176Z",
     "iopub.status.busy": "2021-09-22T10:21:24.792176Z",
     "iopub.status.idle": "2021-09-22T10:21:24.805858Z",
     "shell.execute_reply": "2021-09-22T10:21:24.805858Z"
    }
   },
   "outputs": [],
   "source": []
  },
  {
   "cell_type": "markdown",
   "metadata": {
    "pycharm": {
     "name": "#%% md\n"
    }
   },
   "source": [
    "### Exercise: Select the High Kurtosis Portfolios\n",
    "\n",
    "Select the columns that have kurtoses above the median kurtosis."
   ]
  },
  {
   "cell_type": "code",
   "execution_count": null,
   "metadata": {
    "execution": {
     "iopub.execute_input": "2021-09-22T10:21:24.807856Z",
     "iopub.status.busy": "2021-09-22T10:21:24.807856Z",
     "iopub.status.idle": "2021-09-22T10:21:24.821538Z",
     "shell.execute_reply": "2021-09-22T10:21:24.821538Z"
    }
   },
   "outputs": [],
   "source": []
  },
  {
   "cell_type": "markdown",
   "metadata": {
    "pycharm": {
     "name": "#%% md\n"
    }
   },
   "source": [
    "### Exercise: Select \n",
    "\n",
    "Select the rows where all of the returns in the row are less than the 25%\n",
    "quantile for their portfolio.\n",
    "\n",
    "**Note**: Comparisons between `DataFrame`s and `Series` works like mathematical\n",
    "operations (`+`, `-`, etc.)."
   ]
  },
  {
   "cell_type": "code",
   "execution_count": null,
   "metadata": {
    "execution": {
     "iopub.execute_input": "2021-09-22T10:21:24.824537Z",
     "iopub.status.busy": "2021-09-22T10:21:24.823537Z",
     "iopub.status.idle": "2021-09-22T10:21:24.837640Z",
     "shell.execute_reply": "2021-09-22T10:21:24.837640Z"
    }
   },
   "outputs": [],
   "source": []
  },
  {
   "cell_type": "code",
   "execution_count": null,
   "metadata": {
    "execution": {
     "iopub.execute_input": "2021-09-22T10:21:24.856639Z",
     "iopub.status.busy": "2021-09-22T10:21:24.839638Z",
     "iopub.status.idle": "2021-09-22T10:21:24.869017Z",
     "shell.execute_reply": "2021-09-22T10:21:24.869017Z"
    },
    "tags": []
   },
   "outputs": [],
   "source": []
  }
 ],
 "metadata": {
  "kernelspec": {
   "display_name": "Python 3 (ipykernel)",
   "language": "python",
   "name": "python3"
  },
  "language_info": {
   "codemirror_mode": {
    "name": "ipython",
    "version": 3
   },
   "file_extension": ".py",
   "mimetype": "text/x-python",
   "name": "python",
   "nbconvert_exporter": "python",
   "pygments_lexer": "ipython3",
   "version": "3.9.6"
  },
  "pycharm": {
   "stem_cell": {
    "cell_type": "raw",
    "metadata": {
     "collapsed": false
    },
    "source": []
   }
  }
 },
 "nbformat": 4,
 "nbformat_minor": 4
}
