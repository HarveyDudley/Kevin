{
 "cells": [
  {
   "cell_type": "markdown",
   "metadata": {},
   "source": [
    "# Boolean Selection \n",
    "\n",
    "This lesson covers:\n",
    "\n",
    "* Boolean selection\n",
    "* `where`\n",
    "\n",
    "Begin by loading the data in momentum.csv.\n"
   ]
  },
  {
   "cell_type": "code",
   "execution_count": null,
   "metadata": {
    "execution": {
     "iopub.execute_input": "2024-02-27T16:09:32.293130Z",
     "iopub.status.busy": "2024-02-27T16:09:32.293130Z",
     "iopub.status.idle": "2024-02-27T16:09:32.811356Z",
     "shell.execute_reply": "2024-02-27T16:09:32.811356Z"
    },
    "pycharm": {
     "is_executing": false,
     "name": "#%%\n"
    }
   },
   "outputs": [],
   "source": [
    "# Setup: Load the momentum data\n",
    "\n",
    "import numpy as np\n",
    "import pandas as pd\n",
    "\n",
    "momentum = pd.read_csv(\"data/momentum.csv\", index_col=\"date\", parse_dates=True)\n",
    "\n",
    "print(momentum.head())"
   ]
  },
  {
   "cell_type": "markdown",
   "metadata": {},
   "source": [
    "## Problem: Selecting rows with boolean conditions\n",
    "\n",
    "Select the rows in `momentum` where all returns on a day are negative."
   ]
  },
  {
   "cell_type": "code",
   "execution_count": null,
   "metadata": {
    "execution": {
     "iopub.execute_input": "2024-02-27T16:09:32.814361Z",
     "iopub.status.busy": "2024-02-27T16:09:32.814361Z",
     "iopub.status.idle": "2024-02-27T16:09:32.836111Z",
     "shell.execute_reply": "2024-02-27T16:09:32.836111Z"
    }
   },
   "outputs": [],
   "source": []
  },
  {
   "cell_type": "markdown",
   "metadata": {},
   "source": [
    "## Problem: Selecting rows\n",
    "\n",
    "Select the rows in `momentum` where 50% or more of the returns on a day are negative."
   ]
  },
  {
   "cell_type": "code",
   "execution_count": null,
   "metadata": {
    "execution": {
     "iopub.execute_input": "2024-02-27T16:09:32.839118Z",
     "iopub.status.busy": "2024-02-27T16:09:32.838118Z",
     "iopub.status.idle": "2024-02-27T16:09:32.856743Z",
     "shell.execute_reply": "2024-02-27T16:09:32.856743Z"
    }
   },
   "outputs": [],
   "source": []
  },
  {
   "cell_type": "markdown",
   "metadata": {},
   "source": [
    "## Problem: Selecting columns\n",
    "\n",
    "Select the columns in `momentum` what have the smallest and second smallest average returns."
   ]
  },
  {
   "cell_type": "code",
   "execution_count": null,
   "metadata": {
    "execution": {
     "iopub.execute_input": "2024-02-27T16:09:32.858826Z",
     "iopub.status.busy": "2024-02-27T16:09:32.858826Z",
     "iopub.status.idle": "2024-02-27T16:09:32.865063Z",
     "shell.execute_reply": "2024-02-27T16:09:32.865063Z"
    }
   },
   "outputs": [],
   "source": []
  },
  {
   "cell_type": "code",
   "execution_count": null,
   "metadata": {
    "execution": {
     "iopub.execute_input": "2024-02-27T16:09:32.868158Z",
     "iopub.status.busy": "2024-02-27T16:09:32.867070Z",
     "iopub.status.idle": "2024-02-27T16:09:32.876724Z",
     "shell.execute_reply": "2024-02-27T16:09:32.876724Z"
    }
   },
   "outputs": [],
   "source": []
  },
  {
   "cell_type": "code",
   "execution_count": null,
   "metadata": {
    "execution": {
     "iopub.execute_input": "2024-02-27T16:09:32.878729Z",
     "iopub.status.busy": "2024-02-27T16:09:32.878729Z",
     "iopub.status.idle": "2024-02-27T16:09:32.887121Z",
     "shell.execute_reply": "2024-02-27T16:09:32.887121Z"
    }
   },
   "outputs": [],
   "source": []
  },
  {
   "cell_type": "markdown",
   "metadata": {},
   "source": [
    "## Problem: Selecting rows and columns\n",
    "\n",
    "Select the returns for the column with the single most negative return\n",
    "on days where all of the returns are negative. "
   ]
  },
  {
   "cell_type": "code",
   "execution_count": null,
   "metadata": {
    "execution": {
     "iopub.execute_input": "2024-02-27T16:09:32.889128Z",
     "iopub.status.busy": "2024-02-27T16:09:32.889128Z",
     "iopub.status.idle": "2024-02-27T16:09:32.894666Z",
     "shell.execute_reply": "2024-02-27T16:09:32.894666Z"
    }
   },
   "outputs": [],
   "source": []
  },
  {
   "cell_type": "code",
   "execution_count": null,
   "metadata": {
    "execution": {
     "iopub.execute_input": "2024-02-27T16:09:32.897672Z",
     "iopub.status.busy": "2024-02-27T16:09:32.896672Z",
     "iopub.status.idle": "2024-02-27T16:09:32.905058Z",
     "shell.execute_reply": "2024-02-27T16:09:32.905058Z"
    }
   },
   "outputs": [],
   "source": []
  },
  {
   "cell_type": "markdown",
   "metadata": {},
   "source": [
    "## Problem: Selecting Elements using Logical Statements\n",
    "For portfolio 1 and portfolio 10 compute the correlation when both \n",
    "returns are negative and when both are positive.\n"
   ]
  },
  {
   "cell_type": "code",
   "execution_count": null,
   "metadata": {
    "execution": {
     "iopub.execute_input": "2024-02-27T16:09:32.907121Z",
     "iopub.status.busy": "2024-02-27T16:09:32.907121Z",
     "iopub.status.idle": "2024-02-27T16:09:32.914504Z",
     "shell.execute_reply": "2024-02-27T16:09:32.914504Z"
    }
   },
   "outputs": [],
   "source": []
  },
  {
   "cell_type": "code",
   "execution_count": null,
   "metadata": {
    "execution": {
     "iopub.execute_input": "2024-02-27T16:09:32.916511Z",
     "iopub.status.busy": "2024-02-27T16:09:32.916511Z",
     "iopub.status.idle": "2024-02-27T16:09:32.923765Z",
     "shell.execute_reply": "2024-02-27T16:09:32.923765Z"
    }
   },
   "outputs": [],
   "source": []
  },
  {
   "cell_type": "code",
   "execution_count": null,
   "metadata": {
    "execution": {
     "iopub.execute_input": "2024-02-27T16:09:32.925771Z",
     "iopub.status.busy": "2024-02-27T16:09:32.925771Z",
     "iopub.status.idle": "2024-02-27T16:09:32.930693Z",
     "shell.execute_reply": "2024-02-27T16:09:32.930693Z"
    },
    "pycharm": {
     "is_executing": false,
     "name": "#%%\n"
    }
   },
   "outputs": [],
   "source": [
    "# Setup: Reproducible random numbers\n",
    "\n",
    "rs = np.random.RandomState(19991231)\n",
    "x = rs.randint(1, 11, size=(10, 3))\n",
    "x"
   ]
  },
  {
   "cell_type": "markdown",
   "metadata": {
    "pycharm": {
     "name": "#%% md\n"
    }
   },
   "source": [
    "## Problem: Select the columns of x that means >= $E[x]$"
   ]
  },
  {
   "cell_type": "code",
   "execution_count": null,
   "metadata": {
    "execution": {
     "iopub.execute_input": "2024-02-27T16:09:32.932701Z",
     "iopub.status.busy": "2024-02-27T16:09:32.932701Z",
     "iopub.status.idle": "2024-02-27T16:09:32.937084Z",
     "shell.execute_reply": "2024-02-27T16:09:32.937084Z"
    }
   },
   "outputs": [],
   "source": []
  },
  {
   "cell_type": "markdown",
   "metadata": {},
   "source": [
    "## Problem: Select the rows of x that means >= $E[x]$"
   ]
  },
  {
   "cell_type": "code",
   "execution_count": null,
   "metadata": {
    "execution": {
     "iopub.execute_input": "2024-02-27T16:09:32.939089Z",
     "iopub.status.busy": "2024-02-27T16:09:32.939089Z",
     "iopub.status.idle": "2024-02-27T16:09:32.942817Z",
     "shell.execute_reply": "2024-02-27T16:09:32.942817Z"
    }
   },
   "outputs": [],
   "source": []
  },
  {
   "cell_type": "markdown",
   "metadata": {},
   "source": [
    "## Problem: Select the rows and column of x where both have means < $E[x]$"
   ]
  },
  {
   "cell_type": "code",
   "execution_count": null,
   "metadata": {
    "execution": {
     "iopub.execute_input": "2024-02-27T16:09:32.944822Z",
     "iopub.status.busy": "2024-02-27T16:09:32.944822Z",
     "iopub.status.idle": "2024-02-27T16:09:32.950024Z",
     "shell.execute_reply": "2024-02-27T16:09:32.950024Z"
    }
   },
   "outputs": [],
   "source": []
  },
  {
   "cell_type": "markdown",
   "metadata": {},
   "source": [
    "## Problem: Using `where`\n",
    "Use `where` to select the index of the elements in portfolio 5 that are\n",
    "negative. Next, use the `where` command in its two output form to determine\n",
    "which elements of the portfolio return matrix are less than -2%."
   ]
  },
  {
   "cell_type": "code",
   "execution_count": null,
   "metadata": {
    "execution": {
     "iopub.execute_input": "2024-02-27T16:09:32.952028Z",
     "iopub.status.busy": "2024-02-27T16:09:32.952028Z",
     "iopub.status.idle": "2024-02-27T16:09:32.957064Z",
     "shell.execute_reply": "2024-02-27T16:09:32.957064Z"
    }
   },
   "outputs": [],
   "source": []
  },
  {
   "cell_type": "code",
   "execution_count": null,
   "metadata": {
    "execution": {
     "iopub.execute_input": "2024-02-27T16:09:32.959069Z",
     "iopub.status.busy": "2024-02-27T16:09:32.959069Z",
     "iopub.status.idle": "2024-02-27T16:09:32.964601Z",
     "shell.execute_reply": "2024-02-27T16:09:32.964601Z"
    }
   },
   "outputs": [],
   "source": []
  },
  {
   "cell_type": "code",
   "execution_count": null,
   "metadata": {
    "execution": {
     "iopub.execute_input": "2024-02-27T16:09:32.967695Z",
     "iopub.status.busy": "2024-02-27T16:09:32.966693Z",
     "iopub.status.idle": "2024-02-27T16:09:32.971257Z",
     "shell.execute_reply": "2024-02-27T16:09:32.971257Z"
    }
   },
   "outputs": [],
   "source": []
  },
  {
   "cell_type": "markdown",
   "metadata": {
    "pycharm": {
     "name": "#%% md\n"
    }
   },
   "source": [
    "## Exercises\n",
    "\n",
    "### Exercise: Select the Most Volatile Portfolio\n",
    "\n",
    "Select the column in momentum that has the highest standard deviation."
   ]
  },
  {
   "cell_type": "code",
   "execution_count": null,
   "metadata": {
    "execution": {
     "iopub.execute_input": "2024-02-27T16:09:32.973292Z",
     "iopub.status.busy": "2024-02-27T16:09:32.973292Z",
     "iopub.status.idle": "2024-02-27T16:09:32.980005Z",
     "shell.execute_reply": "2024-02-27T16:09:32.980005Z"
    }
   },
   "outputs": [],
   "source": []
  },
  {
   "cell_type": "markdown",
   "metadata": {
    "pycharm": {
     "name": "#%% md\n"
    }
   },
   "source": [
    "### Exercise: Select the High Kurtosis Portfolios\n",
    "\n",
    "Select the columns that have kurtoses above the median kurtosis."
   ]
  },
  {
   "cell_type": "code",
   "execution_count": null,
   "metadata": {
    "execution": {
     "iopub.execute_input": "2024-02-27T16:09:32.982012Z",
     "iopub.status.busy": "2024-02-27T16:09:32.982012Z",
     "iopub.status.idle": "2024-02-27T16:09:32.991313Z",
     "shell.execute_reply": "2024-02-27T16:09:32.991313Z"
    }
   },
   "outputs": [],
   "source": []
  },
  {
   "cell_type": "markdown",
   "metadata": {
    "pycharm": {
     "name": "#%% md\n"
    }
   },
   "source": [
    "### Exercise: Select \n",
    "\n",
    "Select the rows where all of the returns in the row are less than the 25%\n",
    "quantile for their portfolio.\n",
    "\n",
    "**Note**: Comparisons between `DataFrame`s and `Series` works like mathematical\n",
    "operations (`+`, `-`, etc.)."
   ]
  },
  {
   "cell_type": "code",
   "execution_count": null,
   "metadata": {
    "execution": {
     "iopub.execute_input": "2024-02-27T16:09:32.993390Z",
     "iopub.status.busy": "2024-02-27T16:09:32.993390Z",
     "iopub.status.idle": "2024-02-27T16:09:33.002884Z",
     "shell.execute_reply": "2024-02-27T16:09:33.002884Z"
    }
   },
   "outputs": [],
   "source": []
  },
  {
   "cell_type": "code",
   "execution_count": null,
   "metadata": {
    "execution": {
     "iopub.execute_input": "2024-02-27T16:09:33.004958Z",
     "iopub.status.busy": "2024-02-27T16:09:33.004958Z",
     "iopub.status.idle": "2024-02-27T16:09:33.028054Z",
     "shell.execute_reply": "2024-02-27T16:09:33.028054Z"
    },
    "tags": []
   },
   "outputs": [],
   "source": []
  }
 ],
 "metadata": {
  "kernelspec": {
   "display_name": "Python 3 (ipykernel)",
   "language": "python",
   "name": "python3"
  },
  "language_info": {
   "codemirror_mode": {
    "name": "ipython",
    "version": 3
   },
   "file_extension": ".py",
   "mimetype": "text/x-python",
   "name": "python",
   "nbconvert_exporter": "python",
   "pygments_lexer": "ipython3",
   "version": "3.11.5"
  },
  "pycharm": {
   "stem_cell": {
    "cell_type": "raw",
    "metadata": {
     "collapsed": false
    },
    "source": []
   }
  }
 },
 "nbformat": 4,
 "nbformat_minor": 4
}
