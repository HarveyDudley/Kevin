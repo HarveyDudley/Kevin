{
 "cells": [
  {
   "cell_type": "markdown",
   "metadata": {},
   "source": [
    "# Common DataFrame methods\n",
    "\n",
    "This lesson introduces the common `DataFrame` methods that\n",
    "we will repeatedly use in the course. \n",
    "\n",
    "This first cell load data for use in this lesson."
   ]
  },
  {
   "cell_type": "code",
   "execution_count": null,
   "metadata": {
    "execution": {
     "iopub.execute_input": "2023-09-28T12:32:15.208979Z",
     "iopub.status.busy": "2023-09-28T12:32:15.208979Z",
     "iopub.status.idle": "2023-09-28T12:32:15.975925Z",
     "shell.execute_reply": "2023-09-28T12:32:15.975925Z"
    },
    "pycharm": {
     "is_executing": false,
     "name": "#%%\n"
    }
   },
   "outputs": [],
   "source": [
    "# Setup: Load prices\n",
    "import pandas as pd\n",
    "\n",
    "prices = pd.read_hdf(\"data/dataframes.h5\", \"prices\")\n",
    "sep_04 = pd.read_hdf(\"data/dataframes.h5\", \"sep_04\")\n",
    "goog = pd.read_hdf(\"data/dataframes.h5\", \"goog\")\n",
    "returns = prices.pct_change().dropna()\n",
    "spy_returns = returns.SPY\n",
    "aapl_returns = returns.AAPL\n",
    "goog_returns = returns.GOOG"
   ]
  },
  {
   "cell_type": "markdown",
   "metadata": {},
   "source": [
    "## Problem: Constructing portfolio returns\n",
    "\n",
    "Compute the return of a portfolio with weight $\\frac{1}{3}$ in each security using\n",
    "multiplication (`*`) and `.sum()`.\n",
    "\n",
    "**Note**: You need to use the `axis` keyword for the sum."
   ]
  },
  {
   "cell_type": "code",
   "execution_count": null,
   "metadata": {
    "execution": {
     "iopub.execute_input": "2023-09-28T12:32:15.977932Z",
     "iopub.status.busy": "2023-09-28T12:32:15.977932Z",
     "iopub.status.idle": "2023-09-28T12:32:15.987283Z",
     "shell.execute_reply": "2023-09-28T12:32:15.987283Z"
    }
   },
   "outputs": [],
   "source": []
  },
  {
   "cell_type": "markdown",
   "metadata": {},
   "source": [
    "## Problem: Compute the Mean and Standard Deviation\n",
    "\n",
    "Using the function mean, compute the mean of the three returns series one at a time. For example  \n",
    "```python\n",
    "goog_mean = goog_returns.mean()\n",
    "```\n",
    "Next, compute the mean of the matrix of returns using  \n",
    "\n",
    "```python\n",
    "retmean = returns.mean()\n",
    "```\n",
    "\n",
    "What is the relationship between these two? Repeat this exercise for the standard deviation (`std()`).\n"
   ]
  },
  {
   "cell_type": "code",
   "execution_count": null,
   "metadata": {
    "execution": {
     "iopub.execute_input": "2023-09-28T12:32:15.987283Z",
     "iopub.status.busy": "2023-09-28T12:32:15.987283Z",
     "iopub.status.idle": "2023-09-28T12:32:15.995056Z",
     "shell.execute_reply": "2023-09-28T12:32:15.995056Z"
    }
   },
   "outputs": [],
   "source": []
  },
  {
   "cell_type": "code",
   "execution_count": null,
   "metadata": {
    "execution": {
     "iopub.execute_input": "2023-09-28T12:32:15.995056Z",
     "iopub.status.busy": "2023-09-28T12:32:15.995056Z",
     "iopub.status.idle": "2023-09-28T12:32:16.002454Z",
     "shell.execute_reply": "2023-09-28T12:32:16.002454Z"
    }
   },
   "outputs": [],
   "source": []
  },
  {
   "cell_type": "code",
   "execution_count": null,
   "metadata": {
    "execution": {
     "iopub.execute_input": "2023-09-28T12:32:16.002454Z",
     "iopub.status.busy": "2023-09-28T12:32:16.002454Z",
     "iopub.status.idle": "2023-09-28T12:32:16.009446Z",
     "shell.execute_reply": "2023-09-28T12:32:16.009446Z"
    }
   },
   "outputs": [],
   "source": []
  },
  {
   "cell_type": "markdown",
   "metadata": {
    "pycharm": {
     "name": "#%% md\n"
    }
   },
   "source": [
    "## Problem: Compute Correlation\n",
    "Compute the correlation of the matrix of returns (`corr()`). "
   ]
  },
  {
   "cell_type": "code",
   "execution_count": null,
   "metadata": {
    "execution": {
     "iopub.execute_input": "2023-09-28T12:32:16.009446Z",
     "iopub.status.busy": "2023-09-28T12:32:16.009446Z",
     "iopub.status.idle": "2023-09-28T12:32:16.021177Z",
     "shell.execute_reply": "2023-09-28T12:32:16.021177Z"
    }
   },
   "outputs": [],
   "source": []
  },
  {
   "cell_type": "markdown",
   "metadata": {},
   "source": [
    "## Problem: Summing all elements\n",
    "\n",
    "Compute the sum of the columns of returns using `.sum()`. How is this related to the mean computed \n",
    "in the previous step? "
   ]
  },
  {
   "cell_type": "code",
   "execution_count": null,
   "metadata": {
    "execution": {
     "iopub.execute_input": "2023-09-28T12:32:16.021177Z",
     "iopub.status.busy": "2023-09-28T12:32:16.021177Z",
     "iopub.status.idle": "2023-09-28T12:32:16.028367Z",
     "shell.execute_reply": "2023-09-28T12:32:16.028367Z"
    }
   },
   "outputs": [],
   "source": []
  },
  {
   "cell_type": "code",
   "execution_count": null,
   "metadata": {
    "execution": {
     "iopub.execute_input": "2023-09-28T12:32:16.028367Z",
     "iopub.status.busy": "2023-09-28T12:32:16.028367Z",
     "iopub.status.idle": "2023-09-28T12:32:16.035748Z",
     "shell.execute_reply": "2023-09-28T12:32:16.035748Z"
    }
   },
   "outputs": [],
   "source": []
  },
  {
   "cell_type": "markdown",
   "metadata": {},
   "source": [
    "## Problem: Maximum and Minimum Values\n",
    "Compute the minimum and maximum values of the columns of returns using the `min()` and `max()` commands. "
   ]
  },
  {
   "cell_type": "code",
   "execution_count": null,
   "metadata": {
    "execution": {
     "iopub.execute_input": "2023-09-28T12:32:16.035748Z",
     "iopub.status.busy": "2023-09-28T12:32:16.035748Z",
     "iopub.status.idle": "2023-09-28T12:32:16.043112Z",
     "shell.execute_reply": "2023-09-28T12:32:16.043112Z"
    }
   },
   "outputs": [],
   "source": []
  },
  {
   "cell_type": "code",
   "execution_count": null,
   "metadata": {
    "execution": {
     "iopub.execute_input": "2023-09-28T12:32:16.043112Z",
     "iopub.status.busy": "2023-09-28T12:32:16.043112Z",
     "iopub.status.idle": "2023-09-28T12:32:16.049907Z",
     "shell.execute_reply": "2023-09-28T12:32:16.049907Z"
    }
   },
   "outputs": [],
   "source": []
  },
  {
   "cell_type": "markdown",
   "metadata": {},
   "source": [
    "## Problem: Rounding Up, Down and to the Closest Integer\n",
    "\n",
    "Rounding up is handled by ceil, rounding down is handled by floor and rounding to the closest \n",
    "integer is handled by round. Try all of these commands on 100 times returns. For example,  \n",
    "```python\n",
    "rounded = (100*returns).round()\n",
    "``` \n",
    "\n",
    "Use `ceil` and `floor` to round up and down, respectively."
   ]
  },
  {
   "cell_type": "code",
   "execution_count": null,
   "metadata": {
    "execution": {
     "iopub.execute_input": "2023-09-28T12:32:16.049907Z",
     "iopub.status.busy": "2023-09-28T12:32:16.049907Z",
     "iopub.status.idle": "2023-09-28T12:32:16.060244Z",
     "shell.execute_reply": "2023-09-28T12:32:16.060244Z"
    }
   },
   "outputs": [],
   "source": []
  },
  {
   "cell_type": "code",
   "execution_count": null,
   "metadata": {
    "execution": {
     "iopub.execute_input": "2023-09-28T12:32:16.060244Z",
     "iopub.status.busy": "2023-09-28T12:32:16.060244Z",
     "iopub.status.idle": "2023-09-28T12:32:16.070401Z",
     "shell.execute_reply": "2023-09-28T12:32:16.070401Z"
    }
   },
   "outputs": [],
   "source": []
  },
  {
   "cell_type": "code",
   "execution_count": null,
   "metadata": {
    "execution": {
     "iopub.execute_input": "2023-09-28T12:32:16.072907Z",
     "iopub.status.busy": "2023-09-28T12:32:16.072907Z",
     "iopub.status.idle": "2023-09-28T12:32:16.080828Z",
     "shell.execute_reply": "2023-09-28T12:32:16.080828Z"
    }
   },
   "outputs": [],
   "source": []
  },
  {
   "cell_type": "markdown",
   "metadata": {
    "pycharm": {
     "name": "#%% md\n"
    }
   },
   "source": [
    "## Exercises\n",
    "\n",
    "### Exercise: Compute Quantiles\n",
    "\n",
    "Compute the 5%, 25%, 50%, 75% and 95% quantiles of momentum using the `quantile`\n",
    "method.\n"
   ]
  },
  {
   "cell_type": "code",
   "execution_count": null,
   "metadata": {
    "execution": {
     "iopub.execute_input": "2023-09-28T12:32:16.080828Z",
     "iopub.status.busy": "2023-09-28T12:32:16.080828Z",
     "iopub.status.idle": "2023-09-28T12:32:16.091468Z",
     "shell.execute_reply": "2023-09-28T12:32:16.091468Z"
    },
    "pycharm": {
     "name": "#%%\n"
    }
   },
   "outputs": [],
   "source": [
    "# Setup: Load data\n",
    "import pandas as pd\n",
    "\n",
    "momentum = pd.read_csv(\"data/momentum.csv\", index_col=\"date\", parse_dates=True)\n",
    "mom_10 = momentum.mom_10"
   ]
  },
  {
   "cell_type": "code",
   "execution_count": null,
   "metadata": {
    "execution": {
     "iopub.execute_input": "2023-09-28T12:32:16.091468Z",
     "iopub.status.busy": "2023-09-28T12:32:16.091468Z",
     "iopub.status.idle": "2023-09-28T12:32:16.105144Z",
     "shell.execute_reply": "2023-09-28T12:32:16.105144Z"
    }
   },
   "outputs": [],
   "source": []
  },
  {
   "cell_type": "markdown",
   "metadata": {
    "pycharm": {
     "name": "#%% md\n"
    }
   },
   "source": [
    "### Exercise: Sorting\n",
    "\n",
    "Use `sort_values` to sort momentum by the column `mom_10`. Verify that the\n",
    "sort was successful by looking at the minimum of a diff."
   ]
  },
  {
   "cell_type": "code",
   "execution_count": null,
   "metadata": {
    "execution": {
     "iopub.execute_input": "2023-09-28T12:32:16.105144Z",
     "iopub.status.busy": "2023-09-28T12:32:16.105144Z",
     "iopub.status.idle": "2023-09-28T12:32:16.118323Z",
     "shell.execute_reply": "2023-09-28T12:32:16.118323Z"
    }
   },
   "outputs": [],
   "source": []
  },
  {
   "cell_type": "code",
   "execution_count": null,
   "metadata": {
    "execution": {
     "iopub.execute_input": "2023-09-28T12:32:16.120329Z",
     "iopub.status.busy": "2023-09-28T12:32:16.120329Z",
     "iopub.status.idle": "2023-09-28T12:32:16.126686Z",
     "shell.execute_reply": "2023-09-28T12:32:16.126686Z"
    }
   },
   "outputs": [],
   "source": []
  },
  {
   "cell_type": "markdown",
   "metadata": {},
   "source": [
    "### Exercise: Sort Descending\n",
    "\n",
    "Use `sort_values` to sort momentum by by the column `mom_10` using a descending\n",
    "sort (see the help for `sort_values`). Verify the sort worked by looking at the maximum of\n",
    "a diff."
   ]
  },
  {
   "cell_type": "code",
   "execution_count": null,
   "metadata": {
    "execution": {
     "iopub.execute_input": "2023-09-28T12:32:16.126686Z",
     "iopub.status.busy": "2023-09-28T12:32:16.126686Z",
     "iopub.status.idle": "2023-09-28T12:32:16.178795Z",
     "shell.execute_reply": "2023-09-28T12:32:16.178795Z"
    }
   },
   "outputs": [],
   "source": []
  },
  {
   "cell_type": "code",
   "execution_count": null,
   "metadata": {
    "execution": {
     "iopub.execute_input": "2023-09-28T12:32:16.178795Z",
     "iopub.status.busy": "2023-09-28T12:32:16.178795Z",
     "iopub.status.idle": "2023-09-28T12:32:16.185395Z",
     "shell.execute_reply": "2023-09-28T12:32:16.185395Z"
    }
   },
   "outputs": [],
   "source": []
  },
  {
   "cell_type": "code",
   "execution_count": null,
   "metadata": {
    "execution": {
     "iopub.execute_input": "2023-09-28T12:32:16.185395Z",
     "iopub.status.busy": "2023-09-28T12:32:16.185395Z",
     "iopub.status.idle": "2023-09-28T12:32:16.199127Z",
     "shell.execute_reply": "2023-09-28T12:32:16.199127Z"
    }
   },
   "outputs": [],
   "source": []
  },
  {
   "cell_type": "code",
   "execution_count": null,
   "metadata": {
    "execution": {
     "iopub.execute_input": "2023-09-28T12:32:16.199127Z",
     "iopub.status.busy": "2023-09-28T12:32:16.199127Z",
     "iopub.status.idle": "2023-09-28T12:32:16.206469Z",
     "shell.execute_reply": "2023-09-28T12:32:16.206469Z"
    }
   },
   "outputs": [],
   "source": []
  },
  {
   "cell_type": "markdown",
   "metadata": {
    "pycharm": {
     "name": "#%% md\n"
    }
   },
   "source": [
    "### Exercise: Get Number of Elements\n",
    "\n",
    "Use the `shape` property to get the number of observations in momentum. Use it\n",
    "again to get the number of columns."
   ]
  },
  {
   "cell_type": "code",
   "execution_count": null,
   "metadata": {
    "execution": {
     "iopub.execute_input": "2023-09-28T12:32:16.206469Z",
     "iopub.status.busy": "2023-09-28T12:32:16.206469Z",
     "iopub.status.idle": "2023-09-28T12:32:16.212408Z",
     "shell.execute_reply": "2023-09-28T12:32:16.212408Z"
    }
   },
   "outputs": [],
   "source": []
  },
  {
   "cell_type": "code",
   "execution_count": null,
   "metadata": {
    "execution": {
     "iopub.execute_input": "2023-09-28T12:32:16.214423Z",
     "iopub.status.busy": "2023-09-28T12:32:16.214423Z",
     "iopub.status.idle": "2023-09-28T12:32:16.218765Z",
     "shell.execute_reply": "2023-09-28T12:32:16.218765Z"
    }
   },
   "outputs": [],
   "source": []
  },
  {
   "cell_type": "markdown",
   "metadata": {},
   "source": [
    "### Exercise: Use `shift` to Compute Returns\n",
    "\n",
    "Compute the percentage change using only `shift`, division (`/`) and\n",
    "subtraction (`-`) on the `Series` `mom_10`. Verify that your result matches what `pct_change` produces."
   ]
  },
  {
   "cell_type": "code",
   "execution_count": null,
   "metadata": {
    "execution": {
     "iopub.execute_input": "2023-09-28T12:32:16.218765Z",
     "iopub.status.busy": "2023-09-28T12:32:16.218765Z",
     "iopub.status.idle": "2023-09-28T12:32:16.227677Z",
     "shell.execute_reply": "2023-09-28T12:32:16.227677Z"
    },
    "tags": []
   },
   "outputs": [],
   "source": []
  }
 ],
 "metadata": {
  "kernelspec": {
   "display_name": "Python 3 (ipykernel)",
   "language": "python",
   "name": "python3"
  },
  "language_info": {
   "codemirror_mode": {
    "name": "ipython",
    "version": 3
   },
   "file_extension": ".py",
   "mimetype": "text/x-python",
   "name": "python",
   "nbconvert_exporter": "python",
   "pygments_lexer": "ipython3",
   "version": "3.11.5"
  },
  "pycharm": {
   "stem_cell": {
    "cell_type": "raw",
    "metadata": {
     "collapsed": false
    },
    "source": []
   }
  }
 },
 "nbformat": 4,
 "nbformat_minor": 4
}
