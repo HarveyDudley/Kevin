{
 "cells": [
  {
   "cell_type": "markdown",
   "metadata": {},
   "source": [
    "# Common DataFrame methods\n",
    "\n",
    "This lesson introduces the common `DataFrame` methods that\n",
    "we will repeatedly use in the course. \n",
    "\n",
    "This first cell load data for use in this lesson."
   ]
  },
  {
   "cell_type": "code",
   "execution_count": null,
   "metadata": {
    "execution": {
     "iopub.execute_input": "2024-02-27T16:09:10.143505Z",
     "iopub.status.busy": "2024-02-27T16:09:10.143505Z",
     "iopub.status.idle": "2024-02-27T16:09:12.322453Z",
     "shell.execute_reply": "2024-02-27T16:09:12.322453Z"
    },
    "pycharm": {
     "is_executing": false,
     "name": "#%%\n"
    }
   },
   "outputs": [],
   "source": [
    "# Setup: Load prices\n",
    "import pandas as pd\n",
    "\n",
    "prices = pd.read_hdf(\"data/dataframes.h5\", \"prices\")\n",
    "sep_04 = pd.read_hdf(\"data/dataframes.h5\", \"sep_04\")\n",
    "goog = pd.read_hdf(\"data/dataframes.h5\", \"goog\")\n",
    "returns = prices.pct_change().dropna()\n",
    "spy_returns = returns.SPY\n",
    "aapl_returns = returns.AAPL\n",
    "goog_returns = returns.GOOG"
   ]
  },
  {
   "cell_type": "markdown",
   "metadata": {},
   "source": [
    "## Problem: Constructing portfolio returns\n",
    "\n",
    "Compute the return of a portfolio with weight $\\frac{1}{3}$ in each security using\n",
    "multiplication (`*`) and `.sum()`.\n",
    "\n",
    "**Note**: You need to use the `axis` keyword for the sum."
   ]
  },
  {
   "cell_type": "code",
   "execution_count": null,
   "metadata": {
    "execution": {
     "iopub.execute_input": "2024-02-27T16:09:12.325544Z",
     "iopub.status.busy": "2024-02-27T16:09:12.325544Z",
     "iopub.status.idle": "2024-02-27T16:09:12.333567Z",
     "shell.execute_reply": "2024-02-27T16:09:12.333567Z"
    }
   },
   "outputs": [],
   "source": []
  },
  {
   "cell_type": "markdown",
   "metadata": {},
   "source": [
    "## Problem: Compute the Mean and Standard Deviation\n",
    "\n",
    "Using the function mean, compute the mean of the three returns series one at a time. For example  \n",
    "```python\n",
    "goog_mean = goog_returns.mean()\n",
    "```\n",
    "Next, compute the mean of the matrix of returns using  \n",
    "\n",
    "```python\n",
    "retmean = returns.mean()\n",
    "```\n",
    "\n",
    "What is the relationship between these two? Repeat this exercise for the standard deviation (`std()`).\n"
   ]
  },
  {
   "cell_type": "code",
   "execution_count": null,
   "metadata": {
    "execution": {
     "iopub.execute_input": "2024-02-27T16:09:12.335574Z",
     "iopub.status.busy": "2024-02-27T16:09:12.335574Z",
     "iopub.status.idle": "2024-02-27T16:09:12.340869Z",
     "shell.execute_reply": "2024-02-27T16:09:12.340869Z"
    }
   },
   "outputs": [],
   "source": []
  },
  {
   "cell_type": "code",
   "execution_count": null,
   "metadata": {
    "execution": {
     "iopub.execute_input": "2024-02-27T16:09:12.343873Z",
     "iopub.status.busy": "2024-02-27T16:09:12.342873Z",
     "iopub.status.idle": "2024-02-27T16:09:12.348404Z",
     "shell.execute_reply": "2024-02-27T16:09:12.348404Z"
    }
   },
   "outputs": [],
   "source": []
  },
  {
   "cell_type": "code",
   "execution_count": null,
   "metadata": {
    "execution": {
     "iopub.execute_input": "2024-02-27T16:09:12.351411Z",
     "iopub.status.busy": "2024-02-27T16:09:12.350410Z",
     "iopub.status.idle": "2024-02-27T16:09:12.356434Z",
     "shell.execute_reply": "2024-02-27T16:09:12.355920Z"
    }
   },
   "outputs": [],
   "source": []
  },
  {
   "cell_type": "markdown",
   "metadata": {
    "pycharm": {
     "name": "#%% md\n"
    }
   },
   "source": [
    "## Problem: Compute Correlation\n",
    "Compute the correlation of the matrix of returns (`corr()`). "
   ]
  },
  {
   "cell_type": "code",
   "execution_count": null,
   "metadata": {
    "execution": {
     "iopub.execute_input": "2024-02-27T16:09:12.358440Z",
     "iopub.status.busy": "2024-02-27T16:09:12.357441Z",
     "iopub.status.idle": "2024-02-27T16:09:12.366304Z",
     "shell.execute_reply": "2024-02-27T16:09:12.366304Z"
    }
   },
   "outputs": [],
   "source": []
  },
  {
   "cell_type": "markdown",
   "metadata": {},
   "source": [
    "## Problem: Summing all elements\n",
    "\n",
    "Compute the sum of the columns of returns using `.sum()`. How is this related to the mean computed \n",
    "in the previous step? "
   ]
  },
  {
   "cell_type": "code",
   "execution_count": null,
   "metadata": {
    "execution": {
     "iopub.execute_input": "2024-02-27T16:09:12.368311Z",
     "iopub.status.busy": "2024-02-27T16:09:12.368311Z",
     "iopub.status.idle": "2024-02-27T16:09:12.373280Z",
     "shell.execute_reply": "2024-02-27T16:09:12.373280Z"
    }
   },
   "outputs": [],
   "source": []
  },
  {
   "cell_type": "code",
   "execution_count": null,
   "metadata": {
    "execution": {
     "iopub.execute_input": "2024-02-27T16:09:12.375285Z",
     "iopub.status.busy": "2024-02-27T16:09:12.375285Z",
     "iopub.status.idle": "2024-02-27T16:09:12.380482Z",
     "shell.execute_reply": "2024-02-27T16:09:12.380482Z"
    }
   },
   "outputs": [],
   "source": []
  },
  {
   "cell_type": "markdown",
   "metadata": {},
   "source": [
    "## Problem: Maximum and Minimum Values\n",
    "Compute the minimum and maximum values of the columns of returns using the `min()` and `max()` commands. "
   ]
  },
  {
   "cell_type": "code",
   "execution_count": null,
   "metadata": {
    "execution": {
     "iopub.execute_input": "2024-02-27T16:09:12.382567Z",
     "iopub.status.busy": "2024-02-27T16:09:12.382567Z",
     "iopub.status.idle": "2024-02-27T16:09:12.387383Z",
     "shell.execute_reply": "2024-02-27T16:09:12.387383Z"
    }
   },
   "outputs": [],
   "source": []
  },
  {
   "cell_type": "code",
   "execution_count": null,
   "metadata": {
    "execution": {
     "iopub.execute_input": "2024-02-27T16:09:12.389389Z",
     "iopub.status.busy": "2024-02-27T16:09:12.389389Z",
     "iopub.status.idle": "2024-02-27T16:09:12.393860Z",
     "shell.execute_reply": "2024-02-27T16:09:12.393860Z"
    }
   },
   "outputs": [],
   "source": []
  },
  {
   "cell_type": "markdown",
   "metadata": {},
   "source": [
    "## Problem: Rounding Up, Down and to the Closest Integer\n",
    "\n",
    "Rounding up is handled by ceil, rounding down is handled by floor and rounding to the closest \n",
    "integer is handled by round. Try all of these commands on 100 times returns. For example,  \n",
    "```python\n",
    "rounded = (100*returns).round()\n",
    "``` \n",
    "\n",
    "Use `ceil` and `floor` to round up and down, respectively."
   ]
  },
  {
   "cell_type": "code",
   "execution_count": null,
   "metadata": {
    "execution": {
     "iopub.execute_input": "2024-02-27T16:09:12.395870Z",
     "iopub.status.busy": "2024-02-27T16:09:12.395870Z",
     "iopub.status.idle": "2024-02-27T16:09:12.404296Z",
     "shell.execute_reply": "2024-02-27T16:09:12.404296Z"
    }
   },
   "outputs": [],
   "source": []
  },
  {
   "cell_type": "code",
   "execution_count": null,
   "metadata": {
    "execution": {
     "iopub.execute_input": "2024-02-27T16:09:12.406303Z",
     "iopub.status.busy": "2024-02-27T16:09:12.406303Z",
     "iopub.status.idle": "2024-02-27T16:09:12.414647Z",
     "shell.execute_reply": "2024-02-27T16:09:12.414647Z"
    }
   },
   "outputs": [],
   "source": []
  },
  {
   "cell_type": "code",
   "execution_count": null,
   "metadata": {
    "execution": {
     "iopub.execute_input": "2024-02-27T16:09:12.416653Z",
     "iopub.status.busy": "2024-02-27T16:09:12.416653Z",
     "iopub.status.idle": "2024-02-27T16:09:12.425511Z",
     "shell.execute_reply": "2024-02-27T16:09:12.425511Z"
    }
   },
   "outputs": [],
   "source": []
  },
  {
   "cell_type": "markdown",
   "metadata": {
    "pycharm": {
     "name": "#%% md\n"
    }
   },
   "source": [
    "## Exercises\n",
    "\n",
    "### Exercise: Compute Quantiles\n",
    "\n",
    "Compute the 5%, 25%, 50%, 75% and 95% quantiles of momentum using the `quantile`\n",
    "method.\n"
   ]
  },
  {
   "cell_type": "code",
   "execution_count": null,
   "metadata": {
    "execution": {
     "iopub.execute_input": "2024-02-27T16:09:12.427517Z",
     "iopub.status.busy": "2024-02-27T16:09:12.427517Z",
     "iopub.status.idle": "2024-02-27T16:09:12.438426Z",
     "shell.execute_reply": "2024-02-27T16:09:12.438426Z"
    },
    "pycharm": {
     "name": "#%%\n"
    }
   },
   "outputs": [],
   "source": [
    "# Setup: Load data\n",
    "import pandas as pd\n",
    "\n",
    "momentum = pd.read_csv(\"data/momentum.csv\", index_col=\"date\", parse_dates=True)\n",
    "mom_10 = momentum.mom_10"
   ]
  },
  {
   "cell_type": "code",
   "execution_count": null,
   "metadata": {
    "execution": {
     "iopub.execute_input": "2024-02-27T16:09:12.440432Z",
     "iopub.status.busy": "2024-02-27T16:09:12.440432Z",
     "iopub.status.idle": "2024-02-27T16:09:12.451822Z",
     "shell.execute_reply": "2024-02-27T16:09:12.451822Z"
    }
   },
   "outputs": [],
   "source": []
  },
  {
   "cell_type": "markdown",
   "metadata": {
    "pycharm": {
     "name": "#%% md\n"
    }
   },
   "source": [
    "### Exercise: Sorting\n",
    "\n",
    "Use `sort_values` to sort momentum by the column `mom_10`. Verify that the\n",
    "sort was successful by looking at the minimum of a diff."
   ]
  },
  {
   "cell_type": "code",
   "execution_count": null,
   "metadata": {
    "execution": {
     "iopub.execute_input": "2024-02-27T16:09:12.454861Z",
     "iopub.status.busy": "2024-02-27T16:09:12.453861Z",
     "iopub.status.idle": "2024-02-27T16:09:12.466011Z",
     "shell.execute_reply": "2024-02-27T16:09:12.466011Z"
    }
   },
   "outputs": [],
   "source": []
  },
  {
   "cell_type": "code",
   "execution_count": null,
   "metadata": {
    "execution": {
     "iopub.execute_input": "2024-02-27T16:09:12.468104Z",
     "iopub.status.busy": "2024-02-27T16:09:12.468104Z",
     "iopub.status.idle": "2024-02-27T16:09:12.473185Z",
     "shell.execute_reply": "2024-02-27T16:09:12.473185Z"
    }
   },
   "outputs": [],
   "source": []
  },
  {
   "cell_type": "markdown",
   "metadata": {},
   "source": [
    "### Exercise: Sort Descending\n",
    "\n",
    "Use `sort_values` to sort momentum by by the column `mom_10` using a descending\n",
    "sort (see the help for `sort_values`). Verify the sort worked by looking at the maximum of\n",
    "a diff."
   ]
  },
  {
   "cell_type": "code",
   "execution_count": null,
   "metadata": {
    "execution": {
     "iopub.execute_input": "2024-02-27T16:09:12.476192Z",
     "iopub.status.busy": "2024-02-27T16:09:12.475192Z",
     "iopub.status.idle": "2024-02-27T16:09:12.525717Z",
     "shell.execute_reply": "2024-02-27T16:09:12.525717Z"
    }
   },
   "outputs": [],
   "source": []
  },
  {
   "cell_type": "code",
   "execution_count": null,
   "metadata": {
    "execution": {
     "iopub.execute_input": "2024-02-27T16:09:12.528808Z",
     "iopub.status.busy": "2024-02-27T16:09:12.528808Z",
     "iopub.status.idle": "2024-02-27T16:09:12.532300Z",
     "shell.execute_reply": "2024-02-27T16:09:12.532300Z"
    }
   },
   "outputs": [],
   "source": []
  },
  {
   "cell_type": "code",
   "execution_count": null,
   "metadata": {
    "execution": {
     "iopub.execute_input": "2024-02-27T16:09:12.534303Z",
     "iopub.status.busy": "2024-02-27T16:09:12.534303Z",
     "iopub.status.idle": "2024-02-27T16:09:12.545984Z",
     "shell.execute_reply": "2024-02-27T16:09:12.545984Z"
    }
   },
   "outputs": [],
   "source": []
  },
  {
   "cell_type": "code",
   "execution_count": null,
   "metadata": {
    "execution": {
     "iopub.execute_input": "2024-02-27T16:09:12.548988Z",
     "iopub.status.busy": "2024-02-27T16:09:12.547990Z",
     "iopub.status.idle": "2024-02-27T16:09:12.553572Z",
     "shell.execute_reply": "2024-02-27T16:09:12.553572Z"
    }
   },
   "outputs": [],
   "source": []
  },
  {
   "cell_type": "markdown",
   "metadata": {
    "pycharm": {
     "name": "#%% md\n"
    }
   },
   "source": [
    "### Exercise: Get Number of Elements\n",
    "\n",
    "Use the `shape` property to get the number of observations in momentum. Use it\n",
    "again to get the number of columns."
   ]
  },
  {
   "cell_type": "code",
   "execution_count": null,
   "metadata": {
    "execution": {
     "iopub.execute_input": "2024-02-27T16:09:12.555576Z",
     "iopub.status.busy": "2024-02-27T16:09:12.555576Z",
     "iopub.status.idle": "2024-02-27T16:09:12.559010Z",
     "shell.execute_reply": "2024-02-27T16:09:12.559010Z"
    }
   },
   "outputs": [],
   "source": []
  },
  {
   "cell_type": "code",
   "execution_count": null,
   "metadata": {
    "execution": {
     "iopub.execute_input": "2024-02-27T16:09:12.561017Z",
     "iopub.status.busy": "2024-02-27T16:09:12.561017Z",
     "iopub.status.idle": "2024-02-27T16:09:12.565201Z",
     "shell.execute_reply": "2024-02-27T16:09:12.565201Z"
    }
   },
   "outputs": [],
   "source": []
  },
  {
   "cell_type": "markdown",
   "metadata": {},
   "source": [
    "### Exercise: Use `shift` to Compute Returns\n",
    "\n",
    "Compute the percentage change using only `shift`, division (`/`) and\n",
    "subtraction (`-`) on the `Series` `mom_10`. Verify that your result matches what `pct_change` produces."
   ]
  },
  {
   "cell_type": "code",
   "execution_count": null,
   "metadata": {
    "execution": {
     "iopub.execute_input": "2024-02-27T16:09:12.567208Z",
     "iopub.status.busy": "2024-02-27T16:09:12.567208Z",
     "iopub.status.idle": "2024-02-27T16:09:12.574110Z",
     "shell.execute_reply": "2024-02-27T16:09:12.574110Z"
    },
    "tags": []
   },
   "outputs": [],
   "source": []
  }
 ],
 "metadata": {
  "kernelspec": {
   "display_name": "Python 3 (ipykernel)",
   "language": "python",
   "name": "python3"
  },
  "language_info": {
   "codemirror_mode": {
    "name": "ipython",
    "version": 3
   },
   "file_extension": ".py",
   "mimetype": "text/x-python",
   "name": "python",
   "nbconvert_exporter": "python",
   "pygments_lexer": "ipython3",
   "version": "3.11.5"
  },
  "pycharm": {
   "stem_cell": {
    "cell_type": "raw",
    "metadata": {
     "collapsed": false
    },
    "source": []
   }
  }
 },
 "nbformat": 4,
 "nbformat_minor": 4
}
