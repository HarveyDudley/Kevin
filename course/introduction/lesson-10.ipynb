{
 "cells": [
  {
   "cell_type": "markdown",
   "metadata": {},
   "source": [
    "# Accessing Elements in DataFrames\n",
    "\n",
    "This lesson covers:\n",
    "\n",
    "* Assessing specific elements in Pandas Series and DataFrames \n",
    "\n",
    "Accessing elements in an array or a DataFrame is a common task. To begin this\n",
    "lesson, clear the workspace set up some vectors and a $5\\times5$ array. These\n",
    "vectors and matrix will make it easy to determine which elements are selected\n",
    "by a command.\n",
    "\n",
    "Start by creating 2 DataFrame and 2 Series. Define `x=np.arange(24).reshape(5,5)` \n",
    "which is a 5 by 5 array and `y=np.arange(5)` which is a 5-element 1-d array.\n",
    "We need:\n",
    "\n",
    "* `x_df`: A default `DataFrame` containing `x`\n",
    "* `x_named`: A `DataFrame` containing `x` with index `\"r0\"`, `\"r1\"`, ..., `\"r4\"` and\n",
    "  columns `\"c0\"`, `\"c1\"`, ... `\"c4\"`.\n",
    "* `y_s`: A default `Series` containing `y`\n",
    "* `y_named`: A `Series` containing `y` that has the index `\"r0\"`, `\"r1\"`, ..., `\"r4\"`"
   ]
  },
  {
   "cell_type": "code",
   "execution_count": null,
   "metadata": {
    "execution": {
     "iopub.execute_input": "2024-02-27T16:09:14.599435Z",
     "iopub.status.busy": "2024-02-27T16:09:14.599435Z",
     "iopub.status.idle": "2024-02-27T16:09:15.115286Z",
     "shell.execute_reply": "2024-02-27T16:09:15.115286Z"
    }
   },
   "outputs": [],
   "source": []
  },
  {
   "cell_type": "markdown",
   "metadata": {},
   "source": [
    "## Problem: Selecting a row by name\n",
    "\n",
    "Select the 2nd row of `x_name` using `.loc`.\n"
   ]
  },
  {
   "cell_type": "code",
   "execution_count": null,
   "metadata": {
    "execution": {
     "iopub.execute_input": "2024-02-27T16:09:15.118367Z",
     "iopub.status.busy": "2024-02-27T16:09:15.117295Z",
     "iopub.status.idle": "2024-02-27T16:09:15.124708Z",
     "shell.execute_reply": "2024-02-27T16:09:15.124708Z"
    }
   },
   "outputs": [],
   "source": []
  },
  {
   "cell_type": "markdown",
   "metadata": {},
   "source": [
    "## Problem: Selecting a column by name\n",
    "\n",
    "Select the 2nd columns of `x_name` using  both `[]` and `.loc`."
   ]
  },
  {
   "cell_type": "code",
   "execution_count": null,
   "metadata": {
    "execution": {
     "iopub.execute_input": "2024-02-27T16:09:15.126717Z",
     "iopub.status.busy": "2024-02-27T16:09:15.126717Z",
     "iopub.status.idle": "2024-02-27T16:09:15.131716Z",
     "shell.execute_reply": "2024-02-27T16:09:15.131716Z"
    }
   },
   "outputs": [],
   "source": []
  },
  {
   "cell_type": "code",
   "execution_count": null,
   "metadata": {
    "execution": {
     "iopub.execute_input": "2024-02-27T16:09:15.134777Z",
     "iopub.status.busy": "2024-02-27T16:09:15.133724Z",
     "iopub.status.idle": "2024-02-27T16:09:15.138805Z",
     "shell.execute_reply": "2024-02-27T16:09:15.138805Z"
    }
   },
   "outputs": [],
   "source": []
  },
  {
   "cell_type": "code",
   "execution_count": null,
   "metadata": {
    "execution": {
     "iopub.execute_input": "2024-02-27T16:09:15.140966Z",
     "iopub.status.busy": "2024-02-27T16:09:15.140966Z",
     "iopub.status.idle": "2024-02-27T16:09:15.144999Z",
     "shell.execute_reply": "2024-02-27T16:09:15.144999Z"
    }
   },
   "outputs": [],
   "source": []
  },
  {
   "cell_type": "markdown",
   "metadata": {},
   "source": [
    "## Problem: Selecting a elements of a Series by name\n",
    "\n",
    "Select the 2nd element of `y_name` using both `[]` and `loc`.\n"
   ]
  },
  {
   "cell_type": "code",
   "execution_count": null,
   "metadata": {
    "execution": {
     "iopub.execute_input": "2024-02-27T16:09:15.147007Z",
     "iopub.status.busy": "2024-02-27T16:09:15.147007Z",
     "iopub.status.idle": "2024-02-27T16:09:15.150591Z",
     "shell.execute_reply": "2024-02-27T16:09:15.150591Z"
    }
   },
   "outputs": [],
   "source": []
  },
  {
   "cell_type": "code",
   "execution_count": null,
   "metadata": {
    "execution": {
     "iopub.execute_input": "2024-02-27T16:09:15.152597Z",
     "iopub.status.busy": "2024-02-27T16:09:15.152597Z",
     "iopub.status.idle": "2024-02-27T16:09:15.156682Z",
     "shell.execute_reply": "2024-02-27T16:09:15.156682Z"
    }
   },
   "outputs": [],
   "source": []
  },
  {
   "cell_type": "code",
   "execution_count": null,
   "metadata": {
    "execution": {
     "iopub.execute_input": "2024-02-27T16:09:15.159190Z",
     "iopub.status.busy": "2024-02-27T16:09:15.158686Z",
     "iopub.status.idle": "2024-02-27T16:09:15.162603Z",
     "shell.execute_reply": "2024-02-27T16:09:15.162603Z"
    }
   },
   "outputs": [],
   "source": []
  },
  {
   "cell_type": "markdown",
   "metadata": {},
   "source": [
    "## Problem: Selecting rows and columns by name\n",
    "\n",
    "Select the 2nd and 4th rows and 1st and 3rd columns of `x_name`."
   ]
  },
  {
   "cell_type": "code",
   "execution_count": null,
   "metadata": {
    "execution": {
     "iopub.execute_input": "2024-02-27T16:09:15.165609Z",
     "iopub.status.busy": "2024-02-27T16:09:15.165609Z",
     "iopub.status.idle": "2024-02-27T16:09:15.173424Z",
     "shell.execute_reply": "2024-02-27T16:09:15.173424Z"
    }
   },
   "outputs": [],
   "source": []
  },
  {
   "cell_type": "code",
   "execution_count": null,
   "metadata": {
    "execution": {
     "iopub.execute_input": "2024-02-27T16:09:15.175428Z",
     "iopub.status.busy": "2024-02-27T16:09:15.175428Z",
     "iopub.status.idle": "2024-02-27T16:09:15.181758Z",
     "shell.execute_reply": "2024-02-27T16:09:15.181758Z"
    }
   },
   "outputs": [],
   "source": []
  },
  {
   "cell_type": "code",
   "execution_count": null,
   "metadata": {
    "execution": {
     "iopub.execute_input": "2024-02-27T16:09:15.184842Z",
     "iopub.status.busy": "2024-02-27T16:09:15.183842Z",
     "iopub.status.idle": "2024-02-27T16:09:15.190416Z",
     "shell.execute_reply": "2024-02-27T16:09:15.190416Z"
    }
   },
   "outputs": [],
   "source": []
  },
  {
   "cell_type": "markdown",
   "metadata": {},
   "source": [
    "## Problem: DataFrame selection with default index and column names\n",
    "\n",
    "Select the 2nd and 4th rows and 1st and 3rd columns of `x_df`.\n"
   ]
  },
  {
   "cell_type": "code",
   "execution_count": null,
   "metadata": {
    "execution": {
     "iopub.execute_input": "2024-02-27T16:09:15.192423Z",
     "iopub.status.busy": "2024-02-27T16:09:15.192423Z",
     "iopub.status.idle": "2024-02-27T16:09:15.198543Z",
     "shell.execute_reply": "2024-02-27T16:09:15.198543Z"
    }
   },
   "outputs": [],
   "source": []
  },
  {
   "cell_type": "markdown",
   "metadata": {},
   "source": [
    "## Problem: Series selection with the default index\n",
    "\n",
    "Select the final element in `y_s`"
   ]
  },
  {
   "cell_type": "code",
   "execution_count": null,
   "metadata": {
    "execution": {
     "iopub.execute_input": "2024-02-27T16:09:15.201550Z",
     "iopub.status.busy": "2024-02-27T16:09:15.200550Z",
     "iopub.status.idle": "2024-02-27T16:09:15.204779Z",
     "shell.execute_reply": "2024-02-27T16:09:15.204779Z"
    }
   },
   "outputs": [],
   "source": []
  },
  {
   "cell_type": "code",
   "execution_count": null,
   "metadata": {
    "execution": {
     "iopub.execute_input": "2024-02-27T16:09:15.206785Z",
     "iopub.status.busy": "2024-02-27T16:09:15.206785Z",
     "iopub.status.idle": "2024-02-27T16:09:15.210516Z",
     "shell.execute_reply": "2024-02-27T16:09:15.210516Z"
    }
   },
   "outputs": [],
   "source": []
  },
  {
   "cell_type": "markdown",
   "metadata": {},
   "source": [
    "## Problem: Subseries selection\n",
    "Select the subseries of `y_named` and `y_s` containing the first, fourth and fifth element."
   ]
  },
  {
   "cell_type": "code",
   "execution_count": null,
   "metadata": {
    "execution": {
     "iopub.execute_input": "2024-02-27T16:09:15.212520Z",
     "iopub.status.busy": "2024-02-27T16:09:15.212520Z",
     "iopub.status.idle": "2024-02-27T16:09:15.217541Z",
     "shell.execute_reply": "2024-02-27T16:09:15.217541Z"
    }
   },
   "outputs": [],
   "source": []
  },
  {
   "cell_type": "code",
   "execution_count": null,
   "metadata": {
    "execution": {
     "iopub.execute_input": "2024-02-27T16:09:15.220545Z",
     "iopub.status.busy": "2024-02-27T16:09:15.219545Z",
     "iopub.status.idle": "2024-02-27T16:09:15.225136Z",
     "shell.execute_reply": "2024-02-27T16:09:15.225136Z"
    }
   },
   "outputs": [],
   "source": []
  },
  {
   "cell_type": "markdown",
   "metadata": {},
   "source": [
    "Load the data in momentum.csv."
   ]
  },
  {
   "cell_type": "code",
   "execution_count": null,
   "metadata": {
    "execution": {
     "iopub.execute_input": "2024-02-27T16:09:15.227143Z",
     "iopub.status.busy": "2024-02-27T16:09:15.227143Z",
     "iopub.status.idle": "2024-02-27T16:09:15.246353Z",
     "shell.execute_reply": "2024-02-27T16:09:15.246353Z"
    },
    "pycharm": {
     "is_executing": false
    }
   },
   "outputs": [],
   "source": [
    "# Setup: Load the momentum data\n",
    "\n",
    "import pandas as pd\n",
    "\n",
    "momentum = pd.read_csv(\"data/momentum.csv\", index_col=\"date\", parse_dates=True)\n",
    "momentum.head()"
   ]
  },
  {
   "cell_type": "markdown",
   "metadata": {
    "pycharm": {
     "name": "#%% md\n"
    }
   },
   "source": [
    "## Problem: Selecting data on a single day\n",
    "\n",
    "Select returns on February 16, 2016.\n"
   ]
  },
  {
   "cell_type": "code",
   "execution_count": null,
   "metadata": {
    "execution": {
     "iopub.execute_input": "2024-02-27T16:09:15.249360Z",
     "iopub.status.busy": "2024-02-27T16:09:15.248359Z",
     "iopub.status.idle": "2024-02-27T16:09:15.254262Z",
     "shell.execute_reply": "2024-02-27T16:09:15.254262Z"
    }
   },
   "outputs": [],
   "source": []
  },
  {
   "cell_type": "markdown",
   "metadata": {},
   "source": [
    "## Problem: Selecting data in a single month\n",
    "\n",
    "Select return in March 2016."
   ]
  },
  {
   "cell_type": "code",
   "execution_count": null,
   "metadata": {
    "execution": {
     "iopub.execute_input": "2024-02-27T16:09:15.256269Z",
     "iopub.status.busy": "2024-02-27T16:09:15.256269Z",
     "iopub.status.idle": "2024-02-27T16:09:15.268131Z",
     "shell.execute_reply": "2024-02-27T16:09:15.268131Z"
    }
   },
   "outputs": [],
   "source": []
  },
  {
   "cell_type": "markdown",
   "metadata": {},
   "source": [
    "## Problem: Selecting data in a single year\n",
    "\n",
    "Select return in 2016.\n"
   ]
  },
  {
   "cell_type": "code",
   "execution_count": null,
   "metadata": {
    "execution": {
     "iopub.execute_input": "2024-02-27T16:09:15.270136Z",
     "iopub.status.busy": "2024-02-27T16:09:15.270136Z",
     "iopub.status.idle": "2024-02-27T16:09:15.282277Z",
     "shell.execute_reply": "2024-02-27T16:09:15.282277Z"
    }
   },
   "outputs": [],
   "source": []
  },
  {
   "cell_type": "markdown",
   "metadata": {},
   "source": [
    "## Problem: Selecting data in a date range\n",
    "\n",
    "Select returns between May 1, 2016, and June 15, 2016."
   ]
  },
  {
   "cell_type": "code",
   "execution_count": null,
   "metadata": {
    "execution": {
     "iopub.execute_input": "2024-02-27T16:09:15.285345Z",
     "iopub.status.busy": "2024-02-27T16:09:15.284346Z",
     "iopub.status.idle": "2024-02-27T16:09:15.298994Z",
     "shell.execute_reply": "2024-02-27T16:09:15.298994Z"
    }
   },
   "outputs": [],
   "source": []
  },
  {
   "cell_type": "markdown",
   "metadata": {
    "pycharm": {
     "name": "#%% md\n"
    }
   },
   "source": [
    "## Exercises\n",
    "\n",
    "### Exercise: Subset time-series\n",
    "\n",
    "Select the data for May 2017 for momentum portfolios 1 and 10."
   ]
  },
  {
   "cell_type": "code",
   "execution_count": null,
   "metadata": {
    "execution": {
     "iopub.execute_input": "2024-02-27T16:09:15.301998Z",
     "iopub.status.busy": "2024-02-27T16:09:15.300998Z",
     "iopub.status.idle": "2024-02-27T16:09:15.310634Z",
     "shell.execute_reply": "2024-02-27T16:09:15.310634Z"
    },
    "jupyter": {
     "outputs_hidden": false
    }
   },
   "outputs": [],
   "source": []
  },
  {
   "cell_type": "markdown",
   "metadata": {
    "pycharm": {
     "name": "#%% md\n"
    }
   },
   "source": [
    "### Exercise: Select using Months\n",
    "\n",
    "Using a slice of YYYY-MM, select the returns for momentum portfolio\n",
    "5 in the final 6 months of 2016 as `Series`"
   ]
  },
  {
   "cell_type": "code",
   "execution_count": null,
   "metadata": {
    "execution": {
     "iopub.execute_input": "2024-02-27T16:09:15.312645Z",
     "iopub.status.busy": "2024-02-27T16:09:15.312645Z",
     "iopub.status.idle": "2024-02-27T16:09:15.320216Z",
     "shell.execute_reply": "2024-02-27T16:09:15.320216Z"
    },
    "jupyter": {
     "outputs_hidden": false
    }
   },
   "outputs": [],
   "source": []
  },
  {
   "cell_type": "markdown",
   "metadata": {},
   "source": [
    "### Exercise: Ensure DataFrame\n",
    "\n",
    "Repeat the previous problem but ensure the selection is a DataFrame."
   ]
  },
  {
   "cell_type": "code",
   "execution_count": null,
   "metadata": {
    "execution": {
     "iopub.execute_input": "2024-02-27T16:09:15.322311Z",
     "iopub.status.busy": "2024-02-27T16:09:15.322311Z",
     "iopub.status.idle": "2024-02-27T16:09:15.330094Z",
     "shell.execute_reply": "2024-02-27T16:09:15.330094Z"
    },
    "jupyter": {
     "outputs_hidden": false
    },
    "tags": []
   },
   "outputs": [],
   "source": []
  }
 ],
 "metadata": {
  "file_extension": ".py",
  "kernelspec": {
   "display_name": "Python 3 (ipykernel)",
   "language": "python",
   "name": "python3"
  },
  "language_info": {
   "codemirror_mode": {
    "name": "ipython",
    "version": 3
   },
   "file_extension": ".py",
   "mimetype": "text/x-python",
   "name": "python",
   "nbconvert_exporter": "python",
   "pygments_lexer": "ipython3",
   "version": "3.11.5"
  },
  "mimetype": "text/x-python",
  "name": "python",
  "npconvert_exporter": "python",
  "pycharm": {
   "stem_cell": {
    "cell_type": "raw",
    "metadata": {
     "collapsed": false
    },
    "source": []
   }
  },
  "pygments_lexer": "ipython3",
  "version": 3
 },
 "nbformat": 4,
 "nbformat_minor": 4
}
