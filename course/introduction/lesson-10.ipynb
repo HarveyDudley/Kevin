{
 "cells": [
  {
   "cell_type": "markdown",
   "metadata": {},
   "source": [
    "# Accessing Elements in DataFrames\n",
    "\n",
    "This lesson covers:\n",
    "\n",
    "* Assessing specific elements in Pandas Series and DataFrames \n",
    "\n",
    "Accessing elements in an array or a DataFrame is a common task. To begin this\n",
    "lesson, clear the workspace set up some vectors and a $5\\times5$ array. These\n",
    "vectors and matrix will make it easy to determine which elements are selected\n",
    "by a command.\n",
    "\n",
    "Start by creating 2 DataFrame and 2 Series. Define `x=np.arange(24).reshape(5,5)` \n",
    "which is a 5 by 5 array and `y=np.arange(5)` which is a 5-element 1-d array.\n",
    "We need:\n",
    "\n",
    "* `x_df`: A default `DataFrame` containing `x`\n",
    "* `x_named`: A `DataFrame` containing `x` with index `\"r0\"`, `\"r1\"`, ..., `\"r4\"` and\n",
    "  columns `\"c0\"`, `\"c1\"`, ... `\"c4\"`.\n",
    "* `y_s`: A default `Series` containing `y`\n",
    "* `y_named`: A `Series` containing `y` that has the index `\"r0\"`, `\"r1\"`, ..., `\"r4\"`"
   ]
  },
  {
   "cell_type": "code",
   "execution_count": null,
   "metadata": {
    "execution": {
     "iopub.execute_input": "2021-09-22T10:21:05.342373Z",
     "iopub.status.busy": "2021-09-22T10:21:05.341376Z",
     "iopub.status.idle": "2021-09-22T10:21:05.665373Z",
     "shell.execute_reply": "2021-09-22T10:21:05.665373Z"
    }
   },
   "outputs": [],
   "source": []
  },
  {
   "cell_type": "markdown",
   "metadata": {},
   "source": [
    "## Problem: Selecting a row by name\n",
    "\n",
    "Select the 2nd row of `x_name` using `.loc`.\n"
   ]
  },
  {
   "cell_type": "code",
   "execution_count": null,
   "metadata": {
    "execution": {
     "iopub.execute_input": "2021-09-22T10:21:05.672375Z",
     "iopub.status.busy": "2021-09-22T10:21:05.672375Z",
     "iopub.status.idle": "2021-09-22T10:21:05.680373Z",
     "shell.execute_reply": "2021-09-22T10:21:05.680373Z"
    }
   },
   "outputs": [],
   "source": []
  },
  {
   "cell_type": "markdown",
   "metadata": {},
   "source": [
    "## Problem: Selecting a column by name\n",
    "\n",
    "Select the 2nd columns of `x_name` using  both `[]` and `.loc`."
   ]
  },
  {
   "cell_type": "code",
   "execution_count": null,
   "metadata": {
    "execution": {
     "iopub.execute_input": "2021-09-22T10:21:05.683374Z",
     "iopub.status.busy": "2021-09-22T10:21:05.683374Z",
     "iopub.status.idle": "2021-09-22T10:21:05.695875Z",
     "shell.execute_reply": "2021-09-22T10:21:05.695875Z"
    }
   },
   "outputs": [],
   "source": []
  },
  {
   "cell_type": "code",
   "execution_count": null,
   "metadata": {
    "execution": {
     "iopub.execute_input": "2021-09-22T10:21:05.698875Z",
     "iopub.status.busy": "2021-09-22T10:21:05.698875Z",
     "iopub.status.idle": "2021-09-22T10:21:05.711707Z",
     "shell.execute_reply": "2021-09-22T10:21:05.711707Z"
    }
   },
   "outputs": [],
   "source": []
  },
  {
   "cell_type": "code",
   "execution_count": null,
   "metadata": {
    "execution": {
     "iopub.execute_input": "2021-09-22T10:21:05.714707Z",
     "iopub.status.busy": "2021-09-22T10:21:05.714707Z",
     "iopub.status.idle": "2021-09-22T10:21:05.726881Z",
     "shell.execute_reply": "2021-09-22T10:21:05.727885Z"
    }
   },
   "outputs": [],
   "source": []
  },
  {
   "cell_type": "markdown",
   "metadata": {},
   "source": [
    "## Problem: Selecting a elements of a Series by name\n",
    "\n",
    "Select the 2nd element of `y_name` using both `[]` and `loc`.\n"
   ]
  },
  {
   "cell_type": "code",
   "execution_count": null,
   "metadata": {
    "execution": {
     "iopub.execute_input": "2021-09-22T10:21:05.729884Z",
     "iopub.status.busy": "2021-09-22T10:21:05.729884Z",
     "iopub.status.idle": "2021-09-22T10:21:05.742720Z",
     "shell.execute_reply": "2021-09-22T10:21:05.742720Z"
    }
   },
   "outputs": [],
   "source": []
  },
  {
   "cell_type": "code",
   "execution_count": null,
   "metadata": {
    "execution": {
     "iopub.execute_input": "2021-09-22T10:21:05.745720Z",
     "iopub.status.busy": "2021-09-22T10:21:05.745720Z",
     "iopub.status.idle": "2021-09-22T10:21:05.758171Z",
     "shell.execute_reply": "2021-09-22T10:21:05.758171Z"
    }
   },
   "outputs": [],
   "source": []
  },
  {
   "cell_type": "code",
   "execution_count": null,
   "metadata": {
    "execution": {
     "iopub.execute_input": "2021-09-22T10:21:05.761169Z",
     "iopub.status.busy": "2021-09-22T10:21:05.761169Z",
     "iopub.status.idle": "2021-09-22T10:21:05.774168Z",
     "shell.execute_reply": "2021-09-22T10:21:05.774168Z"
    }
   },
   "outputs": [],
   "source": []
  },
  {
   "cell_type": "markdown",
   "metadata": {},
   "source": [
    "## Problem: Selecting rows and columns by name\n",
    "\n",
    "Select the 2nd and 4th rows and 1st and 3rd columns of `x_name`."
   ]
  },
  {
   "cell_type": "code",
   "execution_count": null,
   "metadata": {
    "execution": {
     "iopub.execute_input": "2021-09-22T10:21:05.779169Z",
     "iopub.status.busy": "2021-09-22T10:21:05.778168Z",
     "iopub.status.idle": "2021-09-22T10:21:05.790168Z",
     "shell.execute_reply": "2021-09-22T10:21:05.790168Z"
    }
   },
   "outputs": [],
   "source": []
  },
  {
   "cell_type": "code",
   "execution_count": null,
   "metadata": {
    "execution": {
     "iopub.execute_input": "2021-09-22T10:21:05.796169Z",
     "iopub.status.busy": "2021-09-22T10:21:05.795172Z",
     "iopub.status.idle": "2021-09-22T10:21:05.806009Z",
     "shell.execute_reply": "2021-09-22T10:21:05.806009Z"
    }
   },
   "outputs": [],
   "source": []
  },
  {
   "cell_type": "code",
   "execution_count": null,
   "metadata": {
    "execution": {
     "iopub.execute_input": "2021-09-22T10:21:05.812008Z",
     "iopub.status.busy": "2021-09-22T10:21:05.812008Z",
     "iopub.status.idle": "2021-09-22T10:21:05.822011Z",
     "shell.execute_reply": "2021-09-22T10:21:05.823010Z"
    }
   },
   "outputs": [],
   "source": []
  },
  {
   "cell_type": "markdown",
   "metadata": {},
   "source": [
    "## Problem: DataFrame selection with default index and column names\n",
    "\n",
    "Select the 2nd and 4th rows and 1st and 3rd columns of `x_df`.\n"
   ]
  },
  {
   "cell_type": "code",
   "execution_count": null,
   "metadata": {
    "execution": {
     "iopub.execute_input": "2021-09-22T10:21:05.828009Z",
     "iopub.status.busy": "2021-09-22T10:21:05.828009Z",
     "iopub.status.idle": "2021-09-22T10:21:05.837366Z",
     "shell.execute_reply": "2021-09-22T10:21:05.837366Z"
    }
   },
   "outputs": [],
   "source": []
  },
  {
   "cell_type": "markdown",
   "metadata": {},
   "source": [
    "## Problem: Series selection with the default index\n",
    "\n",
    "Select the final element in `y_s`"
   ]
  },
  {
   "cell_type": "code",
   "execution_count": null,
   "metadata": {
    "execution": {
     "iopub.execute_input": "2021-09-22T10:21:05.841367Z",
     "iopub.status.busy": "2021-09-22T10:21:05.840366Z",
     "iopub.status.idle": "2021-09-22T10:21:05.853366Z",
     "shell.execute_reply": "2021-09-22T10:21:05.854363Z"
    }
   },
   "outputs": [],
   "source": []
  },
  {
   "cell_type": "code",
   "execution_count": null,
   "metadata": {
    "execution": {
     "iopub.execute_input": "2021-09-22T10:21:05.857366Z",
     "iopub.status.busy": "2021-09-22T10:21:05.857366Z",
     "iopub.status.idle": "2021-09-22T10:21:05.868366Z",
     "shell.execute_reply": "2021-09-22T10:21:05.868366Z"
    }
   },
   "outputs": [],
   "source": []
  },
  {
   "cell_type": "markdown",
   "metadata": {},
   "source": [
    "## Problem: Subseries selection\n",
    "Select the subseries of `y_named` and `y_s` containing the first, fourth and fifth element."
   ]
  },
  {
   "cell_type": "code",
   "execution_count": null,
   "metadata": {
    "execution": {
     "iopub.execute_input": "2021-09-22T10:21:05.872365Z",
     "iopub.status.busy": "2021-09-22T10:21:05.872365Z",
     "iopub.status.idle": "2021-09-22T10:21:05.884362Z",
     "shell.execute_reply": "2021-09-22T10:21:05.884362Z"
    }
   },
   "outputs": [],
   "source": []
  },
  {
   "cell_type": "code",
   "execution_count": null,
   "metadata": {
    "execution": {
     "iopub.execute_input": "2021-09-22T10:21:05.890363Z",
     "iopub.status.busy": "2021-09-22T10:21:05.889363Z",
     "iopub.status.idle": "2021-09-22T10:21:05.900363Z",
     "shell.execute_reply": "2021-09-22T10:21:05.900363Z"
    }
   },
   "outputs": [],
   "source": []
  },
  {
   "cell_type": "markdown",
   "metadata": {},
   "source": [
    "Load the data in momentum.csv."
   ]
  },
  {
   "cell_type": "code",
   "execution_count": null,
   "metadata": {
    "execution": {
     "iopub.execute_input": "2021-09-22T10:21:05.905365Z",
     "iopub.status.busy": "2021-09-22T10:21:05.904364Z",
     "iopub.status.idle": "2021-09-22T10:21:05.932364Z",
     "shell.execute_reply": "2021-09-22T10:21:05.932364Z"
    },
    "pycharm": {
     "is_executing": false
    }
   },
   "outputs": [],
   "source": [
    "# Setup: Load the momentum data\n",
    "\n",
    "import pandas as pd\n",
    "\n",
    "momentum = pd.read_csv(\"data/momentum.csv\", index_col=\"date\", parse_dates=True)\n",
    "momentum.head()"
   ]
  },
  {
   "cell_type": "markdown",
   "metadata": {
    "pycharm": {
     "name": "#%% md\n"
    }
   },
   "source": [
    "## Problem: Selecting data on a single day\n",
    "\n",
    "Select returns on February 16, 2016.\n"
   ]
  },
  {
   "cell_type": "code",
   "execution_count": null,
   "metadata": {
    "execution": {
     "iopub.execute_input": "2021-09-22T10:21:05.937362Z",
     "iopub.status.busy": "2021-09-22T10:21:05.935366Z",
     "iopub.status.idle": "2021-09-22T10:21:05.948364Z",
     "shell.execute_reply": "2021-09-22T10:21:05.948364Z"
    }
   },
   "outputs": [],
   "source": []
  },
  {
   "cell_type": "markdown",
   "metadata": {},
   "source": [
    "## Problem: Selecting data in a single month\n",
    "\n",
    "Select return in March 2016."
   ]
  },
  {
   "cell_type": "code",
   "execution_count": null,
   "metadata": {
    "execution": {
     "iopub.execute_input": "2021-09-22T10:21:05.959364Z",
     "iopub.status.busy": "2021-09-22T10:21:05.959364Z",
     "iopub.status.idle": "2021-09-22T10:21:05.964365Z",
     "shell.execute_reply": "2021-09-22T10:21:05.964365Z"
    }
   },
   "outputs": [],
   "source": []
  },
  {
   "cell_type": "markdown",
   "metadata": {},
   "source": [
    "## Problem: Selecting data in a single year\n",
    "\n",
    "Select return in 2016.\n"
   ]
  },
  {
   "cell_type": "code",
   "execution_count": null,
   "metadata": {
    "execution": {
     "iopub.execute_input": "2021-09-22T10:21:05.975366Z",
     "iopub.status.busy": "2021-09-22T10:21:05.974361Z",
     "iopub.status.idle": "2021-09-22T10:21:05.980364Z",
     "shell.execute_reply": "2021-09-22T10:21:05.980364Z"
    }
   },
   "outputs": [],
   "source": []
  },
  {
   "cell_type": "markdown",
   "metadata": {},
   "source": [
    "## Problem: Selecting data in a date range\n",
    "\n",
    "Select returns between May 1, 2016, and June 15, 2016."
   ]
  },
  {
   "cell_type": "code",
   "execution_count": null,
   "metadata": {
    "execution": {
     "iopub.execute_input": "2021-09-22T10:21:05.991366Z",
     "iopub.status.busy": "2021-09-22T10:21:05.991366Z",
     "iopub.status.idle": "2021-09-22T10:21:05.996366Z",
     "shell.execute_reply": "2021-09-22T10:21:05.996366Z"
    }
   },
   "outputs": [],
   "source": []
  },
  {
   "cell_type": "markdown",
   "metadata": {
    "pycharm": {
     "name": "#%% md\n"
    }
   },
   "source": [
    "## Exercises\n",
    "\n",
    "### Exercise: Subset time-series\n",
    "\n",
    "Select the data for May 2017 for momentum portfolios 1 and 10."
   ]
  },
  {
   "cell_type": "code",
   "execution_count": null,
   "metadata": {
    "execution": {
     "iopub.execute_input": "2021-09-22T10:21:06.004364Z",
     "iopub.status.busy": "2021-09-22T10:21:06.004364Z",
     "iopub.status.idle": "2021-09-22T10:21:06.012364Z",
     "shell.execute_reply": "2021-09-22T10:21:06.012364Z"
    },
    "jupyter": {
     "outputs_hidden": false
    }
   },
   "outputs": [],
   "source": []
  },
  {
   "cell_type": "markdown",
   "metadata": {
    "pycharm": {
     "name": "#%% md\n"
    }
   },
   "source": [
    "### Exercise: Select using Months\n",
    "\n",
    "Using a slice of YYYY-MM, select the returns for momentum portfolio\n",
    "5 in the final 6 months of 2016 as `Series`"
   ]
  },
  {
   "cell_type": "code",
   "execution_count": null,
   "metadata": {
    "execution": {
     "iopub.execute_input": "2021-09-22T10:21:06.018364Z",
     "iopub.status.busy": "2021-09-22T10:21:06.018364Z",
     "iopub.status.idle": "2021-09-22T10:21:06.028365Z",
     "shell.execute_reply": "2021-09-22T10:21:06.028365Z"
    },
    "jupyter": {
     "outputs_hidden": false
    }
   },
   "outputs": [],
   "source": []
  },
  {
   "cell_type": "markdown",
   "metadata": {},
   "source": [
    "### Exercise: Ensure DataFrame\n",
    "\n",
    "Repeat the previous problem but ensure the selection is a DataFrame."
   ]
  },
  {
   "cell_type": "code",
   "execution_count": null,
   "metadata": {
    "execution": {
     "iopub.execute_input": "2021-09-22T10:21:06.035361Z",
     "iopub.status.busy": "2021-09-22T10:21:06.034363Z",
     "iopub.status.idle": "2021-09-22T10:21:06.044363Z",
     "shell.execute_reply": "2021-09-22T10:21:06.044363Z"
    },
    "jupyter": {
     "outputs_hidden": false
    },
    "tags": []
   },
   "outputs": [],
   "source": []
  }
 ],
 "metadata": {
  "file_extension": ".py",
  "kernelspec": {
   "display_name": "Python 3 (ipykernel)",
   "language": "python",
   "name": "python3"
  },
  "language_info": {
   "codemirror_mode": {
    "name": "ipython",
    "version": 3
   },
   "file_extension": ".py",
   "mimetype": "text/x-python",
   "name": "python",
   "nbconvert_exporter": "python",
   "pygments_lexer": "ipython3",
   "version": "3.9.6"
  },
  "mimetype": "text/x-python",
  "name": "python",
  "npconvert_exporter": "python",
  "pycharm": {
   "stem_cell": {
    "cell_type": "raw",
    "metadata": {
     "collapsed": false
    },
    "source": []
   }
  },
  "pygments_lexer": "ipython3",
  "version": 3
 },
 "nbformat": 4,
 "nbformat_minor": 4
}
