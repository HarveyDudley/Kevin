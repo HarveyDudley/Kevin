{
 "cells": [
  {
   "cell_type": "markdown",
   "metadata": {},
   "source": [
    "# Accessing Elements in DataFrames\n",
    "\n",
    "This lesson covers:\n",
    "\n",
    "* Assessing specific elements in Pandas Series and DataFrames \n",
    "\n",
    "Accessing elements in an array or a DataFrame is a common task. To begin this\n",
    "lesson, clear the workspace set up some vectors and a $5\\times5$ array. These\n",
    "vectors and matrix will make it easy to determine which elements are selected\n",
    "by a command.\n",
    "\n",
    "Start by creating 2 DataFrame and 2 Series. Define `x=np.arange(24).reshape(5,5)` \n",
    "which is a 5 by 5 array and `y=np.arange(5)` which is a 5-element 1-d array.\n",
    "We need:\n",
    "\n",
    "* `x_df`: A default `DataFrame` containing `x`\n",
    "* `x_named`: A `DataFrame` containing `x` with index `\"r0\"`, `\"r1\"`, ..., `\"r4\"` and\n",
    "  columns `\"c0\"`, `\"c1\"`, ... `\"c4\"`.\n",
    "* `y_s`: A default `Series` containing `y`\n",
    "* `y_named`: A `Series` containing `y` that has the index `\"r0\"`, `\"r1\"`, ..., `\"r4\"`"
   ]
  },
  {
   "cell_type": "code",
   "execution_count": null,
   "metadata": {
    "execution": {
     "iopub.execute_input": "2023-09-28T12:32:19.228818Z",
     "iopub.status.busy": "2023-09-28T12:32:19.228818Z",
     "iopub.status.idle": "2023-09-28T12:32:19.945599Z",
     "shell.execute_reply": "2023-09-28T12:32:19.945599Z"
    }
   },
   "outputs": [],
   "source": []
  },
  {
   "cell_type": "markdown",
   "metadata": {},
   "source": [
    "## Problem: Selecting a row by name\n",
    "\n",
    "Select the 2nd row of `x_name` using `.loc`.\n"
   ]
  },
  {
   "cell_type": "code",
   "execution_count": null,
   "metadata": {
    "execution": {
     "iopub.execute_input": "2023-09-28T12:32:19.945599Z",
     "iopub.status.busy": "2023-09-28T12:32:19.945599Z",
     "iopub.status.idle": "2023-09-28T12:32:19.955998Z",
     "shell.execute_reply": "2023-09-28T12:32:19.955998Z"
    }
   },
   "outputs": [],
   "source": []
  },
  {
   "cell_type": "markdown",
   "metadata": {},
   "source": [
    "## Problem: Selecting a column by name\n",
    "\n",
    "Select the 2nd columns of `x_name` using  both `[]` and `.loc`."
   ]
  },
  {
   "cell_type": "code",
   "execution_count": null,
   "metadata": {
    "execution": {
     "iopub.execute_input": "2023-09-28T12:32:19.955998Z",
     "iopub.status.busy": "2023-09-28T12:32:19.955998Z",
     "iopub.status.idle": "2023-09-28T12:32:19.963898Z",
     "shell.execute_reply": "2023-09-28T12:32:19.963898Z"
    }
   },
   "outputs": [],
   "source": []
  },
  {
   "cell_type": "code",
   "execution_count": null,
   "metadata": {
    "execution": {
     "iopub.execute_input": "2023-09-28T12:32:19.966405Z",
     "iopub.status.busy": "2023-09-28T12:32:19.966405Z",
     "iopub.status.idle": "2023-09-28T12:32:19.971546Z",
     "shell.execute_reply": "2023-09-28T12:32:19.971546Z"
    }
   },
   "outputs": [],
   "source": []
  },
  {
   "cell_type": "code",
   "execution_count": null,
   "metadata": {
    "execution": {
     "iopub.execute_input": "2023-09-28T12:32:19.971546Z",
     "iopub.status.busy": "2023-09-28T12:32:19.971546Z",
     "iopub.status.idle": "2023-09-28T12:32:19.978760Z",
     "shell.execute_reply": "2023-09-28T12:32:19.978760Z"
    }
   },
   "outputs": [],
   "source": []
  },
  {
   "cell_type": "markdown",
   "metadata": {},
   "source": [
    "## Problem: Selecting a elements of a Series by name\n",
    "\n",
    "Select the 2nd element of `y_name` using both `[]` and `loc`.\n"
   ]
  },
  {
   "cell_type": "code",
   "execution_count": null,
   "metadata": {
    "execution": {
     "iopub.execute_input": "2023-09-28T12:32:19.978760Z",
     "iopub.status.busy": "2023-09-28T12:32:19.978760Z",
     "iopub.status.idle": "2023-09-28T12:32:19.984693Z",
     "shell.execute_reply": "2023-09-28T12:32:19.984693Z"
    }
   },
   "outputs": [],
   "source": []
  },
  {
   "cell_type": "code",
   "execution_count": null,
   "metadata": {
    "execution": {
     "iopub.execute_input": "2023-09-28T12:32:19.984693Z",
     "iopub.status.busy": "2023-09-28T12:32:19.984693Z",
     "iopub.status.idle": "2023-09-28T12:32:19.991554Z",
     "shell.execute_reply": "2023-09-28T12:32:19.991554Z"
    }
   },
   "outputs": [],
   "source": []
  },
  {
   "cell_type": "code",
   "execution_count": null,
   "metadata": {
    "execution": {
     "iopub.execute_input": "2023-09-28T12:32:19.991554Z",
     "iopub.status.busy": "2023-09-28T12:32:19.991554Z",
     "iopub.status.idle": "2023-09-28T12:32:19.997920Z",
     "shell.execute_reply": "2023-09-28T12:32:19.997920Z"
    }
   },
   "outputs": [],
   "source": []
  },
  {
   "cell_type": "markdown",
   "metadata": {},
   "source": [
    "## Problem: Selecting rows and columns by name\n",
    "\n",
    "Select the 2nd and 4th rows and 1st and 3rd columns of `x_name`."
   ]
  },
  {
   "cell_type": "code",
   "execution_count": null,
   "metadata": {
    "execution": {
     "iopub.execute_input": "2023-09-28T12:32:19.997920Z",
     "iopub.status.busy": "2023-09-28T12:32:19.997920Z",
     "iopub.status.idle": "2023-09-28T12:32:20.008525Z",
     "shell.execute_reply": "2023-09-28T12:32:20.008525Z"
    }
   },
   "outputs": [],
   "source": []
  },
  {
   "cell_type": "code",
   "execution_count": null,
   "metadata": {
    "execution": {
     "iopub.execute_input": "2023-09-28T12:32:20.008525Z",
     "iopub.status.busy": "2023-09-28T12:32:20.008525Z",
     "iopub.status.idle": "2023-09-28T12:32:20.017470Z",
     "shell.execute_reply": "2023-09-28T12:32:20.017470Z"
    }
   },
   "outputs": [],
   "source": []
  },
  {
   "cell_type": "code",
   "execution_count": null,
   "metadata": {
    "execution": {
     "iopub.execute_input": "2023-09-28T12:32:20.017470Z",
     "iopub.status.busy": "2023-09-28T12:32:20.017470Z",
     "iopub.status.idle": "2023-09-28T12:32:20.026676Z",
     "shell.execute_reply": "2023-09-28T12:32:20.026676Z"
    }
   },
   "outputs": [],
   "source": []
  },
  {
   "cell_type": "markdown",
   "metadata": {},
   "source": [
    "## Problem: DataFrame selection with default index and column names\n",
    "\n",
    "Select the 2nd and 4th rows and 1st and 3rd columns of `x_df`.\n"
   ]
  },
  {
   "cell_type": "code",
   "execution_count": null,
   "metadata": {
    "execution": {
     "iopub.execute_input": "2023-09-28T12:32:20.029182Z",
     "iopub.status.busy": "2023-09-28T12:32:20.029182Z",
     "iopub.status.idle": "2023-09-28T12:32:20.036509Z",
     "shell.execute_reply": "2023-09-28T12:32:20.036509Z"
    }
   },
   "outputs": [],
   "source": []
  },
  {
   "cell_type": "markdown",
   "metadata": {},
   "source": [
    "## Problem: Series selection with the default index\n",
    "\n",
    "Select the final element in `y_s`"
   ]
  },
  {
   "cell_type": "code",
   "execution_count": null,
   "metadata": {
    "execution": {
     "iopub.execute_input": "2023-09-28T12:32:20.036509Z",
     "iopub.status.busy": "2023-09-28T12:32:20.036509Z",
     "iopub.status.idle": "2023-09-28T12:32:20.043175Z",
     "shell.execute_reply": "2023-09-28T12:32:20.043175Z"
    }
   },
   "outputs": [],
   "source": []
  },
  {
   "cell_type": "code",
   "execution_count": null,
   "metadata": {
    "execution": {
     "iopub.execute_input": "2023-09-28T12:32:20.045181Z",
     "iopub.status.busy": "2023-09-28T12:32:20.045181Z",
     "iopub.status.idle": "2023-09-28T12:32:20.049627Z",
     "shell.execute_reply": "2023-09-28T12:32:20.049627Z"
    }
   },
   "outputs": [],
   "source": []
  },
  {
   "cell_type": "markdown",
   "metadata": {},
   "source": [
    "## Problem: Subseries selection\n",
    "Select the subseries of `y_named` and `y_s` containing the first, fourth and fifth element."
   ]
  },
  {
   "cell_type": "code",
   "execution_count": null,
   "metadata": {
    "execution": {
     "iopub.execute_input": "2023-09-28T12:32:20.049627Z",
     "iopub.status.busy": "2023-09-28T12:32:20.049627Z",
     "iopub.status.idle": "2023-09-28T12:32:20.057433Z",
     "shell.execute_reply": "2023-09-28T12:32:20.057433Z"
    }
   },
   "outputs": [],
   "source": []
  },
  {
   "cell_type": "code",
   "execution_count": null,
   "metadata": {
    "execution": {
     "iopub.execute_input": "2023-09-28T12:32:20.057433Z",
     "iopub.status.busy": "2023-09-28T12:32:20.057433Z",
     "iopub.status.idle": "2023-09-28T12:32:20.065577Z",
     "shell.execute_reply": "2023-09-28T12:32:20.065577Z"
    }
   },
   "outputs": [],
   "source": []
  },
  {
   "cell_type": "markdown",
   "metadata": {},
   "source": [
    "Load the data in momentum.csv."
   ]
  },
  {
   "cell_type": "code",
   "execution_count": null,
   "metadata": {
    "execution": {
     "iopub.execute_input": "2023-09-28T12:32:20.065577Z",
     "iopub.status.busy": "2023-09-28T12:32:20.065577Z",
     "iopub.status.idle": "2023-09-28T12:32:20.086114Z",
     "shell.execute_reply": "2023-09-28T12:32:20.086114Z"
    },
    "pycharm": {
     "is_executing": false
    }
   },
   "outputs": [],
   "source": [
    "# Setup: Load the momentum data\n",
    "\n",
    "import pandas as pd\n",
    "\n",
    "momentum = pd.read_csv(\"data/momentum.csv\", index_col=\"date\", parse_dates=True)\n",
    "momentum.head()"
   ]
  },
  {
   "cell_type": "markdown",
   "metadata": {
    "pycharm": {
     "name": "#%% md\n"
    }
   },
   "source": [
    "## Problem: Selecting data on a single day\n",
    "\n",
    "Select returns on February 16, 2016.\n"
   ]
  },
  {
   "cell_type": "code",
   "execution_count": null,
   "metadata": {
    "execution": {
     "iopub.execute_input": "2023-09-28T12:32:20.086114Z",
     "iopub.status.busy": "2023-09-28T12:32:20.086114Z",
     "iopub.status.idle": "2023-09-28T12:32:20.094762Z",
     "shell.execute_reply": "2023-09-28T12:32:20.094762Z"
    }
   },
   "outputs": [],
   "source": []
  },
  {
   "cell_type": "markdown",
   "metadata": {},
   "source": [
    "## Problem: Selecting data in a single month\n",
    "\n",
    "Select return in March 2016."
   ]
  },
  {
   "cell_type": "code",
   "execution_count": null,
   "metadata": {
    "execution": {
     "iopub.execute_input": "2023-09-28T12:32:20.094762Z",
     "iopub.status.busy": "2023-09-28T12:32:20.094762Z",
     "iopub.status.idle": "2023-09-28T12:32:20.110626Z",
     "shell.execute_reply": "2023-09-28T12:32:20.110626Z"
    }
   },
   "outputs": [],
   "source": []
  },
  {
   "cell_type": "markdown",
   "metadata": {},
   "source": [
    "## Problem: Selecting data in a single year\n",
    "\n",
    "Select return in 2016.\n"
   ]
  },
  {
   "cell_type": "code",
   "execution_count": null,
   "metadata": {
    "execution": {
     "iopub.execute_input": "2023-09-28T12:32:20.110626Z",
     "iopub.status.busy": "2023-09-28T12:32:20.110626Z",
     "iopub.status.idle": "2023-09-28T12:32:20.125738Z",
     "shell.execute_reply": "2023-09-28T12:32:20.125738Z"
    }
   },
   "outputs": [],
   "source": []
  },
  {
   "cell_type": "markdown",
   "metadata": {},
   "source": [
    "## Problem: Selecting data in a date range\n",
    "\n",
    "Select returns between May 1, 2016, and June 15, 2016."
   ]
  },
  {
   "cell_type": "code",
   "execution_count": null,
   "metadata": {
    "execution": {
     "iopub.execute_input": "2023-09-28T12:32:20.125738Z",
     "iopub.status.busy": "2023-09-28T12:32:20.125738Z",
     "iopub.status.idle": "2023-09-28T12:32:20.140508Z",
     "shell.execute_reply": "2023-09-28T12:32:20.140508Z"
    }
   },
   "outputs": [],
   "source": []
  },
  {
   "cell_type": "markdown",
   "metadata": {
    "pycharm": {
     "name": "#%% md\n"
    }
   },
   "source": [
    "## Exercises\n",
    "\n",
    "### Exercise: Subset time-series\n",
    "\n",
    "Select the data for May 2017 for momentum portfolios 1 and 10."
   ]
  },
  {
   "cell_type": "code",
   "execution_count": null,
   "metadata": {
    "execution": {
     "iopub.execute_input": "2023-09-28T12:32:20.140508Z",
     "iopub.status.busy": "2023-09-28T12:32:20.140508Z",
     "iopub.status.idle": "2023-09-28T12:32:20.153347Z",
     "shell.execute_reply": "2023-09-28T12:32:20.153347Z"
    },
    "jupyter": {
     "outputs_hidden": false
    }
   },
   "outputs": [],
   "source": []
  },
  {
   "cell_type": "markdown",
   "metadata": {
    "pycharm": {
     "name": "#%% md\n"
    }
   },
   "source": [
    "### Exercise: Select using Months\n",
    "\n",
    "Using a slice of YYYY-MM, select the returns for momentum portfolio\n",
    "5 in the final 6 months of 2016 as `Series`"
   ]
  },
  {
   "cell_type": "code",
   "execution_count": null,
   "metadata": {
    "execution": {
     "iopub.execute_input": "2023-09-28T12:32:20.155853Z",
     "iopub.status.busy": "2023-09-28T12:32:20.155853Z",
     "iopub.status.idle": "2023-09-28T12:32:20.163610Z",
     "shell.execute_reply": "2023-09-28T12:32:20.163610Z"
    },
    "jupyter": {
     "outputs_hidden": false
    }
   },
   "outputs": [],
   "source": []
  },
  {
   "cell_type": "markdown",
   "metadata": {},
   "source": [
    "### Exercise: Ensure DataFrame\n",
    "\n",
    "Repeat the previous problem but ensure the selection is a DataFrame."
   ]
  },
  {
   "cell_type": "code",
   "execution_count": null,
   "metadata": {
    "execution": {
     "iopub.execute_input": "2023-09-28T12:32:20.163610Z",
     "iopub.status.busy": "2023-09-28T12:32:20.163610Z",
     "iopub.status.idle": "2023-09-28T12:32:20.174374Z",
     "shell.execute_reply": "2023-09-28T12:32:20.174374Z"
    },
    "jupyter": {
     "outputs_hidden": false
    },
    "tags": []
   },
   "outputs": [],
   "source": []
  }
 ],
 "metadata": {
  "file_extension": ".py",
  "kernelspec": {
   "display_name": "Python 3 (ipykernel)",
   "language": "python",
   "name": "python3"
  },
  "language_info": {
   "codemirror_mode": {
    "name": "ipython",
    "version": 3
   },
   "file_extension": ".py",
   "mimetype": "text/x-python",
   "name": "python",
   "nbconvert_exporter": "python",
   "pygments_lexer": "ipython3",
   "version": "3.11.5"
  },
  "mimetype": "text/x-python",
  "name": "python",
  "npconvert_exporter": "python",
  "pycharm": {
   "stem_cell": {
    "cell_type": "raw",
    "metadata": {
     "collapsed": false
    },
    "source": []
   }
  },
  "pygments_lexer": "ipython3",
  "version": 3
 },
 "nbformat": 4,
 "nbformat_minor": 4
}
