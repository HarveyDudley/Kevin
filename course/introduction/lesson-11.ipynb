{
 "cells": [
  {
   "cell_type": "markdown",
   "metadata": {},
   "source": [
    "# Accessing Elements in NumPy Arrays\n",
    "\n",
    "This lesson covers:\n",
    "\n",
    "* Accessing specific elements in NumPy arrays\n",
    "\n",
    "Accessing elements in an array or a DataFrame is a common task. To begin this lesson, clear the\n",
    "workspace set up some vectors and a $5\\times5$ array. These vectors and matrix will make it easy\n",
    "to determine which elements are selected by a command.\n",
    "\n",
    "\n",
    "Using `arange` and `reshape` to create 3 arrays:\n",
    "\n",
    "* 5-by-5 array `x` containing the values 0,1,...,24 \n",
    "* 5-element, 1-dimensional array `y` containing 0,1,...,4\n",
    "* 5-by-1 array `z` containing 0,1,...,4\n"
   ]
  },
  {
   "cell_type": "code",
   "execution_count": null,
   "metadata": {
    "execution": {
     "iopub.execute_input": "2021-09-22T10:21:09.556390Z",
     "iopub.status.busy": "2021-09-22T10:21:09.556390Z",
     "iopub.status.idle": "2021-09-22T10:21:09.658641Z",
     "shell.execute_reply": "2021-09-22T10:21:09.658641Z"
    }
   },
   "outputs": [],
   "source": []
  },
  {
   "cell_type": "code",
   "execution_count": null,
   "metadata": {
    "execution": {
     "iopub.execute_input": "2021-09-22T10:21:09.661639Z",
     "iopub.status.busy": "2021-09-22T10:21:09.661639Z",
     "iopub.status.idle": "2021-09-22T10:21:09.674640Z",
     "shell.execute_reply": "2021-09-22T10:21:09.674640Z"
    }
   },
   "outputs": [],
   "source": []
  },
  {
   "cell_type": "code",
   "execution_count": null,
   "metadata": {
    "execution": {
     "iopub.execute_input": "2021-09-22T10:21:09.677639Z",
     "iopub.status.busy": "2021-09-22T10:21:09.677639Z",
     "iopub.status.idle": "2021-09-22T10:21:09.690640Z",
     "shell.execute_reply": "2021-09-22T10:21:09.690640Z"
    }
   },
   "outputs": [],
   "source": []
  },
  {
   "cell_type": "markdown",
   "metadata": {},
   "source": [
    "## Zero-based indexing\n",
    "Python indexing is 0 based so that the first element has position `0`, the second has position `1`\n",
    "and so on until the last element has position `n-1` in an array that contains `n` elements in\n",
    "total.\n",
    "\n",
    "## Problem: Scalar selection\n",
    "Select the number 2 in all three, `x`, `y`, and `z`.\n",
    "\n",
    "\n",
    "**Question**:  Which index is rows and which index is columns?"
   ]
  },
  {
   "cell_type": "code",
   "execution_count": null,
   "metadata": {
    "execution": {
     "iopub.execute_input": "2021-09-22T10:21:09.694639Z",
     "iopub.status.busy": "2021-09-22T10:21:09.693641Z",
     "iopub.status.idle": "2021-09-22T10:21:09.705644Z",
     "shell.execute_reply": "2021-09-22T10:21:09.705644Z"
    }
   },
   "outputs": [],
   "source": []
  },
  {
   "cell_type": "code",
   "execution_count": null,
   "metadata": {
    "execution": {
     "iopub.execute_input": "2021-09-22T10:21:09.708638Z",
     "iopub.status.busy": "2021-09-22T10:21:09.708638Z",
     "iopub.status.idle": "2021-09-22T10:21:09.721641Z",
     "shell.execute_reply": "2021-09-22T10:21:09.721641Z"
    }
   },
   "outputs": [],
   "source": []
  },
  {
   "cell_type": "code",
   "execution_count": null,
   "metadata": {
    "execution": {
     "iopub.execute_input": "2021-09-22T10:21:09.724640Z",
     "iopub.status.busy": "2021-09-22T10:21:09.724640Z",
     "iopub.status.idle": "2021-09-22T10:21:09.737244Z",
     "shell.execute_reply": "2021-09-22T10:21:09.737244Z"
    }
   },
   "outputs": [],
   "source": []
  },
  {
   "cell_type": "markdown",
   "metadata": {
    "pycharm": {
     "name": "#%% md\n"
    }
   },
   "source": [
    "## Problem: Scalar selection of a single row\n",
    "\n",
    "Select the 2nd row in `x` and `z` using a single integer value.\n",
    " \n",
    "**Question**: What is the dimension of `x` and the second row of `x`"
   ]
  },
  {
   "cell_type": "code",
   "execution_count": null,
   "metadata": {
    "execution": {
     "iopub.execute_input": "2021-09-22T10:21:09.740244Z",
     "iopub.status.busy": "2021-09-22T10:21:09.740244Z",
     "iopub.status.idle": "2021-09-22T10:21:09.753210Z",
     "shell.execute_reply": "2021-09-22T10:21:09.753210Z"
    }
   },
   "outputs": [],
   "source": []
  },
  {
   "cell_type": "code",
   "execution_count": null,
   "metadata": {
    "execution": {
     "iopub.execute_input": "2021-09-22T10:21:09.756211Z",
     "iopub.status.busy": "2021-09-22T10:21:09.755210Z",
     "iopub.status.idle": "2021-09-22T10:21:09.768387Z",
     "shell.execute_reply": "2021-09-22T10:21:09.768387Z"
    }
   },
   "outputs": [],
   "source": []
  },
  {
   "cell_type": "code",
   "execution_count": null,
   "metadata": {
    "execution": {
     "iopub.execute_input": "2021-09-22T10:21:09.771388Z",
     "iopub.status.busy": "2021-09-22T10:21:09.770389Z",
     "iopub.status.idle": "2021-09-22T10:21:09.784391Z",
     "shell.execute_reply": "2021-09-22T10:21:09.784391Z"
    }
   },
   "outputs": [],
   "source": []
  },
  {
   "cell_type": "code",
   "execution_count": null,
   "metadata": {
    "execution": {
     "iopub.execute_input": "2021-09-22T10:21:09.787387Z",
     "iopub.status.busy": "2021-09-22T10:21:09.786388Z",
     "iopub.status.idle": "2021-09-22T10:21:09.800393Z",
     "shell.execute_reply": "2021-09-22T10:21:09.800393Z"
    }
   },
   "outputs": [],
   "source": []
  },
  {
   "cell_type": "markdown",
   "metadata": {
    "pycharm": {
     "name": "#%% md\n"
    }
   },
   "source": [
    "## Problem: Slice selection of a single row\n",
    "\n",
    "Use a slice to select the 2nd row of `x` and the 2nd element of `y` and `z`.\n",
    "\n",
    "**Question**: What are the dimension selections?"
   ]
  },
  {
   "cell_type": "code",
   "execution_count": null,
   "metadata": {
    "execution": {
     "iopub.execute_input": "2021-09-22T10:21:09.803393Z",
     "iopub.status.busy": "2021-09-22T10:21:09.802392Z",
     "iopub.status.idle": "2021-09-22T10:21:09.816196Z",
     "shell.execute_reply": "2021-09-22T10:21:09.816196Z"
    }
   },
   "outputs": [],
   "source": []
  },
  {
   "cell_type": "code",
   "execution_count": null,
   "metadata": {
    "execution": {
     "iopub.execute_input": "2021-09-22T10:21:09.819196Z",
     "iopub.status.busy": "2021-09-22T10:21:09.819196Z",
     "iopub.status.idle": "2021-09-22T10:21:09.831346Z",
     "shell.execute_reply": "2021-09-22T10:21:09.831346Z"
    }
   },
   "outputs": [],
   "source": []
  },
  {
   "cell_type": "code",
   "execution_count": null,
   "metadata": {
    "execution": {
     "iopub.execute_input": "2021-09-22T10:21:09.834346Z",
     "iopub.status.busy": "2021-09-22T10:21:09.834346Z",
     "iopub.status.idle": "2021-09-22T10:21:09.847392Z",
     "shell.execute_reply": "2021-09-22T10:21:09.847392Z"
    }
   },
   "outputs": [],
   "source": []
  },
  {
   "cell_type": "markdown",
   "metadata": {},
   "source": [
    "## Problem: List selection of a single row\n",
    "\n",
    "Use a list to select the 2nd row of `x` and the 2nd element of `y` and `z`.\n",
    "\n",
    "**Question**: What are the dimension selections?"
   ]
  },
  {
   "cell_type": "code",
   "execution_count": null,
   "metadata": {
    "execution": {
     "iopub.execute_input": "2021-09-22T10:21:09.850392Z",
     "iopub.status.busy": "2021-09-22T10:21:09.850392Z",
     "iopub.status.idle": "2021-09-22T10:21:09.863365Z",
     "shell.execute_reply": "2021-09-22T10:21:09.863365Z"
    }
   },
   "outputs": [],
   "source": []
  },
  {
   "cell_type": "code",
   "execution_count": null,
   "metadata": {
    "execution": {
     "iopub.execute_input": "2021-09-22T10:21:09.866365Z",
     "iopub.status.busy": "2021-09-22T10:21:09.866365Z",
     "iopub.status.idle": "2021-09-22T10:21:09.879450Z",
     "shell.execute_reply": "2021-09-22T10:21:09.879450Z"
    }
   },
   "outputs": [],
   "source": []
  },
  {
   "cell_type": "code",
   "execution_count": null,
   "metadata": {
    "execution": {
     "iopub.execute_input": "2021-09-22T10:21:09.882450Z",
     "iopub.status.busy": "2021-09-22T10:21:09.882450Z",
     "iopub.status.idle": "2021-09-22T10:21:09.895202Z",
     "shell.execute_reply": "2021-09-22T10:21:09.895202Z"
    }
   },
   "outputs": [],
   "source": []
  },
  {
   "cell_type": "markdown",
   "metadata": {},
   "source": [
    "## Problem: Selecting a single Column\n",
    "Select the 2nd column of x using a scalar integer, a slice and a list.\n",
    "\n",
    "**Question**: What the the dimensions of the selected elements?"
   ]
  },
  {
   "cell_type": "code",
   "execution_count": null,
   "metadata": {
    "execution": {
     "iopub.execute_input": "2021-09-22T10:21:09.898200Z",
     "iopub.status.busy": "2021-09-22T10:21:09.898200Z",
     "iopub.status.idle": "2021-09-22T10:21:09.910524Z",
     "shell.execute_reply": "2021-09-22T10:21:09.910524Z"
    }
   },
   "outputs": [],
   "source": []
  },
  {
   "cell_type": "code",
   "execution_count": null,
   "metadata": {
    "execution": {
     "iopub.execute_input": "2021-09-22T10:21:09.913520Z",
     "iopub.status.busy": "2021-09-22T10:21:09.913520Z",
     "iopub.status.idle": "2021-09-22T10:21:09.926385Z",
     "shell.execute_reply": "2021-09-22T10:21:09.926385Z"
    }
   },
   "outputs": [],
   "source": []
  },
  {
   "cell_type": "markdown",
   "metadata": {},
   "source": [
    "## Problem: Selecting a block of specific columns\n",
    "Select the 2nd and 3rd columns of x using a slice."
   ]
  },
  {
   "cell_type": "code",
   "execution_count": null,
   "metadata": {
    "execution": {
     "iopub.execute_input": "2021-09-22T10:21:09.929388Z",
     "iopub.status.busy": "2021-09-22T10:21:09.928387Z",
     "iopub.status.idle": "2021-09-22T10:21:09.942402Z",
     "shell.execute_reply": "2021-09-22T10:21:09.942402Z"
    }
   },
   "outputs": [],
   "source": []
  },
  {
   "cell_type": "markdown",
   "metadata": {},
   "source": [
    "## Problem: Selecting a block of specific rows\n",
    "Select the 2nd and 4th rows of x using both a slice and a list. \n"
   ]
  },
  {
   "cell_type": "code",
   "execution_count": null,
   "metadata": {
    "execution": {
     "iopub.execute_input": "2021-09-22T10:21:09.946402Z",
     "iopub.status.busy": "2021-09-22T10:21:09.945403Z",
     "iopub.status.idle": "2021-09-22T10:21:09.958407Z",
     "shell.execute_reply": "2021-09-22T10:21:09.958407Z"
    }
   },
   "outputs": [],
   "source": []
  },
  {
   "cell_type": "markdown",
   "metadata": {},
   "source": [
    "## Problem: Selecting a block of specific rows and columns\n",
    "Combine these be combined to select the 2nd and 3rd columns and 2nd and 4th rows."
   ]
  },
  {
   "cell_type": "code",
   "execution_count": null,
   "metadata": {
    "execution": {
     "iopub.execute_input": "2021-09-22T10:21:09.961406Z",
     "iopub.status.busy": "2021-09-22T10:21:09.961406Z",
     "iopub.status.idle": "2021-09-22T10:21:09.973638Z",
     "shell.execute_reply": "2021-09-22T10:21:09.973638Z"
    }
   },
   "outputs": [],
   "source": []
  },
  {
   "cell_type": "code",
   "execution_count": null,
   "metadata": {
    "execution": {
     "iopub.execute_input": "2021-09-22T10:21:09.976639Z",
     "iopub.status.busy": "2021-09-22T10:21:09.976639Z",
     "iopub.status.idle": "2021-09-22T10:21:09.989667Z",
     "shell.execute_reply": "2021-09-22T10:21:09.989667Z"
    }
   },
   "outputs": [],
   "source": []
  },
  {
   "cell_type": "markdown",
   "metadata": {},
   "source": [
    "## Problem: Use `ix_` to select rows and columns using lists\n",
    "Use `ix_` to select the 2nd and 4th rows and 1st and 3rd columns of `x`."
   ]
  },
  {
   "cell_type": "code",
   "execution_count": null,
   "metadata": {
    "execution": {
     "iopub.execute_input": "2021-09-22T10:21:09.992664Z",
     "iopub.status.busy": "2021-09-22T10:21:09.992664Z",
     "iopub.status.idle": "2021-09-22T10:21:10.005689Z",
     "shell.execute_reply": "2021-09-22T10:21:10.005689Z"
    }
   },
   "outputs": [],
   "source": []
  },
  {
   "cell_type": "code",
   "execution_count": null,
   "metadata": {
    "execution": {
     "iopub.execute_input": "2021-09-22T10:21:10.009688Z",
     "iopub.status.busy": "2021-09-22T10:21:10.008688Z",
     "iopub.status.idle": "2021-09-22T10:21:10.021707Z",
     "shell.execute_reply": "2021-09-22T10:21:10.021707Z"
    }
   },
   "outputs": [],
   "source": []
  },
  {
   "cell_type": "markdown",
   "metadata": {
    "pycharm": {
     "name": "#%% md\n"
    }
   },
   "source": [
    "## Problem: Convert a DataFrame to a NumPy array\n",
    "\n",
    "Use  `.to_numpy` to convert a DataFrame to a NumPy array."
   ]
  },
  {
   "cell_type": "code",
   "execution_count": null,
   "metadata": {
    "execution": {
     "iopub.execute_input": "2021-09-22T10:21:10.024707Z",
     "iopub.status.busy": "2021-09-22T10:21:10.024707Z",
     "iopub.status.idle": "2021-09-22T10:21:10.282811Z",
     "shell.execute_reply": "2021-09-22T10:21:10.282811Z"
    }
   },
   "outputs": [],
   "source": [
    "# Setup: Create a DataFrame\n",
    "import numpy as np\n",
    "import pandas as pd\n",
    "\n",
    "names = [\"a\", \"b\", \"c\", \"d\", \"e\"]\n",
    "x = np.arange(25).reshape((5, 5))\n",
    "x_df = pd.DataFrame(x, index=names, columns=names)\n",
    "print(x_df)"
   ]
  },
  {
   "cell_type": "code",
   "execution_count": null,
   "metadata": {
    "execution": {
     "iopub.execute_input": "2021-09-22T10:21:10.285813Z",
     "iopub.status.busy": "2021-09-22T10:21:10.285813Z",
     "iopub.status.idle": "2021-09-22T10:21:10.298813Z",
     "shell.execute_reply": "2021-09-22T10:21:10.298813Z"
    }
   },
   "outputs": [],
   "source": []
  },
  {
   "cell_type": "markdown",
   "metadata": {
    "pycharm": {
     "name": "#%% md\n"
    }
   },
   "source": [
    "## Problem: Use `np.asarray` to convert to an array\n",
    "\n",
    "Use  `np.asarray` to convert a DataFrame to a NumPy array."
   ]
  },
  {
   "cell_type": "code",
   "execution_count": null,
   "metadata": {
    "execution": {
     "iopub.execute_input": "2021-09-22T10:21:10.301811Z",
     "iopub.status.busy": "2021-09-22T10:21:10.301811Z",
     "iopub.status.idle": "2021-09-22T10:21:10.314809Z",
     "shell.execute_reply": "2021-09-22T10:21:10.314809Z"
    }
   },
   "outputs": [],
   "source": []
  },
  {
   "cell_type": "markdown",
   "metadata": {
    "pycharm": {
     "name": "#%% md\n"
    }
   },
   "source": [
    "## Exercises\n",
    "\n",
    "### Exercise: Block selection\n",
    "\n",
    "Select the second and third rows of `a` and the first and last column.\n",
    "Use at least three different methods including all slices, `np.ix_`, and\n",
    "mixed slice-list selection."
   ]
  },
  {
   "cell_type": "code",
   "execution_count": null,
   "metadata": {
    "execution": {
     "iopub.execute_input": "2021-09-22T10:21:10.318810Z",
     "iopub.status.busy": "2021-09-22T10:21:10.318810Z",
     "iopub.status.idle": "2021-09-22T10:21:10.330810Z",
     "shell.execute_reply": "2021-09-22T10:21:10.330810Z"
    },
    "jupyter": {
     "outputs_hidden": false
    },
    "pycharm": {
     "is_executing": false,
     "name": "#%%\n"
    }
   },
   "outputs": [],
   "source": [
    "# Setup: Data for Exercises\n",
    "\n",
    "import numpy as np\n",
    "\n",
    "rs = np.random.RandomState(20000214)\n",
    "a = rs.randint(1, 10, (4, 3))\n",
    "b = rs.randint(1, 10, (6, 4))\n",
    "\n",
    "print(f\"a = \\n {a}\")\n",
    "print()\n",
    "print(f\"b = \\n {b}\")"
   ]
  },
  {
   "cell_type": "code",
   "execution_count": null,
   "metadata": {
    "execution": {
     "iopub.execute_input": "2021-09-22T10:21:10.334810Z",
     "iopub.status.busy": "2021-09-22T10:21:10.333812Z",
     "iopub.status.idle": "2021-09-22T10:21:10.346810Z",
     "shell.execute_reply": "2021-09-22T10:21:10.346810Z"
    },
    "jupyter": {
     "outputs_hidden": false
    }
   },
   "outputs": [],
   "source": []
  },
  {
   "cell_type": "code",
   "execution_count": null,
   "metadata": {
    "execution": {
     "iopub.execute_input": "2021-09-22T10:21:10.349812Z",
     "iopub.status.busy": "2021-09-22T10:21:10.349812Z",
     "iopub.status.idle": "2021-09-22T10:21:10.362823Z",
     "shell.execute_reply": "2021-09-22T10:21:10.362823Z"
    },
    "jupyter": {
     "outputs_hidden": false
    }
   },
   "outputs": [],
   "source": []
  },
  {
   "cell_type": "code",
   "execution_count": null,
   "metadata": {
    "execution": {
     "iopub.execute_input": "2021-09-22T10:21:10.365823Z",
     "iopub.status.busy": "2021-09-22T10:21:10.365823Z",
     "iopub.status.idle": "2021-09-22T10:21:10.378841Z",
     "shell.execute_reply": "2021-09-22T10:21:10.378841Z"
    },
    "jupyter": {
     "outputs_hidden": false
    }
   },
   "outputs": [],
   "source": []
  },
  {
   "cell_type": "markdown",
   "metadata": {},
   "source": [
    "### Exercise: Row Assign\n",
    "\n",
    "Assign the first three elements of the first row of `b` to `a`.\n",
    "\n",
    "**Note** Assignment sets one selected block in one array equal to another \n",
    "block.\n",
    "\n",
    "```python\n",
    "x[0:2,0:3] = y[1:3,1:4]\n",
    "```"
   ]
  },
  {
   "cell_type": "code",
   "execution_count": null,
   "metadata": {
    "execution": {
     "iopub.execute_input": "2021-09-22T10:21:10.381840Z",
     "iopub.status.busy": "2021-09-22T10:21:10.381840Z",
     "iopub.status.idle": "2021-09-22T10:21:10.394392Z",
     "shell.execute_reply": "2021-09-22T10:21:10.394392Z"
    },
    "jupyter": {
     "outputs_hidden": false
    }
   },
   "outputs": [],
   "source": []
  },
  {
   "cell_type": "markdown",
   "metadata": {
    "pycharm": {
     "name": "#%% md\n"
    }
   },
   "source": [
    "### Exercise: Block Assign\n",
    "\n",
    "Assign the block consisting the first and third columns and the second and last rows of `b`\n",
    "to the last two rows and last two columns of `a`"
   ]
  },
  {
   "cell_type": "code",
   "execution_count": null,
   "metadata": {
    "execution": {
     "iopub.execute_input": "2021-09-22T10:21:10.397391Z",
     "iopub.status.busy": "2021-09-22T10:21:10.396391Z",
     "iopub.status.idle": "2021-09-22T10:21:10.409565Z",
     "shell.execute_reply": "2021-09-22T10:21:10.409565Z"
    },
    "jupyter": {
     "outputs_hidden": false
    },
    "tags": []
   },
   "outputs": [],
   "source": []
  }
 ],
 "metadata": {
  "file_extension": ".py",
  "kernelspec": {
   "display_name": "Python 3 (ipykernel)",
   "language": "python",
   "name": "python3"
  },
  "language_info": {
   "codemirror_mode": {
    "name": "ipython",
    "version": 3
   },
   "file_extension": ".py",
   "mimetype": "text/x-python",
   "name": "python",
   "nbconvert_exporter": "python",
   "pygments_lexer": "ipython3",
   "version": "3.9.6"
  },
  "mimetype": "text/x-python",
  "name": "python",
  "npconvert_exporter": "python",
  "pycharm": {
   "stem_cell": {
    "cell_type": "raw",
    "metadata": {
     "collapsed": false
    },
    "source": []
   }
  },
  "pygments_lexer": "ipython3",
  "version": 3
 },
 "nbformat": 4,
 "nbformat_minor": 4
}
