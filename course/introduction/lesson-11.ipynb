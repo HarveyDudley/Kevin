{
 "cells": [
  {
   "cell_type": "markdown",
   "metadata": {},
   "source": [
    "# Accessing Elements in NumPy Arrays\n",
    "\n",
    "This lesson covers:\n",
    "\n",
    "* Accessing specific elements in NumPy arrays\n",
    "\n",
    "Accessing elements in an array or a DataFrame is a common task. To begin this lesson, clear the\n",
    "workspace set up some vectors and a $5\\times5$ array. These vectors and matrix will make it easy\n",
    "to determine which elements are selected by a command.\n",
    "\n",
    "\n",
    "Using `arange` and `reshape` to create 3 arrays:\n",
    "\n",
    "* 5-by-5 array `x` containing the values 0,1,...,24 \n",
    "* 5-element, 1-dimensional array `y` containing 0,1,...,4\n",
    "* 5-by-1 array `z` containing 0,1,...,4\n"
   ]
  },
  {
   "cell_type": "code",
   "execution_count": null,
   "metadata": {
    "execution": {
     "iopub.execute_input": "2024-02-27T16:09:17.232020Z",
     "iopub.status.busy": "2024-02-27T16:09:17.232020Z",
     "iopub.status.idle": "2024-02-27T16:09:17.360090Z",
     "shell.execute_reply": "2024-02-27T16:09:17.360090Z"
    }
   },
   "outputs": [],
   "source": []
  },
  {
   "cell_type": "code",
   "execution_count": null,
   "metadata": {
    "execution": {
     "iopub.execute_input": "2024-02-27T16:09:17.363125Z",
     "iopub.status.busy": "2024-02-27T16:09:17.362125Z",
     "iopub.status.idle": "2024-02-27T16:09:17.367065Z",
     "shell.execute_reply": "2024-02-27T16:09:17.367065Z"
    }
   },
   "outputs": [],
   "source": []
  },
  {
   "cell_type": "code",
   "execution_count": null,
   "metadata": {
    "execution": {
     "iopub.execute_input": "2024-02-27T16:09:17.370074Z",
     "iopub.status.busy": "2024-02-27T16:09:17.370074Z",
     "iopub.status.idle": "2024-02-27T16:09:17.374268Z",
     "shell.execute_reply": "2024-02-27T16:09:17.374268Z"
    }
   },
   "outputs": [],
   "source": []
  },
  {
   "cell_type": "markdown",
   "metadata": {},
   "source": [
    "## Zero-based indexing\n",
    "Python indexing is 0 based so that the first element has position `0`, the second has position `1`\n",
    "and so on until the last element has position `n-1` in an array that contains `n` elements in\n",
    "total.\n",
    "\n",
    "## Problem: Scalar selection\n",
    "Select the number 2 in all three, `x`, `y`, and `z`.\n",
    "\n",
    "\n",
    "**Question**:  Which index is rows and which index is columns?"
   ]
  },
  {
   "cell_type": "code",
   "execution_count": null,
   "metadata": {
    "execution": {
     "iopub.execute_input": "2024-02-27T16:09:17.376274Z",
     "iopub.status.busy": "2024-02-27T16:09:17.376274Z",
     "iopub.status.idle": "2024-02-27T16:09:17.380419Z",
     "shell.execute_reply": "2024-02-27T16:09:17.380419Z"
    }
   },
   "outputs": [],
   "source": []
  },
  {
   "cell_type": "code",
   "execution_count": null,
   "metadata": {
    "execution": {
     "iopub.execute_input": "2024-02-27T16:09:17.382509Z",
     "iopub.status.busy": "2024-02-27T16:09:17.382509Z",
     "iopub.status.idle": "2024-02-27T16:09:17.386551Z",
     "shell.execute_reply": "2024-02-27T16:09:17.386551Z"
    }
   },
   "outputs": [],
   "source": []
  },
  {
   "cell_type": "code",
   "execution_count": null,
   "metadata": {
    "execution": {
     "iopub.execute_input": "2024-02-27T16:09:17.388557Z",
     "iopub.status.busy": "2024-02-27T16:09:17.388557Z",
     "iopub.status.idle": "2024-02-27T16:09:17.392360Z",
     "shell.execute_reply": "2024-02-27T16:09:17.392360Z"
    }
   },
   "outputs": [],
   "source": []
  },
  {
   "cell_type": "markdown",
   "metadata": {
    "pycharm": {
     "name": "#%% md\n"
    }
   },
   "source": [
    "## Problem: Scalar selection of a single row\n",
    "\n",
    "Select the 2nd row in `x` and `z` using a single integer value.\n",
    " \n",
    "**Question**: What is the dimension of `x` and the second row of `x`"
   ]
  },
  {
   "cell_type": "code",
   "execution_count": null,
   "metadata": {
    "execution": {
     "iopub.execute_input": "2024-02-27T16:09:17.394367Z",
     "iopub.status.busy": "2024-02-27T16:09:17.394367Z",
     "iopub.status.idle": "2024-02-27T16:09:17.397962Z",
     "shell.execute_reply": "2024-02-27T16:09:17.397962Z"
    }
   },
   "outputs": [],
   "source": []
  },
  {
   "cell_type": "code",
   "execution_count": null,
   "metadata": {
    "execution": {
     "iopub.execute_input": "2024-02-27T16:09:17.400969Z",
     "iopub.status.busy": "2024-02-27T16:09:17.399969Z",
     "iopub.status.idle": "2024-02-27T16:09:17.405128Z",
     "shell.execute_reply": "2024-02-27T16:09:17.405128Z"
    }
   },
   "outputs": [],
   "source": []
  },
  {
   "cell_type": "code",
   "execution_count": null,
   "metadata": {
    "execution": {
     "iopub.execute_input": "2024-02-27T16:09:17.407135Z",
     "iopub.status.busy": "2024-02-27T16:09:17.407135Z",
     "iopub.status.idle": "2024-02-27T16:09:17.411103Z",
     "shell.execute_reply": "2024-02-27T16:09:17.411103Z"
    }
   },
   "outputs": [],
   "source": []
  },
  {
   "cell_type": "code",
   "execution_count": null,
   "metadata": {
    "execution": {
     "iopub.execute_input": "2024-02-27T16:09:17.413110Z",
     "iopub.status.busy": "2024-02-27T16:09:17.413110Z",
     "iopub.status.idle": "2024-02-27T16:09:17.415983Z",
     "shell.execute_reply": "2024-02-27T16:09:17.415983Z"
    }
   },
   "outputs": [],
   "source": []
  },
  {
   "cell_type": "markdown",
   "metadata": {
    "pycharm": {
     "name": "#%% md\n"
    }
   },
   "source": [
    "## Problem: Slice selection of a single row\n",
    "\n",
    "Use a slice to select the 2nd row of `x` and the 2nd element of `y` and `z`.\n",
    "\n",
    "**Question**: What are the dimension selections?"
   ]
  },
  {
   "cell_type": "code",
   "execution_count": null,
   "metadata": {
    "execution": {
     "iopub.execute_input": "2024-02-27T16:09:17.417995Z",
     "iopub.status.busy": "2024-02-27T16:09:17.417995Z",
     "iopub.status.idle": "2024-02-27T16:09:17.422009Z",
     "shell.execute_reply": "2024-02-27T16:09:17.422009Z"
    }
   },
   "outputs": [],
   "source": []
  },
  {
   "cell_type": "code",
   "execution_count": null,
   "metadata": {
    "execution": {
     "iopub.execute_input": "2024-02-27T16:09:17.424017Z",
     "iopub.status.busy": "2024-02-27T16:09:17.424017Z",
     "iopub.status.idle": "2024-02-27T16:09:17.427488Z",
     "shell.execute_reply": "2024-02-27T16:09:17.427488Z"
    }
   },
   "outputs": [],
   "source": []
  },
  {
   "cell_type": "code",
   "execution_count": null,
   "metadata": {
    "execution": {
     "iopub.execute_input": "2024-02-27T16:09:17.429496Z",
     "iopub.status.busy": "2024-02-27T16:09:17.429496Z",
     "iopub.status.idle": "2024-02-27T16:09:17.433199Z",
     "shell.execute_reply": "2024-02-27T16:09:17.433199Z"
    }
   },
   "outputs": [],
   "source": []
  },
  {
   "cell_type": "markdown",
   "metadata": {},
   "source": [
    "## Problem: List selection of a single row\n",
    "\n",
    "Use a list to select the 2nd row of `x` and the 2nd element of `y` and `z`.\n",
    "\n",
    "**Question**: What are the dimension selections?"
   ]
  },
  {
   "cell_type": "code",
   "execution_count": null,
   "metadata": {
    "execution": {
     "iopub.execute_input": "2024-02-27T16:09:17.436208Z",
     "iopub.status.busy": "2024-02-27T16:09:17.435208Z",
     "iopub.status.idle": "2024-02-27T16:09:17.439403Z",
     "shell.execute_reply": "2024-02-27T16:09:17.439403Z"
    }
   },
   "outputs": [],
   "source": []
  },
  {
   "cell_type": "code",
   "execution_count": null,
   "metadata": {
    "execution": {
     "iopub.execute_input": "2024-02-27T16:09:17.441412Z",
     "iopub.status.busy": "2024-02-27T16:09:17.441412Z",
     "iopub.status.idle": "2024-02-27T16:09:17.445053Z",
     "shell.execute_reply": "2024-02-27T16:09:17.445053Z"
    }
   },
   "outputs": [],
   "source": []
  },
  {
   "cell_type": "code",
   "execution_count": null,
   "metadata": {
    "execution": {
     "iopub.execute_input": "2024-02-27T16:09:17.447061Z",
     "iopub.status.busy": "2024-02-27T16:09:17.447061Z",
     "iopub.status.idle": "2024-02-27T16:09:17.451103Z",
     "shell.execute_reply": "2024-02-27T16:09:17.451103Z"
    }
   },
   "outputs": [],
   "source": []
  },
  {
   "cell_type": "markdown",
   "metadata": {},
   "source": [
    "## Problem: Selecting a single Column\n",
    "Select the 2nd column of x using a scalar integer, a slice and a list.\n",
    "\n",
    "**Question**: What the the dimensions of the selected elements?"
   ]
  },
  {
   "cell_type": "code",
   "execution_count": null,
   "metadata": {
    "execution": {
     "iopub.execute_input": "2024-02-27T16:09:17.453109Z",
     "iopub.status.busy": "2024-02-27T16:09:17.453109Z",
     "iopub.status.idle": "2024-02-27T16:09:17.456556Z",
     "shell.execute_reply": "2024-02-27T16:09:17.456556Z"
    }
   },
   "outputs": [],
   "source": []
  },
  {
   "cell_type": "code",
   "execution_count": null,
   "metadata": {
    "execution": {
     "iopub.execute_input": "2024-02-27T16:09:17.458562Z",
     "iopub.status.busy": "2024-02-27T16:09:17.458562Z",
     "iopub.status.idle": "2024-02-27T16:09:17.461625Z",
     "shell.execute_reply": "2024-02-27T16:09:17.461625Z"
    }
   },
   "outputs": [],
   "source": []
  },
  {
   "cell_type": "markdown",
   "metadata": {},
   "source": [
    "## Problem: Selecting a block of specific columns\n",
    "Select the 2nd and 3rd columns of x using a slice."
   ]
  },
  {
   "cell_type": "code",
   "execution_count": null,
   "metadata": {
    "execution": {
     "iopub.execute_input": "2024-02-27T16:09:17.464062Z",
     "iopub.status.busy": "2024-02-27T16:09:17.463632Z",
     "iopub.status.idle": "2024-02-27T16:09:17.466753Z",
     "shell.execute_reply": "2024-02-27T16:09:17.466753Z"
    }
   },
   "outputs": [],
   "source": []
  },
  {
   "cell_type": "markdown",
   "metadata": {},
   "source": [
    "## Problem: Selecting a block of specific rows\n",
    "Select the 2nd and 4th rows of x using both a slice and a list. \n"
   ]
  },
  {
   "cell_type": "code",
   "execution_count": null,
   "metadata": {
    "execution": {
     "iopub.execute_input": "2024-02-27T16:09:17.469760Z",
     "iopub.status.busy": "2024-02-27T16:09:17.468760Z",
     "iopub.status.idle": "2024-02-27T16:09:17.473107Z",
     "shell.execute_reply": "2024-02-27T16:09:17.473107Z"
    }
   },
   "outputs": [],
   "source": []
  },
  {
   "cell_type": "markdown",
   "metadata": {},
   "source": [
    "## Problem: Selecting a block of specific rows and columns\n",
    "Combine these be combined to select the 2nd and 3rd columns and 2nd and 4th rows."
   ]
  },
  {
   "cell_type": "code",
   "execution_count": null,
   "metadata": {
    "execution": {
     "iopub.execute_input": "2024-02-27T16:09:17.475113Z",
     "iopub.status.busy": "2024-02-27T16:09:17.475113Z",
     "iopub.status.idle": "2024-02-27T16:09:17.478364Z",
     "shell.execute_reply": "2024-02-27T16:09:17.478364Z"
    }
   },
   "outputs": [],
   "source": []
  },
  {
   "cell_type": "code",
   "execution_count": null,
   "metadata": {
    "execution": {
     "iopub.execute_input": "2024-02-27T16:09:17.481372Z",
     "iopub.status.busy": "2024-02-27T16:09:17.480376Z",
     "iopub.status.idle": "2024-02-27T16:09:17.484211Z",
     "shell.execute_reply": "2024-02-27T16:09:17.484211Z"
    }
   },
   "outputs": [],
   "source": []
  },
  {
   "cell_type": "markdown",
   "metadata": {},
   "source": [
    "## Problem: Use `ix_` to select rows and columns using lists\n",
    "Use `ix_` to select the 2nd and 4th rows and 1st and 3rd columns of `x`."
   ]
  },
  {
   "cell_type": "code",
   "execution_count": null,
   "metadata": {
    "execution": {
     "iopub.execute_input": "2024-02-27T16:09:17.486220Z",
     "iopub.status.busy": "2024-02-27T16:09:17.486220Z",
     "iopub.status.idle": "2024-02-27T16:09:17.490455Z",
     "shell.execute_reply": "2024-02-27T16:09:17.490455Z"
    }
   },
   "outputs": [],
   "source": []
  },
  {
   "cell_type": "code",
   "execution_count": null,
   "metadata": {
    "execution": {
     "iopub.execute_input": "2024-02-27T16:09:17.493463Z",
     "iopub.status.busy": "2024-02-27T16:09:17.492463Z",
     "iopub.status.idle": "2024-02-27T16:09:17.496788Z",
     "shell.execute_reply": "2024-02-27T16:09:17.496788Z"
    }
   },
   "outputs": [],
   "source": []
  },
  {
   "cell_type": "markdown",
   "metadata": {
    "pycharm": {
     "name": "#%% md\n"
    }
   },
   "source": [
    "## Problem: Convert a DataFrame to a NumPy array\n",
    "\n",
    "Use  `.to_numpy` to convert a DataFrame to a NumPy array."
   ]
  },
  {
   "cell_type": "code",
   "execution_count": null,
   "metadata": {
    "execution": {
     "iopub.execute_input": "2024-02-27T16:09:17.498797Z",
     "iopub.status.busy": "2024-02-27T16:09:17.498797Z",
     "iopub.status.idle": "2024-02-27T16:09:17.884465Z",
     "shell.execute_reply": "2024-02-27T16:09:17.884465Z"
    }
   },
   "outputs": [],
   "source": [
    "# Setup: Create a DataFrame\n",
    "import numpy as np\n",
    "import pandas as pd\n",
    "\n",
    "names = [\"a\", \"b\", \"c\", \"d\", \"e\"]\n",
    "x = np.arange(25).reshape((5, 5))\n",
    "x_df = pd.DataFrame(x, index=names, columns=names)\n",
    "print(x_df)"
   ]
  },
  {
   "cell_type": "code",
   "execution_count": null,
   "metadata": {
    "execution": {
     "iopub.execute_input": "2024-02-27T16:09:17.887472Z",
     "iopub.status.busy": "2024-02-27T16:09:17.887472Z",
     "iopub.status.idle": "2024-02-27T16:09:17.890655Z",
     "shell.execute_reply": "2024-02-27T16:09:17.890655Z"
    }
   },
   "outputs": [],
   "source": []
  },
  {
   "cell_type": "markdown",
   "metadata": {
    "pycharm": {
     "name": "#%% md\n"
    }
   },
   "source": [
    "## Problem: Use `np.asarray` to convert to an array\n",
    "\n",
    "Use  `np.asarray` to convert a DataFrame to a NumPy array."
   ]
  },
  {
   "cell_type": "code",
   "execution_count": null,
   "metadata": {
    "execution": {
     "iopub.execute_input": "2024-02-27T16:09:17.892662Z",
     "iopub.status.busy": "2024-02-27T16:09:17.892662Z",
     "iopub.status.idle": "2024-02-27T16:09:17.895856Z",
     "shell.execute_reply": "2024-02-27T16:09:17.895856Z"
    }
   },
   "outputs": [],
   "source": []
  },
  {
   "cell_type": "markdown",
   "metadata": {
    "pycharm": {
     "name": "#%% md\n"
    }
   },
   "source": [
    "## Exercises\n",
    "\n",
    "### Exercise: Block selection\n",
    "\n",
    "Select the second and third rows of `a` and the first and last column.\n",
    "Use at least three different methods including all slices, `np.ix_`, and\n",
    "mixed slice-list selection."
   ]
  },
  {
   "cell_type": "code",
   "execution_count": null,
   "metadata": {
    "execution": {
     "iopub.execute_input": "2024-02-27T16:09:17.897864Z",
     "iopub.status.busy": "2024-02-27T16:09:17.897864Z",
     "iopub.status.idle": "2024-02-27T16:09:17.902671Z",
     "shell.execute_reply": "2024-02-27T16:09:17.902671Z"
    },
    "jupyter": {
     "outputs_hidden": false
    },
    "pycharm": {
     "is_executing": false,
     "name": "#%%\n"
    }
   },
   "outputs": [],
   "source": [
    "# Setup: Data for Exercises\n",
    "\n",
    "import numpy as np\n",
    "\n",
    "rs = np.random.RandomState(20000214)\n",
    "a = rs.randint(1, 10, (4, 3))\n",
    "b = rs.randint(1, 10, (6, 4))\n",
    "\n",
    "print(f\"a = \\n {a}\")\n",
    "print()\n",
    "print(f\"b = \\n {b}\")"
   ]
  },
  {
   "cell_type": "code",
   "execution_count": null,
   "metadata": {
    "execution": {
     "iopub.execute_input": "2024-02-27T16:09:17.904679Z",
     "iopub.status.busy": "2024-02-27T16:09:17.904679Z",
     "iopub.status.idle": "2024-02-27T16:09:17.908712Z",
     "shell.execute_reply": "2024-02-27T16:09:17.908712Z"
    },
    "jupyter": {
     "outputs_hidden": false
    }
   },
   "outputs": [],
   "source": []
  },
  {
   "cell_type": "code",
   "execution_count": null,
   "metadata": {
    "execution": {
     "iopub.execute_input": "2024-02-27T16:09:17.910803Z",
     "iopub.status.busy": "2024-02-27T16:09:17.910803Z",
     "iopub.status.idle": "2024-02-27T16:09:17.914382Z",
     "shell.execute_reply": "2024-02-27T16:09:17.914382Z"
    },
    "jupyter": {
     "outputs_hidden": false
    }
   },
   "outputs": [],
   "source": []
  },
  {
   "cell_type": "code",
   "execution_count": null,
   "metadata": {
    "execution": {
     "iopub.execute_input": "2024-02-27T16:09:17.916472Z",
     "iopub.status.busy": "2024-02-27T16:09:17.916472Z",
     "iopub.status.idle": "2024-02-27T16:09:17.920534Z",
     "shell.execute_reply": "2024-02-27T16:09:17.920534Z"
    },
    "jupyter": {
     "outputs_hidden": false
    }
   },
   "outputs": [],
   "source": []
  },
  {
   "cell_type": "markdown",
   "metadata": {},
   "source": [
    "### Exercise: Row Assign\n",
    "\n",
    "Assign the first three elements of the first row of `b` to `a`.\n",
    "\n",
    "**Note** Assignment sets one selected block in one array equal to another \n",
    "block.\n",
    "\n",
    "```python\n",
    "x[0:2,0:3] = y[1:3,1:4]\n",
    "```"
   ]
  },
  {
   "cell_type": "code",
   "execution_count": null,
   "metadata": {
    "execution": {
     "iopub.execute_input": "2024-02-27T16:09:17.922570Z",
     "iopub.status.busy": "2024-02-27T16:09:17.922570Z",
     "iopub.status.idle": "2024-02-27T16:09:17.926597Z",
     "shell.execute_reply": "2024-02-27T16:09:17.926597Z"
    },
    "jupyter": {
     "outputs_hidden": false
    }
   },
   "outputs": [],
   "source": []
  },
  {
   "cell_type": "markdown",
   "metadata": {
    "pycharm": {
     "name": "#%% md\n"
    }
   },
   "source": [
    "### Exercise: Block Assign\n",
    "\n",
    "Assign the block consisting the first and third columns and the second and last rows of `b`\n",
    "to the last two rows and last two columns of `a`"
   ]
  },
  {
   "cell_type": "code",
   "execution_count": null,
   "metadata": {
    "execution": {
     "iopub.execute_input": "2024-02-27T16:09:17.928605Z",
     "iopub.status.busy": "2024-02-27T16:09:17.928605Z",
     "iopub.status.idle": "2024-02-27T16:09:17.933206Z",
     "shell.execute_reply": "2024-02-27T16:09:17.933206Z"
    },
    "jupyter": {
     "outputs_hidden": false
    },
    "tags": []
   },
   "outputs": [],
   "source": []
  }
 ],
 "metadata": {
  "file_extension": ".py",
  "kernelspec": {
   "display_name": "Python 3 (ipykernel)",
   "language": "python",
   "name": "python3"
  },
  "language_info": {
   "codemirror_mode": {
    "name": "ipython",
    "version": 3
   },
   "file_extension": ".py",
   "mimetype": "text/x-python",
   "name": "python",
   "nbconvert_exporter": "python",
   "pygments_lexer": "ipython3",
   "version": "3.11.5"
  },
  "mimetype": "text/x-python",
  "name": "python",
  "npconvert_exporter": "python",
  "pycharm": {
   "stem_cell": {
    "cell_type": "raw",
    "metadata": {
     "collapsed": false
    },
    "source": []
   }
  },
  "pygments_lexer": "ipython3",
  "version": 3
 },
 "nbformat": 4,
 "nbformat_minor": 4
}
