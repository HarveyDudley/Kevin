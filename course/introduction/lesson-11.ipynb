{
 "cells": [
  {
   "cell_type": "markdown",
   "metadata": {},
   "source": [
    "# Accessing Elements in NumPy Arrays\n",
    "\n",
    "This lesson covers:\n",
    "\n",
    "* Accessing specific elements in NumPy arrays\n",
    "\n",
    "Accessing elements in an array or a DataFrame is a common task. To begin this lesson, clear the\n",
    "workspace set up some vectors and a $5\\times5$ array. These vectors and matrix will make it easy\n",
    "to determine which elements are selected by a command.\n",
    "\n",
    "\n",
    "Using `arange` and `reshape` to create 3 arrays:\n",
    "\n",
    "* 5-by-5 array `x` containing the values 0,1,...,24 \n",
    "* 5-element, 1-dimensional array `y` containing 0,1,...,4\n",
    "* 5-by-1 array `z` containing 0,1,...,4\n"
   ]
  },
  {
   "cell_type": "code",
   "execution_count": null,
   "metadata": {
    "execution": {
     "iopub.execute_input": "2023-09-28T12:32:23.135960Z",
     "iopub.status.busy": "2023-09-28T12:32:23.135960Z",
     "iopub.status.idle": "2023-09-28T12:32:23.285512Z",
     "shell.execute_reply": "2023-09-28T12:32:23.285512Z"
    }
   },
   "outputs": [],
   "source": []
  },
  {
   "cell_type": "code",
   "execution_count": null,
   "metadata": {
    "execution": {
     "iopub.execute_input": "2023-09-28T12:32:23.285512Z",
     "iopub.status.busy": "2023-09-28T12:32:23.285512Z",
     "iopub.status.idle": "2023-09-28T12:32:23.292359Z",
     "shell.execute_reply": "2023-09-28T12:32:23.292359Z"
    }
   },
   "outputs": [],
   "source": []
  },
  {
   "cell_type": "code",
   "execution_count": null,
   "metadata": {
    "execution": {
     "iopub.execute_input": "2023-09-28T12:32:23.293365Z",
     "iopub.status.busy": "2023-09-28T12:32:23.293365Z",
     "iopub.status.idle": "2023-09-28T12:32:23.300035Z",
     "shell.execute_reply": "2023-09-28T12:32:23.300035Z"
    }
   },
   "outputs": [],
   "source": []
  },
  {
   "cell_type": "markdown",
   "metadata": {},
   "source": [
    "## Zero-based indexing\n",
    "Python indexing is 0 based so that the first element has position `0`, the second has position `1`\n",
    "and so on until the last element has position `n-1` in an array that contains `n` elements in\n",
    "total.\n",
    "\n",
    "## Problem: Scalar selection\n",
    "Select the number 2 in all three, `x`, `y`, and `z`.\n",
    "\n",
    "\n",
    "**Question**:  Which index is rows and which index is columns?"
   ]
  },
  {
   "cell_type": "code",
   "execution_count": null,
   "metadata": {
    "execution": {
     "iopub.execute_input": "2023-09-28T12:32:23.300035Z",
     "iopub.status.busy": "2023-09-28T12:32:23.300035Z",
     "iopub.status.idle": "2023-09-28T12:32:23.306567Z",
     "shell.execute_reply": "2023-09-28T12:32:23.306567Z"
    }
   },
   "outputs": [],
   "source": []
  },
  {
   "cell_type": "code",
   "execution_count": null,
   "metadata": {
    "execution": {
     "iopub.execute_input": "2023-09-28T12:32:23.309074Z",
     "iopub.status.busy": "2023-09-28T12:32:23.309074Z",
     "iopub.status.idle": "2023-09-28T12:32:23.313178Z",
     "shell.execute_reply": "2023-09-28T12:32:23.313178Z"
    }
   },
   "outputs": [],
   "source": []
  },
  {
   "cell_type": "code",
   "execution_count": null,
   "metadata": {
    "execution": {
     "iopub.execute_input": "2023-09-28T12:32:23.313178Z",
     "iopub.status.busy": "2023-09-28T12:32:23.313178Z",
     "iopub.status.idle": "2023-09-28T12:32:23.319505Z",
     "shell.execute_reply": "2023-09-28T12:32:23.319505Z"
    }
   },
   "outputs": [],
   "source": []
  },
  {
   "cell_type": "markdown",
   "metadata": {
    "pycharm": {
     "name": "#%% md\n"
    }
   },
   "source": [
    "## Problem: Scalar selection of a single row\n",
    "\n",
    "Select the 2nd row in `x` and `z` using a single integer value.\n",
    " \n",
    "**Question**: What is the dimension of `x` and the second row of `x`"
   ]
  },
  {
   "cell_type": "code",
   "execution_count": null,
   "metadata": {
    "execution": {
     "iopub.execute_input": "2023-09-28T12:32:23.319505Z",
     "iopub.status.busy": "2023-09-28T12:32:23.319505Z",
     "iopub.status.idle": "2023-09-28T12:32:23.326099Z",
     "shell.execute_reply": "2023-09-28T12:32:23.326099Z"
    }
   },
   "outputs": [],
   "source": []
  },
  {
   "cell_type": "code",
   "execution_count": null,
   "metadata": {
    "execution": {
     "iopub.execute_input": "2023-09-28T12:32:23.326099Z",
     "iopub.status.busy": "2023-09-28T12:32:23.326099Z",
     "iopub.status.idle": "2023-09-28T12:32:23.333188Z",
     "shell.execute_reply": "2023-09-28T12:32:23.333188Z"
    }
   },
   "outputs": [],
   "source": []
  },
  {
   "cell_type": "code",
   "execution_count": null,
   "metadata": {
    "execution": {
     "iopub.execute_input": "2023-09-28T12:32:23.333188Z",
     "iopub.status.busy": "2023-09-28T12:32:23.333188Z",
     "iopub.status.idle": "2023-09-28T12:32:23.339574Z",
     "shell.execute_reply": "2023-09-28T12:32:23.339574Z"
    }
   },
   "outputs": [],
   "source": []
  },
  {
   "cell_type": "code",
   "execution_count": null,
   "metadata": {
    "execution": {
     "iopub.execute_input": "2023-09-28T12:32:23.341080Z",
     "iopub.status.busy": "2023-09-28T12:32:23.341080Z",
     "iopub.status.idle": "2023-09-28T12:32:23.345170Z",
     "shell.execute_reply": "2023-09-28T12:32:23.345170Z"
    }
   },
   "outputs": [],
   "source": []
  },
  {
   "cell_type": "markdown",
   "metadata": {
    "pycharm": {
     "name": "#%% md\n"
    }
   },
   "source": [
    "## Problem: Slice selection of a single row\n",
    "\n",
    "Use a slice to select the 2nd row of `x` and the 2nd element of `y` and `z`.\n",
    "\n",
    "**Question**: What are the dimension selections?"
   ]
  },
  {
   "cell_type": "code",
   "execution_count": null,
   "metadata": {
    "execution": {
     "iopub.execute_input": "2023-09-28T12:32:23.345170Z",
     "iopub.status.busy": "2023-09-28T12:32:23.345170Z",
     "iopub.status.idle": "2023-09-28T12:32:23.351695Z",
     "shell.execute_reply": "2023-09-28T12:32:23.351695Z"
    }
   },
   "outputs": [],
   "source": []
  },
  {
   "cell_type": "code",
   "execution_count": null,
   "metadata": {
    "execution": {
     "iopub.execute_input": "2023-09-28T12:32:23.351695Z",
     "iopub.status.busy": "2023-09-28T12:32:23.351695Z",
     "iopub.status.idle": "2023-09-28T12:32:23.358175Z",
     "shell.execute_reply": "2023-09-28T12:32:23.358175Z"
    }
   },
   "outputs": [],
   "source": []
  },
  {
   "cell_type": "code",
   "execution_count": null,
   "metadata": {
    "execution": {
     "iopub.execute_input": "2023-09-28T12:32:23.358175Z",
     "iopub.status.busy": "2023-09-28T12:32:23.358175Z",
     "iopub.status.idle": "2023-09-28T12:32:23.364643Z",
     "shell.execute_reply": "2023-09-28T12:32:23.364643Z"
    }
   },
   "outputs": [],
   "source": []
  },
  {
   "cell_type": "markdown",
   "metadata": {},
   "source": [
    "## Problem: List selection of a single row\n",
    "\n",
    "Use a list to select the 2nd row of `x` and the 2nd element of `y` and `z`.\n",
    "\n",
    "**Question**: What are the dimension selections?"
   ]
  },
  {
   "cell_type": "code",
   "execution_count": null,
   "metadata": {
    "execution": {
     "iopub.execute_input": "2023-09-28T12:32:23.364643Z",
     "iopub.status.busy": "2023-09-28T12:32:23.364643Z",
     "iopub.status.idle": "2023-09-28T12:32:23.370691Z",
     "shell.execute_reply": "2023-09-28T12:32:23.370691Z"
    }
   },
   "outputs": [],
   "source": []
  },
  {
   "cell_type": "code",
   "execution_count": null,
   "metadata": {
    "execution": {
     "iopub.execute_input": "2023-09-28T12:32:23.373199Z",
     "iopub.status.busy": "2023-09-28T12:32:23.373199Z",
     "iopub.status.idle": "2023-09-28T12:32:23.377122Z",
     "shell.execute_reply": "2023-09-28T12:32:23.377122Z"
    }
   },
   "outputs": [],
   "source": []
  },
  {
   "cell_type": "code",
   "execution_count": null,
   "metadata": {
    "execution": {
     "iopub.execute_input": "2023-09-28T12:32:23.377122Z",
     "iopub.status.busy": "2023-09-28T12:32:23.377122Z",
     "iopub.status.idle": "2023-09-28T12:32:23.383245Z",
     "shell.execute_reply": "2023-09-28T12:32:23.383245Z"
    }
   },
   "outputs": [],
   "source": []
  },
  {
   "cell_type": "markdown",
   "metadata": {},
   "source": [
    "## Problem: Selecting a single Column\n",
    "Select the 2nd column of x using a scalar integer, a slice and a list.\n",
    "\n",
    "**Question**: What the the dimensions of the selected elements?"
   ]
  },
  {
   "cell_type": "code",
   "execution_count": null,
   "metadata": {
    "execution": {
     "iopub.execute_input": "2023-09-28T12:32:23.383245Z",
     "iopub.status.busy": "2023-09-28T12:32:23.383245Z",
     "iopub.status.idle": "2023-09-28T12:32:23.388781Z",
     "shell.execute_reply": "2023-09-28T12:32:23.388781Z"
    }
   },
   "outputs": [],
   "source": []
  },
  {
   "cell_type": "code",
   "execution_count": null,
   "metadata": {
    "execution": {
     "iopub.execute_input": "2023-09-28T12:32:23.388781Z",
     "iopub.status.busy": "2023-09-28T12:32:23.388781Z",
     "iopub.status.idle": "2023-09-28T12:32:23.394735Z",
     "shell.execute_reply": "2023-09-28T12:32:23.394735Z"
    }
   },
   "outputs": [],
   "source": []
  },
  {
   "cell_type": "markdown",
   "metadata": {},
   "source": [
    "## Problem: Selecting a block of specific columns\n",
    "Select the 2nd and 3rd columns of x using a slice."
   ]
  },
  {
   "cell_type": "code",
   "execution_count": null,
   "metadata": {
    "execution": {
     "iopub.execute_input": "2023-09-28T12:32:23.394735Z",
     "iopub.status.busy": "2023-09-28T12:32:23.394735Z",
     "iopub.status.idle": "2023-09-28T12:32:23.400454Z",
     "shell.execute_reply": "2023-09-28T12:32:23.400454Z"
    }
   },
   "outputs": [],
   "source": []
  },
  {
   "cell_type": "markdown",
   "metadata": {},
   "source": [
    "## Problem: Selecting a block of specific rows\n",
    "Select the 2nd and 4th rows of x using both a slice and a list. \n"
   ]
  },
  {
   "cell_type": "code",
   "execution_count": null,
   "metadata": {
    "execution": {
     "iopub.execute_input": "2023-09-28T12:32:23.400454Z",
     "iopub.status.busy": "2023-09-28T12:32:23.400454Z",
     "iopub.status.idle": "2023-09-28T12:32:23.406466Z",
     "shell.execute_reply": "2023-09-28T12:32:23.406466Z"
    }
   },
   "outputs": [],
   "source": []
  },
  {
   "cell_type": "markdown",
   "metadata": {},
   "source": [
    "## Problem: Selecting a block of specific rows and columns\n",
    "Combine these be combined to select the 2nd and 3rd columns and 2nd and 4th rows."
   ]
  },
  {
   "cell_type": "code",
   "execution_count": null,
   "metadata": {
    "execution": {
     "iopub.execute_input": "2023-09-28T12:32:23.406466Z",
     "iopub.status.busy": "2023-09-28T12:32:23.406466Z",
     "iopub.status.idle": "2023-09-28T12:32:23.412673Z",
     "shell.execute_reply": "2023-09-28T12:32:23.412673Z"
    }
   },
   "outputs": [],
   "source": []
  },
  {
   "cell_type": "code",
   "execution_count": null,
   "metadata": {
    "execution": {
     "iopub.execute_input": "2023-09-28T12:32:23.412673Z",
     "iopub.status.busy": "2023-09-28T12:32:23.412673Z",
     "iopub.status.idle": "2023-09-28T12:32:23.418315Z",
     "shell.execute_reply": "2023-09-28T12:32:23.418315Z"
    }
   },
   "outputs": [],
   "source": []
  },
  {
   "cell_type": "markdown",
   "metadata": {},
   "source": [
    "## Problem: Use `ix_` to select rows and columns using lists\n",
    "Use `ix_` to select the 2nd and 4th rows and 1st and 3rd columns of `x`."
   ]
  },
  {
   "cell_type": "code",
   "execution_count": null,
   "metadata": {
    "execution": {
     "iopub.execute_input": "2023-09-28T12:32:23.420331Z",
     "iopub.status.busy": "2023-09-28T12:32:23.420331Z",
     "iopub.status.idle": "2023-09-28T12:32:23.425496Z",
     "shell.execute_reply": "2023-09-28T12:32:23.425496Z"
    }
   },
   "outputs": [],
   "source": []
  },
  {
   "cell_type": "code",
   "execution_count": null,
   "metadata": {
    "execution": {
     "iopub.execute_input": "2023-09-28T12:32:23.425496Z",
     "iopub.status.busy": "2023-09-28T12:32:23.425496Z",
     "iopub.status.idle": "2023-09-28T12:32:23.432268Z",
     "shell.execute_reply": "2023-09-28T12:32:23.432268Z"
    }
   },
   "outputs": [],
   "source": []
  },
  {
   "cell_type": "markdown",
   "metadata": {
    "pycharm": {
     "name": "#%% md\n"
    }
   },
   "source": [
    "## Problem: Convert a DataFrame to a NumPy array\n",
    "\n",
    "Use  `.to_numpy` to convert a DataFrame to a NumPy array."
   ]
  },
  {
   "cell_type": "code",
   "execution_count": null,
   "metadata": {
    "execution": {
     "iopub.execute_input": "2023-09-28T12:32:23.432268Z",
     "iopub.status.busy": "2023-09-28T12:32:23.432268Z",
     "iopub.status.idle": "2023-09-28T12:32:24.045083Z",
     "shell.execute_reply": "2023-09-28T12:32:24.045083Z"
    }
   },
   "outputs": [],
   "source": [
    "# Setup: Create a DataFrame\n",
    "import numpy as np\n",
    "import pandas as pd\n",
    "\n",
    "names = [\"a\", \"b\", \"c\", \"d\", \"e\"]\n",
    "x = np.arange(25).reshape((5, 5))\n",
    "x_df = pd.DataFrame(x, index=names, columns=names)\n",
    "print(x_df)"
   ]
  },
  {
   "cell_type": "code",
   "execution_count": null,
   "metadata": {
    "execution": {
     "iopub.execute_input": "2023-09-28T12:32:24.045083Z",
     "iopub.status.busy": "2023-09-28T12:32:24.045083Z",
     "iopub.status.idle": "2023-09-28T12:32:24.051550Z",
     "shell.execute_reply": "2023-09-28T12:32:24.051550Z"
    }
   },
   "outputs": [],
   "source": []
  },
  {
   "cell_type": "markdown",
   "metadata": {
    "pycharm": {
     "name": "#%% md\n"
    }
   },
   "source": [
    "## Problem: Use `np.asarray` to convert to an array\n",
    "\n",
    "Use  `np.asarray` to convert a DataFrame to a NumPy array."
   ]
  },
  {
   "cell_type": "code",
   "execution_count": null,
   "metadata": {
    "execution": {
     "iopub.execute_input": "2023-09-28T12:32:24.051550Z",
     "iopub.status.busy": "2023-09-28T12:32:24.051550Z",
     "iopub.status.idle": "2023-09-28T12:32:24.057467Z",
     "shell.execute_reply": "2023-09-28T12:32:24.057467Z"
    }
   },
   "outputs": [],
   "source": []
  },
  {
   "cell_type": "markdown",
   "metadata": {
    "pycharm": {
     "name": "#%% md\n"
    }
   },
   "source": [
    "## Exercises\n",
    "\n",
    "### Exercise: Block selection\n",
    "\n",
    "Select the second and third rows of `a` and the first and last column.\n",
    "Use at least three different methods including all slices, `np.ix_`, and\n",
    "mixed slice-list selection."
   ]
  },
  {
   "cell_type": "code",
   "execution_count": null,
   "metadata": {
    "execution": {
     "iopub.execute_input": "2023-09-28T12:32:24.057467Z",
     "iopub.status.busy": "2023-09-28T12:32:24.057467Z",
     "iopub.status.idle": "2023-09-28T12:32:24.064427Z",
     "shell.execute_reply": "2023-09-28T12:32:24.064427Z"
    },
    "jupyter": {
     "outputs_hidden": false
    },
    "pycharm": {
     "is_executing": false,
     "name": "#%%\n"
    }
   },
   "outputs": [],
   "source": [
    "# Setup: Data for Exercises\n",
    "\n",
    "import numpy as np\n",
    "\n",
    "rs = np.random.RandomState(20000214)\n",
    "a = rs.randint(1, 10, (4, 3))\n",
    "b = rs.randint(1, 10, (6, 4))\n",
    "\n",
    "print(f\"a = \\n {a}\")\n",
    "print()\n",
    "print(f\"b = \\n {b}\")"
   ]
  },
  {
   "cell_type": "code",
   "execution_count": null,
   "metadata": {
    "execution": {
     "iopub.execute_input": "2023-09-28T12:32:24.064427Z",
     "iopub.status.busy": "2023-09-28T12:32:24.064427Z",
     "iopub.status.idle": "2023-09-28T12:32:24.071990Z",
     "shell.execute_reply": "2023-09-28T12:32:24.071990Z"
    },
    "jupyter": {
     "outputs_hidden": false
    }
   },
   "outputs": [],
   "source": []
  },
  {
   "cell_type": "code",
   "execution_count": null,
   "metadata": {
    "execution": {
     "iopub.execute_input": "2023-09-28T12:32:24.071990Z",
     "iopub.status.busy": "2023-09-28T12:32:24.071990Z",
     "iopub.status.idle": "2023-09-28T12:32:24.078683Z",
     "shell.execute_reply": "2023-09-28T12:32:24.078683Z"
    },
    "jupyter": {
     "outputs_hidden": false
    }
   },
   "outputs": [],
   "source": []
  },
  {
   "cell_type": "code",
   "execution_count": null,
   "metadata": {
    "execution": {
     "iopub.execute_input": "2023-09-28T12:32:24.079689Z",
     "iopub.status.busy": "2023-09-28T12:32:24.079689Z",
     "iopub.status.idle": "2023-09-28T12:32:24.085476Z",
     "shell.execute_reply": "2023-09-28T12:32:24.085476Z"
    },
    "jupyter": {
     "outputs_hidden": false
    }
   },
   "outputs": [],
   "source": []
  },
  {
   "cell_type": "markdown",
   "metadata": {},
   "source": [
    "### Exercise: Row Assign\n",
    "\n",
    "Assign the first three elements of the first row of `b` to `a`.\n",
    "\n",
    "**Note** Assignment sets one selected block in one array equal to another \n",
    "block.\n",
    "\n",
    "```python\n",
    "x[0:2,0:3] = y[1:3,1:4]\n",
    "```"
   ]
  },
  {
   "cell_type": "code",
   "execution_count": null,
   "metadata": {
    "execution": {
     "iopub.execute_input": "2023-09-28T12:32:24.085476Z",
     "iopub.status.busy": "2023-09-28T12:32:24.085476Z",
     "iopub.status.idle": "2023-09-28T12:32:24.092009Z",
     "shell.execute_reply": "2023-09-28T12:32:24.092009Z"
    },
    "jupyter": {
     "outputs_hidden": false
    }
   },
   "outputs": [],
   "source": []
  },
  {
   "cell_type": "markdown",
   "metadata": {
    "pycharm": {
     "name": "#%% md\n"
    }
   },
   "source": [
    "### Exercise: Block Assign\n",
    "\n",
    "Assign the block consisting the first and third columns and the second and last rows of `b`\n",
    "to the last two rows and last two columns of `a`"
   ]
  },
  {
   "cell_type": "code",
   "execution_count": null,
   "metadata": {
    "execution": {
     "iopub.execute_input": "2023-09-28T12:32:24.092009Z",
     "iopub.status.busy": "2023-09-28T12:32:24.092009Z",
     "iopub.status.idle": "2023-09-28T12:32:24.098677Z",
     "shell.execute_reply": "2023-09-28T12:32:24.098677Z"
    },
    "jupyter": {
     "outputs_hidden": false
    },
    "tags": []
   },
   "outputs": [],
   "source": []
  }
 ],
 "metadata": {
  "file_extension": ".py",
  "kernelspec": {
   "display_name": "Python 3 (ipykernel)",
   "language": "python",
   "name": "python3"
  },
  "language_info": {
   "codemirror_mode": {
    "name": "ipython",
    "version": 3
   },
   "file_extension": ".py",
   "mimetype": "text/x-python",
   "name": "python",
   "nbconvert_exporter": "python",
   "pygments_lexer": "ipython3",
   "version": "3.11.5"
  },
  "mimetype": "text/x-python",
  "name": "python",
  "npconvert_exporter": "python",
  "pycharm": {
   "stem_cell": {
    "cell_type": "raw",
    "metadata": {
     "collapsed": false
    },
    "source": []
   }
  },
  "pygments_lexer": "ipython3",
  "version": 3
 },
 "nbformat": 4,
 "nbformat_minor": 4
}
