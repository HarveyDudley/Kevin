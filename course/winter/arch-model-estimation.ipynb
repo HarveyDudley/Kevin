{
 "cells": [
  {
   "cell_type": "markdown",
   "metadata": {},
   "source": [
    "## ARCH Model Estimation\n",
    "\n",
    "**Functions**\n",
    "\n",
    "`arch.arch_model`"
   ]
  },
  {
   "cell_type": "code",
   "execution_count": null,
   "metadata": {
    "execution": {
     "iopub.execute_input": "2023-09-28T12:34:31.416807Z",
     "iopub.status.busy": "2023-09-28T12:34:31.415805Z",
     "iopub.status.idle": "2023-09-28T12:34:32.090963Z",
     "shell.execute_reply": "2023-09-28T12:34:32.090963Z"
    },
    "jupyter": {
     "outputs_hidden": false
    }
   },
   "outputs": [],
   "source": []
  },
  {
   "cell_type": "markdown",
   "metadata": {},
   "source": [
    "### Exercise 74\n",
    "\n",
    "Estimate a GARCH(1,1) and a GJR-GARCH(1,1,1) to the returns of both series.\n",
    "\n",
    "**Note**: You need to install arch using\n",
    "\n",
    "```bash\n",
    "pip install arch\n",
    "```\n",
    "\n",
    "which contains ARCH and related models.\n",
    "\n",
    "Documentation and examples for the arch package [are available online](https://bashtage.github.io/arch)."
   ]
  },
  {
   "cell_type": "code",
   "execution_count": null,
   "metadata": {
    "execution": {
     "iopub.execute_input": "2023-09-28T12:34:33.191372Z",
     "iopub.status.busy": "2023-09-28T12:34:33.191372Z",
     "iopub.status.idle": "2023-09-28T12:34:34.485190Z",
     "shell.execute_reply": "2023-09-28T12:34:34.485190Z"
    },
    "jupyter": {
     "outputs_hidden": false
    }
   },
   "outputs": [],
   "source": []
  },
  {
   "cell_type": "markdown",
   "metadata": {},
   "source": [
    "### Exercise 75\n",
    "Comment on the asymmetry.\n",
    "\n",
    "  * Compare robust and non-robust standard errors.\n",
    "  * Plot the fit variance and fit volatility.\n",
    "  * Plot the standardized residuals.\n"
   ]
  },
  {
   "cell_type": "code",
   "execution_count": null,
   "metadata": {
    "execution": {
     "iopub.execute_input": "2023-09-28T12:34:34.739441Z",
     "iopub.status.busy": "2023-09-28T12:34:34.739441Z",
     "iopub.status.idle": "2023-09-28T12:34:34.794005Z",
     "shell.execute_reply": "2023-09-28T12:34:34.794005Z"
    },
    "jupyter": {
     "outputs_hidden": false
    }
   },
   "outputs": [],
   "source": []
  }
 ],
 "metadata": {
  "kernelspec": {
   "display_name": "Python 3 (ipykernel)",
   "language": "python",
   "name": "python3"
  },
  "language_info": {
   "codemirror_mode": {
    "name": "ipython",
    "version": 3
   },
   "file_extension": ".py",
   "mimetype": "text/x-python",
   "name": "python",
   "nbconvert_exporter": "python",
   "pygments_lexer": "ipython3",
   "version": "3.11.5"
  },
  "pycharm": {
   "stem_cell": {
    "cell_type": "raw",
    "metadata": {
     "collapsed": false
    },
    "source": []
   }
  }
 },
 "nbformat": 4,
 "nbformat_minor": 4
}
