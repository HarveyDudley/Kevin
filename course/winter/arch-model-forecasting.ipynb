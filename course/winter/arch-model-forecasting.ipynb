{
 "cells": [
  {
   "cell_type": "markdown",
   "metadata": {},
   "source": [
    "## ARCH Model Forecasting\n",
    "\n",
    "**Functions**\n",
    "\n",
    "`sm.OLS`, `sm.WLS`\n",
    "\n",
    "\n",
    "### Exercise 77\n",
    "\n",
    "Use 50% of the sample to estimate your preferred GARCH model for returns to the S&P 500 and the\n",
    "EUR/USD rate, and construct forecasts for the remaining period."
   ]
  },
  {
   "cell_type": "code",
   "execution_count": null,
   "metadata": {
    "execution": {
     "iopub.execute_input": "2023-09-28T12:34:39.317247Z",
     "iopub.status.busy": "2023-09-28T12:34:39.317247Z",
     "iopub.status.idle": "2023-09-28T12:34:39.994597Z",
     "shell.execute_reply": "2023-09-28T12:34:39.994597Z"
    }
   },
   "outputs": [],
   "source": []
  },
  {
   "cell_type": "markdown",
   "metadata": {},
   "source": [
    "### Exercise 78\n",
    "\n",
    "Evaluate the accuracy of the forecasts."
   ]
  },
  {
   "cell_type": "code",
   "execution_count": null,
   "metadata": {
    "execution": {
     "iopub.execute_input": "2023-09-28T12:34:43.078706Z",
     "iopub.status.busy": "2023-09-28T12:34:43.078706Z",
     "iopub.status.idle": "2023-09-28T12:34:43.084761Z",
     "shell.execute_reply": "2023-09-28T12:34:43.084761Z"
    }
   },
   "outputs": [],
   "source": []
  },
  {
   "cell_type": "markdown",
   "metadata": {},
   "source": [
    "We can also use a weighted LS estimator where the variance is the inverse\n",
    "of the squared forecast.  The creates the MZ-GLS test.\n"
   ]
  },
  {
   "cell_type": "code",
   "execution_count": null,
   "metadata": {
    "execution": {
     "iopub.execute_input": "2023-09-28T12:34:43.914215Z",
     "iopub.status.busy": "2023-09-28T12:34:43.914215Z",
     "iopub.status.idle": "2023-09-28T12:34:43.922346Z",
     "shell.execute_reply": "2023-09-28T12:34:43.922346Z"
    }
   },
   "outputs": [],
   "source": []
  },
  {
   "cell_type": "markdown",
   "metadata": {},
   "source": [
    "### Exercise 79\n",
    "\n",
    "Evaluate the accuracy of forecasts from a 2-year backward moving average variance."
   ]
  },
  {
   "cell_type": "code",
   "execution_count": null,
   "metadata": {
    "execution": {
     "iopub.execute_input": "2023-09-28T12:34:43.922346Z",
     "iopub.status.busy": "2023-09-28T12:34:43.922346Z",
     "iopub.status.idle": "2023-09-28T12:34:44.394391Z",
     "shell.execute_reply": "2023-09-28T12:34:44.394391Z"
    }
   },
   "outputs": [],
   "source": []
  },
  {
   "cell_type": "markdown",
   "metadata": {},
   "source": [
    "### Exercise 80\n",
    "\n",
    "Compare the ARCH-model forecasts to a naive 2-year backward looking moving average using QLIKE."
   ]
  },
  {
   "cell_type": "code",
   "execution_count": null,
   "metadata": {
    "execution": {
     "iopub.execute_input": "2023-09-28T12:34:44.473170Z",
     "iopub.status.busy": "2023-09-28T12:34:44.473170Z",
     "iopub.status.idle": "2023-09-28T12:34:44.480220Z",
     "shell.execute_reply": "2023-09-28T12:34:44.480220Z"
    }
   },
   "outputs": [],
   "source": []
  }
 ],
 "metadata": {
  "kernelspec": {
   "display_name": "Python 3 (ipykernel)",
   "language": "python",
   "name": "python3"
  },
  "language_info": {
   "codemirror_mode": {
    "name": "ipython",
    "version": 3
   },
   "file_extension": ".py",
   "mimetype": "text/x-python",
   "name": "python",
   "nbconvert_exporter": "python",
   "pygments_lexer": "ipython3",
   "version": "3.11.5"
  },
  "pycharm": {
   "stem_cell": {
    "cell_type": "raw",
    "metadata": {
     "collapsed": false
    },
    "source": []
   }
  }
 },
 "nbformat": 4,
 "nbformat_minor": 4
}
