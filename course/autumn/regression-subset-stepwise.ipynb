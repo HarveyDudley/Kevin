{
 "cells": [
  {
   "cell_type": "markdown",
   "metadata": {},
   "source": [
    "## Linear Regression: Best Subset and Stepwise Regression\n",
    "\n",
    "**Functions**\n",
    "\n",
    "`np.linalg.lstsq`, `sklearn.model_selection.cross_val_score`, `sklearn.linear_model.LinearRegression`, `sklearn.model_selection.KFold`"
   ]
  },
  {
   "cell_type": "code",
   "execution_count": null,
   "metadata": {
    "execution": {
     "iopub.execute_input": "2023-09-28T12:34:22.066620Z",
     "iopub.status.busy": "2023-09-28T12:34:22.066620Z",
     "iopub.status.idle": "2023-09-28T12:34:22.884421Z",
     "shell.execute_reply": "2023-09-28T12:34:22.884421Z"
    }
   },
   "outputs": [],
   "source": []
  },
  {
   "cell_type": "markdown",
   "metadata": {},
   "source": [
    "### Exercise 41\n",
    "Download data from [Ken French's website](https://mba.tuck.dartmouth.edu/pages/faculty/ken.french/) on the VWM and the 12 industry portfolios. Reformat both data sets so that they has a `DatetimeIndex`.\n"
   ]
  },
  {
   "cell_type": "code",
   "execution_count": null,
   "metadata": {
    "execution": {
     "iopub.execute_input": "2023-09-28T12:34:22.888431Z",
     "iopub.status.busy": "2023-09-28T12:34:22.887428Z",
     "iopub.status.idle": "2023-09-28T12:34:22.935631Z",
     "shell.execute_reply": "2023-09-28T12:34:22.935631Z"
    }
   },
   "outputs": [],
   "source": []
  },
  {
   "cell_type": "markdown",
   "metadata": {},
   "source": [
    "### Exercise 42\n",
    "\n",
    "Use Best Subset Regression with cross-validation to select the weights of a tracking portfolio where the industry portfolios are used to track the value-weighted-market. Use data until the end of 2014. A tracking portfolio is a portfolio that replicates a portfolio using other assets. The weights can be estimated using a regression model excludes a constant.\n",
    "\n",
    "$$ R_{i,p} = \\beta_1 R_{i,1} + \\beta_2 R_{i,2} + \\ldots + \\beta_k R_{i,k} + \\epsilon_{i} $$\n",
    "\n",
    "where $R_{i,j}$ are returns on the assets used to construct the tracking portfolio. The constant is excluded since the portfolio should track both the shock and match the mean return. OLS minimizes the variance of the tracking error (in-sample)."
   ]
  },
  {
   "cell_type": "code",
   "execution_count": null,
   "metadata": {
    "execution": {
     "iopub.execute_input": "2023-09-28T12:34:22.935631Z",
     "iopub.status.busy": "2023-09-28T12:34:22.935631Z",
     "iopub.status.idle": "2023-09-28T12:34:22.944320Z",
     "shell.execute_reply": "2023-09-28T12:34:22.944320Z"
    }
   },
   "outputs": [],
   "source": []
  },
  {
   "cell_type": "markdown",
   "metadata": {},
   "source": [
    "### Exercise 43\n",
    "\n",
    "Select the best tracking portfolio using Forward Stepwise Regression."
   ]
  },
  {
   "cell_type": "code",
   "execution_count": null,
   "metadata": {
    "execution": {
     "iopub.execute_input": "2023-09-28T12:34:25.763696Z",
     "iopub.status.busy": "2023-09-28T12:34:25.763696Z",
     "iopub.status.idle": "2023-09-28T12:34:25.832795Z",
     "shell.execute_reply": "2023-09-28T12:34:25.831790Z"
    }
   },
   "outputs": [],
   "source": []
  },
  {
   "cell_type": "markdown",
   "metadata": {},
   "source": [
    "### Exercise 44\n",
    "\n",
    "Use Backward Stepwise Regression to select the tracking portfolio."
   ]
  },
  {
   "cell_type": "code",
   "execution_count": null,
   "metadata": {
    "execution": {
     "iopub.execute_input": "2023-09-28T12:34:25.867864Z",
     "iopub.status.busy": "2023-09-28T12:34:25.866865Z",
     "iopub.status.idle": "2023-09-28T12:34:25.934024Z",
     "shell.execute_reply": "2023-09-28T12:34:25.934024Z"
    }
   },
   "outputs": [],
   "source": []
  },
  {
   "cell_type": "markdown",
   "metadata": {},
   "source": [
    "### Exercise 45\n",
    "\n",
    "Using scikit-learn to cross-validate the Backward Stepwise selected models.\n"
   ]
  },
  {
   "cell_type": "code",
   "execution_count": null,
   "metadata": {
    "execution": {
     "iopub.execute_input": "2023-09-28T12:34:25.969677Z",
     "iopub.status.busy": "2023-09-28T12:34:25.968679Z",
     "iopub.status.idle": "2023-09-28T12:34:27.424782Z",
     "shell.execute_reply": "2023-09-28T12:34:27.423774Z"
    }
   },
   "outputs": [],
   "source": []
  },
  {
   "cell_type": "markdown",
   "metadata": {},
   "source": [
    "### Exercise 46\n",
    "\n",
    "Repeat the cross-validation using scikit-learn using randomly selected values in each block."
   ]
  },
  {
   "cell_type": "code",
   "execution_count": null,
   "metadata": {
    "execution": {
     "iopub.execute_input": "2023-09-28T12:34:27.438056Z",
     "iopub.status.busy": "2023-09-28T12:34:27.437056Z",
     "iopub.status.idle": "2023-09-28T12:34:27.643787Z",
     "shell.execute_reply": "2023-09-28T12:34:27.643787Z"
    }
   },
   "outputs": [],
   "source": []
  },
  {
   "cell_type": "markdown",
   "metadata": {},
   "source": [
    "### Exercise 47\n",
    "\n",
    "Evaluate the models selected using the sample that was _not_ used in fitting to assess the out-of-sample performance based on SSE."
   ]
  },
  {
   "cell_type": "code",
   "execution_count": null,
   "metadata": {
    "execution": {
     "iopub.execute_input": "2023-09-28T12:34:27.645795Z",
     "iopub.status.busy": "2023-09-28T12:34:27.645795Z",
     "iopub.status.idle": "2023-09-28T12:34:27.655702Z",
     "shell.execute_reply": "2023-09-28T12:34:27.655702Z"
    }
   },
   "outputs": [],
   "source": []
  },
  {
   "cell_type": "markdown",
   "metadata": {},
   "source": [
    "### Exercise 47\n",
    "\n",
    "Compute the in-sample and out-of-sample $R^2$ for the selected models.\n",
    "\n",
    "The out-of-sample $R^2$ defined as\n",
    "\n",
    "$$ 1 - \\frac{SSE_{OOS}}{TSS_{OOS}} $$\n",
    "\n",
    "where the $SSE_{OOS}$ is the SSE using the predicted values and the $TSS_{OOS}$ is the TSS computed using the in-sample value (without demeaning since the models we are fitting do not include a constant). **Note**: If a model does not contain a constant, the $TSS_{OOS}$ is _not_ demeaned."
   ]
  },
  {
   "cell_type": "code",
   "execution_count": null,
   "metadata": {
    "execution": {
     "iopub.execute_input": "2023-09-28T12:34:27.679841Z",
     "iopub.status.busy": "2023-09-28T12:34:27.679841Z",
     "iopub.status.idle": "2023-09-28T12:34:27.684329Z",
     "shell.execute_reply": "2023-09-28T12:34:27.684329Z"
    }
   },
   "outputs": [],
   "source": []
  },
  {
   "cell_type": "markdown",
   "metadata": {},
   "source": [
    "### Exercise 48\n",
    "\n",
    "Use scikit-learn to produce out-of-sample fits and compute the out-of-sample SSE.  Verify this value is the same as you found previously."
   ]
  },
  {
   "cell_type": "code",
   "execution_count": null,
   "metadata": {
    "execution": {
     "iopub.execute_input": "2023-09-28T12:34:28.290585Z",
     "iopub.status.busy": "2023-09-28T12:34:28.290585Z",
     "iopub.status.idle": "2023-09-28T12:34:28.305239Z",
     "shell.execute_reply": "2023-09-28T12:34:28.305239Z"
    },
    "tags": []
   },
   "outputs": [],
   "source": []
  }
 ],
 "metadata": {
  "kernelspec": {
   "display_name": "Python 3 (ipykernel)",
   "language": "python",
   "name": "python3"
  },
  "language_info": {
   "codemirror_mode": {
    "name": "ipython",
    "version": 3
   },
   "file_extension": ".py",
   "mimetype": "text/x-python",
   "name": "python",
   "nbconvert_exporter": "python",
   "pygments_lexer": "ipython3",
   "version": "3.11.5"
  }
 },
 "nbformat": 4,
 "nbformat_minor": 4
}
