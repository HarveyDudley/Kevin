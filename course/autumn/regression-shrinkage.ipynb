{
 "cells": [
  {
   "cell_type": "markdown",
   "metadata": {},
   "source": [
    "## Linear Regression: Ridge Regression and LASSO\n",
    "\n",
    "**Functions**\n",
    "\n",
    "`sklearn.linear_model.RidgeCV`, `sklearn.linear_model.LassoCV`, `sklearn.preprocessing.StandardScaler`\n"
   ]
  },
  {
   "cell_type": "code",
   "execution_count": null,
   "metadata": {
    "execution": {
     "iopub.execute_input": "2023-09-28T12:34:14.927361Z",
     "iopub.status.busy": "2023-09-28T12:34:14.927361Z",
     "iopub.status.idle": "2023-09-28T12:34:16.946541Z",
     "shell.execute_reply": "2023-09-28T12:34:16.946541Z"
    }
   },
   "outputs": [],
   "source": []
  },
  {
   "cell_type": "markdown",
   "metadata": {},
   "source": [
    "### Exercise 49\n",
    "\n",
    "Standardize the value-weighted-market return data and the 12 industry portfolios by their standard deviation. You should _not_ remove the mean since we want to match the mean in the tracking portfolio."
   ]
  },
  {
   "cell_type": "code",
   "execution_count": null,
   "metadata": {
    "execution": {
     "iopub.execute_input": "2023-09-28T12:34:16.946541Z",
     "iopub.status.busy": "2023-09-28T12:34:16.946541Z",
     "iopub.status.idle": "2023-09-28T12:34:16.998197Z",
     "shell.execute_reply": "2023-09-28T12:34:16.998197Z"
    }
   },
   "outputs": [],
   "source": []
  },
  {
   "cell_type": "markdown",
   "metadata": {},
   "source": [
    "### Exercise 50\n",
    "\n",
    "Select the optimal tuning parameter in a LASSO and estimate model parameters for the tracking error minimizing portfolio using the standardized data."
   ]
  },
  {
   "cell_type": "code",
   "execution_count": null,
   "metadata": {
    "execution": {
     "iopub.execute_input": "2023-09-28T12:34:17.014577Z",
     "iopub.status.busy": "2023-09-28T12:34:17.014577Z",
     "iopub.status.idle": "2023-09-28T12:34:17.116857Z",
     "shell.execute_reply": "2023-09-28T12:34:17.116857Z"
    }
   },
   "outputs": [],
   "source": []
  },
  {
   "cell_type": "markdown",
   "metadata": {},
   "source": [
    "### Exercise 51\n",
    "\n",
    "Transform the estimated LASSO coefficients back to the scale of the original, non-standardized data."
   ]
  },
  {
   "cell_type": "code",
   "execution_count": null,
   "metadata": {
    "execution": {
     "iopub.execute_input": "2023-09-28T12:34:17.116857Z",
     "iopub.status.busy": "2023-09-28T12:34:17.116857Z",
     "iopub.status.idle": "2023-09-28T12:34:17.126888Z",
     "shell.execute_reply": "2023-09-28T12:34:17.126888Z"
    }
   },
   "outputs": [],
   "source": []
  },
  {
   "cell_type": "markdown",
   "metadata": {},
   "source": [
    "### Exercise 52\n",
    "\n",
    "Select the optimal tuning parameter in a Ridge regression and estimate model parameters for the tracking error minimizing portfolio using the standardized data."
   ]
  },
  {
   "cell_type": "code",
   "execution_count": null,
   "metadata": {
    "execution": {
     "iopub.execute_input": "2023-09-28T12:34:17.129896Z",
     "iopub.status.busy": "2023-09-28T12:34:17.129896Z",
     "iopub.status.idle": "2023-09-28T12:34:17.142215Z",
     "shell.execute_reply": "2023-09-28T12:34:17.142215Z"
    }
   },
   "outputs": [],
   "source": []
  },
  {
   "cell_type": "markdown",
   "metadata": {},
   "source": [
    "### Exercise 53\n",
    "\n",
    "Transform the estimated Ridge regression coefficients back to the scale of the original, non-standardized data."
   ]
  },
  {
   "cell_type": "code",
   "execution_count": null,
   "metadata": {
    "execution": {
     "iopub.execute_input": "2023-09-28T12:34:17.225869Z",
     "iopub.status.busy": "2023-09-28T12:34:17.225869Z",
     "iopub.status.idle": "2023-09-28T12:34:17.235585Z",
     "shell.execute_reply": "2023-09-28T12:34:17.235585Z"
    }
   },
   "outputs": [],
   "source": []
  },
  {
   "cell_type": "markdown",
   "metadata": {},
   "source": [
    "### Exercise 54\n",
    "\n",
    "Compare the parameter estimates from the LASSO and Ridge regression to those from OLS in a plot. Use the original, non-standardized data."
   ]
  },
  {
   "cell_type": "code",
   "execution_count": null,
   "metadata": {
    "execution": {
     "iopub.execute_input": "2023-09-28T12:34:17.239090Z",
     "iopub.status.busy": "2023-09-28T12:34:17.239090Z",
     "iopub.status.idle": "2023-09-28T12:34:18.683741Z",
     "shell.execute_reply": "2023-09-28T12:34:18.683741Z"
    }
   },
   "outputs": [],
   "source": []
  },
  {
   "cell_type": "markdown",
   "metadata": {},
   "source": [
    "### Exercise 55\n",
    "\n",
    "Use scikit-learn to scale the standardize the data by changing the scale but not the mean.\n"
   ]
  },
  {
   "cell_type": "code",
   "execution_count": null,
   "metadata": {
    "execution": {
     "iopub.execute_input": "2023-09-28T12:34:18.693301Z",
     "iopub.status.busy": "2023-09-28T12:34:18.693301Z",
     "iopub.status.idle": "2023-09-28T12:34:18.786312Z",
     "shell.execute_reply": "2023-09-28T12:34:18.786312Z"
    }
   },
   "outputs": [],
   "source": []
  },
  {
   "cell_type": "markdown",
   "metadata": {},
   "source": [
    "### Exercise 56\n",
    "\n",
    "Use the scikit-learn scaler to compute the predicted in-sample values using the Ridge ridge regression."
   ]
  },
  {
   "cell_type": "code",
   "execution_count": null,
   "metadata": {
    "execution": {
     "iopub.execute_input": "2023-09-28T12:34:18.786312Z",
     "iopub.status.busy": "2023-09-28T12:34:18.786312Z",
     "iopub.status.idle": "2023-09-28T12:34:18.796712Z",
     "shell.execute_reply": "2023-09-28T12:34:18.796712Z"
    }
   },
   "outputs": [],
   "source": []
  },
  {
   "cell_type": "markdown",
   "metadata": {},
   "source": [
    "### Exercise 57\n",
    "\n",
    "Use the scalar from scikit-learn to produce out-of-sample forecasts of the two shrinkage estimators and OLS and evaluate the out-of-sample SSE.\n"
   ]
  },
  {
   "cell_type": "code",
   "execution_count": null,
   "metadata": {
    "execution": {
     "iopub.execute_input": "2023-09-28T12:34:18.796712Z",
     "iopub.status.busy": "2023-09-28T12:34:18.796712Z",
     "iopub.status.idle": "2023-09-28T12:34:18.806251Z",
     "shell.execute_reply": "2023-09-28T12:34:18.806251Z"
    }
   },
   "outputs": [],
   "source": []
  },
  {
   "cell_type": "markdown",
   "metadata": {},
   "source": [
    "### Exercise 58\n",
    "\n",
    "Directly produce out-of-sample forecasts of the two shrinkage estimators and OLS and evaluate the out-of-sample SSE without using scikit-learn.\n"
   ]
  },
  {
   "cell_type": "code",
   "execution_count": null,
   "metadata": {
    "execution": {
     "iopub.execute_input": "2023-09-28T12:34:18.839763Z",
     "iopub.status.busy": "2023-09-28T12:34:18.838764Z",
     "iopub.status.idle": "2023-09-28T12:34:18.845652Z",
     "shell.execute_reply": "2023-09-28T12:34:18.845652Z"
    }
   },
   "outputs": [],
   "source": []
  }
 ],
 "metadata": {
  "kernelspec": {
   "display_name": "Python 3 (ipykernel)",
   "language": "python",
   "name": "python3"
  },
  "language_info": {
   "codemirror_mode": {
    "name": "ipython",
    "version": 3
   },
   "file_extension": ".py",
   "mimetype": "text/x-python",
   "name": "python",
   "nbconvert_exporter": "python",
   "pygments_lexer": "ipython3",
   "version": "3.11.5"
  }
 },
 "nbformat": 4,
 "nbformat_minor": 4
}
